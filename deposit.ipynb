{
 "cells": [
  {
   "cell_type": "code",
   "execution_count": 1,
   "id": "c2b997ff-7487-4181-a96d-83057ca11994",
   "metadata": {},
   "outputs": [],
   "source": [
    "#!/usr/bin/env bash"
   ]
  },
  {
   "cell_type": "markdown",
   "id": "29ad9b87-6812-4d1b-888b-c255e9be9eae",
   "metadata": {},
   "source": [
    "<span style=\"color: red; font-weight: bold\">Use the following command to launch a server for this notebook:</span>\n",
    "\n",
    "```bash\n",
    "git clone git@github.com:input-output-hk/marlowe-cardano.git\n",
    "cd marlowe-cardano/marlowe-runtime/\n",
    "nix run ../marlowe-cli\n",
    "```\n",
    "\n",
    "Then navigate to the `examples/` folder in Jupyter and open this notebook."
   ]
  },
  {
   "cell_type": "markdown",
   "id": "ff12ef20-4800-40fc-bf1a-b48def801ee9",
   "metadata": {},
   "source": [
    "# Demonstrating the Marlowe Transaction Deposit Component of Marlowe Runtime"
   ]
  },
  {
   "cell_type": "markdown",
   "id": "b4002252-fe9f-40e4-a371-d4d6b57316de",
   "metadata": {},
   "source": [
    "## Preliminaries"
   ]
  },
  {
   "cell_type": "markdown",
   "id": "dab2352b-0021-4998-9107-c5cc32d3734c",
   "metadata": {},
   "source": [
    "Record version numbers"
   ]
  },
  {
   "cell_type": "code",
   "execution_count": 2,
   "id": "4832053a-541d-4acd-a781-e7b31a3d28e1",
   "metadata": {},
   "outputs": [
    {
     "name": "stdout",
     "output_type": "stream",
     "text": [
      "marlowe-cli 0.0.9.0\n"
     ]
    }
   ],
   "source": [
    "marlowe-cli --version"
   ]
  },
  {
   "cell_type": "code",
   "execution_count": 3,
   "id": "e7651166-5c42-4a2b-8447-3407440f7b5a",
   "metadata": {},
   "outputs": [
    {
     "name": "stdout",
     "output_type": "stream",
     "text": [
      "cardano-cli 1.35.3 - linux-x86_64 - ghc-8.10\n",
      "git rev 0000000000000000000000000000000000000000\n"
     ]
    }
   ],
   "source": [
    "cardano-cli --version"
   ]
  },
  {
   "cell_type": "code",
   "execution_count": 4,
   "id": "0434d927-022f-41f6-b60f-091ebe85cfc4",
   "metadata": {},
   "outputs": [
    {
     "name": "stdout",
     "output_type": "stream",
     "text": [
      "3458b08be56503fb6fc5492089e2bdde3ac9bb20\n"
     ]
    }
   ],
   "source": [
    "git rev-parse HEAD"
   ]
  },
  {
   "cell_type": "markdown",
   "id": "9fb67751-bbb3-4e07-a9c7-b509502903c7",
   "metadata": {
    "tags": []
   },
   "source": [
    "### Setup the faucet."
   ]
  },
  {
   "cell_type": "markdown",
   "id": "4c1053b7-899c-4df1-94bc-626300568286",
   "metadata": {},
   "source": [
    "Set the location of keys."
   ]
  },
  {
   "cell_type": "code",
   "execution_count": 5,
   "id": "7eba74b8-fb39-4a07-9080-211d46f9132a",
   "metadata": {},
   "outputs": [],
   "source": [
    "TREASURY=treasury"
   ]
  },
  {
   "cell_type": "markdown",
   "id": "d5caee3c-c91e-49b8-aeb2-84b3170128d6",
   "metadata": {},
   "source": [
    "Set the faucet."
   ]
  },
  {
   "cell_type": "code",
   "execution_count": 6,
   "id": "054727ec-d1d3-4fdd-811f-95561dc807c5",
   "metadata": {},
   "outputs": [
    {
     "name": "stdout",
     "output_type": "stream",
     "text": [
      "addr_test1vq9prvx8ufwutkwxx9cmmuuajaqmjqwujqlp9d8pvg6gupczgtm9j\n"
     ]
    }
   ],
   "source": [
    "FAUCET_SKEY=$TREASURY/payment.skey\n",
    "FAUCET_ADDR=$(cat $TREASURY/payment.testnet.address)\n",
    "echo \"$FAUCET_ADDR\""
   ]
  },
  {
   "cell_type": "markdown",
   "id": "2894720b-50a2-4830-9a5d-e65b8e7c7dad",
   "metadata": {},
   "source": [
    "### Select network"
   ]
  },
  {
   "cell_type": "markdown",
   "id": "720ae956-275a-4b64-8460-cff5630104b4",
   "metadata": {},
   "source": [
    "In a separate terminal, set up a tunnel to the Marlowe Runtime development server:\n",
    "```bash\n",
    "rm /tmp/preview.socket\n",
    "ssh -NT \\\n",
    "  -L/tmp/preview.socket:/data/networks/preview/node.socket \\\n",
    "  -L 3717:127.0.0.1:23717 \\\n",
    "  -L 3718:127.0.0.1:23718 \\\n",
    "  -L 3719:127.0.0.1:23719 \\\n",
    "  -L 3721:127.0.0.1:23721 \\\n",
    "  -L 3723:127.0.0.1:23723 \\\n",
    "  54.202.238.5                                              \n",
    "```"
   ]
  },
  {
   "cell_type": "code",
   "execution_count": 7,
   "id": "ced2a30e-b2ba-435a-9199-bcfa0d6a8cf4",
   "metadata": {},
   "outputs": [
    {
     "name": "stdout",
     "output_type": "stream",
     "text": [
      "--testnet-magic 2\n"
     ]
    }
   ],
   "source": [
    "export CARDANO_NODE_SOCKET_PATH=/tmp/preview.socket\n",
    "export CARDANO_TESTNET_MAGIC=2\n",
    "MAGIC=(--testnet-magic 2)\n",
    "echo \"${MAGIC[@]}\""
   ]
  },
  {
   "cell_type": "markdown",
   "id": "1d696336-1e80-4f2d-b484-49a4cc1595a1",
   "metadata": {},
   "source": [
    "### Time computations"
   ]
  },
  {
   "cell_type": "code",
   "execution_count": 9,
   "id": "15b80716-4545-4558-825f-9d0dda82f8d5",
   "metadata": {},
   "outputs": [],
   "source": [
    "SECOND=1000\n",
    "MINUTE=$((60 * SECOND))"
   ]
  },
  {
   "cell_type": "code",
   "execution_count": 10,
   "id": "359b6f47-e0d1-4f84-8812-b96cfa361c2d",
   "metadata": {},
   "outputs": [
    {
     "name": "stdout",
     "output_type": "stream",
     "text": [
      "1666155187000\n"
     ]
    }
   ],
   "source": [
    "NOW=\"$(($(date -u +%s) * SECOND))\"\n",
    "echo \"$NOW\""
   ]
  },
  {
   "cell_type": "markdown",
   "id": "6649b7a2-3f9e-4dd4-bde7-11699c6bf27f",
   "metadata": {},
   "source": [
    "### Check that the reference script has been published"
   ]
  },
  {
   "cell_type": "markdown",
   "id": "8f88e700-a21f-4fd4-b785-35f39d767e49",
   "metadata": {},
   "source": [
    "Check that the Marlowe semantics validator was published."
   ]
  },
  {
   "cell_type": "code",
   "execution_count": 11,
   "id": "eb29caeb-c563-4e7d-922a-b5350642cc0f",
   "metadata": {},
   "outputs": [
    {
     "name": "stdout",
     "output_type": "stream",
     "text": [
      "\n",
      "Searching for reference script at address: addr_test1vrw0tuh8l95thdqr65dmpcfqnmcw0en7v7vhgegck7gzqgswa07sw\n",
      "\n",
      "Expected reference script hash: \"6a9391d6aa51af28dd876ebb5565b69d1e83e5ac7861506bd29b56b0\"\n",
      "\n",
      "Searching for reference script at address: addr_test1vpa36uuyf95kxpcleldsncedlhjru6vdmh2vnpkdrsz4u6cll9zas\n",
      "\n",
      "Expected reference script hash: \"49076eab20243dc9462511fb98a9cfb719f86e9692288139b7c91df3\"\n",
      "{\n",
      "    \"marlowe\": {\n",
      "        \"hash\": \"6a9391d6aa51af28dd876ebb5565b69d1e83e5ac7861506bd29b56b0\",\n",
      "        \"txIn\": \"087f21f109a997193421a81886ea8c6397d336d19e696457b9c5c7aefdc31873#1\"\n",
      "    },\n",
      "    \"payout\": {\n",
      "        \"hash\": \"49076eab20243dc9462511fb98a9cfb719f86e9692288139b7c91df3\",\n",
      "        \"txIn\": \"087f21f109a997193421a81886ea8c6397d336d19e696457b9c5c7aefdc31873#2\"\n",
      "    }\n",
      "}\n"
     ]
    }
   ],
   "source": [
    "marlowe-cli transaction find-published"
   ]
  },
  {
   "cell_type": "markdown",
   "id": "7ae0e907-2c31-4b85-926d-c62dc9cafc49",
   "metadata": {},
   "source": [
    "### Participants"
   ]
  },
  {
   "cell_type": "markdown",
   "id": "ea318fc6-f1dc-46a8-a4e7-83ee23a42ec3",
   "metadata": {},
   "source": [
    "#### The Party"
   ]
  },
  {
   "cell_type": "code",
   "execution_count": 12,
   "id": "009fed78-8410-4894-b904-d6ea92982d70",
   "metadata": {},
   "outputs": [],
   "source": [
    "PARTY_SKEY=\"$TREASURY/john-fletcher.skey\"\n",
    "PARTY_VKEY=\"$TREASURY/john-fletcher.vkey\""
   ]
  },
  {
   "cell_type": "markdown",
   "id": "df56d582-919c-438f-986a-a9a3fffc40c7",
   "metadata": {},
   "source": [
    "Create the first party's keys, if necessary."
   ]
  },
  {
   "cell_type": "code",
   "execution_count": 13,
   "id": "0de60d98-b79e-43fc-8c7d-fd494c76390d",
   "metadata": {},
   "outputs": [
    {
     "name": "stdout",
     "output_type": "stream",
     "text": [
      "addr_test1vqwt2xlr4d8yk4qws675exlqy6pdhq2s76wrehkjggkvr0cerfe8r\n"
     ]
    }
   ],
   "source": [
    "if [[ ! -e \"$PARTY_SKEY\" ]]\n",
    "then\n",
    "  cardano-cli address key-gen --signing-key-file \"$PARTY_SKEY\" --verification-key-file \"$PARTY_VKEY\"\n",
    "fi\n",
    "PARTY_ADDR=$(cardano-cli address build \"${MAGIC[@]}\" --payment-verification-key-file \"$PARTY_VKEY\")\n",
    "echo \"$PARTY_ADDR\""
   ]
  },
  {
   "cell_type": "markdown",
   "id": "17b4396a-a8ac-4976-bda4-968daaaa190e",
   "metadata": {},
   "source": [
    "Fund the address."
   ]
  },
  {
   "cell_type": "code",
   "execution_count": 14,
   "id": "ff90fa3f-1422-4632-abb7-19c5e5b5d2ed",
   "metadata": {},
   "outputs": [
    {
     "name": "stdout",
     "output_type": "stream",
     "text": [
      "TxId \"d8f47d8d3ec5755b3904c04d33eeffceddb31e874b873009a32f4b9e9a140fa3\"\n"
     ]
    }
   ],
   "source": [
    "marlowe-cli util fund-address \\\n",
    "  --out-file /dev/null \\\n",
    "  --submit 600 \\\n",
    "  --lovelace 250000000 \\\n",
    "  --source-wallet-credentials \"$FAUCET_ADDR:$FAUCET_SKEY\" \\\n",
    "  \"$PARTY_ADDR\""
   ]
  },
  {
   "cell_type": "markdown",
   "id": "beac2b0a-83c9-4f13-a1b2-d4ae12795bc7",
   "metadata": {},
   "source": [
    "#### The Counterparty"
   ]
  },
  {
   "cell_type": "code",
   "execution_count": 15,
   "id": "359d2b9b-9bc3-4688-9689-9ef2c69cd382",
   "metadata": {},
   "outputs": [],
   "source": [
    "COUNTERPARTY_SKEY=\"$TREASURY/thomas-kyd.skey\"\n",
    "COUNTERPARTY_VKEY=\"$TREASURY/thomas-kyd.vkey\""
   ]
  },
  {
   "cell_type": "markdown",
   "id": "cc9ff64b-fc5b-4308-8b6c-9208985b3600",
   "metadata": {},
   "source": [
    "Create the second party's keys, if necessary."
   ]
  },
  {
   "cell_type": "code",
   "execution_count": 16,
   "id": "c4297420-6c47-4716-bbb3-c5bb0be2ef9a",
   "metadata": {},
   "outputs": [
    {
     "name": "stdout",
     "output_type": "stream",
     "text": [
      "addr_test1vr7n0zzth5zycuh972w7rdmh48qur4f3wu6ntn2m2h30dlcvltuy5\n"
     ]
    }
   ],
   "source": [
    "if [[ ! -e \"$COUNTERPARTY_SKEY\" ]]\n",
    "then\n",
    "  cardano-cli address key-gen --signing-key-file \"$COUNTERPARTY_SKEY\" --verification-key-file \"$COUNTERPARTY_VKEY\"\n",
    "fi\n",
    "COUNTERPARTY_ADDR=$(cardano-cli address build \"${MAGIC[@]}\" --payment-verification-key-file \"$COUNTERPARTY_VKEY\")\n",
    "echo \"$COUNTERPARTY_ADDR\""
   ]
  },
  {
   "cell_type": "markdown",
   "id": "0556be66-9ca7-4e91-9c85-bd885311c611",
   "metadata": {},
   "source": [
    "Fund the address."
   ]
  },
  {
   "cell_type": "code",
   "execution_count": 17,
   "id": "77bc9000-d2e3-4996-a2ae-a7d0c625aa70",
   "metadata": {},
   "outputs": [
    {
     "name": "stdout",
     "output_type": "stream",
     "text": [
      "TxId \"0f59b099b0c454f4ca97a5bb6746d024f5d1b0ad577b3ae99cdb024707d3b9c2\"\n"
     ]
    }
   ],
   "source": [
    "marlowe-cli util fund-address \\\n",
    "  --out-file /dev/null \\\n",
    "  --submit 600  \\\n",
    "  --lovelace 250000000 \\\n",
    "  --source-wallet-credentials \"$FAUCET_ADDR:$FAUCET_SKEY\" \\\n",
    "  \"$COUNTERPARTY_ADDR\""
   ]
  },
  {
   "cell_type": "markdown",
   "id": "eb417b36-effb-4fc2-ae81-b7fce917aa7b",
   "metadata": {},
   "source": [
    "## The Contract"
   ]
  },
  {
   "cell_type": "markdown",
   "id": "b04afd25-7baa-46ef-b4e5-549402d14cd7",
   "metadata": {},
   "source": [
    "We set the parameters for the ACTUS PAM contract."
   ]
  },
  {
   "cell_type": "code",
   "execution_count": 18,
   "id": "c5845b3d-12cf-47f0-a53c-0da3e4fe89f2",
   "metadata": {
    "tags": []
   },
   "outputs": [],
   "source": [
    "MINIMUM_ADA=3000000\n",
    "\n",
    "FIXED_POINT=1000000\n",
    "PRINCIPAL=100\n",
    "INTEREST_RATE=0.02\n",
    "INTEREST=$(jq -n $PRINCIPAL*$INTEREST_RATE)\n",
    "\n",
    "STATUS_DATE=$(date -d \"$(date -u -R -d @$((NOW/1000)))\" +\"%Y-%m-%dT00:00:00\")\n",
    "INITIAL_EXCHANGE_DATE=$(date -d \"$(date -u -R -d @$((NOW/1000))) + 1 year\" +\"%Y-01-01T00:00:00\")\n",
    "MATURITY_DATE=$(date -d \"$(date -u -R -d @$((NOW/1000))) + 2 year\" +\"%Y-01-01T00:00:00\")"
   ]
  },
  {
   "cell_type": "code",
   "execution_count": 19,
   "id": "ece6fd44-d1ea-44b6-a8e4-240c4549417c",
   "metadata": {},
   "outputs": [
    {
     "name": "stdout",
     "output_type": "stream",
     "text": [
      "{\"accruedInterest\":0,\"collateralAmount\":0,\"contractId\":\"0\",\"contractPerformance\":\"PF\",\"contractRole\":\"RPA\",\"contractType\":\"PAM\",\"cycleAnchorDateOfInterestPayment\":\"2023-01-01T00:00:00\",\"cycleOfInterestPayment\":\"P1YL1\",\"dayCountConvention\":\"30E360\",\"enableSettlement\":false,\"initialExchangeDate\":\"2023-01-01T00:00:00\",\"interestCalculationBase\":\"NT\",\"maturityDate\":\"2024-01-01T00:00:00\",\"nominalInterestRate\":0.02,\"notionalPrincipal\":100,\"penaltyType\":\"O\",\"prepaymentEffect\":\"N\",\"scheduleConfig\":{\"businessDayConvention\":\"NULL\",\"calendar\":\"NC\",\"endOfMonthConvention\":\"EOM\"},\"statusDate\":\"2022-10-18T00:00:00\"}\n"
     ]
    }
   ],
   "source": [
    "yaml2json << EOI > deposit.actus\n",
    "scheduleConfig:\n",
    "  businessDayConvention: \"NULL\"\n",
    "  endOfMonthConvention: \"EOM\"\n",
    "  calendar: \"NC\"\n",
    "maturityDate: \"$MATURITY_DATE\"\n",
    "contractId: \"0\"\n",
    "enableSettlement: false\n",
    "initialExchangeDate: \"$INITIAL_EXCHANGE_DATE\"\n",
    "contractRole: \"RPA\"\n",
    "penaltyType: \"O\"\n",
    "cycleAnchorDateOfInterestPayment: \"$INITIAL_EXCHANGE_DATE\"\n",
    "contractType: \"PAM\"\n",
    "notionalPrincipal: $PRINCIPAL\n",
    "contractPerformance: \"PF\"\n",
    "collateralAmount: 0\n",
    "dayCountConvention: \"30E360\"\n",
    "accruedInterest: 0\n",
    "statusDate: \"$STATUS_DATE\"\n",
    "cycleOfInterestPayment: \"P1YL1\"\n",
    "prepaymentEffect: \"N\"\n",
    "nominalInterestRate: $INTEREST_RATE\n",
    "interestCalculationBase: \"NT\"\n",
    "EOI\n",
    "cat deposit.actus"
   ]
  },
  {
   "cell_type": "markdown",
   "id": "d58d8071-9907-4d2c-b686-48139d7841ca",
   "metadata": {},
   "source": [
    "Create the contract."
   ]
  },
  {
   "cell_type": "code",
   "execution_count": 20,
   "id": "028339ed-6d5e-4e71-9895-3a965a0252c9",
   "metadata": {},
   "outputs": [],
   "source": [
    "marlowe-cli template actus \\\n",
    "  --minimum-ada \"$MINIMUM_ADA\" \\\n",
    "  --party \"$PARTY_ADDR\" \\\n",
    "  --counter-party \"$COUNTERPARTY_ADDR\" \\\n",
    "  --actus-terms-file  deposit.actus \\\n",
    "  --out-contract-file deposit-1.contract \\\n",
    "  --out-state-file /dev/null"
   ]
  },
  {
   "cell_type": "markdown",
   "id": "2d60de16-312f-492c-bb20-94415cd90841",
   "metadata": {},
   "source": [
    "Since we are testing, we don't really want to wait months or years for timeouts, so we edit the contract file to change the maturity date to 10 minutes from now."
   ]
  },
  {
   "cell_type": "code",
   "execution_count": 21,
   "id": "841a9027-bbe8-498a-8a40-fdee8f8bc9a0",
   "metadata": {},
   "outputs": [],
   "source": [
    "sed -i -e \"s/$(($(date -d \"$MATURITY_DATE\" -u +%s) * SECOND))/$((NOW + 10 * MINUTE))/\" deposit-1.contract"
   ]
  },
  {
   "cell_type": "markdown",
   "id": "cc6d76dd-d7f0-4a83-ad1e-affd955e98a6",
   "metadata": {},
   "source": [
    "View the contract."
   ]
  },
  {
   "cell_type": "code",
   "execution_count": 22,
   "id": "661bb16a-2739-4354-a796-bbaedf39f698",
   "metadata": {},
   "outputs": [
    {
     "name": "stdout",
     "output_type": "stream",
     "text": [
      "timeout: 1672531200000\n",
      "timeout_continuation: close\n",
      "when:\n",
      "- case:\n",
      "    deposits:\n",
      "      negate:\n",
      "        negate: 100000000\n",
      "    into_account:\n",
      "      address: addr_test1vqwt2xlr4d8yk4qws675exlqy6pdhq2s76wrehkjggkvr0cerfe8r\n",
      "    of_token:\n",
      "      currency_symbol: ''\n",
      "      token_name: ''\n",
      "    party:\n",
      "      address: addr_test1vqwt2xlr4d8yk4qws675exlqy6pdhq2s76wrehkjggkvr0cerfe8r\n",
      "  then:\n",
      "    from_account:\n",
      "      address: addr_test1vqwt2xlr4d8yk4qws675exlqy6pdhq2s76wrehkjggkvr0cerfe8r\n",
      "    pay: 100000000\n",
      "    then:\n",
      "      timeout: 1666155787000\n",
      "      timeout_continuation: close\n",
      "      when:\n",
      "      - case:\n",
      "          deposits: 2000000\n",
      "          into_account:\n",
      "            address: addr_test1vr7n0zzth5zycuh972w7rdmh48qur4f3wu6ntn2m2h30dlcvltuy5\n",
      "          of_token:\n",
      "            currency_symbol: ''\n",
      "            token_name: ''\n",
      "          party:\n",
      "            address: addr_test1vr7n0zzth5zycuh972w7rdmh48qur4f3wu6ntn2m2h30dlcvltuy5\n",
      "        then:\n",
      "          from_account:\n",
      "            address: addr_test1vr7n0zzth5zycuh972w7rdmh48qur4f3wu6ntn2m2h30dlcvltuy5\n",
      "          pay: 2000000\n",
      "          then:\n",
      "            timeout: 1666155787000\n",
      "            timeout_continuation: close\n",
      "            when:\n",
      "            - case:\n",
      "                deposits: 100000000\n",
      "                into_account:\n",
      "                  address: addr_test1vr7n0zzth5zycuh972w7rdmh48qur4f3wu6ntn2m2h30dlcvltuy5\n",
      "                of_token:\n",
      "                  currency_symbol: ''\n",
      "                  token_name: ''\n",
      "                party:\n",
      "                  address: addr_test1vr7n0zzth5zycuh972w7rdmh48qur4f3wu6ntn2m2h30dlcvltuy5\n",
      "              then:\n",
      "                from_account:\n",
      "                  address: addr_test1vr7n0zzth5zycuh972w7rdmh48qur4f3wu6ntn2m2h30dlcvltuy5\n",
      "                pay: 100000000\n",
      "                then: close\n",
      "                to:\n",
      "                  party:\n",
      "                    address: addr_test1vqwt2xlr4d8yk4qws675exlqy6pdhq2s76wrehkjggkvr0cerfe8r\n",
      "                token:\n",
      "                  currency_symbol: ''\n",
      "                  token_name: ''\n",
      "          to:\n",
      "            party:\n",
      "              address: addr_test1vqwt2xlr4d8yk4qws675exlqy6pdhq2s76wrehkjggkvr0cerfe8r\n",
      "          token:\n",
      "            currency_symbol: ''\n",
      "            token_name: ''\n",
      "    to:\n",
      "      party:\n",
      "        address: addr_test1vr7n0zzth5zycuh972w7rdmh48qur4f3wu6ntn2m2h30dlcvltuy5\n",
      "    token:\n",
      "      currency_symbol: ''\n",
      "      token_name: ''\n"
     ]
    }
   ],
   "source": [
    "json2yaml deposit-1.contract"
   ]
  },
  {
   "cell_type": "markdown",
   "id": "a1548c6e-3288-4a7e-90f4-6439edeb22ca",
   "metadata": {},
   "source": [
    "## Run the Contract"
   ]
  },
  {
   "cell_type": "markdown",
   "id": "f2eb9ff2-86b8-437e-aa04-a1a38cebea9a",
   "metadata": {},
   "source": [
    "### Transaction 1. Create the ontract"
   ]
  },
  {
   "cell_type": "markdown",
   "id": "ab570c22-0af1-4168-9269-ebefce6bfa6d",
   "metadata": {},
   "source": [
    "Build the transaction."
   ]
  },
  {
   "cell_type": "code",
   "execution_count": 23,
   "id": "142661e5-a5b3-4e48-9d02-d5aca344d2e2",
   "metadata": {},
   "outputs": [
    {
     "name": "stdout",
     "output_type": "stream",
     "text": [
      "CONTRACT_ID = TX_1 = 2784ab25f7688295c9b5f69758068bb6a22fe2a3716af15a253b61e36f64fb50#1\n"
     ]
    }
   ],
   "source": [
    "TX_1=$(\n",
    "marlowe create \\\n",
    "  --core-file deposit-1.contract \\\n",
    "  --min-utxo \"$MINIMUM_ADA\" \\\n",
    "  --change-address \"$PARTY_ADDR\" \\\n",
    "  --address \"$PARTY_ADDR\" \\\n",
    "  --manual-sign deposit-1.txbody \\\n",
    "| sed -e 's/^.*\"\\([^\\\\]*\\)\\\\.*$/\\1/' \\\n",
    ")\n",
    "CONTRACT_ID=\"$TX_1\"\n",
    "echo \"CONTRACT_ID = TX_1 = $CONTRACT_ID\""
   ]
  },
  {
   "cell_type": "markdown",
   "id": "b31ec973-5b0f-4fb7-bdca-c266bd66fdc1",
   "metadata": {},
   "source": [
    "Sign the transaction."
   ]
  },
  {
   "cell_type": "code",
   "execution_count": 24,
   "id": "5d4c94bc-d747-47c6-be60-55656a3ee6ca",
   "metadata": {},
   "outputs": [],
   "source": [
    "cardano-cli transaction sign \\\n",
    "  --tx-body-file deposit-1.txbody \\\n",
    "  --out-file     deposit-1.tx \\\n",
    "  --signing-key-file \"$PARTY_SKEY\""
   ]
  },
  {
   "cell_type": "markdown",
   "id": "bebb0d27-0a99-4f3d-ab06-09b627ee514e",
   "metadata": {},
   "source": [
    "Submit the transaction using Marlowe Runtime."
   ]
  },
  {
   "cell_type": "code",
   "execution_count": 25,
   "id": "04ff93e3-b751-440a-b310-12ebe095401a",
   "metadata": {},
   "outputs": [
    {
     "name": "stdout",
     "output_type": "stream",
     "text": [
      "\"{\\\"blockHeaderHash\\\":\\\"780dde745ebfc5e1b92b3e8941b7c8cbbdd601fca9b3cd76aa8674d397d6c361\\\",\\\"blockNo\\\":284096,\\\"slotNo\\\":6152035}\"\n"
     ]
    }
   ],
   "source": [
    "marlowe submit deposit-1.tx"
   ]
  },
  {
   "cell_type": "markdown",
   "id": "b63f5847-141e-4378-96e2-5683f0c54e52",
   "metadata": {},
   "source": [
    "View the contract's UTxO."
   ]
  },
  {
   "cell_type": "code",
   "execution_count": 26,
   "id": "808a16fb-9133-4544-a60f-6e9fdf7f6cae",
   "metadata": {},
   "outputs": [
    {
     "name": "stdout",
     "output_type": "stream",
     "text": [
      "addr_test1wp4f8ywk4fg672xasahtk4t9k6w3aql943uxz5rt62d4dvqu3c6jv\n"
     ]
    }
   ],
   "source": [
    "CONTRACT_ADDR=$(marlowe-cli contract address)\n",
    "echo \"$CONTRACT_ADDR\""
   ]
  },
  {
   "cell_type": "code",
   "execution_count": 27,
   "id": "f9820b1e-590f-498d-b843-b258eaebf404",
   "metadata": {},
   "outputs": [
    {
     "name": "stdout",
     "output_type": "stream",
     "text": [
      "                           TxHash                                 TxIx        Amount\n",
      "--------------------------------------------------------------------------------------\n",
      "2784ab25f7688295c9b5f69758068bb6a22fe2a3716af15a253b61e36f64fb50     1        3000000 lovelace + TxOutDatumHash ScriptDataInBabbageEra \"3fbccb83ec69f578dfc9dfddacfd1727a71108988ecf264daa2868f83a0590ea\"\n"
     ]
    }
   ],
   "source": [
    "cardano-cli query utxo \"${MAGIC[@]}\" --address \"$CONTRACT_ADDR\" | sed -n -e \"1,2p;/${TX_1//#*/}/p\""
   ]
  },
  {
   "cell_type": "markdown",
   "id": "89a38a79-8328-43df-9a59-b571246342a7",
   "metadata": {},
   "source": [
    "View the party's UTxOs."
   ]
  },
  {
   "cell_type": "code",
   "execution_count": 28,
   "id": "b6e69d70-991d-4755-b401-a4d53ee3e2df",
   "metadata": {},
   "outputs": [
    {
     "name": "stdout",
     "output_type": "stream",
     "text": [
      "                           TxHash                                 TxIx        Amount\n",
      "--------------------------------------------------------------------------------------\n",
      "2784ab25f7688295c9b5f69758068bb6a22fe2a3716af15a253b61e36f64fb50     0        246785395 lovelace + TxOutDatumNone\n"
     ]
    }
   ],
   "source": [
    "cardano-cli query utxo \"${MAGIC[@]}\" --address \"$PARTY_ADDR\""
   ]
  },
  {
   "cell_type": "markdown",
   "id": "6dde140b-c7d2-4af8-bc97-d98560485682",
   "metadata": {},
   "source": [
    "View the counterparty's UTxOs."
   ]
  },
  {
   "cell_type": "code",
   "execution_count": 29,
   "id": "30ce88ea-1739-4b75-aadf-0db208f5aa80",
   "metadata": {},
   "outputs": [
    {
     "name": "stdout",
     "output_type": "stream",
     "text": [
      "                           TxHash                                 TxIx        Amount\n",
      "--------------------------------------------------------------------------------------\n",
      "0f59b099b0c454f4ca97a5bb6746d024f5d1b0ad577b3ae99cdb024707d3b9c2     1        250000000 lovelace + TxOutDatumNone\n"
     ]
    }
   ],
   "source": [
    "cardano-cli query utxo \"${MAGIC[@]}\" --address \"$COUNTERPARTY_ADDR\""
   ]
  },
  {
   "cell_type": "markdown",
   "id": "d8846155-12a6-40be-b5ed-bea6b3d76752",
   "metadata": {},
   "source": [
    "Watch the contract."
   ]
  },
  {
   "cell_type": "code",
   "execution_count": 30,
   "id": "0e4ceeb0-350f-464b-86ea-e36b98ec06ff",
   "metadata": {},
   "outputs": [
    {
     "name": "stdout",
     "output_type": "stream",
     "text": [
      "2784ab25f7688295c9b5f69758068bb6a22fe2a3716af15a253b61e36f64fb50#1\n"
     ]
    }
   ],
   "source": [
    "marlowe add \"$CONTRACT_ID\""
   ]
  },
  {
   "cell_type": "markdown",
   "id": "f2db93da-856a-4d61-bd88-48eb5075af84",
   "metadata": {},
   "source": [
    "View the contract's history."
   ]
  },
  {
   "cell_type": "code",
   "execution_count": 31,
   "id": "19957835-6376-4b13-a2ad-2c35763b75a3",
   "metadata": {},
   "outputs": [
    {
     "name": "stdout",
     "output_type": "stream",
     "text": [
      "\u001b[93mtransaction 2784ab25f7688295c9b5f69758068bb6a22fe2a3716af15a253b61e36f64fb50 (creation)\n",
      "\u001b[0mContractId:      2784ab25f7688295c9b5f69758068bb6a22fe2a3716af15a253b61e36f64fb50#1\n",
      "SlotNo:          6152035\n",
      "BlockNo:         284096\n",
      "BlockId:         780dde745ebfc5e1b92b3e8941b7c8cbbdd601fca9b3cd76aa8674d397d6c361\n",
      "ScriptAddress:   addr_test1wp4f8ywk4fg672xasahtk4t9k6w3aql943uxz5rt62d4dvqu3c6jv\n",
      "Marlowe Version: 1\n",
      "\n",
      "    When [\n",
      "      (Case\n",
      "         (Deposit Address \"addr_test1vqwt2xlr4d8yk4qws675exlqy6pdhq2s76wrehkjggkvr0cerfe8r\" Address \"addr_test1vqwt2xlr4d8yk4qws675exlqy6pdhq2s76wrehkjggkvr0cerfe8r\"\n",
      "            (Token \"\" \"\")\n",
      "            (NegValue\n",
      "               (NegValue\n",
      "                  (Constant 100000000))))\n",
      "         (Pay Address \"addr_test1vqwt2xlr4d8yk4qws675exlqy6pdhq2s76wrehkjggkvr0cerfe8r\"\n",
      "            (Party Address \"addr_test1vr7n0zzth5zycuh972w7rdmh48qur4f3wu6ntn2m2h30dlcvltuy5\")\n",
      "            (Token \"\" \"\")\n",
      "            (Constant 100000000)\n",
      "            (When [\n",
      "               (Case\n",
      "                  (Deposit Address \"addr_test1vr7n0zzth5zycuh972w7rdmh48qur4f3wu6ntn2m2h30dlcvltuy5\" Address \"addr_test1vr7n0zzth5zycuh972w7rdmh48qur4f3wu6ntn2m2h30dlcvltuy5\"\n",
      "                     (Token \"\" \"\")\n",
      "                     (Constant 2000000))\n",
      "                  (Pay Address \"addr_test1vr7n0zzth5zycuh972w7rdmh48qur4f3wu6ntn2m2h30dlcvltuy5\"\n",
      "                     (Party Address \"addr_test1vqwt2xlr4d8yk4qws675exlqy6pdhq2s76wrehkjggkvr0cerfe8r\")\n",
      "                     (Token \"\" \"\")\n",
      "                     (Constant 2000000)\n",
      "                     (When [\n",
      "                        (Case\n",
      "                           (Deposit Address \"addr_test1vr7n0zzth5zycuh972w7rdmh48qur4f3wu6ntn2m2h30dlcvltuy5\" Address \"addr_test1vr7n0zzth5zycuh972w7rdmh48qur4f3wu6ntn2m2h30dlcvltuy5\"\n",
      "                              (Token \"\" \"\")\n",
      "                              (Constant 100000000))\n",
      "                           (Pay Address \"addr_test1vr7n0zzth5zycuh972w7rdmh48qur4f3wu6ntn2m2h30dlcvltuy5\"\n",
      "                              (Party Address \"addr_test1vqwt2xlr4d8yk4qws675exlqy6pdhq2s76wrehkjggkvr0cerfe8r\")\n",
      "                              (Token \"\" \"\")\n",
      "                              (Constant 100000000) Close))] 1666155787000 Close)))] 1666155787000 Close)))] 1672531200000 Close\n",
      "\n"
     ]
    }
   ],
   "source": [
    "marlowe log --show-contract \"$CONTRACT_ID\""
   ]
  },
  {
   "cell_type": "markdown",
   "id": "018393a9-ce39-4071-8e41-82d58bc43348",
   "metadata": {},
   "source": [
    "### Transaction 2. Party deposits loan amount"
   ]
  },
  {
   "cell_type": "markdown",
   "id": "4cd1edf5-63cc-4d85-9b8b-21a80f2b1211",
   "metadata": {},
   "source": [
    "The party deposits the loan amount."
   ]
  },
  {
   "cell_type": "code",
   "execution_count": 32,
   "id": "ae87d08c-3878-4871-a3e1-665edce5c5b1",
   "metadata": {},
   "outputs": [
    {
     "name": "stdout",
     "output_type": "stream",
     "text": [
      "TX_2 = aae64d36fceb7e68fcdeb8ae601845edbe9198819ed88f717e801a7e0daae60c\n"
     ]
    }
   ],
   "source": [
    "TX_2=$(\n",
    "marlowe deposit \\\n",
    "  --contract \"$CONTRACT_ID\" \\\n",
    "  --from-party \"$PARTY_ADDR\" \\\n",
    "  --to-party \"$PARTY_ADDR\" \\\n",
    "  --lovelace \"$((PRINCIPAL*FIXED_POINT))\" \\\n",
    "  --validity-lower-bound \"$((NOW-5*MINUTE))\" \\\n",
    "  --validity-upper-bound \"$((NOW+9*MINUTE))\" \\\n",
    "  --change-address \"$PARTY_ADDR\" \\\n",
    "  --address \"$PARTY_ADDR\" \\\n",
    "  --manual-sign deposit-2.txbody \\\n",
    "| sed -e 's/^.*\"\\([^\\\\]*\\)\\\\.*$/\\1/' \\\n",
    ")\n",
    "echo \"TX_2 = $TX_2\""
   ]
  },
  {
   "cell_type": "markdown",
   "id": "10103e7a-c7f9-4123-98e0-cc365fd5782c",
   "metadata": {},
   "source": [
    "Sign the transaction."
   ]
  },
  {
   "cell_type": "code",
   "execution_count": 33,
   "id": "89fa94a4-c73a-47e8-8d4e-f7184208bb28",
   "metadata": {},
   "outputs": [],
   "source": [
    "cardano-cli transaction sign \\\n",
    "  --tx-body-file deposit-2.txbody \\\n",
    "  --out-file     deposit-2.tx \\\n",
    "  --signing-key-file \"$PARTY_SKEY\""
   ]
  },
  {
   "cell_type": "markdown",
   "id": "4fc1597c-efbc-4765-bc6e-2fef522b3216",
   "metadata": {},
   "source": [
    "Submit the transaction using Marlowe Runtime."
   ]
  },
  {
   "cell_type": "code",
   "execution_count": 34,
   "id": "6a09322f-a3c2-4537-bd95-8a9b8e646c7a",
   "metadata": {},
   "outputs": [
    {
     "name": "stdout",
     "output_type": "stream",
     "text": [
      "\"{\\\"blockHeaderHash\\\":\\\"350e5e444eb5dda57284b8ee30cc2db79370b0534569916bb5a119977ca7636b\\\",\\\"blockNo\\\":284097,\\\"slotNo\\\":6152046}\"\n"
     ]
    }
   ],
   "source": [
    "marlowe submit deposit-2.tx"
   ]
  },
  {
   "cell_type": "markdown",
   "id": "fe999d9b-49b5-47a6-9c57-07449e462ae6",
   "metadata": {},
   "source": [
    "View the contract's UTxO."
   ]
  },
  {
   "cell_type": "code",
   "execution_count": 35,
   "id": "8c7238fb-73eb-473f-976c-16f8aa89dd85",
   "metadata": {},
   "outputs": [
    {
     "name": "stdout",
     "output_type": "stream",
     "text": [
      "                           TxHash                                 TxIx        Amount\n",
      "--------------------------------------------------------------------------------------\n",
      "aae64d36fceb7e68fcdeb8ae601845edbe9198819ed88f717e801a7e0daae60c     1        3000000 lovelace + TxOutDatumHash ScriptDataInBabbageEra \"01a62f8a775798e6740e454035fabc0f10834e3fc94c17348fce2b4514b815d1\"\n"
     ]
    }
   ],
   "source": [
    "cardano-cli query utxo \"${MAGIC[@]}\" --address \"$CONTRACT_ADDR\" | sed -n -e \"1,2p;/${TX_2//#*/}/p\""
   ]
  },
  {
   "cell_type": "markdown",
   "id": "ad19e2ab-76b2-4fdd-bd6b-55b6a771d3f5",
   "metadata": {},
   "source": [
    "View the party's UTxOs."
   ]
  },
  {
   "cell_type": "code",
   "execution_count": 36,
   "id": "54ec1f80-0e25-4dc3-91eb-de2d4fb1e6e3",
   "metadata": {},
   "outputs": [
    {
     "name": "stdout",
     "output_type": "stream",
     "text": [
      "                           TxHash                                 TxIx        Amount\n",
      "--------------------------------------------------------------------------------------\n",
      "aae64d36fceb7e68fcdeb8ae601845edbe9198819ed88f717e801a7e0daae60c     0        146031732 lovelace + TxOutDatumNone\n"
     ]
    }
   ],
   "source": [
    "cardano-cli query utxo \"${MAGIC[@]}\" --address \"$PARTY_ADDR\""
   ]
  },
  {
   "cell_type": "markdown",
   "id": "903bfc0e-4be3-4689-8071-f5a2584e9308",
   "metadata": {},
   "source": [
    "View the counterparty's UTxOs."
   ]
  },
  {
   "cell_type": "code",
   "execution_count": 37,
   "id": "39d0b7d3-15b5-47e5-8c79-0f58941ceb87",
   "metadata": {},
   "outputs": [
    {
     "name": "stdout",
     "output_type": "stream",
     "text": [
      "                           TxHash                                 TxIx        Amount\n",
      "--------------------------------------------------------------------------------------\n",
      "0f59b099b0c454f4ca97a5bb6746d024f5d1b0ad577b3ae99cdb024707d3b9c2     1        250000000 lovelace + TxOutDatumNone\n",
      "aae64d36fceb7e68fcdeb8ae601845edbe9198819ed88f717e801a7e0daae60c     2        100000000 lovelace + TxOutDatumNone\n"
     ]
    }
   ],
   "source": [
    "cardano-cli query utxo \"${MAGIC[@]}\" --address \"$COUNTERPARTY_ADDR\""
   ]
  },
  {
   "cell_type": "markdown",
   "id": "844cbfbb-2e11-4638-b393-3e13fd5ef47f",
   "metadata": {},
   "source": [
    "View the contract's history."
   ]
  },
  {
   "cell_type": "code",
   "execution_count": 38,
   "id": "f7f41b02-3418-4bc5-a3cd-035a437b3b28",
   "metadata": {},
   "outputs": [
    {
     "name": "stdout",
     "output_type": "stream",
     "text": [
      "\u001b[93mtransaction 2784ab25f7688295c9b5f69758068bb6a22fe2a3716af15a253b61e36f64fb50 (creation)\n",
      "\u001b[0mContractId:      2784ab25f7688295c9b5f69758068bb6a22fe2a3716af15a253b61e36f64fb50#1\n",
      "SlotNo:          6152035\n",
      "BlockNo:         284096\n",
      "BlockId:         780dde745ebfc5e1b92b3e8941b7c8cbbdd601fca9b3cd76aa8674d397d6c361\n",
      "ScriptAddress:   addr_test1wp4f8ywk4fg672xasahtk4t9k6w3aql943uxz5rt62d4dvqu3c6jv\n",
      "Marlowe Version: 1\n",
      "\n",
      "    When [\n",
      "      (Case\n",
      "         (Deposit Address \"addr_test1vqwt2xlr4d8yk4qws675exlqy6pdhq2s76wrehkjggkvr0cerfe8r\" Address \"addr_test1vqwt2xlr4d8yk4qws675exlqy6pdhq2s76wrehkjggkvr0cerfe8r\"\n",
      "            (Token \"\" \"\")\n",
      "            (NegValue\n",
      "               (NegValue\n",
      "                  (Constant 100000000))))\n",
      "         (Pay Address \"addr_test1vqwt2xlr4d8yk4qws675exlqy6pdhq2s76wrehkjggkvr0cerfe8r\"\n",
      "            (Party Address \"addr_test1vr7n0zzth5zycuh972w7rdmh48qur4f3wu6ntn2m2h30dlcvltuy5\")\n",
      "            (Token \"\" \"\")\n",
      "            (Constant 100000000)\n",
      "            (When [\n",
      "               (Case\n",
      "                  (Deposit Address \"addr_test1vr7n0zzth5zycuh972w7rdmh48qur4f3wu6ntn2m2h30dlcvltuy5\" Address \"addr_test1vr7n0zzth5zycuh972w7rdmh48qur4f3wu6ntn2m2h30dlcvltuy5\"\n",
      "                     (Token \"\" \"\")\n",
      "                     (Constant 2000000))\n",
      "                  (Pay Address \"addr_test1vr7n0zzth5zycuh972w7rdmh48qur4f3wu6ntn2m2h30dlcvltuy5\"\n",
      "                     (Party Address \"addr_test1vqwt2xlr4d8yk4qws675exlqy6pdhq2s76wrehkjggkvr0cerfe8r\")\n",
      "                     (Token \"\" \"\")\n",
      "                     (Constant 2000000)\n",
      "                     (When [\n",
      "                        (Case\n",
      "                           (Deposit Address \"addr_test1vr7n0zzth5zycuh972w7rdmh48qur4f3wu6ntn2m2h30dlcvltuy5\" Address \"addr_test1vr7n0zzth5zycuh972w7rdmh48qur4f3wu6ntn2m2h30dlcvltuy5\"\n",
      "                              (Token \"\" \"\")\n",
      "                              (Constant 100000000))\n",
      "                           (Pay Address \"addr_test1vr7n0zzth5zycuh972w7rdmh48qur4f3wu6ntn2m2h30dlcvltuy5\"\n",
      "                              (Party Address \"addr_test1vqwt2xlr4d8yk4qws675exlqy6pdhq2s76wrehkjggkvr0cerfe8r\")\n",
      "                              (Token \"\" \"\")\n",
      "                              (Constant 100000000) Close))] 1666155787000 Close)))] 1666155787000 Close)))] 1672531200000 Close\n",
      "\n",
      "\u001b[93mtransaction aae64d36fceb7e68fcdeb8ae601845edbe9198819ed88f717e801a7e0daae60c\n",
      "\u001b[0mContractId: 2784ab25f7688295c9b5f69758068bb6a22fe2a3716af15a253b61e36f64fb50#1\n",
      "SlotNo:     6152046\n",
      "BlockNo:    284097\n",
      "BlockId:    350e5e444eb5dda57284b8ee30cc2db79370b0534569916bb5a119977ca7636b\n",
      "Inputs:     [NormalInput (IDeposit \"\\\"addr_test1vqwt2xlr4d8yk4qws675exlqy6pdhq2s76wrehkjggkvr0cerfe8r\\\"\" \"\\\"addr_test1vqwt2xlr4d8yk4qws675exlqy6pdhq2s76wrehkjggkvr0cerfe8r\\\"\" (Token \"\" \"\") 100000000)]\n",
      "\n",
      "    When [\n",
      "      (Case\n",
      "         (Deposit Address \"addr_test1vr7n0zzth5zycuh972w7rdmh48qur4f3wu6ntn2m2h30dlcvltuy5\" Address \"addr_test1vr7n0zzth5zycuh972w7rdmh48qur4f3wu6ntn2m2h30dlcvltuy5\"\n",
      "            (Token \"\" \"\")\n",
      "            (Constant 2000000))\n",
      "         (Pay Address \"addr_test1vr7n0zzth5zycuh972w7rdmh48qur4f3wu6ntn2m2h30dlcvltuy5\"\n",
      "            (Party Address \"addr_test1vqwt2xlr4d8yk4qws675exlqy6pdhq2s76wrehkjggkvr0cerfe8r\")\n",
      "            (Token \"\" \"\")\n",
      "            (Constant 2000000)\n",
      "            (When [\n",
      "               (Case\n",
      "                  (Deposit Address \"addr_test1vr7n0zzth5zycuh972w7rdmh48qur4f3wu6ntn2m2h30dlcvltuy5\" Address \"addr_test1vr7n0zzth5zycuh972w7rdmh48qur4f3wu6ntn2m2h30dlcvltuy5\"\n",
      "                     (Token \"\" \"\")\n",
      "                     (Constant 100000000))\n",
      "                  (Pay Address \"addr_test1vr7n0zzth5zycuh972w7rdmh48qur4f3wu6ntn2m2h30dlcvltuy5\"\n",
      "                     (Party Address \"addr_test1vqwt2xlr4d8yk4qws675exlqy6pdhq2s76wrehkjggkvr0cerfe8r\")\n",
      "                     (Token \"\" \"\")\n",
      "                     (Constant 100000000) Close))] 1666155787000 Close)))] 1666155787000 Close\n",
      "\n"
     ]
    }
   ],
   "source": [
    "marlowe log --show-contract \"$CONTRACT_ID\""
   ]
  },
  {
   "cell_type": "markdown",
   "id": "180f4297-da9a-4586-b402-7bea959cde51",
   "metadata": {},
   "source": [
    "### Transaction 3. Counterparty repays the loan's interest"
   ]
  },
  {
   "cell_type": "markdown",
   "id": "921eea56-2cda-4a0f-9738-2af638900ace",
   "metadata": {},
   "source": [
    "The counterparty repays the interest."
   ]
  },
  {
   "cell_type": "code",
   "execution_count": 39,
   "id": "aed96149-4bfa-435a-92eb-bc7edadb82ed",
   "metadata": {},
   "outputs": [
    {
     "name": "stdout",
     "output_type": "stream",
     "text": [
      "TX_3 = 6f8b9755970498e3f93656a4c614473a74cf59765a9f7416e618ba9a1ece1407\n"
     ]
    }
   ],
   "source": [
    "TX_3=$(\n",
    "marlowe deposit \\\n",
    "  --contract \"$CONTRACT_ID\" \\\n",
    "  --from-party \"$COUNTERPARTY_ADDR\" \\\n",
    "  --to-party \"$COUNTERPARTY_ADDR\" \\\n",
    "  --lovelace \"$((INTEREST*FIXED_POINT))\" \\\n",
    "  --validity-lower-bound \"$((NOW-5*MINUTE))\" \\\n",
    "  --validity-upper-bound \"$((NOW+9*MINUTE))\" \\\n",
    "  --change-address \"$COUNTERPARTY_ADDR\" \\\n",
    "  --address \"$COUNTERPARTY_ADDR\" \\\n",
    "  --manual-sign deposit-3.txbody \\\n",
    "| sed -e 's/^.*\"\\([^\\\\]*\\)\\\\.*$/\\1/' \\\n",
    ")\n",
    "echo \"TX_3 = $TX_3\""
   ]
  },
  {
   "cell_type": "markdown",
   "id": "c3e994e5-78ee-423f-9c93-16445a591bd5",
   "metadata": {},
   "source": [
    "Sign the transaction."
   ]
  },
  {
   "cell_type": "code",
   "execution_count": 40,
   "id": "aab08869-94f9-42fb-a407-53d297f83545",
   "metadata": {},
   "outputs": [],
   "source": [
    "cardano-cli transaction sign \\\n",
    "  --tx-body-file deposit-3.txbody \\\n",
    "  --out-file     deposit-3.tx \\\n",
    "  --signing-key-file \"$COUNTERPARTY_SKEY\""
   ]
  },
  {
   "cell_type": "markdown",
   "id": "2ba52feb-ad4c-4e7c-abd3-77f92c84cfc9",
   "metadata": {},
   "source": [
    "Submit the transaction using Marlowe Runtime."
   ]
  },
  {
   "cell_type": "code",
   "execution_count": 41,
   "id": "113b0b07-815d-4bd5-a971-a71536f236cd",
   "metadata": {},
   "outputs": [
    {
     "name": "stdout",
     "output_type": "stream",
     "text": [
      "\"{\\\"blockHeaderHash\\\":\\\"63ee8bbbac859e379bfd110faf8df41ddf0f0ea6d966df7e6eecb912c1efa685\\\",\\\"blockNo\\\":284098,\\\"slotNo\\\":6152069}\"\n"
     ]
    }
   ],
   "source": [
    "marlowe submit deposit-3.tx"
   ]
  },
  {
   "cell_type": "markdown",
   "id": "ab54430d-c4bb-4dff-8ed7-c15935fc3e37",
   "metadata": {},
   "source": [
    "View the contract's UTxO."
   ]
  },
  {
   "cell_type": "code",
   "execution_count": 42,
   "id": "76dc964a-fc31-4d16-a6cc-605c83bd7e88",
   "metadata": {},
   "outputs": [
    {
     "name": "stdout",
     "output_type": "stream",
     "text": [
      "                           TxHash                                 TxIx        Amount\n",
      "--------------------------------------------------------------------------------------\n",
      "6f8b9755970498e3f93656a4c614473a74cf59765a9f7416e618ba9a1ece1407     1        3000000 lovelace + TxOutDatumHash ScriptDataInBabbageEra \"77455a0c5d2311a162edbbbf2d72ee4653586adaf05f83f58c0fcf065db0f2ef\"\n"
     ]
    }
   ],
   "source": [
    "cardano-cli query utxo \"${MAGIC[@]}\" --address \"$CONTRACT_ADDR\" | sed -n -e \"1,2p;/${TX_3//#*/}/p\""
   ]
  },
  {
   "cell_type": "markdown",
   "id": "91fb6f14-42a4-474b-9db3-6525d6c76b98",
   "metadata": {},
   "source": [
    "View the party's UTxOs."
   ]
  },
  {
   "cell_type": "code",
   "execution_count": 43,
   "id": "8059bc85-7b6b-49da-8fc3-4474786a131e",
   "metadata": {},
   "outputs": [
    {
     "name": "stdout",
     "output_type": "stream",
     "text": [
      "                           TxHash                                 TxIx        Amount\n",
      "--------------------------------------------------------------------------------------\n",
      "6f8b9755970498e3f93656a4c614473a74cf59765a9f7416e618ba9a1ece1407     2        2000000 lovelace + TxOutDatumNone\n",
      "aae64d36fceb7e68fcdeb8ae601845edbe9198819ed88f717e801a7e0daae60c     0        146031732 lovelace + TxOutDatumNone\n"
     ]
    }
   ],
   "source": [
    "cardano-cli query utxo \"${MAGIC[@]}\" --address \"$PARTY_ADDR\""
   ]
  },
  {
   "cell_type": "markdown",
   "id": "43101080-aef3-4aa6-867a-385a91ebec64",
   "metadata": {},
   "source": [
    "View the counterparty's UTxOs."
   ]
  },
  {
   "cell_type": "code",
   "execution_count": 44,
   "id": "0fde72d0-2c71-4ad5-b4e6-44e5f1f4dc35",
   "metadata": {},
   "outputs": [
    {
     "name": "stdout",
     "output_type": "stream",
     "text": [
      "                           TxHash                                 TxIx        Amount\n",
      "--------------------------------------------------------------------------------------\n",
      "6f8b9755970498e3f93656a4c614473a74cf59765a9f7416e618ba9a1ece1407     0        247308089 lovelace + TxOutDatumNone\n",
      "aae64d36fceb7e68fcdeb8ae601845edbe9198819ed88f717e801a7e0daae60c     2        100000000 lovelace + TxOutDatumNone\n"
     ]
    }
   ],
   "source": [
    "cardano-cli query utxo \"${MAGIC[@]}\" --address \"$COUNTERPARTY_ADDR\""
   ]
  },
  {
   "cell_type": "markdown",
   "id": "1a8e7d17-cb7a-49eb-8cc9-377cc5a2ed44",
   "metadata": {},
   "source": [
    "View the contract's history."
   ]
  },
  {
   "cell_type": "code",
   "execution_count": 45,
   "id": "616eda62-08ae-40f0-a967-bc6fbda74245",
   "metadata": {},
   "outputs": [
    {
     "name": "stdout",
     "output_type": "stream",
     "text": [
      "\u001b[93mtransaction 2784ab25f7688295c9b5f69758068bb6a22fe2a3716af15a253b61e36f64fb50 (creation)\n",
      "\u001b[0mContractId:      2784ab25f7688295c9b5f69758068bb6a22fe2a3716af15a253b61e36f64fb50#1\n",
      "SlotNo:          6152035\n",
      "BlockNo:         284096\n",
      "BlockId:         780dde745ebfc5e1b92b3e8941b7c8cbbdd601fca9b3cd76aa8674d397d6c361\n",
      "ScriptAddress:   addr_test1wp4f8ywk4fg672xasahtk4t9k6w3aql943uxz5rt62d4dvqu3c6jv\n",
      "Marlowe Version: 1\n",
      "\n",
      "    When [\n",
      "      (Case\n",
      "         (Deposit Address \"addr_test1vqwt2xlr4d8yk4qws675exlqy6pdhq2s76wrehkjggkvr0cerfe8r\" Address \"addr_test1vqwt2xlr4d8yk4qws675exlqy6pdhq2s76wrehkjggkvr0cerfe8r\"\n",
      "            (Token \"\" \"\")\n",
      "            (NegValue\n",
      "               (NegValue\n",
      "                  (Constant 100000000))))\n",
      "         (Pay Address \"addr_test1vqwt2xlr4d8yk4qws675exlqy6pdhq2s76wrehkjggkvr0cerfe8r\"\n",
      "            (Party Address \"addr_test1vr7n0zzth5zycuh972w7rdmh48qur4f3wu6ntn2m2h30dlcvltuy5\")\n",
      "            (Token \"\" \"\")\n",
      "            (Constant 100000000)\n",
      "            (When [\n",
      "               (Case\n",
      "                  (Deposit Address \"addr_test1vr7n0zzth5zycuh972w7rdmh48qur4f3wu6ntn2m2h30dlcvltuy5\" Address \"addr_test1vr7n0zzth5zycuh972w7rdmh48qur4f3wu6ntn2m2h30dlcvltuy5\"\n",
      "                     (Token \"\" \"\")\n",
      "                     (Constant 2000000))\n",
      "                  (Pay Address \"addr_test1vr7n0zzth5zycuh972w7rdmh48qur4f3wu6ntn2m2h30dlcvltuy5\"\n",
      "                     (Party Address \"addr_test1vqwt2xlr4d8yk4qws675exlqy6pdhq2s76wrehkjggkvr0cerfe8r\")\n",
      "                     (Token \"\" \"\")\n",
      "                     (Constant 2000000)\n",
      "                     (When [\n",
      "                        (Case\n",
      "                           (Deposit Address \"addr_test1vr7n0zzth5zycuh972w7rdmh48qur4f3wu6ntn2m2h30dlcvltuy5\" Address \"addr_test1vr7n0zzth5zycuh972w7rdmh48qur4f3wu6ntn2m2h30dlcvltuy5\"\n",
      "                              (Token \"\" \"\")\n",
      "                              (Constant 100000000))\n",
      "                           (Pay Address \"addr_test1vr7n0zzth5zycuh972w7rdmh48qur4f3wu6ntn2m2h30dlcvltuy5\"\n",
      "                              (Party Address \"addr_test1vqwt2xlr4d8yk4qws675exlqy6pdhq2s76wrehkjggkvr0cerfe8r\")\n",
      "                              (Token \"\" \"\")\n",
      "                              (Constant 100000000) Close))] 1666155787000 Close)))] 1666155787000 Close)))] 1672531200000 Close\n",
      "\n",
      "\u001b[93mtransaction aae64d36fceb7e68fcdeb8ae601845edbe9198819ed88f717e801a7e0daae60c\n",
      "\u001b[0mContractId: 2784ab25f7688295c9b5f69758068bb6a22fe2a3716af15a253b61e36f64fb50#1\n",
      "SlotNo:     6152046\n",
      "BlockNo:    284097\n",
      "BlockId:    350e5e444eb5dda57284b8ee30cc2db79370b0534569916bb5a119977ca7636b\n",
      "Inputs:     [NormalInput (IDeposit \"\\\"addr_test1vqwt2xlr4d8yk4qws675exlqy6pdhq2s76wrehkjggkvr0cerfe8r\\\"\" \"\\\"addr_test1vqwt2xlr4d8yk4qws675exlqy6pdhq2s76wrehkjggkvr0cerfe8r\\\"\" (Token \"\" \"\") 100000000)]\n",
      "\n",
      "    When [\n",
      "      (Case\n",
      "         (Deposit Address \"addr_test1vr7n0zzth5zycuh972w7rdmh48qur4f3wu6ntn2m2h30dlcvltuy5\" Address \"addr_test1vr7n0zzth5zycuh972w7rdmh48qur4f3wu6ntn2m2h30dlcvltuy5\"\n",
      "            (Token \"\" \"\")\n",
      "            (Constant 2000000))\n",
      "         (Pay Address \"addr_test1vr7n0zzth5zycuh972w7rdmh48qur4f3wu6ntn2m2h30dlcvltuy5\"\n",
      "            (Party Address \"addr_test1vqwt2xlr4d8yk4qws675exlqy6pdhq2s76wrehkjggkvr0cerfe8r\")\n",
      "            (Token \"\" \"\")\n",
      "            (Constant 2000000)\n",
      "            (When [\n",
      "               (Case\n",
      "                  (Deposit Address \"addr_test1vr7n0zzth5zycuh972w7rdmh48qur4f3wu6ntn2m2h30dlcvltuy5\" Address \"addr_test1vr7n0zzth5zycuh972w7rdmh48qur4f3wu6ntn2m2h30dlcvltuy5\"\n",
      "                     (Token \"\" \"\")\n",
      "                     (Constant 100000000))\n",
      "                  (Pay Address \"addr_test1vr7n0zzth5zycuh972w7rdmh48qur4f3wu6ntn2m2h30dlcvltuy5\"\n",
      "                     (Party Address \"addr_test1vqwt2xlr4d8yk4qws675exlqy6pdhq2s76wrehkjggkvr0cerfe8r\")\n",
      "                     (Token \"\" \"\")\n",
      "                     (Constant 100000000) Close))] 1666155787000 Close)))] 1666155787000 Close\n",
      "\n",
      "\u001b[93mtransaction 6f8b9755970498e3f93656a4c614473a74cf59765a9f7416e618ba9a1ece1407\n",
      "\u001b[0mContractId: 2784ab25f7688295c9b5f69758068bb6a22fe2a3716af15a253b61e36f64fb50#1\n",
      "SlotNo:     6152069\n",
      "BlockNo:    284098\n",
      "BlockId:    63ee8bbbac859e379bfd110faf8df41ddf0f0ea6d966df7e6eecb912c1efa685\n",
      "Inputs:     [NormalInput (IDeposit \"\\\"addr_test1vr7n0zzth5zycuh972w7rdmh48qur4f3wu6ntn2m2h30dlcvltuy5\\\"\" \"\\\"addr_test1vr7n0zzth5zycuh972w7rdmh48qur4f3wu6ntn2m2h30dlcvltuy5\\\"\" (Token \"\" \"\") 2000000)]\n",
      "\n",
      "    When [\n",
      "      (Case\n",
      "         (Deposit Address \"addr_test1vr7n0zzth5zycuh972w7rdmh48qur4f3wu6ntn2m2h30dlcvltuy5\" Address \"addr_test1vr7n0zzth5zycuh972w7rdmh48qur4f3wu6ntn2m2h30dlcvltuy5\"\n",
      "            (Token \"\" \"\")\n",
      "            (Constant 100000000))\n",
      "         (Pay Address \"addr_test1vr7n0zzth5zycuh972w7rdmh48qur4f3wu6ntn2m2h30dlcvltuy5\"\n",
      "            (Party Address \"addr_test1vqwt2xlr4d8yk4qws675exlqy6pdhq2s76wrehkjggkvr0cerfe8r\")\n",
      "            (Token \"\" \"\")\n",
      "            (Constant 100000000) Close))] 1666155787000 Close\n",
      "\n"
     ]
    }
   ],
   "source": [
    "marlowe log --show-contract \"$CONTRACT_ID\""
   ]
  },
  {
   "cell_type": "markdown",
   "id": "7420647f-210f-4ec5-a77d-473eee9cb96d",
   "metadata": {},
   "source": [
    "### Transaction 4. Counterparty repays the loan's principal"
   ]
  },
  {
   "cell_type": "markdown",
   "id": "cc62efb7-f762-4684-9428-62d07589f129",
   "metadata": {},
   "source": [
    "The counterparty repays the principal."
   ]
  },
  {
   "cell_type": "code",
   "execution_count": 46,
   "id": "a0f48feb-79b8-4ee7-b48c-238c6a1b2c97",
   "metadata": {},
   "outputs": [
    {
     "name": "stdout",
     "output_type": "stream",
     "text": [
      "TX_4 = 079eef0a4384b159aedc754d65c3f4648f0b0d15cf457ef245fbcc360196e75e\n"
     ]
    }
   ],
   "source": [
    "TX_4=$(\n",
    "marlowe deposit \\\n",
    "  --contract \"$CONTRACT_ID\" \\\n",
    "  --from-party \"$COUNTERPARTY_ADDR\" \\\n",
    "  --to-party \"$COUNTERPARTY_ADDR\" \\\n",
    "  --lovelace \"$((PRINCIPAL*FIXED_POINT))\" \\\n",
    "  --validity-lower-bound \"$((NOW-5*MINUTE))\" \\\n",
    "  --validity-upper-bound \"$((NOW+9*MINUTE))\" \\\n",
    "  --change-address \"$COUNTERPARTY_ADDR\" \\\n",
    "  --address \"$COUNTERPARTY_ADDR\" \\\n",
    "  --manual-sign deposit-4.txbody \\\n",
    "| sed -e 's/^.*\"\\([^\\\\]*\\)\\\\.*$/\\1/' \\\n",
    ")\n",
    "echo \"TX_4 = $TX_4\""
   ]
  },
  {
   "cell_type": "markdown",
   "id": "425d1c71-c0f3-458f-86f3-dec0e1840ac2",
   "metadata": {},
   "source": [
    "Sign the transaction."
   ]
  },
  {
   "cell_type": "code",
   "execution_count": 47,
   "id": "725ec119-acd8-40b5-acf1-e4600b58eff8",
   "metadata": {},
   "outputs": [],
   "source": [
    "cardano-cli transaction sign \\\n",
    "  --tx-body-file deposit-4.txbody \\\n",
    "  --out-file     deposit-4.tx \\\n",
    "  --signing-key-file \"$COUNTERPARTY_SKEY\""
   ]
  },
  {
   "cell_type": "markdown",
   "id": "47341232-b7a9-42f9-9a10-ddb688590f7c",
   "metadata": {},
   "source": [
    "Submit the transaction using Marlowe Runtime."
   ]
  },
  {
   "cell_type": "code",
   "execution_count": 48,
   "id": "00354c05-0448-4c4f-b859-61c510b82ef8",
   "metadata": {},
   "outputs": [
    {
     "name": "stdout",
     "output_type": "stream",
     "text": [
      "\"{\\\"blockHeaderHash\\\":\\\"5d85da3e551a5d702242b4c7f670aceac6c6eafbbe78368995df4b429882df5b\\\",\\\"blockNo\\\":284099,\\\"slotNo\\\":6152081}\"\n"
     ]
    }
   ],
   "source": [
    "marlowe submit deposit-4.tx"
   ]
  },
  {
   "cell_type": "markdown",
   "id": "4920f032-d229-49f0-9d05-4e43d186fee9",
   "metadata": {},
   "source": [
    "Check that there is no UTxO for the contract."
   ]
  },
  {
   "cell_type": "code",
   "execution_count": 49,
   "id": "415aaf13-94f9-4453-89f0-6a710a38437b",
   "metadata": {},
   "outputs": [
    {
     "name": "stdout",
     "output_type": "stream",
     "text": [
      "                           TxHash                                 TxIx        Amount\n",
      "--------------------------------------------------------------------------------------\n"
     ]
    }
   ],
   "source": [
    "cardano-cli query utxo \"${MAGIC[@]}\" --address \"$CONTRACT_ADDR\" | sed -n -e \"1,2p;/${TX_4//#*/}/p\""
   ]
  },
  {
   "cell_type": "markdown",
   "id": "adb0d4dc-393c-4bdb-8829-656c53743b4f",
   "metadata": {},
   "source": [
    "View the party's UTxOs."
   ]
  },
  {
   "cell_type": "code",
   "execution_count": 50,
   "id": "5304bc05-29e3-4978-b976-586737d0d3a8",
   "metadata": {},
   "outputs": [
    {
     "name": "stdout",
     "output_type": "stream",
     "text": [
      "                           TxHash                                 TxIx        Amount\n",
      "--------------------------------------------------------------------------------------\n",
      "079eef0a4384b159aedc754d65c3f4648f0b0d15cf457ef245fbcc360196e75e     1        103000000 lovelace + TxOutDatumNone\n",
      "6f8b9755970498e3f93656a4c614473a74cf59765a9f7416e618ba9a1ece1407     2        2000000 lovelace + TxOutDatumNone\n",
      "aae64d36fceb7e68fcdeb8ae601845edbe9198819ed88f717e801a7e0daae60c     0        146031732 lovelace + TxOutDatumNone\n"
     ]
    }
   ],
   "source": [
    "cardano-cli query utxo \"${MAGIC[@]}\" --address \"$PARTY_ADDR\""
   ]
  },
  {
   "cell_type": "markdown",
   "id": "12368429-b608-4631-ba71-d7fab383a9d4",
   "metadata": {},
   "source": [
    "View the counterparty's UTxOs."
   ]
  },
  {
   "cell_type": "code",
   "execution_count": 51,
   "id": "356b0519-a027-4c30-bbcc-c874776d63c5",
   "metadata": {},
   "outputs": [
    {
     "name": "stdout",
     "output_type": "stream",
     "text": [
      "                           TxHash                                 TxIx        Amount\n",
      "--------------------------------------------------------------------------------------\n",
      "079eef0a4384b159aedc754d65c3f4648f0b0d15cf457ef245fbcc360196e75e     0        146770238 lovelace + TxOutDatumNone\n",
      "aae64d36fceb7e68fcdeb8ae601845edbe9198819ed88f717e801a7e0daae60c     2        100000000 lovelace + TxOutDatumNone\n"
     ]
    }
   ],
   "source": [
    "cardano-cli query utxo \"${MAGIC[@]}\" --address \"$COUNTERPARTY_ADDR\""
   ]
  },
  {
   "cell_type": "markdown",
   "id": "35f26baa-7fe8-45b8-9c5a-bdff1a33ca91",
   "metadata": {},
   "source": [
    "View the contract's history."
   ]
  },
  {
   "cell_type": "code",
   "execution_count": 52,
   "id": "625cb044-f4c4-473b-9b68-b6cbf3862466",
   "metadata": {},
   "outputs": [
    {
     "name": "stdout",
     "output_type": "stream",
     "text": [
      "\u001b[93mtransaction 2784ab25f7688295c9b5f69758068bb6a22fe2a3716af15a253b61e36f64fb50 (creation)\n",
      "\u001b[0mContractId:      2784ab25f7688295c9b5f69758068bb6a22fe2a3716af15a253b61e36f64fb50#1\n",
      "SlotNo:          6152035\n",
      "BlockNo:         284096\n",
      "BlockId:         780dde745ebfc5e1b92b3e8941b7c8cbbdd601fca9b3cd76aa8674d397d6c361\n",
      "ScriptAddress:   addr_test1wp4f8ywk4fg672xasahtk4t9k6w3aql943uxz5rt62d4dvqu3c6jv\n",
      "Marlowe Version: 1\n",
      "\n",
      "    When [\n",
      "      (Case\n",
      "         (Deposit Address \"addr_test1vqwt2xlr4d8yk4qws675exlqy6pdhq2s76wrehkjggkvr0cerfe8r\" Address \"addr_test1vqwt2xlr4d8yk4qws675exlqy6pdhq2s76wrehkjggkvr0cerfe8r\"\n",
      "            (Token \"\" \"\")\n",
      "            (NegValue\n",
      "               (NegValue\n",
      "                  (Constant 100000000))))\n",
      "         (Pay Address \"addr_test1vqwt2xlr4d8yk4qws675exlqy6pdhq2s76wrehkjggkvr0cerfe8r\"\n",
      "            (Party Address \"addr_test1vr7n0zzth5zycuh972w7rdmh48qur4f3wu6ntn2m2h30dlcvltuy5\")\n",
      "            (Token \"\" \"\")\n",
      "            (Constant 100000000)\n",
      "            (When [\n",
      "               (Case\n",
      "                  (Deposit Address \"addr_test1vr7n0zzth5zycuh972w7rdmh48qur4f3wu6ntn2m2h30dlcvltuy5\" Address \"addr_test1vr7n0zzth5zycuh972w7rdmh48qur4f3wu6ntn2m2h30dlcvltuy5\"\n",
      "                     (Token \"\" \"\")\n",
      "                     (Constant 2000000))\n",
      "                  (Pay Address \"addr_test1vr7n0zzth5zycuh972w7rdmh48qur4f3wu6ntn2m2h30dlcvltuy5\"\n",
      "                     (Party Address \"addr_test1vqwt2xlr4d8yk4qws675exlqy6pdhq2s76wrehkjggkvr0cerfe8r\")\n",
      "                     (Token \"\" \"\")\n",
      "                     (Constant 2000000)\n",
      "                     (When [\n",
      "                        (Case\n",
      "                           (Deposit Address \"addr_test1vr7n0zzth5zycuh972w7rdmh48qur4f3wu6ntn2m2h30dlcvltuy5\" Address \"addr_test1vr7n0zzth5zycuh972w7rdmh48qur4f3wu6ntn2m2h30dlcvltuy5\"\n",
      "                              (Token \"\" \"\")\n",
      "                              (Constant 100000000))\n",
      "                           (Pay Address \"addr_test1vr7n0zzth5zycuh972w7rdmh48qur4f3wu6ntn2m2h30dlcvltuy5\"\n",
      "                              (Party Address \"addr_test1vqwt2xlr4d8yk4qws675exlqy6pdhq2s76wrehkjggkvr0cerfe8r\")\n",
      "                              (Token \"\" \"\")\n",
      "                              (Constant 100000000) Close))] 1666155787000 Close)))] 1666155787000 Close)))] 1672531200000 Close\n",
      "\n",
      "\u001b[93mtransaction aae64d36fceb7e68fcdeb8ae601845edbe9198819ed88f717e801a7e0daae60c\n",
      "\u001b[0mContractId: 2784ab25f7688295c9b5f69758068bb6a22fe2a3716af15a253b61e36f64fb50#1\n",
      "SlotNo:     6152046\n",
      "BlockNo:    284097\n",
      "BlockId:    350e5e444eb5dda57284b8ee30cc2db79370b0534569916bb5a119977ca7636b\n",
      "Inputs:     [NormalInput (IDeposit \"\\\"addr_test1vqwt2xlr4d8yk4qws675exlqy6pdhq2s76wrehkjggkvr0cerfe8r\\\"\" \"\\\"addr_test1vqwt2xlr4d8yk4qws675exlqy6pdhq2s76wrehkjggkvr0cerfe8r\\\"\" (Token \"\" \"\") 100000000)]\n",
      "\n",
      "    When [\n",
      "      (Case\n",
      "         (Deposit Address \"addr_test1vr7n0zzth5zycuh972w7rdmh48qur4f3wu6ntn2m2h30dlcvltuy5\" Address \"addr_test1vr7n0zzth5zycuh972w7rdmh48qur4f3wu6ntn2m2h30dlcvltuy5\"\n",
      "            (Token \"\" \"\")\n",
      "            (Constant 2000000))\n",
      "         (Pay Address \"addr_test1vr7n0zzth5zycuh972w7rdmh48qur4f3wu6ntn2m2h30dlcvltuy5\"\n",
      "            (Party Address \"addr_test1vqwt2xlr4d8yk4qws675exlqy6pdhq2s76wrehkjggkvr0cerfe8r\")\n",
      "            (Token \"\" \"\")\n",
      "            (Constant 2000000)\n",
      "            (When [\n",
      "               (Case\n",
      "                  (Deposit Address \"addr_test1vr7n0zzth5zycuh972w7rdmh48qur4f3wu6ntn2m2h30dlcvltuy5\" Address \"addr_test1vr7n0zzth5zycuh972w7rdmh48qur4f3wu6ntn2m2h30dlcvltuy5\"\n",
      "                     (Token \"\" \"\")\n",
      "                     (Constant 100000000))\n",
      "                  (Pay Address \"addr_test1vr7n0zzth5zycuh972w7rdmh48qur4f3wu6ntn2m2h30dlcvltuy5\"\n",
      "                     (Party Address \"addr_test1vqwt2xlr4d8yk4qws675exlqy6pdhq2s76wrehkjggkvr0cerfe8r\")\n",
      "                     (Token \"\" \"\")\n",
      "                     (Constant 100000000) Close))] 1666155787000 Close)))] 1666155787000 Close\n",
      "\n",
      "\u001b[93mtransaction 6f8b9755970498e3f93656a4c614473a74cf59765a9f7416e618ba9a1ece1407\n",
      "\u001b[0mContractId: 2784ab25f7688295c9b5f69758068bb6a22fe2a3716af15a253b61e36f64fb50#1\n",
      "SlotNo:     6152069\n",
      "BlockNo:    284098\n",
      "BlockId:    63ee8bbbac859e379bfd110faf8df41ddf0f0ea6d966df7e6eecb912c1efa685\n",
      "Inputs:     [NormalInput (IDeposit \"\\\"addr_test1vr7n0zzth5zycuh972w7rdmh48qur4f3wu6ntn2m2h30dlcvltuy5\\\"\" \"\\\"addr_test1vr7n0zzth5zycuh972w7rdmh48qur4f3wu6ntn2m2h30dlcvltuy5\\\"\" (Token \"\" \"\") 2000000)]\n",
      "\n",
      "    When [\n",
      "      (Case\n",
      "         (Deposit Address \"addr_test1vr7n0zzth5zycuh972w7rdmh48qur4f3wu6ntn2m2h30dlcvltuy5\" Address \"addr_test1vr7n0zzth5zycuh972w7rdmh48qur4f3wu6ntn2m2h30dlcvltuy5\"\n",
      "            (Token \"\" \"\")\n",
      "            (Constant 100000000))\n",
      "         (Pay Address \"addr_test1vr7n0zzth5zycuh972w7rdmh48qur4f3wu6ntn2m2h30dlcvltuy5\"\n",
      "            (Party Address \"addr_test1vqwt2xlr4d8yk4qws675exlqy6pdhq2s76wrehkjggkvr0cerfe8r\")\n",
      "            (Token \"\" \"\")\n",
      "            (Constant 100000000) Close))] 1666155787000 Close\n",
      "\n",
      "\u001b[93mtransaction 079eef0a4384b159aedc754d65c3f4648f0b0d15cf457ef245fbcc360196e75e (close)\n",
      "\u001b[0mContractId: 2784ab25f7688295c9b5f69758068bb6a22fe2a3716af15a253b61e36f64fb50#1\n",
      "SlotNo:     6152081\n",
      "BlockNo:    284099\n",
      "BlockId:    5d85da3e551a5d702242b4c7f670aceac6c6eafbbe78368995df4b429882df5b\n",
      "Inputs:     [NormalInput (IDeposit \"\\\"addr_test1vr7n0zzth5zycuh972w7rdmh48qur4f3wu6ntn2m2h30dlcvltuy5\\\"\" \"\\\"addr_test1vr7n0zzth5zycuh972w7rdmh48qur4f3wu6ntn2m2h30dlcvltuy5\\\"\" (Token \"\" \"\") 100000000)]\n",
      "\n",
      "\n"
     ]
    }
   ],
   "source": [
    "marlowe log --show-contract \"$CONTRACT_ID\""
   ]
  },
  {
   "cell_type": "markdown",
   "id": "c0ccaa90-d5d4-49b5-870c-d6429ed64ae0",
   "metadata": {},
   "source": [
    "## Cleanup"
   ]
  },
  {
   "cell_type": "markdown",
   "id": "86585e47-22db-46db-94a6-80b4a00b2147",
   "metadata": {},
   "source": [
    "Remove the contract from history tracking."
   ]
  },
  {
   "cell_type": "code",
   "execution_count": 53,
   "id": "eea2d290-46e0-4a5c-a587-f0dd4afda600",
   "metadata": {},
   "outputs": [
    {
     "name": "stdout",
     "output_type": "stream",
     "text": [
      "2784ab25f7688295c9b5f69758068bb6a22fe2a3716af15a253b61e36f64fb50#1\n"
     ]
    }
   ],
   "source": [
    "marlowe rm \"$CONTRACT_ID\""
   ]
  },
  {
   "cell_type": "code",
   "execution_count": 54,
   "id": "cca2e9c5-d78b-4207-b599-feca36afb4c6",
   "metadata": {},
   "outputs": [],
   "source": [
    "marlowe ls"
   ]
  },
  {
   "cell_type": "markdown",
   "id": "b6916f2a-426a-4c31-8499-610f83df1d7c",
   "metadata": {},
   "source": [
    "Consolidate the UTxOs at the addresses."
   ]
  },
  {
   "cell_type": "code",
   "execution_count": 55,
   "id": "303c1567-db4f-4659-a032-31706072ba15",
   "metadata": {},
   "outputs": [
    {
     "name": "stdout",
     "output_type": "stream",
     "text": [
      "TxId \"eaa258587796ed96e0ec65784e6a9230c2255c8afedf421aac413d66bce05dd4\"\n"
     ]
    }
   ],
   "source": [
    "marlowe-cli util clean \\\n",
    "  --change-address \"$PARTY_ADDR\" \\\n",
    "  --required-signer \"$PARTY_SKEY\" \\\n",
    "  --out-file /dev/null \\\n",
    "  --submit 600"
   ]
  },
  {
   "cell_type": "code",
   "execution_count": 56,
   "id": "3084ac48-3e9f-4399-aba8-a5fa487006c0",
   "metadata": {},
   "outputs": [
    {
     "name": "stdout",
     "output_type": "stream",
     "text": [
      "TxId \"557d39d4efc19a5d1b3dc51bae15fc84cd264b6df3f5a1a2bf1250fc8b32af6e\"\n"
     ]
    }
   ],
   "source": [
    "marlowe-cli util clean \\\n",
    "  --change-address \"$COUNTERPARTY_ADDR\" \\\n",
    "  --required-signer \"$COUNTERPARTY_SKEY\" \\\n",
    "  --out-file /dev/null \\\n",
    "  --submit 600"
   ]
  },
  {
   "cell_type": "markdown",
   "id": "5ddc612f-57ca-4e17-96f2-658baa3ef7e8",
   "metadata": {},
   "source": [
    "Send the funds back to the faucet."
   ]
  },
  {
   "cell_type": "code",
   "execution_count": 57,
   "id": "a300a576-a800-4fdd-9d45-bc6cc3c901a8",
   "metadata": {},
   "outputs": [
    {
     "name": "stdout",
     "output_type": "stream",
     "text": [
      "TxId \"3ce4019d3b26efe353777b420a0726176c28121e502287ab54f68930d4ccb9c6\"\n"
     ]
    }
   ],
   "source": [
    "marlowe-cli transaction simple \\\n",
    "  --tx-in \"$(marlowe-cli util select --lovelace-only 1 \"$PARTY_ADDR\" | sed -n -e 's/^TxIn \"\\(.*\\)\" (TxIx \\(.*\\))$/\\1#\\2/;1p')\" \\\n",
    "  --tx-in \"$(marlowe-cli util select --lovelace-only 1 \"$COUNTERPARTY_ADDR\" | sed -n -e 's/^TxIn \"\\(.*\\)\" (TxIx \\(.*\\))$/\\1#\\2/;1p')\" \\\n",
    "  --required-signer \"$PARTY_SKEY\" \\\n",
    "  --required-signer \"$COUNTERPARTY_SKEY\" \\\n",
    "  --change-address \"$FAUCET_ADDR\" \\\n",
    "  --out-file /dev/null \\\n",
    "  --submit 600"
   ]
  },
  {
   "cell_type": "markdown",
   "id": "927fa5b5-92d2-4133-9a28-dcce900ee190",
   "metadata": {},
   "source": [
    "See that the funds have been returned to the faucet."
   ]
  },
  {
   "cell_type": "code",
   "execution_count": 58,
   "id": "9787b014",
   "metadata": {},
   "outputs": [
    {
     "name": "stdout",
     "output_type": "stream",
     "text": [
      "                           TxHash                                 TxIx        Amount\n",
      "--------------------------------------------------------------------------------------\n"
     ]
    }
   ],
   "source": [
    "cardano-cli query utxo \"${MAGIC[@]}\" --address \"$PARTY_ADDR\" --address \"$COUNTERPARTY_ADDR\""
   ]
  }
 ],
 "metadata": {
  "kernelspec": {
   "display_name": "Bash - Marlowe",
   "language": "bash",
   "name": "bash_marlowe"
  },
  "language_info": {
   "codemirror_mode": "shell",
   "file_extension": ".sh",
   "mimetype": "text/x-sh",
   "name": "/nix/store/2ispfz80kmwrsvwndxkxs56irn86h43p-bash-5.1-p16/bin/bash"
  }
 },
 "nbformat": 4,
 "nbformat_minor": 5
}
