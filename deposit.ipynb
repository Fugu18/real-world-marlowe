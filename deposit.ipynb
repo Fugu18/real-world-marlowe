{
 "cells": [
  {
   "cell_type": "code",
   "execution_count": 1,
   "id": "c2b997ff-7487-4181-a96d-83057ca11994",
   "metadata": {},
   "outputs": [],
   "source": [
    "#!/usr/bin/env bash"
   ]
  },
  {
   "cell_type": "markdown",
   "id": "29ad9b87-6812-4d1b-888b-c255e9be9eae",
   "metadata": {},
   "source": [
    "<span style=\"color: red; font-weight: bold\">Use the following command to launch a server for this notebook:</span>\n",
    "\n",
    "```bash\n",
    "git clone git@github.com:input-output-hk/marlowe-cardano.git\n",
    "cd marlowe-cardano/marlowe-runtime/\n",
    "nix run ../marlowe-cli\n",
    "```\n",
    "\n",
    "Then navigate to the `examples/` folder in Jupyter and open this notebook."
   ]
  },
  {
   "cell_type": "markdown",
   "id": "ff12ef20-4800-40fc-bf1a-b48def801ee9",
   "metadata": {},
   "source": [
    "# Demonstrating the Marlowe Transaction Deposit Component of Marlowe Runtime"
   ]
  },
  {
   "cell_type": "markdown",
   "id": "b4002252-fe9f-40e4-a371-d4d6b57316de",
   "metadata": {},
   "source": [
    "## Preliminaries"
   ]
  },
  {
   "cell_type": "markdown",
   "id": "dab2352b-0021-4998-9107-c5cc32d3734c",
   "metadata": {},
   "source": [
    "Record version numbers"
   ]
  },
  {
   "cell_type": "code",
   "execution_count": 2,
   "id": "4832053a-541d-4acd-a781-e7b31a3d28e1",
   "metadata": {},
   "outputs": [
    {
     "name": "stdout",
     "output_type": "stream",
     "text": [
      "marlowe-cli 0.0.9.0\n"
     ]
    }
   ],
   "source": [
    "marlowe-cli --version"
   ]
  },
  {
   "cell_type": "code",
   "execution_count": 3,
   "id": "e7651166-5c42-4a2b-8447-3407440f7b5a",
   "metadata": {},
   "outputs": [
    {
     "name": "stdout",
     "output_type": "stream",
     "text": [
      "cardano-cli 1.35.3 - linux-x86_64 - ghc-8.10\n",
      "git rev 0000000000000000000000000000000000000000\n"
     ]
    }
   ],
   "source": [
    "cardano-cli --version"
   ]
  },
  {
   "cell_type": "code",
   "execution_count": 4,
   "id": "0434d927-022f-41f6-b60f-091ebe85cfc4",
   "metadata": {},
   "outputs": [
    {
     "name": "stdout",
     "output_type": "stream",
     "text": [
      "a384fbf2e280f19290465cb0620a3116e04ac644\n"
     ]
    }
   ],
   "source": [
    "git rev-parse HEAD"
   ]
  },
  {
   "cell_type": "markdown",
   "id": "9fb67751-bbb3-4e07-a9c7-b509502903c7",
   "metadata": {
    "tags": []
   },
   "source": [
    "### Setup the faucet."
   ]
  },
  {
   "cell_type": "markdown",
   "id": "4c1053b7-899c-4df1-94bc-626300568286",
   "metadata": {},
   "source": [
    "Set the location of keys."
   ]
  },
  {
   "cell_type": "code",
   "execution_count": 5,
   "id": "7eba74b8-fb39-4a07-9080-211d46f9132a",
   "metadata": {},
   "outputs": [],
   "source": [
    "TREASURY=treasury"
   ]
  },
  {
   "cell_type": "markdown",
   "id": "d5caee3c-c91e-49b8-aeb2-84b3170128d6",
   "metadata": {},
   "source": [
    "Set the faucet."
   ]
  },
  {
   "cell_type": "code",
   "execution_count": 6,
   "id": "054727ec-d1d3-4fdd-811f-95561dc807c5",
   "metadata": {},
   "outputs": [
    {
     "name": "stdout",
     "output_type": "stream",
     "text": [
      "addr_test1vq9prvx8ufwutkwxx9cmmuuajaqmjqwujqlp9d8pvg6gupczgtm9j\n"
     ]
    }
   ],
   "source": [
    "FAUCET_SKEY=$TREASURY/payment.skey\n",
    "FAUCET_ADDR=$(cat $TREASURY/payment.testnet.address)\n",
    "echo \"$FAUCET_ADDR\""
   ]
  },
  {
   "cell_type": "markdown",
   "id": "2894720b-50a2-4830-9a5d-e65b8e7c7dad",
   "metadata": {},
   "source": [
    "### Select network"
   ]
  },
  {
   "cell_type": "markdown",
   "id": "720ae956-275a-4b64-8460-cff5630104b4",
   "metadata": {},
   "source": [
    "In a separate terminal, set up a tunnel to the Marlowe Runtime development server:\n",
    "```bash\n",
    "rm /tmp/preview.socket\n",
    "ssh -NT \\\n",
    "  -L/tmp/preview.socket:/data/networks/preview/node.socket \\\n",
    "  -L 3717:127.0.0.1:23717 \\\n",
    "  -L 3718:127.0.0.1:23718 \\\n",
    "  -L 3719:127.0.0.1:23719 \\\n",
    "  -L 3721:127.0.0.1:23721 \\\n",
    "  -L 3723:127.0.0.1:23723 \\\n",
    "  54.202.238.5                                              \n",
    "```"
   ]
  },
  {
   "cell_type": "code",
   "execution_count": 7,
   "id": "ced2a30e-b2ba-435a-9199-bcfa0d6a8cf4",
   "metadata": {},
   "outputs": [
    {
     "name": "stdout",
     "output_type": "stream",
     "text": [
      "--testnet-magic 2\n"
     ]
    }
   ],
   "source": [
    "export CARDANO_NODE_SOCKET_PATH=/tmp/preview.socket\n",
    "export CARDANO_TESTNET_MAGIC=2\n",
    "MAGIC=(--testnet-magic 2)\n",
    "echo \"${MAGIC[@]}\""
   ]
  },
  {
   "cell_type": "markdown",
   "id": "1d696336-1e80-4f2d-b484-49a4cc1595a1",
   "metadata": {},
   "source": [
    "### Time computations"
   ]
  },
  {
   "cell_type": "code",
   "execution_count": 8,
   "id": "15b80716-4545-4558-825f-9d0dda82f8d5",
   "metadata": {},
   "outputs": [],
   "source": [
    "SECOND=1000\n",
    "MINUTE=$((60 * SECOND))"
   ]
  },
  {
   "cell_type": "code",
   "execution_count": 9,
   "id": "359b6f47-e0d1-4f84-8812-b96cfa361c2d",
   "metadata": {},
   "outputs": [
    {
     "name": "stdout",
     "output_type": "stream",
     "text": [
      "1666111908000\n"
     ]
    }
   ],
   "source": [
    "NOW=\"$(($(date -u +%s) * SECOND))\"\n",
    "echo \"$NOW\""
   ]
  },
  {
   "cell_type": "markdown",
   "id": "6649b7a2-3f9e-4dd4-bde7-11699c6bf27f",
   "metadata": {},
   "source": [
    "### Check that the reference script has been published"
   ]
  },
  {
   "cell_type": "markdown",
   "id": "8f88e700-a21f-4fd4-b785-35f39d767e49",
   "metadata": {},
   "source": [
    "Check that the Marlowe semantics validator was published."
   ]
  },
  {
   "cell_type": "code",
   "execution_count": 10,
   "id": "eb29caeb-c563-4e7d-922a-b5350642cc0f",
   "metadata": {},
   "outputs": [
    {
     "name": "stdout",
     "output_type": "stream",
     "text": [
      "\n",
      "Searching for reference script at address: addr_test1vrw0tuh8l95thdqr65dmpcfqnmcw0en7v7vhgegck7gzqgswa07sw\n",
      "\n",
      "Expected reference script hash: \"6a9391d6aa51af28dd876ebb5565b69d1e83e5ac7861506bd29b56b0\"\n",
      "\n",
      "Searching for reference script at address: addr_test1vpa36uuyf95kxpcleldsncedlhjru6vdmh2vnpkdrsz4u6cll9zas\n",
      "\n",
      "Expected reference script hash: \"49076eab20243dc9462511fb98a9cfb719f86e9692288139b7c91df3\"\n",
      "{\n",
      "    \"marlowe\": {\n",
      "        \"hash\": \"6a9391d6aa51af28dd876ebb5565b69d1e83e5ac7861506bd29b56b0\",\n",
      "        \"txIn\": \"087f21f109a997193421a81886ea8c6397d336d19e696457b9c5c7aefdc31873#1\"\n",
      "    },\n",
      "    \"payout\": {\n",
      "        \"hash\": \"49076eab20243dc9462511fb98a9cfb719f86e9692288139b7c91df3\",\n",
      "        \"txIn\": \"087f21f109a997193421a81886ea8c6397d336d19e696457b9c5c7aefdc31873#2\"\n",
      "    }\n",
      "}\n"
     ]
    }
   ],
   "source": [
    "marlowe-cli transaction find-published"
   ]
  },
  {
   "cell_type": "markdown",
   "id": "7ae0e907-2c31-4b85-926d-c62dc9cafc49",
   "metadata": {},
   "source": [
    "### Participants"
   ]
  },
  {
   "cell_type": "markdown",
   "id": "ea318fc6-f1dc-46a8-a4e7-83ee23a42ec3",
   "metadata": {},
   "source": [
    "#### The Party"
   ]
  },
  {
   "cell_type": "code",
   "execution_count": 11,
   "id": "009fed78-8410-4894-b904-d6ea92982d70",
   "metadata": {},
   "outputs": [],
   "source": [
    "PARTY_SKEY=\"$TREASURY/john-fletcher.skey\"\n",
    "PARTY_VKEY=\"$TREASURY/john-fletcher.vkey\""
   ]
  },
  {
   "cell_type": "markdown",
   "id": "df56d582-919c-438f-986a-a9a3fffc40c7",
   "metadata": {},
   "source": [
    "Create the first party's keys, if necessary."
   ]
  },
  {
   "cell_type": "code",
   "execution_count": 12,
   "id": "0de60d98-b79e-43fc-8c7d-fd494c76390d",
   "metadata": {},
   "outputs": [
    {
     "name": "stdout",
     "output_type": "stream",
     "text": [
      "addr_test1vqwt2xlr4d8yk4qws675exlqy6pdhq2s76wrehkjggkvr0cerfe8r\n"
     ]
    }
   ],
   "source": [
    "if [[ ! -e \"$PARTY_SKEY\" ]]\n",
    "then\n",
    "  cardano-cli address key-gen --signing-key-file \"$PARTY_SKEY\" --verification-key-file \"$PARTY_VKEY\"\n",
    "fi\n",
    "PARTY_ADDR=$(cardano-cli address build \"${MAGIC[@]}\" --payment-verification-key-file \"$PARTY_VKEY\")\n",
    "echo \"$PARTY_ADDR\""
   ]
  },
  {
   "cell_type": "markdown",
   "id": "17b4396a-a8ac-4976-bda4-968daaaa190e",
   "metadata": {},
   "source": [
    "Fund the address."
   ]
  },
  {
   "cell_type": "code",
   "execution_count": 13,
   "id": "ff90fa3f-1422-4632-abb7-19c5e5b5d2ed",
   "metadata": {},
   "outputs": [
    {
     "name": "stdout",
     "output_type": "stream",
     "text": [
      "TxId \"af1cc39a41ba521ad66b925dfeba9f292d9de284d8ba4951b03fa0868df66f6b\"\n"
     ]
    }
   ],
   "source": [
    "marlowe-cli util fund-address \\\n",
    "  --out-file /dev/null \\\n",
    "  --submit 600 \\\n",
    "  --lovelace 250000000 \\\n",
    "  --source-wallet-credentials \"$FAUCET_ADDR:$FAUCET_SKEY\" \\\n",
    "  \"$PARTY_ADDR\""
   ]
  },
  {
   "cell_type": "markdown",
   "id": "beac2b0a-83c9-4f13-a1b2-d4ae12795bc7",
   "metadata": {},
   "source": [
    "#### The Counterparty"
   ]
  },
  {
   "cell_type": "code",
   "execution_count": 14,
   "id": "359d2b9b-9bc3-4688-9689-9ef2c69cd382",
   "metadata": {},
   "outputs": [],
   "source": [
    "COUNTERPARTY_SKEY=\"$TREASURY/thomas-kyd.skey\"\n",
    "COUNTERPARTY_VKEY=\"$TREASURY/thomas-kyd.vkey\""
   ]
  },
  {
   "cell_type": "markdown",
   "id": "cc9ff64b-fc5b-4308-8b6c-9208985b3600",
   "metadata": {},
   "source": [
    "Create the second party's keys, if necessary."
   ]
  },
  {
   "cell_type": "code",
   "execution_count": 15,
   "id": "c4297420-6c47-4716-bbb3-c5bb0be2ef9a",
   "metadata": {},
   "outputs": [
    {
     "name": "stdout",
     "output_type": "stream",
     "text": [
      "addr_test1vr7n0zzth5zycuh972w7rdmh48qur4f3wu6ntn2m2h30dlcvltuy5\n"
     ]
    }
   ],
   "source": [
    "if [[ ! -e \"$COUNTERPARTY_SKEY\" ]]\n",
    "then\n",
    "  cardano-cli address key-gen --signing-key-file \"$COUNTERPARTY_SKEY\" --verification-key-file \"$COUNTERPARTY_VKEY\"\n",
    "fi\n",
    "COUNTERPARTY_ADDR=$(cardano-cli address build \"${MAGIC[@]}\" --payment-verification-key-file \"$COUNTERPARTY_VKEY\")\n",
    "echo \"$COUNTERPARTY_ADDR\""
   ]
  },
  {
   "cell_type": "markdown",
   "id": "0556be66-9ca7-4e91-9c85-bd885311c611",
   "metadata": {},
   "source": [
    "Fund the address."
   ]
  },
  {
   "cell_type": "code",
   "execution_count": 16,
   "id": "77bc9000-d2e3-4996-a2ae-a7d0c625aa70",
   "metadata": {},
   "outputs": [
    {
     "name": "stdout",
     "output_type": "stream",
     "text": [
      "TxId \"c8c5d98e6509d70d99b28b4ac9d09e93f8861749186ef769457a77c6d71204f7\"\n"
     ]
    }
   ],
   "source": [
    "marlowe-cli util fund-address \\\n",
    "  --out-file /dev/null \\\n",
    "  --submit 600  \\\n",
    "  --lovelace 250000000 \\\n",
    "  --source-wallet-credentials \"$FAUCET_ADDR:$FAUCET_SKEY\" \\\n",
    "  \"$COUNTERPARTY_ADDR\""
   ]
  },
  {
   "cell_type": "markdown",
   "id": "eb417b36-effb-4fc2-ae81-b7fce917aa7b",
   "metadata": {},
   "source": [
    "## The Contract"
   ]
  },
  {
   "cell_type": "markdown",
   "id": "b04afd25-7baa-46ef-b4e5-549402d14cd7",
   "metadata": {},
   "source": [
    "We set the parameters for the ACTUS PAM contract."
   ]
  },
  {
   "cell_type": "code",
   "execution_count": 17,
   "id": "c5845b3d-12cf-47f0-a53c-0da3e4fe89f2",
   "metadata": {
    "tags": []
   },
   "outputs": [],
   "source": [
    "MINIMUM_ADA=3000000\n",
    "\n",
    "#FIXED_POINT=1000000\n",
    "PRINCIPAL=100\n",
    "INTEREST_RATE=0.02\n",
    "\n",
    "STATUS_DATE=$(date -d \"$(date -u -R -d @$((NOW/1000)))\" +\"%Y-%m-%dT00:00:00\")\n",
    "INITIAL_EXCHANGE_DATE=$(date -d \"$(date -u -R -d @$((NOW/1000))) + 1 year\" +\"%Y-01-01T00:00:00\")\n",
    "MATURITY_DATE=$(date -d \"$(date -u -R -d @$((NOW/1000))) + 2 year\" +\"%Y-01-01T00:00:00\")"
   ]
  },
  {
   "cell_type": "code",
   "execution_count": 18,
   "id": "ece6fd44-d1ea-44b6-a8e4-240c4549417c",
   "metadata": {},
   "outputs": [
    {
     "name": "stdout",
     "output_type": "stream",
     "text": [
      "{\"accruedInterest\":0,\"collateralAmount\":0,\"contractId\":\"0\",\"contractPerformance\":\"PF\",\"contractRole\":\"RPA\",\"contractType\":\"PAM\",\"cycleAnchorDateOfInterestPayment\":\"2023-01-01T00:00:00\",\"cycleOfInterestPayment\":\"P1YL1\",\"dayCountConvention\":\"30E360\",\"enableSettlement\":false,\"initialExchangeDate\":\"2023-01-01T00:00:00\",\"interestCalculationBase\":\"NT\",\"maturityDate\":\"2024-01-01T00:00:00\",\"nominalInterestRate\":0.02,\"notionalPrincipal\":100,\"penaltyType\":\"O\",\"prepaymentEffect\":\"N\",\"scheduleConfig\":{\"businessDayConvention\":\"NULL\",\"calendar\":\"NC\",\"endOfMonthConvention\":\"EOM\"},\"statusDate\":\"2022-10-18T00:00:00\"}\n"
     ]
    }
   ],
   "source": [
    "yaml2json << EOI > deposit.actus\n",
    "scheduleConfig:\n",
    "  businessDayConvention: \"NULL\"\n",
    "  endOfMonthConvention: \"EOM\"\n",
    "  calendar: \"NC\"\n",
    "maturityDate: \"$MATURITY_DATE\"\n",
    "contractId: \"0\"\n",
    "enableSettlement: false\n",
    "initialExchangeDate: \"$INITIAL_EXCHANGE_DATE\"\n",
    "contractRole: \"RPA\"\n",
    "penaltyType: \"O\"\n",
    "cycleAnchorDateOfInterestPayment: \"$INITIAL_EXCHANGE_DATE\"\n",
    "contractType: \"PAM\"\n",
    "notionalPrincipal: $PRINCIPAL\n",
    "contractPerformance: \"PF\"\n",
    "collateralAmount: 0\n",
    "dayCountConvention: \"30E360\"\n",
    "accruedInterest: 0\n",
    "statusDate: \"$STATUS_DATE\"\n",
    "cycleOfInterestPayment: \"P1YL1\"\n",
    "prepaymentEffect: \"N\"\n",
    "nominalInterestRate: $INTEREST_RATE\n",
    "interestCalculationBase: \"NT\"\n",
    "EOI\n",
    "cat deposit.actus"
   ]
  },
  {
   "cell_type": "markdown",
   "id": "d58d8071-9907-4d2c-b686-48139d7841ca",
   "metadata": {},
   "source": [
    "Create the contract."
   ]
  },
  {
   "cell_type": "code",
   "execution_count": 19,
   "id": "028339ed-6d5e-4e71-9895-3a965a0252c9",
   "metadata": {},
   "outputs": [],
   "source": [
    "marlowe-cli template actus \\\n",
    "  --minimum-ada \"$MINIMUM_ADA\" \\\n",
    "  --party \"$PARTY_ADDR\" \\\n",
    "  --counter-party \"$COUNTERPARTY_ADDR\" \\\n",
    "  --actus-terms-file  deposit.actus \\\n",
    "  --out-contract-file deposit-1.contract \\\n",
    "  --out-state-file /dev/null"
   ]
  },
  {
   "cell_type": "markdown",
   "id": "2d60de16-312f-492c-bb20-94415cd90841",
   "metadata": {},
   "source": [
    "Since we are testing, we don't really want to wait months or years for timeouts, so we edit the contract file to change the maturity date to 10 minutes from now."
   ]
  },
  {
   "cell_type": "code",
   "execution_count": 20,
   "id": "841a9027-bbe8-498a-8a40-fdee8f8bc9a0",
   "metadata": {},
   "outputs": [],
   "source": [
    "sed -i -e \"s/$(($(date -d \"$MATURITY_DATE\" -u +%s) * SECOND))/$((NOW + 10 * MINUTE))/\" deposit-1.contract"
   ]
  },
  {
   "cell_type": "markdown",
   "id": "cc6d76dd-d7f0-4a83-ad1e-affd955e98a6",
   "metadata": {},
   "source": [
    "View the contract."
   ]
  },
  {
   "cell_type": "code",
   "execution_count": 21,
   "id": "661bb16a-2739-4354-a796-bbaedf39f698",
   "metadata": {},
   "outputs": [
    {
     "name": "stdout",
     "output_type": "stream",
     "text": [
      "timeout: 1672531200000\n",
      "timeout_continuation: close\n",
      "when:\n",
      "- case:\n",
      "    deposits:\n",
      "      negate:\n",
      "        negate: 100000000\n",
      "    into_account:\n",
      "      address: addr_test1vqwt2xlr4d8yk4qws675exlqy6pdhq2s76wrehkjggkvr0cerfe8r\n",
      "    of_token:\n",
      "      currency_symbol: ''\n",
      "      token_name: ''\n",
      "    party:\n",
      "      address: addr_test1vqwt2xlr4d8yk4qws675exlqy6pdhq2s76wrehkjggkvr0cerfe8r\n",
      "  then:\n",
      "    from_account:\n",
      "      address: addr_test1vqwt2xlr4d8yk4qws675exlqy6pdhq2s76wrehkjggkvr0cerfe8r\n",
      "    pay: 100000000\n",
      "    then:\n",
      "      timeout: 1666112508000\n",
      "      timeout_continuation: close\n",
      "      when:\n",
      "      - case:\n",
      "          deposits: 2000000\n",
      "          into_account:\n",
      "            address: addr_test1vr7n0zzth5zycuh972w7rdmh48qur4f3wu6ntn2m2h30dlcvltuy5\n",
      "          of_token:\n",
      "            currency_symbol: ''\n",
      "            token_name: ''\n",
      "          party:\n",
      "            address: addr_test1vr7n0zzth5zycuh972w7rdmh48qur4f3wu6ntn2m2h30dlcvltuy5\n",
      "        then:\n",
      "          from_account:\n",
      "            address: addr_test1vr7n0zzth5zycuh972w7rdmh48qur4f3wu6ntn2m2h30dlcvltuy5\n",
      "          pay: 2000000\n",
      "          then:\n",
      "            timeout: 1666112508000\n",
      "            timeout_continuation: close\n",
      "            when:\n",
      "            - case:\n",
      "                deposits: 100000000\n",
      "                into_account:\n",
      "                  address: addr_test1vr7n0zzth5zycuh972w7rdmh48qur4f3wu6ntn2m2h30dlcvltuy5\n",
      "                of_token:\n",
      "                  currency_symbol: ''\n",
      "                  token_name: ''\n",
      "                party:\n",
      "                  address: addr_test1vr7n0zzth5zycuh972w7rdmh48qur4f3wu6ntn2m2h30dlcvltuy5\n",
      "              then:\n",
      "                from_account:\n",
      "                  address: addr_test1vr7n0zzth5zycuh972w7rdmh48qur4f3wu6ntn2m2h30dlcvltuy5\n",
      "                pay: 100000000\n",
      "                then: close\n",
      "                to:\n",
      "                  party:\n",
      "                    address: addr_test1vqwt2xlr4d8yk4qws675exlqy6pdhq2s76wrehkjggkvr0cerfe8r\n",
      "                token:\n",
      "                  currency_symbol: ''\n",
      "                  token_name: ''\n",
      "          to:\n",
      "            party:\n",
      "              address: addr_test1vqwt2xlr4d8yk4qws675exlqy6pdhq2s76wrehkjggkvr0cerfe8r\n",
      "          token:\n",
      "            currency_symbol: ''\n",
      "            token_name: ''\n",
      "    to:\n",
      "      party:\n",
      "        address: addr_test1vr7n0zzth5zycuh972w7rdmh48qur4f3wu6ntn2m2h30dlcvltuy5\n",
      "    token:\n",
      "      currency_symbol: ''\n",
      "      token_name: ''\n"
     ]
    }
   ],
   "source": [
    "json2yaml deposit-1.contract"
   ]
  },
  {
   "cell_type": "markdown",
   "id": "a1548c6e-3288-4a7e-90f4-6439edeb22ca",
   "metadata": {},
   "source": [
    "## Run the Contract"
   ]
  },
  {
   "cell_type": "markdown",
   "id": "f2eb9ff2-86b8-437e-aa04-a1a38cebea9a",
   "metadata": {},
   "source": [
    "### Transaction 1. Create the ontract"
   ]
  },
  {
   "cell_type": "markdown",
   "id": "faafcccf-d07c-4f8e-9ff8-a654e76e8ff7",
   "metadata": {},
   "source": [
    "See what UTxOs the transaction-creation will have available to select from."
   ]
  },
  {
   "cell_type": "code",
   "execution_count": 22,
   "id": "b0c60ede-d8c6-47f9-adcd-d3245ef60467",
   "metadata": {},
   "outputs": [
    {
     "name": "stdout",
     "output_type": "stream",
     "text": [
      "                           TxHash                                 TxIx        Amount\n",
      "--------------------------------------------------------------------------------------\n",
      "af1cc39a41ba521ad66b925dfeba9f292d9de284d8ba4951b03fa0868df66f6b     1        250000000 lovelace + TxOutDatumNone\n"
     ]
    }
   ],
   "source": [
    "cardano-cli query utxo \"${MAGIC[@]}\" --address \"$PARTY_ADDR\""
   ]
  },
  {
   "cell_type": "markdown",
   "id": "ab570c22-0af1-4168-9269-ebefce6bfa6d",
   "metadata": {},
   "source": [
    "Build the transaction."
   ]
  },
  {
   "cell_type": "code",
   "execution_count": 23,
   "id": "142661e5-a5b3-4e48-9d02-d5aca344d2e2",
   "metadata": {},
   "outputs": [
    {
     "name": "stdout",
     "output_type": "stream",
     "text": [
      "CONTRACT_ID = 90d06a8977ec4d5460ad50b95472b914ebb64d143e5466018ff2db319b78599c#1\n"
     ]
    }
   ],
   "source": [
    "CONTRACT_ID=$(\n",
    "marlowe create \\\n",
    "  --core-file deposit-1.contract \\\n",
    "  --min-utxo \"$MINIMUM_ADA\" \\\n",
    "  --change-address \"$PARTY_ADDR\" \\\n",
    "  --address \"$PARTY_ADDR\" \\\n",
    "  --manual-sign deposit-1.txbody \\\n",
    "| sed -e 's/^.*\"\\([^\\\\]*\\)\\\\.*$/\\1/' \\\n",
    ")\n",
    "echo \"CONTRACT_ID = $CONTRACT_ID\""
   ]
  },
  {
   "cell_type": "markdown",
   "id": "b31ec973-5b0f-4fb7-bdca-c266bd66fdc1",
   "metadata": {},
   "source": [
    "Sign the transaction."
   ]
  },
  {
   "cell_type": "code",
   "execution_count": 24,
   "id": "5d4c94bc-d747-47c6-be60-55656a3ee6ca",
   "metadata": {},
   "outputs": [],
   "source": [
    "cardano-cli transaction sign \\\n",
    "  --tx-body-file deposit-1.txbody \\\n",
    "  --out-file     deposit-1.tx \\\n",
    "  --signing-key-file \"$PARTY_SKEY\""
   ]
  },
  {
   "cell_type": "markdown",
   "id": "bebb0d27-0a99-4f3d-ab06-09b627ee514e",
   "metadata": {},
   "source": [
    "Submit the transaction using Marlowe Runtime."
   ]
  },
  {
   "cell_type": "code",
   "execution_count": 25,
   "id": "04ff93e3-b751-440a-b310-12ebe095401a",
   "metadata": {},
   "outputs": [
    {
     "name": "stdout",
     "output_type": "stream",
     "text": [
      "\"{\\\"blockHeaderHash\\\":\\\"c2f228091987027c6f33c3edc361f2e67b5953d1d0b00abd3ff495984f182107\\\",\\\"blockNo\\\":282058,\\\"slotNo\\\":6108743}\"\n"
     ]
    }
   ],
   "source": [
    "marlowe submit deposit-1.tx"
   ]
  },
  {
   "cell_type": "markdown",
   "id": "1bf9d006-26c4-49d9-9488-8d07021b043a",
   "metadata": {},
   "source": [
    "Watch the contract."
   ]
  },
  {
   "cell_type": "code",
   "execution_count": 26,
   "id": "0e4ceeb0-350f-464b-86ea-e36b98ec06ff",
   "metadata": {},
   "outputs": [
    {
     "name": "stdout",
     "output_type": "stream",
     "text": [
      "90d06a8977ec4d5460ad50b95472b914ebb64d143e5466018ff2db319b78599c#1\n"
     ]
    }
   ],
   "source": [
    "marlowe add \"$CONTRACT_ID\""
   ]
  },
  {
   "cell_type": "code",
   "execution_count": 27,
   "id": "f02d9dbb-91a5-4290-ac3b-0d32030cddff",
   "metadata": {},
   "outputs": [
    {
     "name": "stdout",
     "output_type": "stream",
     "text": [
      "\u001b[93mtransaction 90d06a8977ec4d5460ad50b95472b914ebb64d143e5466018ff2db319b78599c (creation)\n",
      "\u001b[0mContractId:      90d06a8977ec4d5460ad50b95472b914ebb64d143e5466018ff2db319b78599c#1\n",
      "SlotNo:          6108743\n",
      "BlockNo:         282058\n",
      "BlockId:         c2f228091987027c6f33c3edc361f2e67b5953d1d0b00abd3ff495984f182107\n",
      "ScriptAddress:   addr_test1wp4f8ywk4fg672xasahtk4t9k6w3aql943uxz5rt62d4dvqu3c6jv\n",
      "Marlowe Version: 1\n",
      "\n",
      "    When [\n",
      "      (Case\n",
      "         (Deposit Address \"addr_test1vqwt2xlr4d8yk4qws675exlqy6pdhq2s76wrehkjggkvr0cerfe8r\" Address \"addr_test1vqwt2xlr4d8yk4qws675exlqy6pdhq2s76wrehkjggkvr0cerfe8r\"\n",
      "            (Token \"\" \"\")\n",
      "            (NegValue\n",
      "               (NegValue\n",
      "                  (Constant 100000000))))\n",
      "         (Pay Address \"addr_test1vqwt2xlr4d8yk4qws675exlqy6pdhq2s76wrehkjggkvr0cerfe8r\"\n",
      "            (Party Address \"addr_test1vr7n0zzth5zycuh972w7rdmh48qur4f3wu6ntn2m2h30dlcvltuy5\")\n",
      "            (Token \"\" \"\")\n",
      "            (Constant 100000000)\n",
      "            (When [\n",
      "               (Case\n",
      "                  (Deposit Address \"addr_test1vr7n0zzth5zycuh972w7rdmh48qur4f3wu6ntn2m2h30dlcvltuy5\" Address \"addr_test1vr7n0zzth5zycuh972w7rdmh48qur4f3wu6ntn2m2h30dlcvltuy5\"\n",
      "                     (Token \"\" \"\")\n",
      "                     (Constant 2000000))\n",
      "                  (Pay Address \"addr_test1vr7n0zzth5zycuh972w7rdmh48qur4f3wu6ntn2m2h30dlcvltuy5\"\n",
      "                     (Party Address \"addr_test1vqwt2xlr4d8yk4qws675exlqy6pdhq2s76wrehkjggkvr0cerfe8r\")\n",
      "                     (Token \"\" \"\")\n",
      "                     (Constant 2000000)\n",
      "                     (When [\n",
      "                        (Case\n",
      "                           (Deposit Address \"addr_test1vr7n0zzth5zycuh972w7rdmh48qur4f3wu6ntn2m2h30dlcvltuy5\" Address \"addr_test1vr7n0zzth5zycuh972w7rdmh48qur4f3wu6ntn2m2h30dlcvltuy5\"\n",
      "                              (Token \"\" \"\")\n",
      "                              (Constant 100000000))\n",
      "                           (Pay Address \"addr_test1vr7n0zzth5zycuh972w7rdmh48qur4f3wu6ntn2m2h30dlcvltuy5\"\n",
      "                              (Party Address \"addr_test1vqwt2xlr4d8yk4qws675exlqy6pdhq2s76wrehkjggkvr0cerfe8r\")\n",
      "                              (Token \"\" \"\")\n",
      "                              (Constant 100000000) Close))] 1666112508000 Close)))] 1666112508000 Close)))] 1672531200000 Close\n",
      "\n"
     ]
    }
   ],
   "source": [
    "marlowe log --show-contract \"$CONTRACT_ID\""
   ]
  },
  {
   "cell_type": "markdown",
   "id": "b63f5847-141e-4378-96e2-5683f0c54e52",
   "metadata": {},
   "source": [
    "View the contract's UTxO."
   ]
  },
  {
   "cell_type": "code",
   "execution_count": 28,
   "id": "808a16fb-9133-4544-a60f-6e9fdf7f6cae",
   "metadata": {},
   "outputs": [
    {
     "name": "stdout",
     "output_type": "stream",
     "text": [
      "addr_test1wp4f8ywk4fg672xasahtk4t9k6w3aql943uxz5rt62d4dvqu3c6jv\n"
     ]
    }
   ],
   "source": [
    "CONTRACT_ADDRESS=$(marlowe-cli contract address)\n",
    "echo \"$CONTRACT_ADDRESS\""
   ]
  },
  {
   "cell_type": "code",
   "execution_count": 29,
   "id": "f9820b1e-590f-498d-b843-b258eaebf404",
   "metadata": {},
   "outputs": [
    {
     "name": "stdout",
     "output_type": "stream",
     "text": [
      "                           TxHash                                 TxIx        Amount\n",
      "--------------------------------------------------------------------------------------\n",
      "90d06a8977ec4d5460ad50b95472b914ebb64d143e5466018ff2db319b78599c     1        3000000 lovelace + TxOutDatumHash ScriptDataInBabbageEra \"57f9b63c79cfe84ff2df9bcab650fcf4dc0c58f96ec020512d41c4f2a7c73bdd\"\n"
     ]
    }
   ],
   "source": [
    "cardano-cli query utxo \"${MAGIC[@]}\" --address \"$CONTRACT_ADDRESS\" | sed -n -e \"1,2p;/${CONTRACT_ID//#*/}/p\""
   ]
  },
  {
   "cell_type": "markdown",
   "id": "018393a9-ce39-4071-8e41-82d58bc43348",
   "metadata": {},
   "source": [
    "### Transaction 2. Party deposits loan amount"
   ]
  },
  {
   "cell_type": "markdown",
   "id": "4cd1edf5-63cc-4d85-9b8b-21a80f2b1211",
   "metadata": {},
   "source": [
    "The party deposits the loan amount."
   ]
  },
  {
   "cell_type": "code",
   "execution_count": 30,
   "id": "fb0d9ee1-93a0-4db2-9107-d487199407fe",
   "metadata": {},
   "outputs": [
    {
     "name": "stdout",
     "output_type": "stream",
     "text": [
      "Tx client client failure\n",
      "marlowe: DeserializeError {message = \"not enough bytes\", offset = 0, unconsumedInput = \"\"}\n"
     ]
    },
    {
     "ename": "",
     "evalue": "1",
     "output_type": "error",
     "traceback": []
    }
   ],
   "source": [
    "marlowe deposit \\\n",
    "  --contract \"$CONTRACT_ID\" \\\n",
    "  --from-party \"$PARTY_ADDR\" \\\n",
    "  --to-party \"$PARTY_ADDR\" \\\n",
    "  --lovelace \"$((PRINCIPAL*FIXED_POINT))\" \\\n",
    "  --validity-lower-bound \"$((NOW-5*MINUTE))\" \\\n",
    "  --validity-upper-bound \"$((NOW+9*MINUTE))\" \\\n",
    "  --change-address \"$PARTY_ADDR\" \\\n",
    "  --address \"$PARTY_ADDR\" \\\n",
    "  --manual-sign deposit-2.txbody"
   ]
  },
  {
   "cell_type": "markdown",
   "id": "69118e42-4cd4-4ccc-97a9-b913349a7917",
   "metadata": {},
   "source": [
    "<span style=\"color:red;font-weight:bold\">It looks like we have a deserialization error.</span>"
   ]
  },
  {
   "cell_type": "markdown",
   "id": "10103e7a-c7f9-4123-98e0-cc365fd5782c",
   "metadata": {},
   "source": [
    "Sign the transaction."
   ]
  },
  {
   "cell_type": "code",
   "execution_count": null,
   "id": "89fa94a4-c73a-47e8-8d4e-f7184208bb28",
   "metadata": {},
   "outputs": [],
   "source": [
    "cardano-cli transaction sign \\\n",
    "  --tx-body-file deposit-2.txbody \\\n",
    "  --out-file     deposit-2.tx \\\n",
    "  --signing-key-file \"$PARTY_SKEY\""
   ]
  },
  {
   "cell_type": "markdown",
   "id": "4fc1597c-efbc-4765-bc6e-2fef522b3216",
   "metadata": {},
   "source": [
    "Submit the transaction using Marlowe Runtime."
   ]
  },
  {
   "cell_type": "code",
   "execution_count": null,
   "id": "6a09322f-a3c2-4537-bd95-8a9b8e646c7a",
   "metadata": {},
   "outputs": [],
   "source": [
    "marlowe submit deposit-2.tx"
   ]
  },
  {
   "cell_type": "code",
   "execution_count": null,
   "id": "4d92b92d-1098-43b6-b692-7fa226331ad9",
   "metadata": {},
   "outputs": [],
   "source": [
    "marlowe log --show-contract \"$CONTRACT_ID\""
   ]
  },
  {
   "cell_type": "markdown",
   "id": "6812513e-572e-4313-b9ca-276a0425af67",
   "metadata": {},
   "source": [
    "View the contract's UTxO."
   ]
  },
  {
   "cell_type": "code",
   "execution_count": null,
   "id": "9ce2b80f-e66d-446e-a287-47f8d5acc32e",
   "metadata": {},
   "outputs": [],
   "source": [
    "cardano-cli query utxo \"${MAGIC[@]}\" --address \"$CONTRACT_ADDRESS\" | sed -n -e \"1,2p;/${CONTRACT_ID//#*/}/p\""
   ]
  },
  {
   "cell_type": "markdown",
   "id": "180f4297-da9a-4586-b402-7bea959cde51",
   "metadata": {},
   "source": [
    "### Transaction 3. Counterparty repays the loan's interest"
   ]
  },
  {
   "cell_type": "markdown",
   "id": "921eea56-2cda-4a0f-9738-2af638900ace",
   "metadata": {},
   "source": [
    "The counterparty repays the interest."
   ]
  },
  {
   "cell_type": "code",
   "execution_count": null,
   "id": "aed96149-4bfa-435a-92eb-bc7edadb82ed",
   "metadata": {},
   "outputs": [],
   "source": [
    "marlowe deposit \\\n",
    "  --contract \"$CONTRACT_ID\" \\\n",
    "  --from-party \"$COUNTERPARTY_ADDR\" \\\n",
    "  --to-party \"$COUNTERPARTY_ADDR\" \\\n",
    "  --lovelace \"$((INTEREST*FIXED_POINT))\" \\\n",
    "  --validity-lower-bound \"$((NOW-5*MINUTE))\" \\\n",
    "  --validity-upper-bound \"$((NOW+9*MINUTE))\" \\\n",
    "  --change-address \"$COUNTERPARTY_ADDR\" \\\n",
    "  --address \"$COUNTERPARTY_ADDR\" \\\n",
    "  --manual-sign deposit-3.txbody"
   ]
  },
  {
   "cell_type": "markdown",
   "id": "c3e994e5-78ee-423f-9c93-16445a591bd5",
   "metadata": {},
   "source": [
    "Sign the transaction."
   ]
  },
  {
   "cell_type": "code",
   "execution_count": null,
   "id": "aab08869-94f9-42fb-a407-53d297f83545",
   "metadata": {},
   "outputs": [],
   "source": [
    "cardano-cli transaction sign \\\n",
    "  --tx-body-file deposit-3.txbody \\\n",
    "  --out-file     deposit-3.tx \\\n",
    "  --signing-key-file \"$COUNTERPARTY_SKEY\""
   ]
  },
  {
   "cell_type": "markdown",
   "id": "2ba52feb-ad4c-4e7c-abd3-77f92c84cfc9",
   "metadata": {},
   "source": [
    "Submit the transaction using Marlowe Runtime."
   ]
  },
  {
   "cell_type": "code",
   "execution_count": null,
   "id": "113b0b07-815d-4bd5-a971-a71536f236cd",
   "metadata": {},
   "outputs": [],
   "source": [
    "marlowe submit deposit-3.tx"
   ]
  },
  {
   "cell_type": "code",
   "execution_count": null,
   "id": "a8647aa8-eeb8-4f68-875d-f4ce702b60b2",
   "metadata": {},
   "outputs": [],
   "source": [
    "marlowe log --show-contract \"$CONTRACT_ID\""
   ]
  },
  {
   "cell_type": "markdown",
   "id": "0fcf12a4-55e7-418d-ba91-a0029d5259ac",
   "metadata": {},
   "source": [
    "View the contract's UTxO."
   ]
  },
  {
   "cell_type": "code",
   "execution_count": null,
   "id": "470693d6-f13f-42e7-9561-38aac765887d",
   "metadata": {},
   "outputs": [],
   "source": [
    "cardano-cli query utxo \"${MAGIC[@]}\" --address \"$CONTRACT_ADDRESS\" | sed -n -e \"1,2p;/${CONTRACT_ID//#*/}/p\""
   ]
  },
  {
   "cell_type": "markdown",
   "id": "7420647f-210f-4ec5-a77d-473eee9cb96d",
   "metadata": {},
   "source": [
    "### Transaction 4. Counterparty repays the loan's principal"
   ]
  },
  {
   "cell_type": "markdown",
   "id": "cc62efb7-f762-4684-9428-62d07589f129",
   "metadata": {},
   "source": [
    "The counterparty repays the principal."
   ]
  },
  {
   "cell_type": "code",
   "execution_count": null,
   "id": "a0f48feb-79b8-4ee7-b48c-238c6a1b2c97",
   "metadata": {},
   "outputs": [],
   "source": [
    "marlowe deposit \\\n",
    "  --contract \"$CONTRACT_ID\" \\\n",
    "  --from-party \"$COUNTERPARTY_ADDR\" \\\n",
    "  --to-party \"$COUNTERPARTY_ADDR\" \\\n",
    "  --lovelace \"$((PRINCIPAL*FIXED_POINT))\" \\\n",
    "  --validity-lower-bound \"$((NOW-5*MINUTE))\" \\\n",
    "  --validity-upper-bound \"$((NOW+9*MINUTE))\" \\\n",
    "  --change-address \"$COUNTERPARTY_ADDR\" \\\n",
    "  --address \"$COUNTERPARTY_ADDR\" \\\n",
    "  --manual-sign deposit-4.txbody"
   ]
  },
  {
   "cell_type": "markdown",
   "id": "425d1c71-c0f3-458f-86f3-dec0e1840ac2",
   "metadata": {},
   "source": [
    "Sign the transaction."
   ]
  },
  {
   "cell_type": "code",
   "execution_count": null,
   "id": "725ec119-acd8-40b5-acf1-e4600b58eff8",
   "metadata": {},
   "outputs": [],
   "source": [
    "cardano-cli transaction sign \\\n",
    "  --tx-body-file deposit-4.txbody \\\n",
    "  --out-file     deposit-4.tx \\\n",
    "  --signing-key-file \"$COUNTERPARTY_SKEY\""
   ]
  },
  {
   "cell_type": "markdown",
   "id": "47341232-b7a9-42f9-9a10-ddb688590f7c",
   "metadata": {},
   "source": [
    "Submit the transaction using Marlowe Runtime."
   ]
  },
  {
   "cell_type": "code",
   "execution_count": null,
   "id": "00354c05-0448-4c4f-b859-61c510b82ef8",
   "metadata": {},
   "outputs": [],
   "source": [
    "marlowe submit deposit-4.tx"
   ]
  },
  {
   "cell_type": "code",
   "execution_count": null,
   "id": "061386ac-c7b5-44f7-a0c9-5c51cd2ae36a",
   "metadata": {},
   "outputs": [],
   "source": [
    "marlowe log --show-contract \"$CONTRACT_ID\""
   ]
  },
  {
   "cell_type": "markdown",
   "id": "4920f032-d229-49f0-9d05-4e43d186fee9",
   "metadata": {},
   "source": [
    "View the contract's UTxO."
   ]
  },
  {
   "cell_type": "code",
   "execution_count": null,
   "id": "415aaf13-94f9-4453-89f0-6a710a38437b",
   "metadata": {},
   "outputs": [],
   "source": [
    "cardano-cli query utxo \"${MAGIC[@]}\" --address \"$CONTRACT_ADDRESS\" | sed -n -e \"1,2p;/${CONTRACT_ID//#*/}/p\""
   ]
  },
  {
   "cell_type": "markdown",
   "id": "c0ccaa90-d5d4-49b5-870c-d6429ed64ae0",
   "metadata": {},
   "source": [
    "## Cleanup"
   ]
  },
  {
   "cell_type": "markdown",
   "id": "86585e47-22db-46db-94a6-80b4a00b2147",
   "metadata": {},
   "source": [
    "Remove the contract from history tracking."
   ]
  },
  {
   "cell_type": "code",
   "execution_count": 31,
   "id": "eea2d290-46e0-4a5c-a587-f0dd4afda600",
   "metadata": {},
   "outputs": [
    {
     "name": "stdout",
     "output_type": "stream",
     "text": [
      "90d06a8977ec4d5460ad50b95472b914ebb64d143e5466018ff2db319b78599c#1\n"
     ]
    }
   ],
   "source": [
    "marlowe rm \"$CONTRACT_ID\""
   ]
  },
  {
   "cell_type": "code",
   "execution_count": 32,
   "id": "cca2e9c5-d78b-4207-b599-feca36afb4c6",
   "metadata": {},
   "outputs": [],
   "source": [
    "marlowe ls"
   ]
  },
  {
   "cell_type": "markdown",
   "id": "b6916f2a-426a-4c31-8499-610f83df1d7c",
   "metadata": {},
   "source": [
    "Consolidate the UTxOs at the addresses."
   ]
  },
  {
   "cell_type": "code",
   "execution_count": 33,
   "id": "303c1567-db4f-4659-a032-31706072ba15",
   "metadata": {},
   "outputs": [
    {
     "name": "stdout",
     "output_type": "stream",
     "text": [
      "TxId \"d50c427b5844f9debe61f6366d89ef8ef7133bbe52852d1d8aeace4d020f48c9\"\n"
     ]
    }
   ],
   "source": [
    "marlowe-cli util clean \\\n",
    "  --change-address \"$PARTY_ADDR\" \\\n",
    "  --required-signer \"$PARTY_SKEY\" \\\n",
    "  --out-file /dev/null \\\n",
    "  --submit 600"
   ]
  },
  {
   "cell_type": "code",
   "execution_count": 34,
   "id": "3084ac48-3e9f-4399-aba8-a5fa487006c0",
   "metadata": {},
   "outputs": [
    {
     "name": "stdout",
     "output_type": "stream",
     "text": [
      "TxId \"fd8a40b29ad3221b652df924c5b19f929bd1ddf79f0859c22420df6ac5868a7e\"\n"
     ]
    }
   ],
   "source": [
    "marlowe-cli util clean \\\n",
    "  --change-address \"$COUNTERPARTY_ADDR\" \\\n",
    "  --required-signer \"$COUNTERPARTY_SKEY\" \\\n",
    "  --out-file /dev/null \\\n",
    "  --submit 600"
   ]
  },
  {
   "cell_type": "markdown",
   "id": "5ddc612f-57ca-4e17-96f2-658baa3ef7e8",
   "metadata": {},
   "source": [
    "Send the funds back to the faucet."
   ]
  },
  {
   "cell_type": "code",
   "execution_count": 35,
   "id": "a300a576-a800-4fdd-9d45-bc6cc3c901a8",
   "metadata": {},
   "outputs": [
    {
     "name": "stdout",
     "output_type": "stream",
     "text": [
      "TxId \"81209f764efe87123af74a29b20d1ddd11f2d2ae03e971bd7f5d1e541144afd1\"\n"
     ]
    }
   ],
   "source": [
    "marlowe-cli transaction simple \\\n",
    "  --tx-in \"$(marlowe-cli util select --lovelace-only 1 \"$PARTY_ADDR\" | sed -n -e 's/^TxIn \"\\(.*\\)\" (TxIx \\(.*\\))$/\\1#\\2/;1p')\" \\\n",
    "  --tx-in \"$(marlowe-cli util select --lovelace-only 1 \"$COUNTERPARTY_ADDR\" | sed -n -e 's/^TxIn \"\\(.*\\)\" (TxIx \\(.*\\))$/\\1#\\2/;1p')\" \\\n",
    "  --required-signer \"$PARTY_SKEY\" \\\n",
    "  --required-signer \"$COUNTERPARTY_SKEY\" \\\n",
    "  --change-address \"$FAUCET_ADDR\" \\\n",
    "  --out-file /dev/null \\\n",
    "  --submit 600"
   ]
  },
  {
   "cell_type": "markdown",
   "id": "927fa5b5-92d2-4133-9a28-dcce900ee190",
   "metadata": {},
   "source": [
    "See that the funds have been returned to the faucet."
   ]
  },
  {
   "cell_type": "code",
   "execution_count": 36,
   "id": "9787b014",
   "metadata": {},
   "outputs": [
    {
     "name": "stdout",
     "output_type": "stream",
     "text": [
      "                           TxHash                                 TxIx        Amount\n",
      "--------------------------------------------------------------------------------------\n"
     ]
    }
   ],
   "source": [
    "cardano-cli query utxo \"${MAGIC[@]}\" --address \"$PARTY_ADDR\" --address \"$COUNTERPARTY_ADDR\""
   ]
  }
 ],
 "metadata": {
  "kernelspec": {
   "display_name": "Bash - Marlowe",
   "language": "bash",
   "name": "bash_marlowe"
  },
  "language_info": {
   "codemirror_mode": "shell",
   "file_extension": ".sh",
   "mimetype": "text/x-sh",
   "name": "/nix/store/2ispfz80kmwrsvwndxkxs56irn86h43p-bash-5.1-p16/bin/bash"
  }
 },
 "nbformat": 4,
 "nbformat_minor": 5
}
