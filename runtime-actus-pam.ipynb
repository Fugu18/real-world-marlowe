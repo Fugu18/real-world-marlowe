{
 "cells": [
  {
   "cell_type": "markdown",
   "id": "29ad9b87-6812-4d1b-888b-c255e9be9eae",
   "metadata": {},
   "source": [
    "<span style=\"color: red; font-weight: bold\">Use the following command to launch this notebook:</span>\n",
    "\n",
    "```bash\n",
    "cd marlowe-runtime/\n",
    "nix run ../marlowe-cli\n",
    "```"
   ]
  },
  {
   "cell_type": "markdown",
   "id": "ff12ef20-4800-40fc-bf1a-b48def801ee9",
   "metadata": {},
   "source": [
    "# Various Tests of Marlowe Runtime"
   ]
  },
  {
   "cell_type": "markdown",
   "id": "b4002252-fe9f-40e4-a371-d4d6b57316de",
   "metadata": {},
   "source": [
    "## Preliminaries"
   ]
  },
  {
   "cell_type": "markdown",
   "id": "dab2352b-0021-4998-9107-c5cc32d3734c",
   "metadata": {},
   "source": [
    "Record version numbers"
   ]
  },
  {
   "cell_type": "code",
   "execution_count": 7,
   "id": "4832053a-541d-4acd-a781-e7b31a3d28e1",
   "metadata": {},
   "outputs": [
    {
     "name": "stdout",
     "output_type": "stream",
     "text": [
      "marlowe-cli 0.0.9.0\n"
     ]
    }
   ],
   "source": [
    "marlowe-cli --version"
   ]
  },
  {
   "cell_type": "code",
   "execution_count": 8,
   "id": "b0a7bc1e-1009-45bb-bc74-3758b7a9fa83",
   "metadata": {},
   "outputs": [
    {
     "name": "stdout",
     "output_type": "stream",
     "text": [
      "Invalid option `--version'\n",
      "\n",
      "Usage: marlowe [--history-host HOST_NAME] [--history-command-port PORT_NUMBER] \n",
      "               [--history-query-port PORT_NUMBER] \n",
      "               [--history-sync-port PORT_NUMBER] [--discovery-host HOST_NAME] \n",
      "               [--discovery-query-port PORT_NUMBER] [--tx-host HOST_NAME] \n",
      "               [--tx-command-port PORT_NUMBER] (COMMAND | COMMAND | COMMAND)\n",
      "\n",
      "  Command line interface for managing Marlowe smart contracts on Cardano.\n"
     ]
    },
    {
     "ename": "",
     "evalue": "1",
     "output_type": "error",
     "traceback": []
    }
   ],
   "source": [
    "marlowe --version"
   ]
  },
  {
   "cell_type": "markdown",
   "id": "51dd89f6-1923-4a6e-afdd-ef2f73f39466",
   "metadata": {},
   "source": [
    "<span style=\"color: red; font-weight: bold\">It looks like <code>marlowe</code> doesn't support <code>--version</code>.</span>"
   ]
  },
  {
   "cell_type": "code",
   "execution_count": 9,
   "id": "e7651166-5c42-4a2b-8447-3407440f7b5a",
   "metadata": {},
   "outputs": [
    {
     "name": "stdout",
     "output_type": "stream",
     "text": [
      "cardano-cli 1.35.3 - linux-x86_64 - ghc-8.10\n",
      "git rev 0000000000000000000000000000000000000000\n"
     ]
    }
   ],
   "source": [
    "cardano-cli --version"
   ]
  },
  {
   "cell_type": "code",
   "execution_count": 10,
   "id": "0434d927-022f-41f6-b60f-091ebe85cfc4",
   "metadata": {},
   "outputs": [
    {
     "name": "stdout",
     "output_type": "stream",
     "text": [
      "1a4fa82b23df94a4c15d03c9fc30fc535b94aff4\n"
     ]
    }
   ],
   "source": [
    "git rev-parse HEAD"
   ]
  },
  {
   "cell_type": "markdown",
   "id": "9fb67751-bbb3-4e07-a9c7-b509502903c7",
   "metadata": {
    "tags": []
   },
   "source": [
    "### Setup the faucet."
   ]
  },
  {
   "cell_type": "markdown",
   "id": "4c1053b7-899c-4df1-94bc-626300568286",
   "metadata": {},
   "source": [
    "Set the location of keys."
   ]
  },
  {
   "cell_type": "code",
   "execution_count": 11,
   "id": "7eba74b8-fb39-4a07-9080-211d46f9132a",
   "metadata": {},
   "outputs": [],
   "source": [
    "TREASURY=/extra/iohk/networks/treasury"
   ]
  },
  {
   "cell_type": "markdown",
   "id": "d5caee3c-c91e-49b8-aeb2-84b3170128d6",
   "metadata": {},
   "source": [
    "Set the faucet."
   ]
  },
  {
   "cell_type": "code",
   "execution_count": 12,
   "id": "054727ec-d1d3-4fdd-811f-95561dc807c5",
   "metadata": {},
   "outputs": [
    {
     "name": "stdout",
     "output_type": "stream",
     "text": [
      "addr_test1vq9prvx8ufwutkwxx9cmmuuajaqmjqwujqlp9d8pvg6gupczgtm9j\n"
     ]
    }
   ],
   "source": [
    "FAUCET_SKEY=$TREASURY/payment.skey\n",
    "FAUCET_ADDR=$(cat $TREASURY/payment.testnet.address)\n",
    "echo \"$FAUCET_ADDR\""
   ]
  },
  {
   "cell_type": "markdown",
   "id": "2894720b-50a2-4830-9a5d-e65b8e7c7dad",
   "metadata": {},
   "source": [
    "### Select network"
   ]
  },
  {
   "cell_type": "code",
   "execution_count": 7,
   "id": "ced2a30e-b2ba-435a-9199-bcfa0d6a8cf4",
   "metadata": {},
   "outputs": [
    {
     "name": "stdout",
     "output_type": "stream",
     "text": [
      "--testnet-magic 2\n"
     ]
    }
   ],
   "source": [
    "#source configure.env\n",
    "echo \"${MAGIC[@]}\""
   ]
  },
  {
   "cell_type": "markdown",
   "id": "1d696336-1e80-4f2d-b484-49a4cc1595a1",
   "metadata": {},
   "source": [
    "### Time computations"
   ]
  },
  {
   "cell_type": "code",
   "execution_count": 13,
   "id": "15b80716-4545-4558-825f-9d0dda82f8d5",
   "metadata": {},
   "outputs": [],
   "source": [
    "SECOND=1000\n",
    "MINUTE=$((60 * SECOND))\n",
    "HOUR=$((60 * MINUTE))\n",
    "#DAY=$((24 * HOUR))"
   ]
  },
  {
   "cell_type": "code",
   "execution_count": 14,
   "id": "359b6f47-e0d1-4f84-8812-b96cfa361c2d",
   "metadata": {},
   "outputs": [
    {
     "name": "stdout",
     "output_type": "stream",
     "text": [
      "1665674005000\n"
     ]
    }
   ],
   "source": [
    "NOW=\"$(($(date -u +%s) * SECOND))\"\n",
    "echo \"$NOW\""
   ]
  },
  {
   "cell_type": "markdown",
   "id": "6649b7a2-3f9e-4dd4-bde7-11699c6bf27f",
   "metadata": {},
   "source": [
    "### Check that the reference script has been published"
   ]
  },
  {
   "cell_type": "markdown",
   "id": "8f88e700-a21f-4fd4-b785-35f39d767e49",
   "metadata": {},
   "source": [
    "Check that the Marlowe semantics validator was published."
   ]
  },
  {
   "cell_type": "code",
   "execution_count": 4,
   "id": "4998ccab-d20e-4ffb-884c-afdc7ba722d8",
   "metadata": {},
   "outputs": [],
   "source": [
    "export CARDANO_NODE_SOCKET_PATH=/tmp/preview.socket\n",
    "export CARDANO_TESTNET_MAGIC=2\n",
    "MAGIC=(--testnet-magic 2)"
   ]
  },
  {
   "cell_type": "code",
   "execution_count": 5,
   "id": "eb29caeb-c563-4e7d-922a-b5350642cc0f",
   "metadata": {},
   "outputs": [
    {
     "name": "stdout",
     "output_type": "stream",
     "text": [
      "\n",
      "Searching for reference script at address: addr_test1vrw0tuh8l95thdqr65dmpcfqnmcw0en7v7vhgegck7gzqgswa07sw\n",
      "\n",
      "Expected reference script hash: \"6a9391d6aa51af28dd876ebb5565b69d1e83e5ac7861506bd29b56b0\"\n",
      "\n",
      "Searching for reference script at address: addr_test1vpa36uuyf95kxpcleldsncedlhjru6vdmh2vnpkdrsz4u6cll9zas\n",
      "\n",
      "Expected reference script hash: \"49076eab20243dc9462511fb98a9cfb719f86e9692288139b7c91df3\"\n",
      "{\n",
      "    \"marlowe\": {\n",
      "        \"hash\": \"6a9391d6aa51af28dd876ebb5565b69d1e83e5ac7861506bd29b56b0\",\n",
      "        \"txIn\": \"087f21f109a997193421a81886ea8c6397d336d19e696457b9c5c7aefdc31873#1\"\n",
      "    },\n",
      "    \"payout\": {\n",
      "        \"hash\": \"49076eab20243dc9462511fb98a9cfb719f86e9692288139b7c91df3\",\n",
      "        \"txIn\": \"087f21f109a997193421a81886ea8c6397d336d19e696457b9c5c7aefdc31873#2\"\n",
      "    }\n",
      "}\n"
     ]
    }
   ],
   "source": [
    "marlowe-cli transaction find-published"
   ]
  },
  {
   "cell_type": "markdown",
   "id": "7ae0e907-2c31-4b85-926d-c62dc9cafc49",
   "metadata": {},
   "source": [
    "### Participants"
   ]
  },
  {
   "cell_type": "markdown",
   "id": "ea318fc6-f1dc-46a8-a4e7-83ee23a42ec3",
   "metadata": {},
   "source": [
    "#### The Party"
   ]
  },
  {
   "cell_type": "code",
   "execution_count": 15,
   "id": "009fed78-8410-4894-b904-d6ea92982d70",
   "metadata": {},
   "outputs": [],
   "source": [
    "PARTY_PREFIX=\"$TREASURY/john-fletcher\"\n",
    "PARTY_SKEY=\"$PARTY_PREFIX\".skey\n",
    "PARTY_VKEY=\"$PARTY_PREFIX\".vkey"
   ]
  },
  {
   "cell_type": "markdown",
   "id": "df56d582-919c-438f-986a-a9a3fffc40c7",
   "metadata": {},
   "source": [
    "Create the first party's keys, if necessary."
   ]
  },
  {
   "cell_type": "code",
   "execution_count": 16,
   "id": "0de60d98-b79e-43fc-8c7d-fd494c76390d",
   "metadata": {},
   "outputs": [
    {
     "name": "stdout",
     "output_type": "stream",
     "text": [
      "addr_test1vr9dd8p3svssr8k2g5kd2syq4ad40nz9370tclufhv7xsjsd8vqv2\n"
     ]
    }
   ],
   "source": [
    "if [[ ! -e \"$PARTY_SKEY\" ]]\n",
    "then\n",
    "  cardano-cli address key-gen --signing-key-file \"$PARTY_SKEY\"      \\\n",
    "                              --verification-key-file \"$PARTY_VKEY\"\n",
    "fi\n",
    "PARTY_ADDR=$(cardano-cli address build \"${MAGIC[@]}\" --payment-verification-key-file \"$PARTY_VKEY\")\n",
    "echo \"$PARTY_ADDR\""
   ]
  },
  {
   "cell_type": "markdown",
   "id": "17b4396a-a8ac-4976-bda4-968daaaa190e",
   "metadata": {},
   "source": [
    "Fund the address."
   ]
  },
  {
   "cell_type": "code",
   "execution_count": 17,
   "id": "ff90fa3f-1422-4632-abb7-19c5e5b5d2ed",
   "metadata": {},
   "outputs": [
    {
     "name": "stdout",
     "output_type": "stream",
     "text": [
      "TxId \"3736c6f87a02b68f48fbcacf4756913f94540412e166f2b5aa84d3f7674d5145\"\n"
     ]
    }
   ],
   "source": [
    "marlowe-cli util fund-address --out-file /dev/null \\\n",
    "                              --submit 600 \\\n",
    "                              --lovelace 250000000 \\\n",
    "                              --source-wallet-credentials \"$FAUCET_ADDR:$FAUCET_SKEY\" \\\n",
    "                              \"$PARTY_ADDR\""
   ]
  },
  {
   "cell_type": "markdown",
   "id": "beac2b0a-83c9-4f13-a1b2-d4ae12795bc7",
   "metadata": {},
   "source": [
    "#### The Counterparty"
   ]
  },
  {
   "cell_type": "code",
   "execution_count": 18,
   "id": "359d2b9b-9bc3-4688-9689-9ef2c69cd382",
   "metadata": {},
   "outputs": [],
   "source": [
    "COUNTERPARTY_PREFIX=\"$TREASURY/thomas-kyd\"\n",
    "COUNTERPARTY_SKEY=\"$COUNTERPARTY_PREFIX\".skey\n",
    "COUNTERPARTY_VKEY=\"$COUNTERPARTY_PREFIX\".vkey"
   ]
  },
  {
   "cell_type": "markdown",
   "id": "cc9ff64b-fc5b-4308-8b6c-9208985b3600",
   "metadata": {},
   "source": [
    "Create the second party's keys, if necessary."
   ]
  },
  {
   "cell_type": "code",
   "execution_count": 19,
   "id": "c4297420-6c47-4716-bbb3-c5bb0be2ef9a",
   "metadata": {},
   "outputs": [
    {
     "name": "stdout",
     "output_type": "stream",
     "text": [
      "addr_test1vr7n0zzth5zycuh972w7rdmh48qur4f3wu6ntn2m2h30dlcvltuy5\n"
     ]
    }
   ],
   "source": [
    "if [[ ! -e \"$COUNTERPARTY_SKEY\" ]]\n",
    "then\n",
    "  cardano-cli address key-gen --signing-key-file \"$COUNTERPARTY_SKEY\"      \\\n",
    "                              --verification-key-file \"$COUNTERPARTY_VKEY\"\n",
    "fi\n",
    "COUNTERPARTY_ADDR=$(cardano-cli address build \"${MAGIC[@]}\" --payment-verification-key-file \"$COUNTERPARTY_VKEY\")\n",
    "echo \"$COUNTERPARTY_ADDR\""
   ]
  },
  {
   "cell_type": "markdown",
   "id": "0556be66-9ca7-4e91-9c85-bd885311c611",
   "metadata": {},
   "source": [
    "Fund the address."
   ]
  },
  {
   "cell_type": "code",
   "execution_count": 20,
   "id": "77bc9000-d2e3-4996-a2ae-a7d0c625aa70",
   "metadata": {},
   "outputs": [
    {
     "name": "stdout",
     "output_type": "stream",
     "text": [
      "TxId \"caa30cb2710bb44eb13f54338388cfedddde316f18c984cf0634a033bb03d825\"\n"
     ]
    }
   ],
   "source": [
    "marlowe-cli util fund-address --out-file /dev/null \\\n",
    "                              --submit 600  \\\n",
    "                              --lovelace 250000000 \\\n",
    "                              --source-wallet-credentials \"$FAUCET_ADDR:$FAUCET_SKEY\" \\\n",
    "                              \"$COUNTERPARTY_ADDR\""
   ]
  },
  {
   "cell_type": "markdown",
   "id": "eb417b36-effb-4fc2-ae81-b7fce917aa7b",
   "metadata": {},
   "source": [
    "## The Contract"
   ]
  },
  {
   "cell_type": "markdown",
   "id": "b04afd25-7baa-46ef-b4e5-549402d14cd7",
   "metadata": {},
   "source": [
    "We set the parameters for the ACTUS PAM contract."
   ]
  },
  {
   "cell_type": "code",
   "execution_count": 21,
   "id": "c5845b3d-12cf-47f0-a53c-0da3e4fe89f2",
   "metadata": {
    "tags": []
   },
   "outputs": [],
   "source": [
    "MINIMUM_ADA=3000000\n",
    "\n",
    "FIXED_POINT=1000000\n",
    "PRINCIPAL=100\n",
    "INTEREST_RATE=0.02\n",
    "INTEREST=$(jq -n $PRINCIPAL*$INTEREST_RATE)\n",
    "\n",
    "STATUS_DATE=$(date -d \"$(date -u -R -d @$((NOW/1000)))\" +\"%Y-%m-%dT00:00:00\")\n",
    "INITIAL_EXCHANGE_DATE=$(date -d \"$(date -u -R -d @$((NOW/1000))) + 1 year\" +\"%Y-01-01T00:00:00\")\n",
    "MATURITY_DATE=$(date -d \"$(date -u -R -d @$((NOW/1000))) + 2 year\" +\"%Y-01-01T00:00:00\")\n",
    "\n",
    "#LENDING_DEADLINE=$((NOW+12*HOUR))\n",
    "#REPAYMENT_DEADLINE=$((NOW+24*HOUR))"
   ]
  },
  {
   "cell_type": "code",
   "execution_count": 22,
   "id": "ece6fd44-d1ea-44b6-a8e4-240c4549417c",
   "metadata": {},
   "outputs": [
    {
     "name": "stdout",
     "output_type": "stream",
     "text": [
      "{\"accruedInterest\":0,\"collateralAmount\":0,\"contractId\":\"0\",\"contractPerformance\":\"PF\",\"contractRole\":\"RPA\",\"contractType\":\"PAM\",\"cycleAnchorDateOfInterestPayment\":\"2023-01-01T00:00:00\",\"cycleOfInterestPayment\":\"P1YL1\",\"dayCountConvention\":\"30E360\",\"enableSettlement\":false,\"initialExchangeDate\":\"2023-01-01T00:00:00\",\"interestCalculationBase\":\"NT\",\"maturityDate\":\"2024-01-01T00:00:00\",\"nominalInterestRate\":0.02,\"notionalPrincipal\":100,\"penaltyType\":\"O\",\"prepaymentEffect\":\"N\",\"scheduleConfig\":{\"businessDayConvention\":\"NULL\",\"calendar\":\"NC\",\"endOfMonthConvention\":\"EOM\"},\"statusDate\":\"2022-10-13T00:00:00\"}\n"
     ]
    }
   ],
   "source": [
    "yaml2json << EOI > runtime-actus-pam.actus\n",
    "scheduleConfig:\n",
    "  businessDayConvention: \"NULL\"\n",
    "  endOfMonthConvention: \"EOM\"\n",
    "  calendar: \"NC\"\n",
    "maturityDate: \"$MATURITY_DATE\"\n",
    "contractId: \"0\"\n",
    "enableSettlement: false\n",
    "initialExchangeDate: \"$INITIAL_EXCHANGE_DATE\"\n",
    "contractRole: \"RPA\"\n",
    "penaltyType: \"O\"\n",
    "cycleAnchorDateOfInterestPayment: \"$INITIAL_EXCHANGE_DATE\"\n",
    "contractType: \"PAM\"\n",
    "notionalPrincipal: $PRINCIPAL\n",
    "contractPerformance: \"PF\"\n",
    "collateralAmount: 0\n",
    "dayCountConvention: \"30E360\"\n",
    "accruedInterest: 0\n",
    "statusDate: \"$STATUS_DATE\"\n",
    "cycleOfInterestPayment: \"P1YL1\"\n",
    "prepaymentEffect: \"N\"\n",
    "nominalInterestRate: $INTEREST_RATE\n",
    "interestCalculationBase: \"NT\"\n",
    "EOI\n",
    "cat runtime-actus-pam.actus"
   ]
  },
  {
   "cell_type": "markdown",
   "id": "d58d8071-9907-4d2c-b686-48139d7841ca",
   "metadata": {},
   "source": [
    "Create the contract and its initial state."
   ]
  },
  {
   "cell_type": "code",
   "execution_count": 23,
   "id": "028339ed-6d5e-4e71-9895-3a965a0252c9",
   "metadata": {},
   "outputs": [],
   "source": [
    "marlowe-cli template actus --minimum-ada \"$MINIMUM_ADA\" \\\n",
    "                           --party \"$PARTY_ADDR\" \\\n",
    "                           --counter-party \"$COUNTERPARTY_ADDR\" \\\n",
    "                           --actus-terms-file runtime-actus-pam.actus \\\n",
    "                           --out-contract-file runtime-actus-pam-1.contract \\\n",
    "                           --out-state-file    runtime-actus-pam-1.state"
   ]
  },
  {
   "cell_type": "markdown",
   "id": "cc6d76dd-d7f0-4a83-ad1e-affd955e98a6",
   "metadata": {},
   "source": [
    "View the contract."
   ]
  },
  {
   "cell_type": "code",
   "execution_count": 24,
   "id": "661bb16a-2739-4354-a796-bbaedf39f698",
   "metadata": {},
   "outputs": [
    {
     "name": "stdout",
     "output_type": "stream",
     "text": [
      "timeout: 1672531200000\n",
      "timeout_continuation: close\n",
      "when:\n",
      "- case:\n",
      "    deposits:\n",
      "      negate:\n",
      "        negate: 100000000\n",
      "    into_account:\n",
      "      address: addr_test1vr9dd8p3svssr8k2g5kd2syq4ad40nz9370tclufhv7xsjsd8vqv2\n",
      "    of_token:\n",
      "      currency_symbol: ''\n",
      "      token_name: ''\n",
      "    party:\n",
      "      address: addr_test1vr9dd8p3svssr8k2g5kd2syq4ad40nz9370tclufhv7xsjsd8vqv2\n",
      "  then:\n",
      "    from_account:\n",
      "      address: addr_test1vr9dd8p3svssr8k2g5kd2syq4ad40nz9370tclufhv7xsjsd8vqv2\n",
      "    pay: 100000000\n",
      "    then:\n",
      "      timeout: 1704067200000\n",
      "      timeout_continuation: close\n",
      "      when:\n",
      "      - case:\n",
      "          deposits: 2000000\n",
      "          into_account:\n",
      "            address: addr_test1vr7n0zzth5zycuh972w7rdmh48qur4f3wu6ntn2m2h30dlcvltuy5\n",
      "          of_token:\n",
      "            currency_symbol: ''\n",
      "            token_name: ''\n",
      "          party:\n",
      "            address: addr_test1vr7n0zzth5zycuh972w7rdmh48qur4f3wu6ntn2m2h30dlcvltuy5\n",
      "        then:\n",
      "          from_account:\n",
      "            address: addr_test1vr7n0zzth5zycuh972w7rdmh48qur4f3wu6ntn2m2h30dlcvltuy5\n",
      "          pay: 2000000\n",
      "          then:\n",
      "            timeout: 1704067200000\n",
      "            timeout_continuation: close\n",
      "            when:\n",
      "            - case:\n",
      "                deposits: 100000000\n",
      "                into_account:\n",
      "                  address: addr_test1vr7n0zzth5zycuh972w7rdmh48qur4f3wu6ntn2m2h30dlcvltuy5\n",
      "                of_token:\n",
      "                  currency_symbol: ''\n",
      "                  token_name: ''\n",
      "                party:\n",
      "                  address: addr_test1vr7n0zzth5zycuh972w7rdmh48qur4f3wu6ntn2m2h30dlcvltuy5\n",
      "              then:\n",
      "                from_account:\n",
      "                  address: addr_test1vr7n0zzth5zycuh972w7rdmh48qur4f3wu6ntn2m2h30dlcvltuy5\n",
      "                pay: 100000000\n",
      "                then: close\n",
      "                to:\n",
      "                  party:\n",
      "                    address: addr_test1vr9dd8p3svssr8k2g5kd2syq4ad40nz9370tclufhv7xsjsd8vqv2\n",
      "                token:\n",
      "                  currency_symbol: ''\n",
      "                  token_name: ''\n",
      "          to:\n",
      "            party:\n",
      "              address: addr_test1vr9dd8p3svssr8k2g5kd2syq4ad40nz9370tclufhv7xsjsd8vqv2\n",
      "          token:\n",
      "            currency_symbol: ''\n",
      "            token_name: ''\n",
      "    to:\n",
      "      party:\n",
      "        address: addr_test1vr7n0zzth5zycuh972w7rdmh48qur4f3wu6ntn2m2h30dlcvltuy5\n",
      "    token:\n",
      "      currency_symbol: ''\n",
      "      token_name: ''\n"
     ]
    }
   ],
   "source": [
    "json2yaml runtime-actus-pam-1.contract"
   ]
  },
  {
   "cell_type": "markdown",
   "id": "03fd3d25-82b7-4cb0-a2ac-07be12ec5147",
   "metadata": {},
   "source": [
    "View the initial state."
   ]
  },
  {
   "cell_type": "code",
   "execution_count": 25,
   "id": "06aaed6b-3916-4ea5-8a1b-40c58cbe1aea",
   "metadata": {},
   "outputs": [
    {
     "name": "stdout",
     "output_type": "stream",
     "text": [
      "accounts:\n",
      "- - - address: addr_test1vr9dd8p3svssr8k2g5kd2syq4ad40nz9370tclufhv7xsjsd8vqv2\n",
      "    - currency_symbol: ''\n",
      "      token_name: ''\n",
      "  - 3000000\n",
      "boundValues: []\n",
      "choices: []\n",
      "minTime: 1\n"
     ]
    }
   ],
   "source": [
    "json2yaml runtime-actus-pam-1.state"
   ]
  },
  {
   "cell_type": "markdown",
   "id": "a1548c6e-3288-4a7e-90f4-6439edeb22ca",
   "metadata": {},
   "source": [
    "## Create two transactions so that they can be viewed by Marlowe History"
   ]
  },
  {
   "cell_type": "markdown",
   "id": "f2eb9ff2-86b8-437e-aa04-a1a38cebea9a",
   "metadata": {},
   "source": [
    "### Transaction 1. Create the ontract"
   ]
  },
  {
   "cell_type": "markdown",
   "id": "8bb180fb-1d68-4501-9b32-d7f69104de6d",
   "metadata": {},
   "source": [
    "First we create a `.marlowe` file that contains the initial information needed to run the contract."
   ]
  },
  {
   "cell_type": "code",
   "execution_count": 26,
   "id": "a7641e72-ff1b-45c2-9552-021963aee59b",
   "metadata": {},
   "outputs": [
    {
     "name": "stdout",
     "output_type": "stream",
     "text": [
      "\n",
      "Validator size: 12505\n",
      "Base-validator cost: ExBudget {exBudgetCPU = ExCPU 18515100, exBudgetMemory = ExMemory 80600}\n"
     ]
    }
   ],
   "source": [
    "marlowe-cli run initialize --contract-file runtime-actus-pam-1.contract \\\n",
    "                           --state-file    runtime-actus-pam-1.state    \\\n",
    "                           --out-file      runtime-actus-pam-1.marlowe  \\\n",
    "                           --print-stats"
   ]
  },
  {
   "cell_type": "markdown",
   "id": "ab570c22-0af1-4168-9269-ebefce6bfa6d",
   "metadata": {},
   "source": [
    "Submit the transaction."
   ]
  },
  {
   "cell_type": "code",
   "execution_count": 30,
   "id": "33d55ddb-7ca9-455b-b369-1f26628e6aaf",
   "metadata": {},
   "outputs": [
    {
     "name": "stdout",
     "output_type": "stream",
     "text": [
      "\n",
      "Fee: Lovelace 220457\n",
      "Size: 1133 / 16384 = 6%\n",
      "Execution units:\n",
      "  Memory: 0 / 14000000 = 0%\n",
      "  Steps: 0 / 10000000000 = 0%\n",
      "TX_1 = 3112b7de5b84bd2af6e57a4d2cbc78b1a693e2981ac2b097a248c320f3eaf246\n"
     ]
    }
   ],
   "source": [
    "TX_1=$(\n",
    "marlowe-cli run auto-execute --marlowe-out-file runtime-actus-pam-1.marlowe \\\n",
    "                             --required-signer \"$PARTY_SKEY\" \\\n",
    "                             --change-address \"$PARTY_ADDR\" \\\n",
    "                             --out-file runtime-actus-pam-1.raw \\\n",
    "                             --print-stats \\\n",
    "                             --submit 600 \\\n",
    "| sed -e 's/^TxId \"\\(.*\\)\"$/\\1/'\n",
    ")\n",
    "echo \"TX_1 = $TX_1\""
   ]
  },
  {
   "cell_type": "markdown",
   "id": "58a521fc-0b0a-4d3e-b876-017c07a1fed3",
   "metadata": {},
   "source": [
    "The contract is identified by its first UTxO."
   ]
  },
  {
   "cell_type": "code",
   "execution_count": 31,
   "id": "4197b5e8-1287-4130-b636-cf2886ebb807",
   "metadata": {},
   "outputs": [
    {
     "name": "stdout",
     "output_type": "stream",
     "text": [
      "3112b7de5b84bd2af6e57a4d2cbc78b1a693e2981ac2b097a248c320f3eaf246#1\n"
     ]
    }
   ],
   "source": [
    "CONTRACT_ID=\"$TX_1#1\"\n",
    "echo \"$CONTRACT_ID\""
   ]
  },
  {
   "cell_type": "markdown",
   "id": "bc569ff3-a5b4-4d9f-b12f-1d51a250be64",
   "metadata": {},
   "source": [
    "### Transaction 2. Party deposits loan amount"
   ]
  },
  {
   "cell_type": "code",
   "execution_count": 32,
   "id": "5846a386-c8bb-461b-b361-485cc1aaf0d2",
   "metadata": {},
   "outputs": [
    {
     "name": "stdout",
     "output_type": "stream",
     "text": [
      "Rounding  `TransactionInput` txInterval boundries to:(POSIXTime {getPOSIXTime = 1665673705000},POSIXTime {getPOSIXTime = 1665677605999})\n",
      "TransactionInput {txInterval = (POSIXTime {getPOSIXTime = 1665673705000},POSIXTime {getPOSIXTime = 1665677605999}), txInputs = [NormalInput (IDeposit \"\\\"addr_test1vr9dd8p3svssr8k2g5kd2syq4ad40nz9370tclufhv7xsjsd8vqv2\\\"\" \"\\\"addr_test1vr9dd8p3svssr8k2g5kd2syq4ad40nz9370tclufhv7xsjsd8vqv2\\\"\" (Token \"\" \"\") 100000000)]}\n",
      "\n",
      "Datum size: 605\n",
      "Payment 1\n",
      "  Acccount: \"\\\"addr_test1vr9dd8p3svssr8k2g5kd2syq4ad40nz9370tclufhv7xsjsd8vqv2\\\"\"\n",
      "  Payee: Party \"\\\"addr_test1vr7n0zzth5zycuh972w7rdmh48qur4f3wu6ntn2m2h30dlcvltuy5\\\"\"\n",
      "  Ada: Lovelace {getLovelace = 100000000}\n"
     ]
    }
   ],
   "source": [
    "marlowe-cli run prepare --marlowe-file runtime-actus-pam-1.marlowe \\\n",
    "                        --out-file     runtime-actus-pam-2.marlowe \\\n",
    "                        --deposit-account \"$PARTY_ADDR\" \\\n",
    "                        --deposit-party \"$PARTY_ADDR\" \\\n",
    "                        --deposit-amount \"$((PRINCIPAL*FIXED_POINT))\" \\\n",
    "                        --invalid-before \"$((NOW - 5 * MINUTE))\" \\\n",
    "                        --invalid-hereafter \"$((NOW + 1 * HOUR))\" \\\n",
    "                        --print-stats"
   ]
  },
  {
   "cell_type": "markdown",
   "id": "16457c4c-9940-4635-8b45-1d8b87bf5c9b",
   "metadata": {},
   "source": [
    "Submit the transaction."
   ]
  },
  {
   "cell_type": "code",
   "execution_count": 33,
   "id": "1dae52e2-8fb0-4f14-a5ae-a4fc03fe7d7d",
   "metadata": {},
   "outputs": [
    {
     "name": "stdout",
     "output_type": "stream",
     "text": [
      "\n",
      "Fee: Lovelace 1294779\n",
      "Size: 14464 / 16384 = 88%\n",
      "Execution units:\n",
      "  Memory: 6287250 / 14000000 = 44%\n",
      "  Steps: 1732252213 / 10000000000 = 17%\n",
      "TX_2 = 4a59aeb4876c8972c9f7125d70a96da37ea061c01430998d9f93108fd17907dc\n"
     ]
    }
   ],
   "source": [
    "TX_2=$(\n",
    "marlowe-cli run auto-execute --tx-in-marlowe \"$TX_1#1\" \\\n",
    "                             --marlowe-in-file  runtime-actus-pam-1.marlowe \\\n",
    "                             --marlowe-out-file runtime-actus-pam-2.marlowe \\\n",
    "                             --required-signer \"$PARTY_SKEY\" \\\n",
    "                             --change-address \"$PARTY_ADDR\" \\\n",
    "                             --out-file runtime-actus-pam-2.raw \\\n",
    "                             --print-stats \\\n",
    "                             --submit 600 \\\n",
    "| sed -e 's/^TxId \"\\(.*\\)\"$/\\1/'\n",
    ")\n",
    "echo \"TX_2 = $TX_2\""
   ]
  },
  {
   "cell_type": "markdown",
   "id": "ec20a8d3-3aa7-43d3-9e65-8d4495bc7eac",
   "metadata": {},
   "source": [
    "See if we could have submitted the transaction via Marlowe Runtime."
   ]
  },
  {
   "cell_type": "code",
   "execution_count": 34,
   "id": "272b61bb-008c-48f7-810d-b32dc90c5d9e",
   "metadata": {},
   "outputs": [],
   "source": [
    "cardano-cli transaction sign --tx-body-file  runtime-actus-pam-2.raw \\\n",
    "  --signing-key-file \"$PARTY_SKEY\" --out-file runtime-actus-pam-2.signed"
   ]
  },
  {
   "cell_type": "code",
   "execution_count": 36,
   "id": "6288528f-a670-446c-99f2-79bbc85ea275",
   "metadata": {},
   "outputs": [
    {
     "name": "stdout",
     "output_type": "stream",
     "text": [
      "recvMsgFailed\n",
      "SubmitFailed \"TxValidationErrorInMode (ShelleyTxValidationError ShelleyBasedEraBabbage (ApplyTxError [UtxowFailure (FromAlonzoUtxowFail (WrappedShelleyEraFailure (ExtraneousScriptWitnessesUTXOW (fromList [ScriptHash \\\"6a9391d6aa51af28dd876ebb5565b69d1e83e5ac7861506bd29b56b0\\\"])))),UtxowFailure (FromAlonzoUtxowFail (NonOutputSupplimentaryDatums (fromList [SafeHash \\\"94741cba385c77a6bb2feaa5472c4e87fe3f753064710639085127b382a5b828\\\"]) (fromList [SafeHash \\\"dab612860b36388b35ab5c6fd205c65d81812450e14e18487bf7e06ed640f4dc\\\"]))),UtxowFailure (FromAlonzoUtxowFail (ExtraRedeemers [RdmrPtr Spend 1])),UtxowFailure (FromAlonzoUtxowFail (PPViewHashesDontMatch (SJust (SafeHash \\\"ccb07709628698071b7dcdf587bda7775942b0a29274c4c7c77fdbf5fbf05a75\\\")) (SJust (SafeHash \\\"4f555d3c02c9e4d8c5cad721a07805fbfb399765069abf092a168ce95033d76e\\\")))),UtxowFailure (UtxoFailure (FromAlonzoUtxoFail (ValueNotConservedUTxO (Value 0 (fromList [])) (Value 249779543 (fromList []))))),UtxowFailure (UtxoFailure (FromAlonzoUtxoFail (BadInputsUTxO (fromList [TxIn (TxId {_unTxId = SafeHash \\\"3112b7de5b84bd2af6e57a4d2cbc78b1a693e2981ac2b097a248c320f3eaf246\\\"}) (TxIx 0),TxIn (TxId {_unTxId = SafeHash \\\"3112b7de5b84bd2af6e57a4d2cbc78b1a693e2981ac2b097a248c320f3eaf246\\\"}) (TxIx 1)])))),UtxowFailure (UtxoFailure (FromAlonzoUtxoFail NoCollateralInputs)),UtxowFailure (UtxoFailure (FromAlonzoUtxoFail (InsufficientCollateral (Coin 0) (Coin 1942169))))])) BabbageEraInCardanoMode\"\n",
      "SubmitFailed (SubmitFailed \"TxValidationErrorInMode (ShelleyTxValidationError ShelleyBasedEraBabbage (ApplyTxError [UtxowFailure (FromAlonzoUtxowFail (WrappedShelleyEraFailure (ExtraneousScriptWitnessesUTXOW (fromList [ScriptHash \\\"6a9391d6aa51af28dd876ebb5565b69d1e83e5ac7861506bd29b56b0\\\"])))),UtxowFailure (FromAlonzoUtxowFail (NonOutputSupplimentaryDatums (fromList [SafeHash \\\"94741cba385c77a6bb2feaa5472c4e87fe3f753064710639085127b382a5b828\\\"]) (fromList [SafeHash \\\"dab612860b36388b35ab5c6fd205c65d81812450e14e18487bf7e06ed640f4dc\\\"]))),UtxowFailure (FromAlonzoUtxowFail (ExtraRedeemers [RdmrPtr Spend 1])),UtxowFailure (FromAlonzoUtxowFail (PPViewHashesDontMatch (SJust (SafeHash \\\"ccb07709628698071b7dcdf587bda7775942b0a29274c4c7c77fdbf5fbf05a75\\\")) (SJust (SafeHash \\\"4f555d3c02c9e4d8c5cad721a07805fbfb399765069abf092a168ce95033d76e\\\")))),UtxowFailure (UtxoFailure (FromAlonzoUtxoFail (ValueNotConservedUTxO (Value 0 (fromList [])) (Value 249779543 (fromList []))))),UtxowFailure (UtxoFailure (FromAlonzoUtxoFail (BadInputsUTxO (fromList [TxIn (TxId {_unTxId = SafeHash \\\"3112b7de5b84bd2af6e57a4d2cbc78b1a693e2981ac2b097a248c320f3eaf246\\\"}) (TxIx 0),TxIn (TxId {_unTxId = SafeHash \\\"3112b7de5b84bd2af6e57a4d2cbc78b1a693e2981ac2b097a248c320f3eaf246\\\"}) (TxIx 1)])))),UtxowFailure (UtxoFailure (FromAlonzoUtxoFail NoCollateralInputs)),UtxowFailure (UtxoFailure (FromAlonzoUtxoFail (InsufficientCollateral (Coin 0) (Coin 1942169))))])) BabbageEraInCardanoMode\")\n"
     ]
    },
    {
     "ename": "",
     "evalue": "1",
     "output_type": "error",
     "traceback": []
    }
   ],
   "source": [
    "marlowe submit runtime-actus-pam-2.signed"
   ]
  },
  {
   "cell_type": "markdown",
   "id": "66893f14-30c7-4305-b3d7-ebd96fc5a10d",
   "metadata": {},
   "source": [
    "## Contract history commands"
   ]
  },
  {
   "cell_type": "markdown",
   "id": "65261468-988b-4049-b149-b65f98a26566",
   "metadata": {},
   "source": [
    "### Add the contract to Marlowe History"
   ]
  },
  {
   "cell_type": "code",
   "execution_count": 37,
   "id": "f6ee3cec-4a20-4b1d-9d2f-85518864b6e9",
   "metadata": {},
   "outputs": [
    {
     "name": "stdout",
     "output_type": "stream",
     "text": [
      "3112b7de5b84bd2af6e57a4d2cbc78b1a693e2981ac2b097a248c320f3eaf246#1\n"
     ]
    }
   ],
   "source": [
    "marlowe add \"$CONTRACT_ID\""
   ]
  },
  {
   "cell_type": "markdown",
   "id": "5bb96a99-d98a-4352-a4e8-f2055e3ada73",
   "metadata": {},
   "source": [
    "### List the contracts managed by Marlowe History"
   ]
  },
  {
   "cell_type": "code",
   "execution_count": 38,
   "id": "fd42f30f-f75e-4823-bf2f-4b8b9d4eb4ea",
   "metadata": {},
   "outputs": [
    {
     "name": "stdout",
     "output_type": "stream",
     "text": [
      "3112b7de5b84bd2af6e57a4d2cbc78b1a693e2981ac2b097a248c320f3eaf246#1 Status: Waiting (SomeMarloweVersion MarloweV1)\n"
     ]
    }
   ],
   "source": [
    "marlowe ls --show-status"
   ]
  },
  {
   "cell_type": "markdown",
   "id": "4dc22231-b3f1-4666-8e2d-782645caf5de",
   "metadata": {},
   "source": [
    "### Check removal of the contract from Marlowe History"
   ]
  },
  {
   "cell_type": "markdown",
   "id": "ec03cc55-3afa-4e2d-bc32-c4ca3efd4310",
   "metadata": {},
   "source": [
    "Remove it."
   ]
  },
  {
   "cell_type": "code",
   "execution_count": 39,
   "id": "7cfcb75a-71f4-4722-a711-8d33b3ca7020",
   "metadata": {},
   "outputs": [
    {
     "name": "stdout",
     "output_type": "stream",
     "text": [
      "3112b7de5b84bd2af6e57a4d2cbc78b1a693e2981ac2b097a248c320f3eaf246#1\n"
     ]
    }
   ],
   "source": [
    "marlowe rm \"$CONTRACT_ID\""
   ]
  },
  {
   "cell_type": "markdown",
   "id": "64995be9-dc16-49d7-bddb-1fd5c6975fa7",
   "metadata": {},
   "source": [
    "See that it has been removed."
   ]
  },
  {
   "cell_type": "code",
   "execution_count": 40,
   "id": "860f4865-c334-466b-bf96-43c5f137ea8e",
   "metadata": {},
   "outputs": [],
   "source": [
    "marlowe ls"
   ]
  },
  {
   "cell_type": "markdown",
   "id": "3bc8ac4f-cbea-42b1-8d3c-3fe098f57b56",
   "metadata": {},
   "source": [
    "Add it back."
   ]
  },
  {
   "cell_type": "code",
   "execution_count": 41,
   "id": "d9891b90-7964-4515-8271-848c5d924f79",
   "metadata": {},
   "outputs": [
    {
     "name": "stdout",
     "output_type": "stream",
     "text": [
      "3112b7de5b84bd2af6e57a4d2cbc78b1a693e2981ac2b097a248c320f3eaf246#1\n"
     ]
    }
   ],
   "source": [
    "marlowe add \"$CONTRACT_ID\""
   ]
  },
  {
   "cell_type": "code",
   "execution_count": 42,
   "id": "045b644b-dd0e-467a-bdb1-831f01323256",
   "metadata": {},
   "outputs": [
    {
     "name": "stdout",
     "output_type": "stream",
     "text": [
      "3112b7de5b84bd2af6e57a4d2cbc78b1a693e2981ac2b097a248c320f3eaf246#1\n"
     ]
    }
   ],
   "source": [
    "marlowe ls"
   ]
  },
  {
   "cell_type": "markdown",
   "id": "2172ae34-3a03-43a9-bc8c-9332c50087ba",
   "metadata": {
    "tags": []
   },
   "source": [
    "### List all Marlowe contracts"
   ]
  },
  {
   "cell_type": "code",
   "execution_count": 44,
   "id": "619aaf85-f10c-4757-80a1-a02d7d423fcf",
   "metadata": {},
   "outputs": [
    {
     "name": "stdout",
     "output_type": "stream",
     "text": [
      "227\n"
     ]
    }
   ],
   "source": [
    "marlowe ls --all --show-status | wc -l"
   ]
  },
  {
   "cell_type": "code",
   "execution_count": 43,
   "id": "46570f0e-2d7e-466f-85a2-c325dbd66f5f",
   "metadata": {},
   "outputs": [
    {
     "name": "stdout",
     "output_type": "stream",
     "text": [
      "02811e36c6cdac4721b53f718c4a1406e09ef0d985f9ad6b7fd676769e2f866c#1 Status: not added\n",
      "045d4ac6f50c57cade58fd697b907ff0418637ba1eadb36392e04d1c5d489b21#1 Status: not added\n",
      "0552fc00860d35d45c09b4b43740193579adbeea5097cf33b62201332e3095ee#1 Status: not added\n",
      "05574d9d1935d2a5d2e3cb15e79d46b076e4c81d85bd2e12940ed47b628001be#1 Status: not added\n",
      "05990678496287262051fc831ff35903e383ffc564b943de76e78394a8ceb4cd#1 Status: not added\n",
      "061d29872aae0580496aecc8bed3a7a11d743c55d24f6d2c5c03c630cf89e899#1 Status: not added\n",
      "066727dc5d40a6df33bb88dea3d29a9c1bb9b68493870ef9a04d6cbffe11e21b#1 Status: not added\n",
      "06718671646f66d1818fce1d2532a3bb2050a42df164c71c3306f9c67ba6f1ab#1 Status: not added\n",
      "06ddf0488df24a26882abf9546a8d314994b768465246172f8b4492e8a820162#1 Status: not added\n",
      "072b7513bfae663c993d21977e6b1c2231a6fb389d09595a1e3d4ee517b5a6ed#1 Status: not added\n",
      "07475c7a0206e0ec98e52c6891bfa5cda2e65b814f08f66f19a7d9958af989ad#1 Status: not added\n",
      "0b25d59061a5748f0aef14b5a4e8829f0a4940a7aa988325bfd197584de2da58#1 Status: not added\n",
      "0bbc2b1fabb43baf6830582343982aec12592cf8bf42a04c00369ce79894b1a0#1 Status: not added\n",
      "0c0d8100d3164e9f3627dfcb375b9617a8fd8df5034e78c0e0067c1441751030#1 Status: not added\n",
      "0def32f2c70f3031f9447e054e2b81acefe67d73d64c2be5686ee18f81bb4f19#1 Status: not added\n",
      "0e12d576f72b0ec0252df5414c6e8929ddc6150cb3e350ed504246694920222b#1 Status: not added\n",
      "112f4cd7981ef5a45cb1d3fb2233d083e97948120ae953a9af35bd3a851507c1#1 Status: not added\n",
      "1145b7ecb2ea4b2cd1237d51763bef3990daade1a967cdf54fce70adf35a82ed#1 Status: not added\n",
      "12e569d98c2fe014fbb6e0dcd83d063b0870bb84c2d139f37c472dfbf1800c46#1 Status: not added\n",
      "16175f68cfc843e1b2ce5d012059b36956ae93c131e81879984516ca3045a122#1 Status: not added\n",
      "Marlowe discovery query client failure\n"
     ]
    }
   ],
   "source": [
    "marlowe ls --all --show-status | head -n 20"
   ]
  },
  {
   "cell_type": "markdown",
   "id": "a0df3d7a-593f-461b-bffb-7f521f289212",
   "metadata": {},
   "source": [
    "### See if there are any failed contracts"
   ]
  },
  {
   "cell_type": "code",
   "execution_count": 45,
   "id": "4ca2dc46-e332-4ed3-884e-78bf8586708b",
   "metadata": {},
   "outputs": [],
   "source": [
    "marlowe ls --all > all.tmp\n",
    "marlowe ls --all --show-failed > failed.tmp\n",
    "diff all.tmp failed.tmp"
   ]
  },
  {
   "cell_type": "markdown",
   "id": "b4db26db-cb9d-4eed-90e1-5a28052d5c16",
   "metadata": {},
   "source": [
    "<span style=\"color: red; font-weight: bold\">I think that <code>--show-failed</code> should <em>only</em> show the failed contracts, not all of them.</span>"
   ]
  },
  {
   "cell_type": "markdown",
   "id": "88785b2e-952b-4b05-9008-d32e40b8457a",
   "metadata": {},
   "source": [
    "### View the basic information about the contract"
   ]
  },
  {
   "cell_type": "code",
   "execution_count": 46,
   "id": "f5dc8481-b813-46ba-bc4f-bdd36915875a",
   "metadata": {},
   "outputs": [
    {
     "name": "stdout",
     "output_type": "stream",
     "text": [
      "\u001b[93mtransaction 3112b7de5b84bd2af6e57a4d2cbc78b1a693e2981ac2b097a248c320f3eaf246 (creation)\n",
      "\u001b[0mContractId:      3112b7de5b84bd2af6e57a4d2cbc78b1a693e2981ac2b097a248c320f3eaf246#1\n",
      "SlotNo:          5671324\n",
      "BlockNo:         261181\n",
      "BlockId:         4fff144e296fc37bbe73b394340d963f7ac7cfbd96e57c75b72399006c811f97\n",
      "ScriptAddress:   addr_test1wp4f8ywk4fg672xasahtk4t9k6w3aql943uxz5rt62d4dvqu3c6jv\n",
      "Marlowe Version: 1\n",
      "\n",
      "\n",
      "\n",
      "\u001b[93mtransaction 4a59aeb4876c8972c9f7125d70a96da37ea061c01430998d9f93108fd17907dc\n",
      "\u001b[0mContractId: 3112b7de5b84bd2af6e57a4d2cbc78b1a693e2981ac2b097a248c320f3eaf246#1\n",
      "SlotNo:     5671346\n",
      "BlockNo:    261183\n",
      "BlockId:    4f99a3ce9bf8850a6bc9c460fb213e66331d6c79105b87127d49c0148d1cadbb\n",
      "Inputs:     [NormalInput (IDeposit \"\\\"addr_test1vr9dd8p3svssr8k2g5kd2syq4ad40nz9370tclufhv7xsjsd8vqv2\\\"\" \"\\\"addr_test1vr9dd8p3svssr8k2g5kd2syq4ad40nz9370tclufhv7xsjsd8vqv2\\\"\" (Token \"\" \"\") 100000000)]\n",
      "\n",
      "\n"
     ]
    }
   ],
   "source": [
    "marlowe log \"$CONTRACT_ID\""
   ]
  },
  {
   "cell_type": "markdown",
   "id": "7f589113-bb2d-4338-8fb1-235a82450aca",
   "metadata": {},
   "source": [
    "<span style=\"color: red; font-weight: bold\">I think that <code>marlowe log</code> should print something parseable like YAML.</span>"
   ]
  },
  {
   "cell_type": "markdown",
   "id": "4d7a5e1a-2e59-44d0-afe8-11038b8c8447",
   "metadata": {},
   "source": [
    "### View the contract itself"
   ]
  },
  {
   "cell_type": "code",
   "execution_count": 47,
   "id": "ff7e4028-806e-4eef-8eb9-354668ab6358",
   "metadata": {},
   "outputs": [
    {
     "name": "stdout",
     "output_type": "stream",
     "text": [
      "\u001b[93mtransaction 3112b7de5b84bd2af6e57a4d2cbc78b1a693e2981ac2b097a248c320f3eaf246 (creation)\n",
      "\u001b[0mContractId:      3112b7de5b84bd2af6e57a4d2cbc78b1a693e2981ac2b097a248c320f3eaf246#1\n",
      "SlotNo:          5671324\n",
      "BlockNo:         261181\n",
      "BlockId:         4fff144e296fc37bbe73b394340d963f7ac7cfbd96e57c75b72399006c811f97\n",
      "ScriptAddress:   addr_test1wp4f8ywk4fg672xasahtk4t9k6w3aql943uxz5rt62d4dvqu3c6jv\n",
      "Marlowe Version: 1\n",
      "\n",
      "    When [\n",
      "      (Case\n",
      "         (Deposit Address \"addr_test1vr9dd8p3svssr8k2g5kd2syq4ad40nz9370tclufhv7xsjsd8vqv2\" Address \"addr_test1vr9dd8p3svssr8k2g5kd2syq4ad40nz9370tclufhv7xsjsd8vqv2\"\n",
      "            (Token \"\" \"\")\n",
      "            (NegValue\n",
      "               (NegValue\n",
      "                  (Constant 100000000))))\n",
      "         (Pay Address \"addr_test1vr9dd8p3svssr8k2g5kd2syq4ad40nz9370tclufhv7xsjsd8vqv2\"\n",
      "            (Party Address \"addr_test1vr7n0zzth5zycuh972w7rdmh48qur4f3wu6ntn2m2h30dlcvltuy5\")\n",
      "            (Token \"\" \"\")\n",
      "            (Constant 100000000)\n",
      "            (When [\n",
      "               (Case\n",
      "                  (Deposit Address \"addr_test1vr7n0zzth5zycuh972w7rdmh48qur4f3wu6ntn2m2h30dlcvltuy5\" Address \"addr_test1vr7n0zzth5zycuh972w7rdmh48qur4f3wu6ntn2m2h30dlcvltuy5\"\n",
      "                     (Token \"\" \"\")\n",
      "                     (Constant 2000000))\n",
      "                  (Pay Address \"addr_test1vr7n0zzth5zycuh972w7rdmh48qur4f3wu6ntn2m2h30dlcvltuy5\"\n",
      "                     (Party Address \"addr_test1vr9dd8p3svssr8k2g5kd2syq4ad40nz9370tclufhv7xsjsd8vqv2\")\n",
      "                     (Token \"\" \"\")\n",
      "                     (Constant 2000000)\n",
      "                     (When [\n",
      "                        (Case\n",
      "                           (Deposit Address \"addr_test1vr7n0zzth5zycuh972w7rdmh48qur4f3wu6ntn2m2h30dlcvltuy5\" Address \"addr_test1vr7n0zzth5zycuh972w7rdmh48qur4f3wu6ntn2m2h30dlcvltuy5\"\n",
      "                              (Token \"\" \"\")\n",
      "                              (Constant 100000000))\n",
      "                           (Pay Address \"addr_test1vr7n0zzth5zycuh972w7rdmh48qur4f3wu6ntn2m2h30dlcvltuy5\"\n",
      "                              (Party Address \"addr_test1vr9dd8p3svssr8k2g5kd2syq4ad40nz9370tclufhv7xsjsd8vqv2\")\n",
      "                              (Token \"\" \"\")\n",
      "                              (Constant 100000000) Close))] 1704067200000 Close)))] 1704067200000 Close)))] 1672531200000 Close\n",
      "\n",
      "\u001b[93mtransaction 4a59aeb4876c8972c9f7125d70a96da37ea061c01430998d9f93108fd17907dc\n",
      "\u001b[0mContractId: 3112b7de5b84bd2af6e57a4d2cbc78b1a693e2981ac2b097a248c320f3eaf246#1\n",
      "SlotNo:     5671346\n",
      "BlockNo:    261183\n",
      "BlockId:    4f99a3ce9bf8850a6bc9c460fb213e66331d6c79105b87127d49c0148d1cadbb\n",
      "Inputs:     [NormalInput (IDeposit \"\\\"addr_test1vr9dd8p3svssr8k2g5kd2syq4ad40nz9370tclufhv7xsjsd8vqv2\\\"\" \"\\\"addr_test1vr9dd8p3svssr8k2g5kd2syq4ad40nz9370tclufhv7xsjsd8vqv2\\\"\" (Token \"\" \"\") 100000000)]\n",
      "\n",
      "    When [\n",
      "      (Case\n",
      "         (Deposit Address \"addr_test1vr7n0zzth5zycuh972w7rdmh48qur4f3wu6ntn2m2h30dlcvltuy5\" Address \"addr_test1vr7n0zzth5zycuh972w7rdmh48qur4f3wu6ntn2m2h30dlcvltuy5\"\n",
      "            (Token \"\" \"\")\n",
      "            (Constant 2000000))\n",
      "         (Pay Address \"addr_test1vr7n0zzth5zycuh972w7rdmh48qur4f3wu6ntn2m2h30dlcvltuy5\"\n",
      "            (Party Address \"addr_test1vr9dd8p3svssr8k2g5kd2syq4ad40nz9370tclufhv7xsjsd8vqv2\")\n",
      "            (Token \"\" \"\")\n",
      "            (Constant 2000000)\n",
      "            (When [\n",
      "               (Case\n",
      "                  (Deposit Address \"addr_test1vr7n0zzth5zycuh972w7rdmh48qur4f3wu6ntn2m2h30dlcvltuy5\" Address \"addr_test1vr7n0zzth5zycuh972w7rdmh48qur4f3wu6ntn2m2h30dlcvltuy5\"\n",
      "                     (Token \"\" \"\")\n",
      "                     (Constant 100000000))\n",
      "                  (Pay Address \"addr_test1vr7n0zzth5zycuh972w7rdmh48qur4f3wu6ntn2m2h30dlcvltuy5\"\n",
      "                     (Party Address \"addr_test1vr9dd8p3svssr8k2g5kd2syq4ad40nz9370tclufhv7xsjsd8vqv2\")\n",
      "                     (Token \"\" \"\")\n",
      "                     (Constant 100000000) Close))] 1704067200000 Close)))] 1704067200000 Close\n",
      "\n"
     ]
    }
   ],
   "source": [
    "marlowe log --show-contract \"$CONTRACT_ID\""
   ]
  },
  {
   "cell_type": "markdown",
   "id": "f278adc9-e129-40cc-91f1-8d8e1dcf3a59",
   "metadata": {},
   "source": [
    "<span style=\"color: red; font-weight: bold\">I think that <code>marlowe log --show-contract</code> should print something parseable like YAML.</span>"
   ]
  },
  {
   "cell_type": "markdown",
   "id": "47e4c8ab-093a-453f-8086-0bfe35d07356",
   "metadata": {},
   "source": [
    "## Finish running the contract"
   ]
  },
  {
   "cell_type": "markdown",
   "id": "3408aafb-807d-4de0-867b-f99617f8e8b4",
   "metadata": {},
   "source": [
    "### Transaction 3. Counterparty repays the loan's interest"
   ]
  },
  {
   "cell_type": "code",
   "execution_count": 48,
   "id": "554efe78-d9c9-45b9-972d-bce981f3e43d",
   "metadata": {},
   "outputs": [
    {
     "name": "stdout",
     "output_type": "stream",
     "text": [
      "Rounding  `TransactionInput` txInterval boundries to:(POSIXTime {getPOSIXTime = 1665673705000},POSIXTime {getPOSIXTime = 1665677605999})\n",
      "TransactionInput {txInterval = (POSIXTime {getPOSIXTime = 1665673705000},POSIXTime {getPOSIXTime = 1665677605999}), txInputs = [NormalInput (IDeposit \"\\\"addr_test1vr7n0zzth5zycuh972w7rdmh48qur4f3wu6ntn2m2h30dlcvltuy5\\\"\" \"\\\"addr_test1vr7n0zzth5zycuh972w7rdmh48qur4f3wu6ntn2m2h30dlcvltuy5\\\"\" (Token \"\" \"\") 2000000)]}\n",
      "\n",
      "Datum size: 349\n",
      "Payment 1\n",
      "  Acccount: \"\\\"addr_test1vr7n0zzth5zycuh972w7rdmh48qur4f3wu6ntn2m2h30dlcvltuy5\\\"\"\n",
      "  Payee: Party \"\\\"addr_test1vr9dd8p3svssr8k2g5kd2syq4ad40nz9370tclufhv7xsjsd8vqv2\\\"\"\n",
      "  Ada: Lovelace {getLovelace = 2000000}\n"
     ]
    }
   ],
   "source": [
    "marlowe-cli run prepare --marlowe-file runtime-actus-pam-2.marlowe \\\n",
    "                        --out-file     runtime-actus-pam-3.marlowe \\\n",
    "                        --deposit-account \"$COUNTERPARTY_ADDR\" \\\n",
    "                        --deposit-party \"$COUNTERPARTY_ADDR\" \\\n",
    "                        --deposit-amount \"$((INTEREST*FIXED_POINT))\" \\\n",
    "                        --invalid-before \"$((NOW-5*MINUTE))\" \\\n",
    "                        --invalid-hereafter \"$((NOW+1*HOUR))\" \\\n",
    "                        --print-stats"
   ]
  },
  {
   "cell_type": "code",
   "execution_count": 49,
   "id": "09d82281-7d84-4326-98c8-e3c28c0f207c",
   "metadata": {},
   "outputs": [
    {
     "name": "stdout",
     "output_type": "stream",
     "text": [
      "\n",
      "Fee: Lovelace 1236221\n",
      "Size: 13952 / 16384 = 85%\n",
      "Execution units:\n",
      "  Memory: 5855282 / 14000000 = 41%\n",
      "  Steps: 1578216249 / 10000000000 = 15%\n",
      "TX_3 = 5c69673b1e608df8e7eed605853e27dc7932dfba2a378740b0ac77c529bfc56c\n"
     ]
    }
   ],
   "source": [
    "TX_3=$(\n",
    "marlowe-cli run auto-execute --tx-in-marlowe \"$TX_2#1\" \\\n",
    "                             --marlowe-in-file  runtime-actus-pam-2.marlowe \\\n",
    "                             --marlowe-out-file runtime-actus-pam-3.marlowe \\\n",
    "                             --required-signer \"$COUNTERPARTY_SKEY\" \\\n",
    "                             --change-address \"$COUNTERPARTY_ADDR\" \\\n",
    "                             --out-file runtime-actus-pam-3.raw \\\n",
    "                             --print-stats \\\n",
    "                             --submit 600 \\\n",
    "| sed -e 's/^TxId \"\\(.*\\)\"$/\\1/'\n",
    ")\n",
    "echo \"TX_3 = $TX_3\""
   ]
  },
  {
   "cell_type": "markdown",
   "id": "1f1223e2-580a-4709-8503-303b5f4d85f4",
   "metadata": {},
   "source": [
    "### Transaction 4. Counterparty repays the loan's principal"
   ]
  },
  {
   "cell_type": "code",
   "execution_count": 50,
   "id": "ec54a522-a3e8-4cd6-9ea7-240752157aad",
   "metadata": {},
   "outputs": [
    {
     "name": "stdout",
     "output_type": "stream",
     "text": [
      "Rounding  `TransactionInput` txInterval boundries to:(POSIXTime {getPOSIXTime = 1665673705000},POSIXTime {getPOSIXTime = 1665688405999})\n",
      "TransactionInput {txInterval = (POSIXTime {getPOSIXTime = 1665673705000},POSIXTime {getPOSIXTime = 1665688405999}), txInputs = [NormalInput (IDeposit \"\\\"addr_test1vr7n0zzth5zycuh972w7rdmh48qur4f3wu6ntn2m2h30dlcvltuy5\\\"\" \"\\\"addr_test1vr7n0zzth5zycuh972w7rdmh48qur4f3wu6ntn2m2h30dlcvltuy5\\\"\" (Token \"\" \"\") 100000000)]}\n",
      "\n",
      "Datum size: 30\n",
      "Payment 1\n",
      "  Acccount: \"\\\"addr_test1vr7n0zzth5zycuh972w7rdmh48qur4f3wu6ntn2m2h30dlcvltuy5\\\"\"\n",
      "  Payee: Party \"\\\"addr_test1vr9dd8p3svssr8k2g5kd2syq4ad40nz9370tclufhv7xsjsd8vqv2\\\"\"\n",
      "  Ada: Lovelace {getLovelace = 100000000}\n",
      "Payment 2\n",
      "  Acccount: \"\\\"addr_test1vr9dd8p3svssr8k2g5kd2syq4ad40nz9370tclufhv7xsjsd8vqv2\\\"\"\n",
      "  Payee: Party \"\\\"addr_test1vr9dd8p3svssr8k2g5kd2syq4ad40nz9370tclufhv7xsjsd8vqv2\\\"\"\n",
      "  Ada: Lovelace {getLovelace = 3000000}\n"
     ]
    }
   ],
   "source": [
    "marlowe-cli run prepare --marlowe-file runtime-actus-pam-3.marlowe \\\n",
    "                        --out-file     runtime-actus-pam-4.marlowe \\\n",
    "                        --deposit-account \"$COUNTERPARTY_ADDR\" \\\n",
    "                        --deposit-party \"$COUNTERPARTY_ADDR\" \\\n",
    "                        --deposit-amount \"$((PRINCIPAL*FIXED_POINT))\" \\\n",
    "                        --invalid-before \"$((NOW-5*MINUTE))\" \\\n",
    "                        --invalid-hereafter \"$((NOW+4*HOUR))\" \\\n",
    "                        --print-stats"
   ]
  },
  {
   "cell_type": "code",
   "execution_count": 52,
   "id": "db39c6d5-0b30-4427-b81c-c4884b655375",
   "metadata": {},
   "outputs": [
    {
     "name": "stdout",
     "output_type": "stream",
     "text": [
      "\n",
      "Fee: Lovelace 1076839\n",
      "Size: 13273 / 16384 = 81%\n",
      "Execution units:\n",
      "  Memory: 4184150 / 14000000 = 29%\n",
      "  Steps: 1119389602 / 10000000000 = 11%\n",
      "TX_4 = 980da6aeb75b655cf41000c527e7e61e9346355c91e76762c921957c23a01350\n"
     ]
    }
   ],
   "source": [
    "TX_4=$(\n",
    "marlowe-cli run auto-execute --tx-in-marlowe \"$TX_3#1\" \\\n",
    "                             --marlowe-in-file  runtime-actus-pam-3.marlowe \\\n",
    "                             --marlowe-out-file runtime-actus-pam-4.marlowe \\\n",
    "                             --required-signer \"$COUNTERPARTY_SKEY\" \\\n",
    "                             --change-address \"$COUNTERPARTY_ADDR\" \\\n",
    "                             --out-file runtime-actus-pam-4.raw \\\n",
    "                             --print-stats \\\n",
    "| sed -e 's/^TxId \"\\(.*\\)\"$/\\1/'\n",
    ")\n",
    "echo \"TX_4 = $TX_4\""
   ]
  },
  {
   "cell_type": "code",
   "execution_count": 55,
   "id": "6a47bd91-8804-402c-b44f-c8d54f43b828",
   "metadata": {},
   "outputs": [],
   "source": [
    "cardano-cli transaction sign --tx-body-file  runtime-actus-pam-4.raw \\\n",
    "  --signing-key-file \"$COUNTERPARTY_SKEY\" --out-file runtime-actus-pam-4.signed"
   ]
  },
  {
   "cell_type": "code",
   "execution_count": 56,
   "id": "fb21c5fa-f9eb-44ec-be82-b4172caec30b",
   "metadata": {},
   "outputs": [
    {
     "name": "stdout",
     "output_type": "stream",
     "text": [
      "BlockHeader {slotNo = SlotNo {unSlotNo = 5672154}, headerHash = \"ae1c1002674597d350a7abe19143a193bf53e1a4458f7db272ba14b1deb917af\", blockNo = BlockNo {unBlockNo = 261218}}\n"
     ]
    }
   ],
   "source": [
    "marlowe submit runtime-actus-pam-4.signed"
   ]
  },
  {
   "cell_type": "markdown",
   "id": "c59bed4c-48b4-4a23-bb40-8636ea9ed9c6",
   "metadata": {},
   "source": [
    "The contract has closed."
   ]
  },
  {
   "cell_type": "code",
   "execution_count": 58,
   "id": "d678fb1a-997e-408d-b5bf-376ab2accfd1",
   "metadata": {},
   "outputs": [
    {
     "name": "stdout",
     "output_type": "stream",
     "text": [
      "close\n",
      "...\n"
     ]
    }
   ],
   "source": [
    "jq '.tx.contract' runtime-actus-pam-4.marlowe | json2yaml"
   ]
  },
  {
   "cell_type": "markdown",
   "id": "b1a1e2f9-e63e-4c3c-af24-f1c7b456c9b5",
   "metadata": {},
   "source": [
    "<span style=\"color: red; font-weight: bold\">The contract has closed, but it looks like Marlowe History thinks it is still open:</span>"
   ]
  },
  {
   "cell_type": "code",
   "execution_count": 57,
   "id": "55898aad-9040-432a-913f-b2ddde6ac662",
   "metadata": {},
   "outputs": [
    {
     "name": "stdout",
     "output_type": "stream",
     "text": [
      "3112b7de5b84bd2af6e57a4d2cbc78b1a693e2981ac2b097a248c320f3eaf246#1 Status: Waiting (SomeMarloweVersion MarloweV1)\n"
     ]
    }
   ],
   "source": [
    "marlowe ls --show-status"
   ]
  },
  {
   "cell_type": "code",
   "execution_count": 59,
   "id": "0ba8d62c-f35b-4cf5-ab6f-e52ff2041b11",
   "metadata": {},
   "outputs": [
    {
     "name": "stdout",
     "output_type": "stream",
     "text": [
      "\u001b[93mtransaction 3112b7de5b84bd2af6e57a4d2cbc78b1a693e2981ac2b097a248c320f3eaf246 (creation)\n",
      "\u001b[0mContractId:      3112b7de5b84bd2af6e57a4d2cbc78b1a693e2981ac2b097a248c320f3eaf246#1\n",
      "SlotNo:          5671324\n",
      "BlockNo:         261181\n",
      "BlockId:         4fff144e296fc37bbe73b394340d963f7ac7cfbd96e57c75b72399006c811f97\n",
      "ScriptAddress:   addr_test1wp4f8ywk4fg672xasahtk4t9k6w3aql943uxz5rt62d4dvqu3c6jv\n",
      "Marlowe Version: 1\n",
      "\n",
      "\n",
      "\n",
      "\u001b[93mtransaction 4a59aeb4876c8972c9f7125d70a96da37ea061c01430998d9f93108fd17907dc\n",
      "\u001b[0mContractId: 3112b7de5b84bd2af6e57a4d2cbc78b1a693e2981ac2b097a248c320f3eaf246#1\n",
      "SlotNo:     5671346\n",
      "BlockNo:    261183\n",
      "BlockId:    4f99a3ce9bf8850a6bc9c460fb213e66331d6c79105b87127d49c0148d1cadbb\n",
      "Inputs:     [NormalInput (IDeposit \"\\\"addr_test1vr9dd8p3svssr8k2g5kd2syq4ad40nz9370tclufhv7xsjsd8vqv2\\\"\" \"\\\"addr_test1vr9dd8p3svssr8k2g5kd2syq4ad40nz9370tclufhv7xsjsd8vqv2\\\"\" (Token \"\" \"\") 100000000)]\n",
      "\n",
      "\n",
      "\u001b[93mtransaction 5c69673b1e608df8e7eed605853e27dc7932dfba2a378740b0ac77c529bfc56c\n",
      "\u001b[0mContractId: 3112b7de5b84bd2af6e57a4d2cbc78b1a693e2981ac2b097a248c320f3eaf246#1\n",
      "SlotNo:     5672022\n",
      "BlockNo:    261210\n",
      "BlockId:    8e079ea9a386168bd1a72a396d9c336c30b9566c023555dadc3f35143b5152ef\n",
      "Inputs:     [NormalInput (IDeposit \"\\\"addr_test1vr7n0zzth5zycuh972w7rdmh48qur4f3wu6ntn2m2h30dlcvltuy5\\\"\" \"\\\"addr_test1vr7n0zzth5zycuh972w7rdmh48qur4f3wu6ntn2m2h30dlcvltuy5\\\"\" (Token \"\" \"\") 2000000)]\n",
      "\n",
      "\n",
      "\u001b[93mtransaction 980da6aeb75b655cf41000c527e7e61e9346355c91e76762c921957c23a01350 (close)\n",
      "\u001b[0mContractId: 3112b7de5b84bd2af6e57a4d2cbc78b1a693e2981ac2b097a248c320f3eaf246#1\n",
      "SlotNo:     5672154\n",
      "BlockNo:    261218\n",
      "BlockId:    ae1c1002674597d350a7abe19143a193bf53e1a4458f7db272ba14b1deb917af\n",
      "Inputs:     [NormalInput (IDeposit \"\\\"addr_test1vr7n0zzth5zycuh972w7rdmh48qur4f3wu6ntn2m2h30dlcvltuy5\\\"\" \"\\\"addr_test1vr7n0zzth5zycuh972w7rdmh48qur4f3wu6ntn2m2h30dlcvltuy5\\\"\" (Token \"\" \"\") 100000000)]\n",
      "\n",
      "\n"
     ]
    }
   ],
   "source": [
    "marlowe log \"$CONTRACT_ID\""
   ]
  },
  {
   "cell_type": "code",
   "execution_count": 60,
   "id": "acbe339f-3165-4bb4-b2c8-f06abee25535",
   "metadata": {},
   "outputs": [
    {
     "name": "stdout",
     "output_type": "stream",
     "text": [
      "\u001b[93mtransaction 3112b7de5b84bd2af6e57a4d2cbc78b1a693e2981ac2b097a248c320f3eaf246 (creation)\n",
      "\u001b[0mContractId:      3112b7de5b84bd2af6e57a4d2cbc78b1a693e2981ac2b097a248c320f3eaf246#1\n",
      "SlotNo:          5671324\n",
      "BlockNo:         261181\n",
      "BlockId:         4fff144e296fc37bbe73b394340d963f7ac7cfbd96e57c75b72399006c811f97\n",
      "ScriptAddress:   addr_test1wp4f8ywk4fg672xasahtk4t9k6w3aql943uxz5rt62d4dvqu3c6jv\n",
      "Marlowe Version: 1\n",
      "\n",
      "    When [\n",
      "      (Case\n",
      "         (Deposit Address \"addr_test1vr9dd8p3svssr8k2g5kd2syq4ad40nz9370tclufhv7xsjsd8vqv2\" Address \"addr_test1vr9dd8p3svssr8k2g5kd2syq4ad40nz9370tclufhv7xsjsd8vqv2\"\n",
      "            (Token \"\" \"\")\n",
      "            (NegValue\n",
      "               (NegValue\n",
      "                  (Constant 100000000))))\n",
      "         (Pay Address \"addr_test1vr9dd8p3svssr8k2g5kd2syq4ad40nz9370tclufhv7xsjsd8vqv2\"\n",
      "            (Party Address \"addr_test1vr7n0zzth5zycuh972w7rdmh48qur4f3wu6ntn2m2h30dlcvltuy5\")\n",
      "            (Token \"\" \"\")\n",
      "            (Constant 100000000)\n",
      "            (When [\n",
      "               (Case\n",
      "                  (Deposit Address \"addr_test1vr7n0zzth5zycuh972w7rdmh48qur4f3wu6ntn2m2h30dlcvltuy5\" Address \"addr_test1vr7n0zzth5zycuh972w7rdmh48qur4f3wu6ntn2m2h30dlcvltuy5\"\n",
      "                     (Token \"\" \"\")\n",
      "                     (Constant 2000000))\n",
      "                  (Pay Address \"addr_test1vr7n0zzth5zycuh972w7rdmh48qur4f3wu6ntn2m2h30dlcvltuy5\"\n",
      "                     (Party Address \"addr_test1vr9dd8p3svssr8k2g5kd2syq4ad40nz9370tclufhv7xsjsd8vqv2\")\n",
      "                     (Token \"\" \"\")\n",
      "                     (Constant 2000000)\n",
      "                     (When [\n",
      "                        (Case\n",
      "                           (Deposit Address \"addr_test1vr7n0zzth5zycuh972w7rdmh48qur4f3wu6ntn2m2h30dlcvltuy5\" Address \"addr_test1vr7n0zzth5zycuh972w7rdmh48qur4f3wu6ntn2m2h30dlcvltuy5\"\n",
      "                              (Token \"\" \"\")\n",
      "                              (Constant 100000000))\n",
      "                           (Pay Address \"addr_test1vr7n0zzth5zycuh972w7rdmh48qur4f3wu6ntn2m2h30dlcvltuy5\"\n",
      "                              (Party Address \"addr_test1vr9dd8p3svssr8k2g5kd2syq4ad40nz9370tclufhv7xsjsd8vqv2\")\n",
      "                              (Token \"\" \"\")\n",
      "                              (Constant 100000000) Close))] 1704067200000 Close)))] 1704067200000 Close)))] 1672531200000 Close\n",
      "\n",
      "\u001b[93mtransaction 4a59aeb4876c8972c9f7125d70a96da37ea061c01430998d9f93108fd17907dc\n",
      "\u001b[0mContractId: 3112b7de5b84bd2af6e57a4d2cbc78b1a693e2981ac2b097a248c320f3eaf246#1\n",
      "SlotNo:     5671346\n",
      "BlockNo:    261183\n",
      "BlockId:    4f99a3ce9bf8850a6bc9c460fb213e66331d6c79105b87127d49c0148d1cadbb\n",
      "Inputs:     [NormalInput (IDeposit \"\\\"addr_test1vr9dd8p3svssr8k2g5kd2syq4ad40nz9370tclufhv7xsjsd8vqv2\\\"\" \"\\\"addr_test1vr9dd8p3svssr8k2g5kd2syq4ad40nz9370tclufhv7xsjsd8vqv2\\\"\" (Token \"\" \"\") 100000000)]\n",
      "\n",
      "    When [\n",
      "      (Case\n",
      "         (Deposit Address \"addr_test1vr7n0zzth5zycuh972w7rdmh48qur4f3wu6ntn2m2h30dlcvltuy5\" Address \"addr_test1vr7n0zzth5zycuh972w7rdmh48qur4f3wu6ntn2m2h30dlcvltuy5\"\n",
      "            (Token \"\" \"\")\n",
      "            (Constant 2000000))\n",
      "         (Pay Address \"addr_test1vr7n0zzth5zycuh972w7rdmh48qur4f3wu6ntn2m2h30dlcvltuy5\"\n",
      "            (Party Address \"addr_test1vr9dd8p3svssr8k2g5kd2syq4ad40nz9370tclufhv7xsjsd8vqv2\")\n",
      "            (Token \"\" \"\")\n",
      "            (Constant 2000000)\n",
      "            (When [\n",
      "               (Case\n",
      "                  (Deposit Address \"addr_test1vr7n0zzth5zycuh972w7rdmh48qur4f3wu6ntn2m2h30dlcvltuy5\" Address \"addr_test1vr7n0zzth5zycuh972w7rdmh48qur4f3wu6ntn2m2h30dlcvltuy5\"\n",
      "                     (Token \"\" \"\")\n",
      "                     (Constant 100000000))\n",
      "                  (Pay Address \"addr_test1vr7n0zzth5zycuh972w7rdmh48qur4f3wu6ntn2m2h30dlcvltuy5\"\n",
      "                     (Party Address \"addr_test1vr9dd8p3svssr8k2g5kd2syq4ad40nz9370tclufhv7xsjsd8vqv2\")\n",
      "                     (Token \"\" \"\")\n",
      "                     (Constant 100000000) Close))] 1704067200000 Close)))] 1704067200000 Close\n",
      "\n",
      "\u001b[93mtransaction 5c69673b1e608df8e7eed605853e27dc7932dfba2a378740b0ac77c529bfc56c\n",
      "\u001b[0mContractId: 3112b7de5b84bd2af6e57a4d2cbc78b1a693e2981ac2b097a248c320f3eaf246#1\n",
      "SlotNo:     5672022\n",
      "BlockNo:    261210\n",
      "BlockId:    8e079ea9a386168bd1a72a396d9c336c30b9566c023555dadc3f35143b5152ef\n",
      "Inputs:     [NormalInput (IDeposit \"\\\"addr_test1vr7n0zzth5zycuh972w7rdmh48qur4f3wu6ntn2m2h30dlcvltuy5\\\"\" \"\\\"addr_test1vr7n0zzth5zycuh972w7rdmh48qur4f3wu6ntn2m2h30dlcvltuy5\\\"\" (Token \"\" \"\") 2000000)]\n",
      "\n",
      "    When [\n",
      "      (Case\n",
      "         (Deposit Address \"addr_test1vr7n0zzth5zycuh972w7rdmh48qur4f3wu6ntn2m2h30dlcvltuy5\" Address \"addr_test1vr7n0zzth5zycuh972w7rdmh48qur4f3wu6ntn2m2h30dlcvltuy5\"\n",
      "            (Token \"\" \"\")\n",
      "            (Constant 100000000))\n",
      "         (Pay Address \"addr_test1vr7n0zzth5zycuh972w7rdmh48qur4f3wu6ntn2m2h30dlcvltuy5\"\n",
      "            (Party Address \"addr_test1vr9dd8p3svssr8k2g5kd2syq4ad40nz9370tclufhv7xsjsd8vqv2\")\n",
      "            (Token \"\" \"\")\n",
      "            (Constant 100000000) Close))] 1704067200000 Close\n",
      "\n",
      "\u001b[93mtransaction 980da6aeb75b655cf41000c527e7e61e9346355c91e76762c921957c23a01350 (close)\n",
      "\u001b[0mContractId: 3112b7de5b84bd2af6e57a4d2cbc78b1a693e2981ac2b097a248c320f3eaf246#1\n",
      "SlotNo:     5672154\n",
      "BlockNo:    261218\n",
      "BlockId:    ae1c1002674597d350a7abe19143a193bf53e1a4458f7db272ba14b1deb917af\n",
      "Inputs:     [NormalInput (IDeposit \"\\\"addr_test1vr7n0zzth5zycuh972w7rdmh48qur4f3wu6ntn2m2h30dlcvltuy5\\\"\" \"\\\"addr_test1vr7n0zzth5zycuh972w7rdmh48qur4f3wu6ntn2m2h30dlcvltuy5\\\"\" (Token \"\" \"\") 100000000)]\n",
      "\n",
      "\n"
     ]
    }
   ],
   "source": [
    "marlowe log --show-contract \"$CONTRACT_ID\""
   ]
  },
  {
   "cell_type": "markdown",
   "id": "04e6d857-31c9-4f91-b694-e893fa07ba97",
   "metadata": {},
   "source": [
    "## Additional testing"
   ]
  },
  {
   "cell_type": "markdown",
   "id": "bc8f6b49-66a9-403c-aec0-f646a598bda5",
   "metadata": {},
   "source": [
    "<span style=\"color: red; font-weight: bold\">We still have other commands to test:</span>\n",
    "\n",
    "* apply\n",
    "* advance\n",
    "* deposit\n",
    "* choose\n",
    "* notify\n",
    "* create\n",
    "* withdraw"
   ]
  },
  {
   "cell_type": "code",
   "execution_count": 46,
   "id": "0dd5cc07-a653-4ce2-970b-d4b55a24fda6",
   "metadata": {},
   "outputs": [
    {
     "name": "stdout",
     "output_type": "stream",
     "text": [
      "Usage: marlowe [--history-host HOST_NAME] [--history-command-port PORT_NUMBER] \n",
      "               [--history-query-port PORT_NUMBER] \n",
      "               [--history-sync-port PORT_NUMBER] [--discovery-host HOST_NAME] \n",
      "               [--discovery-query-port PORT_NUMBER] [--tx-host HOST_NAME] \n",
      "               [--tx-command-port PORT_NUMBER] (COMMAND | COMMAND | COMMAND)\n",
      "\n",
      "  Command line interface for managing Marlowe smart contracts on Cardano.\n",
      "\n",
      "Available options:\n",
      "  -h,--help                Show this help text\n",
      "  --history-host HOST_NAME The hostname of the Marlowe Runtime history server.\n",
      "                           Can be set as the environment variable\n",
      "                           MARLOWE_RT_HISTORY_HOST (default: \"127.0.0.1\")\n",
      "  --history-command-port PORT_NUMBER\n",
      "                           The port number of the history server's job API. Can\n",
      "                           be set as the environment variable\n",
      "                           MARLOWE_RT_HISTORY_COMMAND_PORT (default: 23717)\n",
      "  --history-query-port PORT_NUMBER\n",
      "                           The port number of the history server's query API.\n",
      "                           Can be set as the environment variable\n",
      "                           MARLOWE_RT_HISTORY_QUERY_PORT (default: 23718)\n",
      "  --history-sync-port PORT_NUMBER\n",
      "                           The port number of the history server's\n",
      "                           synchronization API. Can be set as the environment\n",
      "                           variable MARLOWE_RT_HISTORY_SYNC_PORT\n",
      "                           (default: 23719)\n",
      "  --discovery-host HOST_NAME\n",
      "                           The hostname of the Marlowe Runtime discovery server.\n",
      "                           Can be set as the environment variable\n",
      "                           MARLOWE_RT_DISCOVERY_HOST (default: \"127.0.0.1\")\n",
      "  --discovery-query-port PORT_NUMBER\n",
      "                           The port number of the discovery server's query API.\n",
      "                           Can be set as the environment variable\n",
      "                           MARLOWE_RT_DISCOVERY_QUERY_PORT (default: 23721)\n",
      "  --tx-host HOST_NAME      The hostname of the Marlowe Runtime transaction\n",
      "                           server. Can be set as the environment variable\n",
      "                           MARLOWE_RT_TX_HOST (default: \"127.0.0.1\")\n",
      "  --tx-command-port PORT_NUMBER\n",
      "                           The port number of the transaction server's job API.\n",
      "                           Can be set as the environment variable\n",
      "                           MARLOWE_RT_TX_COMMAND_PORT (default: 23723)\n",
      "\n",
      "Contract history commands\n",
      "  add                      Start managing a new contract\n",
      "  log                      Display the history of a contract\n",
      "  ls                       List managed contracts\n",
      "  rm                       Stop managing a contract\n",
      "\n",
      "Contract transaction commands\n",
      "  apply                    Apply inputs to a contract\n",
      "  advance                  Advance a timed-out contract by applying an empty set\n",
      "                           of inputs.\n",
      "  deposit                  Deposit funds into a contract\n",
      "  choose                   Notify a contract to proceed\n",
      "  notify                   Notify a contract to proceed\n",
      "  create                   Create a new Marlowe Contract\n",
      "  withdraw                 Withdraw funds paid to a role in a contract\n",
      "\n",
      "Low level commands\n",
      "  submit                   Submit a signed transaction to the Cardano node.\n",
      "                           Expects the CBOR bytes of the signed Tx from stdin.\n"
     ]
    }
   ],
   "source": [
    "marlowe --help"
   ]
  },
  {
   "cell_type": "code",
   "execution_count": 61,
   "id": "8239ee2c-d6dc-41b2-8a5e-8803edf11ee8",
   "metadata": {},
   "outputs": [
    {
     "name": "stdout",
     "output_type": "stream",
     "text": [
      "3112b7de5b84bd2af6e57a4d2cbc78b1a693e2981ac2b097a248c320f3eaf246#1\n"
     ]
    }
   ],
   "source": [
    "marlowe rm \"$CONTRACT_ID\""
   ]
  },
  {
   "cell_type": "code",
   "execution_count": 62,
   "id": "00e58fe6-42b8-432a-8d91-3b8e23e55658",
   "metadata": {},
   "outputs": [],
   "source": [
    "marlowe ls"
   ]
  },
  {
   "cell_type": "code",
   "execution_count": 71,
   "id": "af604551-6fb2-416d-8cc2-90237bded66b",
   "metadata": {},
   "outputs": [
    {
     "name": "stdout",
     "output_type": "stream",
     "text": [
      "CreateFailed (CreateConstraintError (CoinSelectionFailed \"Insufficient lovelace available for coin selection: valueFromList [(AdaAssetId,2857910715)] required, but valueFromList [(AdaAssetId,2849260111)] available.\"))\n"
     ]
    },
    {
     "ename": "",
     "evalue": "1",
     "output_type": "error",
     "traceback": []
    }
   ],
   "source": [
    "marlowe create --core-file runtime-actus-pam-1.contract \\\n",
    "               --change-address \"$PARTY_ADDR\" \\\n",
    "               --min-utxo 3000000 \\\n",
    "               --manual-sign tx.raw"
   ]
  },
  {
   "cell_type": "code",
   "execution_count": null,
   "id": "43fc3b60-a1fa-48c0-bc8f-587eeb37dcd3",
   "metadata": {},
   "outputs": [],
   "source": [
    "marlowe create --help"
   ]
  },
  {
   "cell_type": "code",
   "execution_count": 66,
   "id": "619868c6-07be-4106-9e86-4895e0cc9577",
   "metadata": {},
   "outputs": [
    {
     "name": "stdout",
     "output_type": "stream",
     "text": [
      "                           TxHash                                 TxIx        Amount\n",
      "--------------------------------------------------------------------------------------\n",
      "48771d4de5928a511ae098913a4a278d6ac97d0667510e63483fb1f42e6d40f6     2        2000000 lovelace + TxOutDatumNone\n",
      "4a59aeb4876c8972c9f7125d70a96da37ea061c01430998d9f93108fd17907dc     0        145484764 lovelace + TxOutDatumNone\n",
      "5c69673b1e608df8e7eed605853e27dc7932dfba2a378740b0ac77c529bfc56c     2        2000000 lovelace + TxOutDatumNone\n",
      "7d23ded10f5710ff03cb1b32f89f43263267f593857b88a612442a3e627111de     2        2000000 lovelace + TxOutDatumNone\n",
      "881e6526b9799bd95f8f951fb6b75d30c1678193b293e243c5b84fc5f414fa82     0        148708414 lovelace + TxOutDatumNone\n",
      "8cc21c3f3eb029ce95732429c77adfb472f26224a56a3fc5ec336a3964bd6383     1        103000000 lovelace + TxOutDatumNone\n",
      "980da6aeb75b655cf41000c527e7e61e9346355c91e76762c921957c23a01350     1        103000000 lovelace + TxOutDatumNone\n",
      "f298ef07ad63215ae0e286a9d00bbbcbffe5627bba8b10f2b9f7d5082e6918b9     0        99779543 lovelace + TxOutDatumNone\n",
      "ffed3e161cbe139973c5b6c36bd3405a5cad043aebe91c01d5ba0a771dfffa4f     0        145484764 lovelace + TxOutDatumNone\n"
     ]
    }
   ],
   "source": [
    "cardano-cli query utxo \"${MAGIC[@]}\" --address \"$PARTY_ADDR\""
   ]
  },
  {
   "cell_type": "code",
   "execution_count": 68,
   "id": "f9f5340f-d6cb-422a-8b1b-376444469833",
   "metadata": {},
   "outputs": [
    {
     "name": "stdout",
     "output_type": "stream",
     "text": [
      "TxId \"e4795f6dac4d47c455007a606d9f3efe40a9099ae072ef4fc9158ff625859394\"\n"
     ]
    }
   ],
   "source": [
    "marlowe-cli util clean --required-signer \"$PARTY_SKEY\" --change-address \"$PARTY_ADDR\" --out-file /dev/null --submit 600"
   ]
  },
  {
   "cell_type": "code",
   "execution_count": 74,
   "id": "56071cf0-179a-402c-bc5c-118d4817839d",
   "metadata": {},
   "outputs": [
    {
     "name": "stdout",
     "output_type": "stream",
     "text": [
      "4D61726C6F7765\n"
     ]
    }
   ],
   "source": [
    "echo -n Marlowe | basenc --base16"
   ]
  },
  {
   "cell_type": "code",
   "execution_count": 77,
   "id": "90b81e66-0db5-43f8-9335-b22d08699235",
   "metadata": {},
   "outputs": [
    {
     "name": "stdout",
     "output_type": "stream",
     "text": [
      "4d61726c6f7765"
     ]
    }
   ],
   "source": [
    "echo -n 4D61726C6F7765 | tr '[:upper:]' '[:lower:]'"
   ]
  },
  {
   "cell_type": "code",
   "execution_count": 76,
   "id": "b55404c3-6da0-4000-9c65-fe9146729a51",
   "metadata": {},
   "outputs": [
    {
     "name": "stdout",
     "output_type": "stream",
     "text": [
      "basenc: invalid input\n"
     ]
    },
    {
     "ename": "",
     "evalue": "1",
     "output_type": "error",
     "traceback": []
    }
   ],
   "source": [
    "echo -n 4D61726C6F7765 | tr '[:upper:]' '[:lower:]' | basenc --decode --base16"
   ]
  },
  {
   "cell_type": "code",
   "execution_count": 69,
   "id": "11d2b4cc-e208-43bf-9b36-a43159fca504",
   "metadata": {},
   "outputs": [
    {
     "name": "stdout",
     "output_type": "stream",
     "text": [
      "                           TxHash                                 TxIx        Amount\n",
      "--------------------------------------------------------------------------------------\n",
      "e4795f6dac4d47c455007a606d9f3efe40a9099ae072ef4fc9158ff625859394     0        751243540 lovelace + TxOutDatumNone\n"
     ]
    }
   ],
   "source": [
    "cardano-cli query utxo \"${MAGIC[@]}\" --address \"$PARTY_ADDR\""
   ]
  },
  {
   "cell_type": "code",
   "execution_count": 72,
   "id": "ea4633b3-349a-452a-a560-d6f4656b4b09",
   "metadata": {},
   "outputs": [
    {
     "name": "stdout",
     "output_type": "stream",
     "text": [
      "TxIn \"e4795f6dac4d47c455007a606d9f3efe40a9099ae072ef4fc9158ff625859394\" (TxIx 0)\n"
     ]
    }
   ],
   "source": [
    "marlowe-cli util select --lovelace-only 1000000 \"$PARTY_ADDR\""
   ]
  },
  {
   "cell_type": "code",
   "execution_count": 73,
   "id": "2a1c1458-3ac4-411f-b3ee-fe3ce86dd055",
   "metadata": {},
   "outputs": [
    {
     "name": "stdout",
     "output_type": "stream",
     "text": [
      "Missing: \n",
      "(--lovelace-only LOVELACE | --asset-only CURRENCY_SYMBOL.TOKEN_NAME | --all)\n",
      "ADDRESS\n",
      "\n",
      "Usage: marlowe-cli util select [--testnet-magic INTEGER] \n",
      "                               [--socket-path SOCKET_FILE] \n",
      "                               (--lovelace-only LOVELACE | \n",
      "                                 --asset-only CURRENCY_SYMBOL.TOKEN_NAME | \n",
      "                                 --all) ADDRESS\n",
      "\n",
      "  Select UTxO by asset.\n"
     ]
    },
    {
     "ename": "",
     "evalue": "1",
     "output_type": "error",
     "traceback": []
    }
   ],
   "source": [
    "marlowe-cli util select"
   ]
  },
  {
   "cell_type": "code",
   "execution_count": null,
   "id": "b151032f-58ea-4f29-a74a-521817f67f73",
   "metadata": {},
   "outputs": [],
   "source": []
  }
 ],
 "metadata": {
  "kernelspec": {
   "display_name": "Bash - Marlowe",
   "language": "bash",
   "name": "bash_marlowe"
  },
  "language_info": {
   "codemirror_mode": "shell",
   "file_extension": ".sh",
   "mimetype": "text/x-sh",
   "name": "/nix/store/2ispfz80kmwrsvwndxkxs56irn86h43p-bash-5.1-p16/bin/bash"
  }
 },
 "nbformat": 4,
 "nbformat_minor": 5
}
