{
 "cells": [
  {
   "cell_type": "markdown",
   "id": "29ad9b87-6812-4d1b-888b-c255e9be9eae",
   "metadata": {},
   "source": [
    "<span style=\"color: red; font-weight: bold\">Use the following command to launch a server for this notebook:</span>\n",
    "\n",
    "```bash\n",
    "git clone git@github.com:input-output-hk/marlowe-cardano.git\n",
    "cd marlowe-cardano/marlowe-runtime/\n",
    "nix run ../marlowe-cli\n",
    "```\n",
    "\n",
    "Then navigate to the `examples/` folder in Jupyter and open this notebook."
   ]
  },
  {
   "cell_type": "markdown",
   "id": "ff12ef20-4800-40fc-bf1a-b48def801ee9",
   "metadata": {},
   "source": [
    "# Demonstrating the Marlowe Transaction Creation Component of Marlowe Runtime"
   ]
  },
  {
   "cell_type": "markdown",
   "id": "b4002252-fe9f-40e4-a371-d4d6b57316de",
   "metadata": {},
   "source": [
    "## Preliminaries"
   ]
  },
  {
   "cell_type": "markdown",
   "id": "dab2352b-0021-4998-9107-c5cc32d3734c",
   "metadata": {},
   "source": [
    "Record version numbers"
   ]
  },
  {
   "cell_type": "code",
   "execution_count": 1,
   "id": "4832053a-541d-4acd-a781-e7b31a3d28e1",
   "metadata": {},
   "outputs": [
    {
     "name": "stdout",
     "output_type": "stream",
     "text": [
      "marlowe-cli 0.0.9.0\n"
     ]
    }
   ],
   "source": [
    "marlowe-cli --version"
   ]
  },
  {
   "cell_type": "code",
   "execution_count": 2,
   "id": "e7651166-5c42-4a2b-8447-3407440f7b5a",
   "metadata": {},
   "outputs": [
    {
     "name": "stdout",
     "output_type": "stream",
     "text": [
      "cardano-cli 1.35.3 - linux-x86_64 - ghc-8.10\n",
      "git rev 0000000000000000000000000000000000000000\n"
     ]
    }
   ],
   "source": [
    "cardano-cli --version"
   ]
  },
  {
   "cell_type": "code",
   "execution_count": 3,
   "id": "0434d927-022f-41f6-b60f-091ebe85cfc4",
   "metadata": {},
   "outputs": [
    {
     "name": "stdout",
     "output_type": "stream",
     "text": [
      "5a1cd34b099573989ed05ccbd6c9d758571c4b96\n"
     ]
    }
   ],
   "source": [
    "git rev-parse HEAD"
   ]
  },
  {
   "cell_type": "markdown",
   "id": "9fb67751-bbb3-4e07-a9c7-b509502903c7",
   "metadata": {
    "tags": []
   },
   "source": [
    "### Setup the faucet."
   ]
  },
  {
   "cell_type": "markdown",
   "id": "4c1053b7-899c-4df1-94bc-626300568286",
   "metadata": {},
   "source": [
    "Set the location of keys."
   ]
  },
  {
   "cell_type": "code",
   "execution_count": 4,
   "id": "7eba74b8-fb39-4a07-9080-211d46f9132a",
   "metadata": {},
   "outputs": [],
   "source": [
    "TREASURY=/extra/iohk/networks/treasury"
   ]
  },
  {
   "cell_type": "markdown",
   "id": "d5caee3c-c91e-49b8-aeb2-84b3170128d6",
   "metadata": {},
   "source": [
    "Set the faucet."
   ]
  },
  {
   "cell_type": "code",
   "execution_count": 5,
   "id": "054727ec-d1d3-4fdd-811f-95561dc807c5",
   "metadata": {},
   "outputs": [
    {
     "name": "stdout",
     "output_type": "stream",
     "text": [
      "addr_test1vq9prvx8ufwutkwxx9cmmuuajaqmjqwujqlp9d8pvg6gupczgtm9j\n"
     ]
    }
   ],
   "source": [
    "FAUCET_SKEY=$TREASURY/payment.skey\n",
    "FAUCET_ADDR=$(cat $TREASURY/payment.testnet.address)\n",
    "echo \"$FAUCET_ADDR\""
   ]
  },
  {
   "cell_type": "markdown",
   "id": "2894720b-50a2-4830-9a5d-e65b8e7c7dad",
   "metadata": {},
   "source": [
    "### Select network"
   ]
  },
  {
   "cell_type": "markdown",
   "id": "720ae956-275a-4b64-8460-cff5630104b4",
   "metadata": {},
   "source": [
    "In a separate terminal, set up a tunnel to the Marlowe Runtime development server:\n",
    "```bash\n",
    "rm /tmp/preview.socket\n",
    "ssh -NT \\\n",
    "  -L/tmp/preview.socket:/data/networks/preview/node.socket \\\n",
    "  -L 3717:127.0.0.1:23717 \\\n",
    "  -L 3718:127.0.0.1:23718 \\\n",
    "  -L 3719:127.0.0.1:23719 \\\n",
    "  -L 3721:127.0.0.1:23721 \\\n",
    "  -L 3723:127.0.0.1:23723 \\\n",
    "  54.202.238.5                                              \n",
    "```"
   ]
  },
  {
   "cell_type": "code",
   "execution_count": 6,
   "id": "ced2a30e-b2ba-435a-9199-bcfa0d6a8cf4",
   "metadata": {},
   "outputs": [
    {
     "name": "stdout",
     "output_type": "stream",
     "text": [
      "--testnet-magic 2\n"
     ]
    }
   ],
   "source": [
    "export CARDANO_NODE_SOCKET_PATH=/tmp/preview.socket\n",
    "export CARDANO_TESTNET_MAGIC=2\n",
    "MAGIC=(--testnet-magic 2)\n",
    "echo \"${MAGIC[@]}\""
   ]
  },
  {
   "cell_type": "markdown",
   "id": "1d696336-1e80-4f2d-b484-49a4cc1595a1",
   "metadata": {},
   "source": [
    "### Time computations"
   ]
  },
  {
   "cell_type": "code",
   "execution_count": 7,
   "id": "15b80716-4545-4558-825f-9d0dda82f8d5",
   "metadata": {},
   "outputs": [],
   "source": [
    "SECOND=1000\n",
    "MINUTE=$((60 * SECOND))\n",
    "HOUR=$((60 * MINUTE))\n",
    "DAY=$((24 * HOUR))"
   ]
  },
  {
   "cell_type": "code",
   "execution_count": 8,
   "id": "359b6f47-e0d1-4f84-8812-b96cfa361c2d",
   "metadata": {},
   "outputs": [
    {
     "name": "stdout",
     "output_type": "stream",
     "text": [
      "1665684683000\n"
     ]
    }
   ],
   "source": [
    "NOW=\"$(($(date -u +%s) * SECOND))\"\n",
    "echo \"$NOW\""
   ]
  },
  {
   "cell_type": "markdown",
   "id": "6649b7a2-3f9e-4dd4-bde7-11699c6bf27f",
   "metadata": {},
   "source": [
    "### Check that the reference script has been published"
   ]
  },
  {
   "cell_type": "markdown",
   "id": "8f88e700-a21f-4fd4-b785-35f39d767e49",
   "metadata": {},
   "source": [
    "Check that the Marlowe semantics validator was published."
   ]
  },
  {
   "cell_type": "code",
   "execution_count": 9,
   "id": "eb29caeb-c563-4e7d-922a-b5350642cc0f",
   "metadata": {},
   "outputs": [
    {
     "name": "stdout",
     "output_type": "stream",
     "text": [
      "\n",
      "Searching for reference script at address: addr_test1vrw0tuh8l95thdqr65dmpcfqnmcw0en7v7vhgegck7gzqgswa07sw\n",
      "\n",
      "Expected reference script hash: \"6a9391d6aa51af28dd876ebb5565b69d1e83e5ac7861506bd29b56b0\"\n",
      "\n",
      "Searching for reference script at address: addr_test1vpa36uuyf95kxpcleldsncedlhjru6vdmh2vnpkdrsz4u6cll9zas\n",
      "\n",
      "Expected reference script hash: \"49076eab20243dc9462511fb98a9cfb719f86e9692288139b7c91df3\"\n",
      "{\n",
      "    \"marlowe\": {\n",
      "        \"hash\": \"6a9391d6aa51af28dd876ebb5565b69d1e83e5ac7861506bd29b56b0\",\n",
      "        \"txIn\": \"087f21f109a997193421a81886ea8c6397d336d19e696457b9c5c7aefdc31873#1\"\n",
      "    },\n",
      "    \"payout\": {\n",
      "        \"hash\": \"49076eab20243dc9462511fb98a9cfb719f86e9692288139b7c91df3\",\n",
      "        \"txIn\": \"087f21f109a997193421a81886ea8c6397d336d19e696457b9c5c7aefdc31873#2\"\n",
      "    }\n",
      "}\n"
     ]
    }
   ],
   "source": [
    "marlowe-cli transaction find-published"
   ]
  },
  {
   "cell_type": "markdown",
   "id": "7ae0e907-2c31-4b85-926d-c62dc9cafc49",
   "metadata": {},
   "source": [
    "### Participants"
   ]
  },
  {
   "cell_type": "markdown",
   "id": "ea318fc6-f1dc-46a8-a4e7-83ee23a42ec3",
   "metadata": {},
   "source": [
    "#### The Party"
   ]
  },
  {
   "cell_type": "code",
   "execution_count": 10,
   "id": "009fed78-8410-4894-b904-d6ea92982d70",
   "metadata": {},
   "outputs": [],
   "source": [
    "PARTY_SKEY=\"$TREASURY/john-fletcher.skey\"\n",
    "PARTY_VKEY=\"$TREASURY/john-fletcher.vkey\""
   ]
  },
  {
   "cell_type": "markdown",
   "id": "df56d582-919c-438f-986a-a9a3fffc40c7",
   "metadata": {},
   "source": [
    "Create the first party's keys, if necessary."
   ]
  },
  {
   "cell_type": "code",
   "execution_count": 11,
   "id": "0de60d98-b79e-43fc-8c7d-fd494c76390d",
   "metadata": {},
   "outputs": [
    {
     "name": "stdout",
     "output_type": "stream",
     "text": [
      "addr_test1vqwt2xlr4d8yk4qws675exlqy6pdhq2s76wrehkjggkvr0cerfe8r\n"
     ]
    }
   ],
   "source": [
    "if [[ ! -e \"$PARTY_SKEY\" ]]\n",
    "then\n",
    "  cardano-cli address key-gen --signing-key-file \"$PARTY_SKEY\" --verification-key-file \"$PARTY_VKEY\"\n",
    "fi\n",
    "PARTY_ADDR=$(cardano-cli address build \"${MAGIC[@]}\" --payment-verification-key-file \"$PARTY_VKEY\")\n",
    "echo \"$PARTY_ADDR\""
   ]
  },
  {
   "cell_type": "markdown",
   "id": "17b4396a-a8ac-4976-bda4-968daaaa190e",
   "metadata": {},
   "source": [
    "Fund the address."
   ]
  },
  {
   "cell_type": "code",
   "execution_count": 12,
   "id": "ff90fa3f-1422-4632-abb7-19c5e5b5d2ed",
   "metadata": {},
   "outputs": [
    {
     "name": "stdout",
     "output_type": "stream",
     "text": [
      "TxId \"4de4a6a7eeaa0fc05892feb0591354f23e66c193e314f4f28edd3fbe2306dfbb\"\n"
     ]
    }
   ],
   "source": [
    "marlowe-cli util fund-address \\\n",
    "  --out-file /dev/null \\\n",
    "  --submit 600 \\\n",
    "  --lovelace 250000000 \\\n",
    "  --source-wallet-credentials \"$FAUCET_ADDR:$FAUCET_SKEY\" \\\n",
    "  \"$PARTY_ADDR\""
   ]
  },
  {
   "cell_type": "markdown",
   "id": "beac2b0a-83c9-4f13-a1b2-d4ae12795bc7",
   "metadata": {},
   "source": [
    "#### The Counterparty"
   ]
  },
  {
   "cell_type": "code",
   "execution_count": 13,
   "id": "359d2b9b-9bc3-4688-9689-9ef2c69cd382",
   "metadata": {},
   "outputs": [],
   "source": [
    "COUNTERPARTY_SKEY=\"$TREASURY/thomas-kyd.skey\"\n",
    "COUNTERPARTY_VKEY=\"$TREASURY/thomas-kyd.vkey\""
   ]
  },
  {
   "cell_type": "markdown",
   "id": "cc9ff64b-fc5b-4308-8b6c-9208985b3600",
   "metadata": {},
   "source": [
    "Create the second party's keys, if necessary."
   ]
  },
  {
   "cell_type": "code",
   "execution_count": 14,
   "id": "c4297420-6c47-4716-bbb3-c5bb0be2ef9a",
   "metadata": {},
   "outputs": [
    {
     "name": "stdout",
     "output_type": "stream",
     "text": [
      "addr_test1vr7n0zzth5zycuh972w7rdmh48qur4f3wu6ntn2m2h30dlcvltuy5\n"
     ]
    }
   ],
   "source": [
    "if [[ ! -e \"$COUNTERPARTY_SKEY\" ]]\n",
    "then\n",
    "  cardano-cli address key-gen --signing-key-file \"$COUNTERPARTY_SKEY\" --verification-key-file \"$COUNTERPARTY_VKEY\"\n",
    "fi\n",
    "COUNTERPARTY_ADDR=$(cardano-cli address build \"${MAGIC[@]}\" --payment-verification-key-file \"$COUNTERPARTY_VKEY\")\n",
    "echo \"$COUNTERPARTY_ADDR\""
   ]
  },
  {
   "cell_type": "markdown",
   "id": "0556be66-9ca7-4e91-9c85-bd885311c611",
   "metadata": {},
   "source": [
    "Fund the address."
   ]
  },
  {
   "cell_type": "code",
   "execution_count": 15,
   "id": "77bc9000-d2e3-4996-a2ae-a7d0c625aa70",
   "metadata": {},
   "outputs": [
    {
     "name": "stdout",
     "output_type": "stream",
     "text": [
      "TxId \"18cca2e330a45b3f684d68ee3c9614d93320792b5ad6d0364b756f64efeb49b2\"\n"
     ]
    }
   ],
   "source": [
    "marlowe-cli util fund-address \\\n",
    "  --out-file /dev/null \\\n",
    "  --submit 600  \\\n",
    "  --lovelace 250000000 \\\n",
    "  --source-wallet-credentials \"$FAUCET_ADDR:$FAUCET_SKEY\" \\\n",
    "  \"$COUNTERPARTY_ADDR\""
   ]
  },
  {
   "cell_type": "markdown",
   "id": "eb417b36-effb-4fc2-ae81-b7fce917aa7b",
   "metadata": {},
   "source": [
    "## The Contract"
   ]
  },
  {
   "cell_type": "markdown",
   "id": "b04afd25-7baa-46ef-b4e5-549402d14cd7",
   "metadata": {},
   "source": [
    "We set the parameters for the ACTUS PAM contract."
   ]
  },
  {
   "cell_type": "code",
   "execution_count": 16,
   "id": "c5845b3d-12cf-47f0-a53c-0da3e4fe89f2",
   "metadata": {
    "tags": []
   },
   "outputs": [],
   "source": [
    "MINIMUM_ADA=3000000\n",
    "\n",
    "FIXED_POINT=1000000\n",
    "PRINCIPAL=100\n",
    "INTEREST_RATE=0.02\n",
    "INTEREST=$(jq -n $PRINCIPAL*$INTEREST_RATE)\n",
    "\n",
    "STATUS_DATE=$(date -d \"$(date -u -R -d @$((NOW/1000)))\" +\"%Y-%m-%dT00:00:00\")\n",
    "INITIAL_EXCHANGE_DATE=$(date -d \"$(date -u -R -d @$((NOW/1000))) + 1 year\" +\"%Y-01-01T00:00:00\")\n",
    "MATURITY_DATE=$(date -d \"$(date -u -R -d @$((NOW/1000))) + 2 year\" +\"%Y-01-01T00:00:00\")\n",
    "\n",
    "LENDING_DEADLINE=$((NOW+12*HOUR))\n",
    "REPAYMENT_DEADLINE=$((NOW+24*HOUR))"
   ]
  },
  {
   "cell_type": "code",
   "execution_count": 17,
   "id": "ece6fd44-d1ea-44b6-a8e4-240c4549417c",
   "metadata": {},
   "outputs": [
    {
     "name": "stdout",
     "output_type": "stream",
     "text": [
      "{\"accruedInterest\":0,\"collateralAmount\":0,\"contractId\":\"0\",\"contractPerformance\":\"PF\",\"contractRole\":\"RPA\",\"contractType\":\"PAM\",\"cycleAnchorDateOfInterestPayment\":\"2023-01-01T00:00:00\",\"cycleOfInterestPayment\":\"P1YL1\",\"dayCountConvention\":\"30E360\",\"enableSettlement\":false,\"initialExchangeDate\":\"2023-01-01T00:00:00\",\"interestCalculationBase\":\"NT\",\"maturityDate\":\"2024-01-01T00:00:00\",\"nominalInterestRate\":0.02,\"notionalPrincipal\":100,\"penaltyType\":\"O\",\"prepaymentEffect\":\"N\",\"scheduleConfig\":{\"businessDayConvention\":\"NULL\",\"calendar\":\"NC\",\"endOfMonthConvention\":\"EOM\"},\"statusDate\":\"2022-10-13T00:00:00\"}\n"
     ]
    }
   ],
   "source": [
    "yaml2json << EOI > history.actus\n",
    "scheduleConfig:\n",
    "  businessDayConvention: \"NULL\"\n",
    "  endOfMonthConvention: \"EOM\"\n",
    "  calendar: \"NC\"\n",
    "maturityDate: \"$MATURITY_DATE\"\n",
    "contractId: \"0\"\n",
    "enableSettlement: false\n",
    "initialExchangeDate: \"$INITIAL_EXCHANGE_DATE\"\n",
    "contractRole: \"RPA\"\n",
    "penaltyType: \"O\"\n",
    "cycleAnchorDateOfInterestPayment: \"$INITIAL_EXCHANGE_DATE\"\n",
    "contractType: \"PAM\"\n",
    "notionalPrincipal: $PRINCIPAL\n",
    "contractPerformance: \"PF\"\n",
    "collateralAmount: 0\n",
    "dayCountConvention: \"30E360\"\n",
    "accruedInterest: 0\n",
    "statusDate: \"$STATUS_DATE\"\n",
    "cycleOfInterestPayment: \"P1YL1\"\n",
    "prepaymentEffect: \"N\"\n",
    "nominalInterestRate: $INTEREST_RATE\n",
    "interestCalculationBase: \"NT\"\n",
    "EOI\n",
    "cat history.actus"
   ]
  },
  {
   "cell_type": "markdown",
   "id": "d58d8071-9907-4d2c-b686-48139d7841ca",
   "metadata": {},
   "source": [
    "Create the contract and its initial state."
   ]
  },
  {
   "cell_type": "code",
   "execution_count": 18,
   "id": "028339ed-6d5e-4e71-9895-3a965a0252c9",
   "metadata": {},
   "outputs": [],
   "source": [
    "marlowe-cli template actus \\\n",
    "  --minimum-ada \"$MINIMUM_ADA\" \\\n",
    "  --party \"$PARTY_ADDR\" \\\n",
    "  --counter-party \"$COUNTERPARTY_ADDR\" \\\n",
    "  --actus-terms-file  history.actus \\\n",
    "  --out-contract-file create-1.contract \\\n",
    "  --out-state-file    create-1.state"
   ]
  },
  {
   "cell_type": "markdown",
   "id": "cc6d76dd-d7f0-4a83-ad1e-affd955e98a6",
   "metadata": {},
   "source": [
    "View the contract."
   ]
  },
  {
   "cell_type": "code",
   "execution_count": 19,
   "id": "661bb16a-2739-4354-a796-bbaedf39f698",
   "metadata": {},
   "outputs": [
    {
     "name": "stdout",
     "output_type": "stream",
     "text": [
      "timeout: 1672531200000\n",
      "timeout_continuation: close\n",
      "when:\n",
      "- case:\n",
      "    deposits:\n",
      "      negate:\n",
      "        negate: 100000000\n",
      "    into_account:\n",
      "      address: addr_test1vqwt2xlr4d8yk4qws675exlqy6pdhq2s76wrehkjggkvr0cerfe8r\n",
      "    of_token:\n",
      "      currency_symbol: ''\n",
      "      token_name: ''\n",
      "    party:\n",
      "      address: addr_test1vqwt2xlr4d8yk4qws675exlqy6pdhq2s76wrehkjggkvr0cerfe8r\n",
      "  then:\n",
      "    from_account:\n",
      "      address: addr_test1vqwt2xlr4d8yk4qws675exlqy6pdhq2s76wrehkjggkvr0cerfe8r\n",
      "    pay: 100000000\n",
      "    then:\n",
      "      timeout: 1704067200000\n",
      "      timeout_continuation: close\n",
      "      when:\n",
      "      - case:\n",
      "          deposits: 2000000\n",
      "          into_account:\n",
      "            address: addr_test1vr7n0zzth5zycuh972w7rdmh48qur4f3wu6ntn2m2h30dlcvltuy5\n",
      "          of_token:\n",
      "            currency_symbol: ''\n",
      "            token_name: ''\n",
      "          party:\n",
      "            address: addr_test1vr7n0zzth5zycuh972w7rdmh48qur4f3wu6ntn2m2h30dlcvltuy5\n",
      "        then:\n",
      "          from_account:\n",
      "            address: addr_test1vr7n0zzth5zycuh972w7rdmh48qur4f3wu6ntn2m2h30dlcvltuy5\n",
      "          pay: 2000000\n",
      "          then:\n",
      "            timeout: 1704067200000\n",
      "            timeout_continuation: close\n",
      "            when:\n",
      "            - case:\n",
      "                deposits: 100000000\n",
      "                into_account:\n",
      "                  address: addr_test1vr7n0zzth5zycuh972w7rdmh48qur4f3wu6ntn2m2h30dlcvltuy5\n",
      "                of_token:\n",
      "                  currency_symbol: ''\n",
      "                  token_name: ''\n",
      "                party:\n",
      "                  address: addr_test1vr7n0zzth5zycuh972w7rdmh48qur4f3wu6ntn2m2h30dlcvltuy5\n",
      "              then:\n",
      "                from_account:\n",
      "                  address: addr_test1vr7n0zzth5zycuh972w7rdmh48qur4f3wu6ntn2m2h30dlcvltuy5\n",
      "                pay: 100000000\n",
      "                then: close\n",
      "                to:\n",
      "                  party:\n",
      "                    address: addr_test1vqwt2xlr4d8yk4qws675exlqy6pdhq2s76wrehkjggkvr0cerfe8r\n",
      "                token:\n",
      "                  currency_symbol: ''\n",
      "                  token_name: ''\n",
      "          to:\n",
      "            party:\n",
      "              address: addr_test1vqwt2xlr4d8yk4qws675exlqy6pdhq2s76wrehkjggkvr0cerfe8r\n",
      "          token:\n",
      "            currency_symbol: ''\n",
      "            token_name: ''\n",
      "    to:\n",
      "      party:\n",
      "        address: addr_test1vr7n0zzth5zycuh972w7rdmh48qur4f3wu6ntn2m2h30dlcvltuy5\n",
      "    token:\n",
      "      currency_symbol: ''\n",
      "      token_name: ''\n"
     ]
    }
   ],
   "source": [
    "json2yaml create-1.contract"
   ]
  },
  {
   "cell_type": "markdown",
   "id": "03fd3d25-82b7-4cb0-a2ac-07be12ec5147",
   "metadata": {},
   "source": [
    "View the initial state."
   ]
  },
  {
   "cell_type": "code",
   "execution_count": 20,
   "id": "06aaed6b-3916-4ea5-8a1b-40c58cbe1aea",
   "metadata": {},
   "outputs": [
    {
     "name": "stdout",
     "output_type": "stream",
     "text": [
      "accounts:\n",
      "- - - address: addr_test1vqwt2xlr4d8yk4qws675exlqy6pdhq2s76wrehkjggkvr0cerfe8r\n",
      "    - currency_symbol: ''\n",
      "      token_name: ''\n",
      "  - 3000000\n",
      "boundValues: []\n",
      "choices: []\n",
      "minTime: 1\n"
     ]
    }
   ],
   "source": [
    "json2yaml create-1.state"
   ]
  },
  {
   "cell_type": "markdown",
   "id": "a1548c6e-3288-4a7e-90f4-6439edeb22ca",
   "metadata": {},
   "source": [
    "## Run the Contract"
   ]
  },
  {
   "cell_type": "markdown",
   "id": "f2eb9ff2-86b8-437e-aa04-a1a38cebea9a",
   "metadata": {},
   "source": [
    "### Transaction 1. Create the ontract"
   ]
  },
  {
   "cell_type": "markdown",
   "id": "8bb180fb-1d68-4501-9b32-d7f69104de6d",
   "metadata": {},
   "source": [
    "First we create a `.marlowe` file that contains the initial information needed to run the contract."
   ]
  },
  {
   "cell_type": "code",
   "execution_count": 21,
   "id": "a7641e72-ff1b-45c2-9552-021963aee59b",
   "metadata": {},
   "outputs": [
    {
     "name": "stdout",
     "output_type": "stream",
     "text": [
      "\n",
      "Validator size: 12505\n",
      "Base-validator cost: ExBudget {exBudgetCPU = ExCPU 18515100, exBudgetMemory = ExMemory 80600}\n"
     ]
    }
   ],
   "source": [
    "marlowe-cli run initialize \\\n",
    "  --contract-file create-1.contract \\\n",
    "  --state-file    create-1.state    \\\n",
    "  --out-file      create-1.marlowe  \\\n",
    "  --print-stats"
   ]
  },
  {
   "cell_type": "markdown",
   "id": "faafcccf-d07c-4f8e-9ff8-a654e76e8ff7",
   "metadata": {},
   "source": [
    "See what UTxOs the transaction-creation will have available to select from."
   ]
  },
  {
   "cell_type": "code",
   "execution_count": 22,
   "id": "b0c60ede-d8c6-47f9-adcd-d3245ef60467",
   "metadata": {},
   "outputs": [
    {
     "name": "stdout",
     "output_type": "stream",
     "text": [
      "                           TxHash                                 TxIx        Amount\n",
      "--------------------------------------------------------------------------------------\n",
      "4de4a6a7eeaa0fc05892feb0591354f23e66c193e314f4f28edd3fbe2306dfbb     1        250000000 lovelace + TxOutDatumNone\n"
     ]
    }
   ],
   "source": [
    "cardano-cli query utxo \"${MAGIC[@]}\" --address \"$PARTY_ADDR\""
   ]
  },
  {
   "cell_type": "markdown",
   "id": "ab570c22-0af1-4168-9269-ebefce6bfa6d",
   "metadata": {},
   "source": [
    "Build the transaction."
   ]
  },
  {
   "cell_type": "code",
   "execution_count": 23,
   "id": "142661e5-a5b3-4e48-9d02-d5aca344d2e2",
   "metadata": {},
   "outputs": [
    {
     "name": "stdout",
     "output_type": "stream",
     "text": [
      "CreateFailed (CreateConstraintError (CoinSelectionFailed \"Insufficient lovelace available for coin selection: valueFromList [(AdaAssetId,67988919300),(AssetId \\\"01269d3e41e5c27c06f6b3659c3091dcd84c64223aa78333bd9c1a11\\\" \\\"Globe\\\",900),(AssetId \\\"01304682a9b43354981136e6c79faaa8ff2a76c157e1ffb4014e5ff4\\\" \\\"JF\\\",4),(AssetId \\\"01304682a9b43354981136e6c79faaa8ff2a76c157e1ffb4014e5ff4\\\" \\\"TM\\\",1),(AssetId \\\"01dea31654ba6bc94d1bac39cf3244033be5f7c7bf0ff039244c41fa\\\" \\\"Globe\\\",600),(AssetId \\\"01f12e84792c8142eb9dade9c8a3f0639237c679afe48b0132995ba3\\\" \\\"Globe\\\",600),(AssetId \\\"023e0ed8a9cdd92f7b28739f06f2b77e301f340880c6c340cbe6a207\\\" \\\"CP\\\",1),(AssetId \\\"023e0ed8a9cdd92f7b28739f06f2b77e301f340880c6c340cbe6a207\\\" \\\"PA\\\",4),(AssetId \\\"0706dd425b6cc06815f0aed948d263fa76cff2cbccdec8540cac268c\\\" \\\"Globe\\\",900),(AssetId \\\"094cb94315466861f1b8a785cd96ea8d1b740d6ff82c25c430b9c67a\\\" \\\"Swan\\\",500),(AssetId \\\"09f911c0c907365473207c9df3763d8adf57c42f03cacd1b93e3edfa\\\" \\\"Swan\\\",500),(AssetId \\\"0f044dc50cb4d4c71808fef013fbbc51f7511da4d25842dbbd3d58af\\\" \\\"Swan\\\",500),(AssetId \\\"10d6eca788f9920ab6068c4ea455421d53f0bf75e129c55f8a694fc9\\\" \\\"Globe\\\",1200),(AssetId \\\"13357dc96e295abc54ae940a158582680b26a4445b4665c2e4e49d3d\\\" \\\"Globe\\\",900),(AssetId \\\"136556935bafd7920459f1c2ab4c89ddf2197128dc3ba44bc64097ad\\\" \\\"JF\\\",3),(AssetId \\\"136556935bafd7920459f1c2ab4c89ddf2197128dc3ba44bc64097ad\\\" \\\"TM\\\",2),(AssetId \\\"13d32b28fbb50440a92f618434d91a6bdbf46d4da9a7838a82937492\\\" \\\"Swan\\\",500),(AssetId \\\"15ecb517d1ff4f53a72e79d554d5668700c0326dbd0cfc94d3b2d687\\\" \\\"Globe\\\",900),(AssetId \\\"165de29047e77b07b7bf68b9ea0289c8b4077a6a5aba542609c031ce\\\" \\\"Globe\\\",900),(AssetId \\\"1adcdf3d9fd9ff035ea22e5c72383e956f1ea5550a457983b94a88f1\\\" \\\"Swan\\\",500),(AssetId \\\"1c94e9eb93aa0c65b0c8eab919b119a609942a6b9325fc0676c129e7\\\" \\\"Swan\\\",500),(AssetId \\\"1f7f1f8983695d8827fe85cc56a7ddb59065e752d7cb673d82a2b5a3\\\" \\\"CP\\\",1),(AssetId \\\"1f7f1f8983695d8827fe85cc56a7ddb59065e752d7cb673d82a2b5a3\\\" \\\"PA\\\",1),(AssetId \\\"20a65d46f059cf4e52f97bba60573b2d54cf0e47d76980ed12f84fdd\\\" \\\"Globe\\\",600),(AssetId \\\"217153e59f54128af1be463c1b54c77c978a0d51ec7881de402dc961\\\" \\\"JF\\\",4),(AssetId \\\"217153e59f54128af1be463c1b54c77c978a0d51ec7881de402dc961\\\" \\\"TM\\\",1),(AssetId \\\"24f04a2b426f7f4f41ae3ab8aa17d9550f028c7c48eae5b13009c369\\\" \\\"Globe\\\",900),(AssetId \\\"25c5b09faf24c4140909178b771c90bace6e9bef799c1cf7ed1cc9a4\\\" \\\"Swan\\\",500),(AssetId \\\"27f8d0b161739633e22b4bd12f0f6c6f916ac4fa1c4cdcb5a8c08ccc\\\" \\\"Globe\\\",900),(AssetId \\\"284d47c648bdbdf2d74f97894fe77c855af0c327e4b8f405859ac9eb\\\" \\\"Swan\\\",500),(AssetId \\\"2a5d67ad0d6d1cdf60e0ec11fe695e97b6ec0c8e103a0dae1c97afc2\\\" \\\"Globe\\\",900),(AssetId \\\"2aa29471ff23cd3a5822d23d0a275bb3c265786e79b794a2eeb61025\\\" \\\"Globe\\\",900),(AssetId \\\"2f06ab8c285c717a02cd15e54e3299505acbef33ddfd71dafdc6cd52\\\" \\\"JF\\\",4),(AssetId \\\"2f06ab8c285c717a02cd15e54e3299505acbef33ddfd71dafdc6cd52\\\" \\\"TM\\\",2),(AssetId \\\"315253f9111e94f650faf3f5d17636f5addf4badb873dc81f2e1d835\\\" \\\"Swan\\\",500),(AssetId \\\"3264daa604d3fc68566930ac121306cfc04de95ea0ac475c32516b26\\\" \\\"Swan\\\",500),(AssetId \\\"3319b3b05cc1dc22f1e709d42793b6fe1aead1f57313919553c4e15c\\\" \\\"CP\\\",1),(AssetId \\\"3319b3b05cc1dc22f1e709d42793b6fe1aead1f57313919553c4e15c\\\" \\\"PA\\\",4),(AssetId \\\"359bb618579fb3dd6d73e8e4fa3b27090a64811c7d095b13bc138c6c\\\" \\\"Globe\\\",900),(AssetId \\\"3935c9c8dc778bd095051f7312cb3a7621669d593a08238c612398cb\\\" \\\"Swan\\\",500),(AssetId \\\"399f24f31d3f00b8fe90f72ed33c8f396ddc50b027b7c76a71abdbbc\\\" \\\"CP\\\",1),(AssetId \\\"399f24f31d3f00b8fe90f72ed33c8f396ddc50b027b7c76a71abdbbc\\\" \\\"PA\\\",4),(AssetId \\\"39a649fd77787c2210c94658945e56e32400ff23ca0d207e1c349a6e\\\" \\\"JF\\\",3),(AssetId \\\"39a649fd77787c2210c94658945e56e32400ff23ca0d207e1c349a6e\\\" \\\"TM\\\",2),(AssetId \\\"3ba2fa33694d379ce2e936b4dba68a6cc1b235be8e19c0c19e6f4b4c\\\" \\\"Globe\\\",900),(AssetId \\\"3cf9bdbc072a86066fd1cbac57297b24914f50ef8d5081dd1b4450af\\\" \\\"Swan\\\",500),(AssetId \\\"3d8535f98445dbab48024630d44b43c9c08f3b5df7121678515c1085\\\" \\\"Swan\\\",500),(AssetId \\\"3e20c399eabd9b71db567495da85653fd0e5ae0b06f8c8aa24ccaf4a\\\" \\\"Globe\\\",900),(AssetId \\\"3f00947066d4aa2f755446dd5de7d0ec0dead03444661280bbea739b\\\" \\\"Swan\\\",500),(AssetId \\\"3f1937bef77e16f3d60dc3fe59d4c6bda5a10e8c7231e23291953bc0\\\" \\\"Globe\\\",600),(AssetId \\\"408f3d8423fda43915f20465f938cceedc3324ebdb71efe8654cb9c4\\\" \\\"Swan\\\",500),(AssetId \\\"433f80bb31260458e488f0a5a488bd61dca058c6a6bcae44b90d96c5\\\" \\\"Globe\\\",900),(AssetId \\\"443b553aaa6b77995714f51a9bacb2a81d83f43b28ddf71c7703a7ae\\\" \\\"Swan\\\",500),(AssetId \\\"480e9b8d5574b21c1768c32b21fa9c4528bfe17017e95fcb41960b69\\\" \\\"JF\\\",4),(AssetId \\\"480e9b8d5574b21c1768c32b21fa9c4528bfe17017e95fcb41960b69\\\" \\\"TM\\\",1),(AssetId \\\"4b6897a0af19de09282bad1b3d191ace3c61ec364aa009102f0d23b3\\\" \\\"Globe\\\",900),(AssetId \\\"4d4a2aa1057e77178693fbc6e41825ab1162f6e009ce48df10a22ca4\\\" \\\"JF\\\",3),(AssetId \\\"4d4a2aa1057e77178693fbc6e41825ab1162f6e009ce48df10a22ca4\\\" \\\"TM\\\",2),(AssetId \\\"4d4fbba15d36506985cbd9bc98e53a8aa71820d0ff828fa4e99c76dc\\\" \\\"Swan\\\",500),(AssetId \\\"4e2480b03b44004c6f8bd041d6915e7aff7b9d67e8e393bb148787e0\\\" \\\"Globe\\\",1200),(AssetId \\\"529c49c079e601b5a9eb110dcdbc6f07a28a60036ead9aadee69ae65\\\" \\\"CP\\\",1),(AssetId \\\"529c49c079e601b5a9eb110dcdbc6f07a28a60036ead9aadee69ae65\\\" \\\"PA\\\",4),(AssetId \\\"557132a9fec57316d6fbd0db506382b604ff42d8f3b1ad4ec8ab9bb2\\\" \\\"JF\\\",4),(AssetId \\\"557132a9fec57316d6fbd0db506382b604ff42d8f3b1ad4ec8ab9bb2\\\" \\\"TM\\\",1),(AssetId \\\"5710d8ed1ad8ad3bc45f39a1eaeae690b4c3415b1cee973ad127b4c4\\\" \\\"Globe\\\",900),(AssetId \\\"5799b669a944f6ecabac80a84e465e44172310251d9a0b3979c47872\\\" \\\"CP\\\",1),(AssetId \\\"5799b669a944f6ecabac80a84e465e44172310251d9a0b3979c47872\\\" \\\"PA\\\",4),(AssetId \\\"57f12547e9f129a8088aeaf44cee58a0745558b83fb53b86fbad308a\\\" \\\"Swan\\\",500),(AssetId \\\"59dd9ed6ec24c3244aa012ef9ce4448d918d06dcbe52ecca06b6dafd\\\" \\\"Globe\\\",900),(AssetId \\\"5c540198a7c1777501f14b70974c285a1577c74662b8e5e1321e5937\\\" \\\"Globe\\\",900),(AssetId \\\"5e5467b36877bf6429ec7a7fb507caf1379eb8a27521a83125a6440a\\\" \\\"Swan\\\",500),(AssetId \\\"6010f7873b471abbfdb8d2c2b010fd2173da0dd7da0be039fdb1eed0\\\" \\\"Globe\\\",900),(AssetId \\\"627ff9856106dffe76d2eb27d0ea4b936e94c561267fea2f54da121f\\\" \\\"Globe\\\",600),(AssetId \\\"62a2951bf690687e33e9befaede264f3c4200efb83be0eb755481ad9\\\" \\\"Swan\\\",500),(AssetId \\\"66c1620456fb09311d0039b925e792dd15e4f798a5de810f4637cc6b\\\" \\\"Swan\\\",500),(AssetId \\\"6a929110d8e525b4033ac426a9722ca28a3a0dbe70a0067fa193b294\\\" \\\"Globe\\\",900),(AssetId \\\"6b23dc8d7e8cec2d81a919baad7fc9f490959375af285c03275376a5\\\" \\\"JF\\\",3),(AssetId \\\"6b23dc8d7e8cec2d81a919baad7fc9f490959375af285c03275376a5\\\" \\\"TM\\\",2),(AssetId \\\"6c1e775bd2874917de332a4ad18445f99fa031ec0bc67cce2ea9dd72\\\" \\\"Swan\\\",500),(AssetId \\\"758a7176f43cddd67bee52ca750d1b3be04e57306ef7952f62f13cb8\\\" \\\"Swan\\\",500),(AssetId \\\"773f21610ae12f098391bbecc33ef716e858e61c23a95fcb02e2d614\\\" \\\"Globe\\\",900),(AssetId \\\"7797b6f5effa8e8c70c2322fc2705804b958bc7c1df2ef8408029fce\\\" \\\"Swan\\\",500),(AssetId \\\"78278f5f8b5c084019c278404b8650d2e6b2f0716655d32f8c2bf7ac\\\" \\\"Swan\\\",500),(AssetId \\\"795dd33ebc74b13add175a288edf564af493e4825a14b734305444ee\\\" \\\"Swan\\\",500),(AssetId \\\"7d5d9f0da79b3d7b90e60e782334f8d3bd1e50281747925a5a019109\\\" \\\"Globe\\\",900),(AssetId \\\"7fcfd4956b64ce50c02695b39627b141e2e5e75327c7e5fd6ecf1804\\\" \\\"Swan\\\",500),(AssetId \\\"8154d7e37225b9024bf90024d83f4392cdecb7316c0fbcb450694129\\\" \\\"Swan\\\",500),(AssetId \\\"8192feaa5d74b08f4a0d70f1d7a005205b48db21b9c448809e71cfa4\\\" \\\"Globe\\\",600),(AssetId \\\"8532af0757f7a9703069e8a8e5f158b2b6e4d7687843d350cd61f592\\\" \\\"Globe\\\",600),(AssetId \\\"86500f470c1d410720f5144a11fc04ce8be53c7c66a4cdfb1eb1e2f6\\\" \\\"Swan\\\",500),(AssetId \\\"87376f59d9c6ad99150ed0687f956a4a71d9777e09113cb0efd090c6\\\" \\\"JF\\\",4),(AssetId \\\"87376f59d9c6ad99150ed0687f956a4a71d9777e09113cb0efd090c6\\\" \\\"TM\\\",1),(AssetId \\\"8c6f05111f6ca4fe89864f19041c5e14c52571e616916e11f8190128\\\" \\\"Swan\\\",500),(AssetId \\\"8d75fb30cf96a18bb0caa1edba859cbe8806dc08f85aa30902ab93f4\\\" \\\"CP\\\",1),(AssetId \\\"8d75fb30cf96a18bb0caa1edba859cbe8806dc08f85aa30902ab93f4\\\" \\\"PA\\\",4),(AssetId \\\"8e0a9f41529c82064ac255e53c07fa7f0310d3ed3614144c0b7149df\\\" \\\"Globe\\\",600),(AssetId \\\"91fc99f6e5dbcf37141656d413a1bd39a501429e5af0eef3fa0468cb\\\" \\\"Globe\\\",600),(AssetId \\\"93538bad349fed11e0afefd96cc70ef06237ee834f65a2ab592a12e1\\\" \\\"JF\\\",4),(AssetId \\\"93538bad349fed11e0afefd96cc70ef06237ee834f65a2ab592a12e1\\\" \\\"TM\\\",1),(AssetId \\\"94b2941e50a2ae7e642dccff9f66fa02a12cd4b3dc5b43fcff924633\\\" \\\"Swan\\\",500),(AssetId \\\"95810d3ec14f51eb306abe2900b8da6e0c39d5149c7e73ebacc752df\\\" \\\"Swan\\\",500),(AssetId \\\"96f1643e5846c0894a156155fe4fc02778fb6d76675385ec1e80962e\\\" \\\"CP\\\",1),(AssetId \\\"96f1643e5846c0894a156155fe4fc02778fb6d76675385ec1e80962e\\\" \\\"PA\\\",4),(AssetId \\\"975d734c1d5fdc6da35e703fce439be4e9ad07dda5d10525fb361361\\\" \\\"JF\\\",3),(AssetId \\\"975d734c1d5fdc6da35e703fce439be4e9ad07dda5d10525fb361361\\\" \\\"TM\\\",2),(AssetId \\\"97d08e52e0ab0ef505b1e176cc594f3577ed7eb69ae8f04e08870ca9\\\" \\\"Swan\\\",500),(AssetId \\\"9a58b97712a0e2e346498ac828e46b67f3cfc38f7f197a29cd6580d5\\\" \\\"Globe\\\",900),(AssetId \\\"9d1d474ef9c11eeed106e771157727f19814b2204bbdfc5332f324c3\\\" \\\"Globe\\\",900),(AssetId \\\"9dbab94a4b36209dac1c336ea240f44486b6b90ce32b622216a396af\\\" \\\"Swan\\\",500),(AssetId \\\"9dc9f7b0dd2b0c17c3883918b769331a793a3bea5b59f777f44c02d4\\\" \\\"Swan\\\",500),(AssetId \\\"a1c7360ad1e3469d27c1efe618ca66201324f4807ee5e46fc10ecf74\\\" \\\"Globe\\\",900),(AssetId \\\"a88bfbb4070ea0288d389f3cd4074f9346487587ab50e9d37eb37739\\\" \\\"Globe\\\",600),(AssetId \\\"ac24d9fa320551c8b5527d6c5b208687dc5e90542f72536cf3aff9cc\\\" \\\"Swan\\\",500),(AssetId \\\"b048f583c098d847fa0fd80912bf8ee7e69b94c190f8b0bd77225325\\\" \\\"Swan\\\",500),(AssetId \\\"b0fb2047d72c209769881386ca52b0867751d12393e34049fccf2432\\\" \\\"Swan\\\",500),(AssetId \\\"b17aa59ad551aef1bb77a3d81c1822a5407cada76cf75e6b43c3bc21\\\" \\\"Globe\\\",600),(AssetId \\\"b27d16ab6d16d801025afa19033391a5f9977ef5b8d34cb109d87614\\\" \\\"JF\\\",4),(AssetId \\\"b27d16ab6d16d801025afa19033391a5f9977ef5b8d34cb109d87614\\\" \\\"TM\\\",1),(AssetId \\\"b5ba5594091686076974711b11ec650901ceb71c536147d04b74d502\\\" \\\"Swan\\\",500),(AssetId \\\"b8630043aaa9f8d6abc8f257c7ce3315637655539530e30d910d735c\\\" \\\"Swan\\\",500),(AssetId \\\"b892291d4f52cee1f1fdefcbe783d18f0700f63ba01f6fab45183294\\\" \\\"Swan\\\",500),(AssetId \\\"b9e4c57c5b55a191ba94fec0f13c9e09ffdb7244ee2c43e8d8a2fcc9\\\" \\\"Globe\\\",900),(AssetId \\\"b9e742ea126671b305d3e060faed9199dbb9ed0e3e831b9764b89e56\\\" \\\"Swan\\\",500),(AssetId \\\"bb1942eb3ac08241438d625def95bcc2c0237e0c2c55f4a7aad49b31\\\" \\\"Swan\\\",500),(AssetId \\\"bc5f1927c0c6f0880154e0f77f7014a669fca4212f699de9d0d0e375\\\" \\\"Globe\\\",600),(AssetId \\\"bcba007388a4d8b0f164b2a9c71fd5901eed04b0ee80799bc96187c9\\\" \\\"Swan\\\",500),(AssetId \\\"c0f7cec958fbe16c80de911567d87f1ad026a12b8fa25db78a9194eb\\\" \\\"JF\\\",4),(AssetId \\\"c0f7cec958fbe16c80de911567d87f1ad026a12b8fa25db78a9194eb\\\" \\\"TM\\\",1),(AssetId \\\"c1fd9d8732766bb2b117a00fdd03f99e8e2dd7cc9f8f9c1289233494\\\" \\\"Swan\\\",500),(AssetId \\\"c6f757bfeda3ae525bf75432404ea09587fabb352728b5df6cfee6a2\\\" \\\"Swan\\\",500),(AssetId \\\"cb41f724d95cb8111f50115a5d84c939dc7ea842ecfe1719c732ba0d\\\" \\\"Globe\\\",900),(AssetId \\\"cb7a98d67a6c3cf54a5220427e9ca9a67508515cded6b101df9fd5c9\\\" \\\"Swan\\\",500),(AssetId \\\"cc0580f32244eaf2f96638f2aff5f68d30c69b898e61f83faa7bc6af\\\" \\\"Swan\\\",500),(AssetId \\\"d21ba545719fe005abf392325f98ad66a15a8be0281edee3cf60f246\\\" \\\"Swan\\\",500),(AssetId \\\"d396383d1500007f942b86fb8c87c9173afe06d0549ca26b9225c6a1\\\" \\\"Globe\\\",600),(AssetId \\\"d45443c0d2372e373cd0d2b392f9f41ba424bcef54726f991f67f441\\\" \\\"Swan\\\",500),(AssetId \\\"d6cbaca173ff8442180e1677837c110ea5fc66814d5d493e41dea00e\\\" \\\"Globe\\\",600),(AssetId \\\"d8d7d8b2e31999f4b9b452cf622525525c12ecd1ef6a444e0a198416\\\" \\\"Globe\\\",900),(AssetId \\\"d956cccb262a2a40e9276b9eba6915ebf77f5c888b3e09c646f285ab\\\" \\\"Swan\\\",500),(AssetId \\\"e0757865c0bcce21316a19f6612ada9382ef9e5ae337e50b918d649f\\\" \\\"Globe\\\",600),(AssetId \\\"e2676fc6ee4aa28640fb519d5126ea8a05b4fd69d300a32fa7a1021b\\\" \\\"Globe\\\",600),(AssetId \\\"e55b10abd315a805fa93777d9cd839db5451b387f91abc5c6e1b2858\\\" \\\"Globe\\\",600),(AssetId \\\"e76cc7565021cad7100e42e9baa2e090e6532ff9842ec73ea428ecb1\\\" \\\"JF\\\",3),(AssetId \\\"e76cc7565021cad7100e42e9baa2e090e6532ff9842ec73ea428ecb1\\\" \\\"TM\\\",2),(AssetId \\\"e806f43a741253f3cb78033d2d07fbd0b8b919bfcfcb8bf65e82a6a7\\\" \\\"Globe\\\",900),(AssetId \\\"ee81ed150ceb6e34b6c98621ae551d949047e26df13764ad370896a0\\\" \\\"JF\\\",3),(AssetId \\\"ee81ed150ceb6e34b6c98621ae551d949047e26df13764ad370896a0\\\" \\\"TM\\\",2),(AssetId \\\"ef0134e2ca575bfc0fef56a3789bf7659bfa01feeccc9b2ab44c2f70\\\" \\\"Swan\\\",500),(AssetId \\\"efaca22f1218142ace70d711120e3e1e233fced8741cd986d5fb8a23\\\" \\\"Globe\\\",900),(AssetId \\\"f15a7e3f450681ed87d1c1a19ea3e2dfffb5c4dc37048505787418bf\\\" \\\"JF\\\",4),(AssetId \\\"f15a7e3f450681ed87d1c1a19ea3e2dfffb5c4dc37048505787418bf\\\" \\\"TM\\\",1),(AssetId \\\"f39d6c296681a8fd5f5c363bce281ed8d7037e327a858bcacefba12f\\\" \\\"Globe\\\",900),(AssetId \\\"f8617c49328f66c418ba1b565d9e948320de09e7d13cf205ad2d1fd2\\\" \\\"Globe\\\",900),(AssetId \\\"f90cc0be9d5d7ad906ab9dcf1beb1e10063f6f4d246ff74874bfb70e\\\" \\\"CP\\\",1),(AssetId \\\"f90cc0be9d5d7ad906ab9dcf1beb1e10063f6f4d246ff74874bfb70e\\\" \\\"PA\\\",4),(AssetId \\\"f99d15fd99dea4b1a36d23549276a5fe9af454196433680ba2e122bd\\\" \\\"Globe\\\",900),(AssetId \\\"f9cf8db69022c52554d3aa512b955a9991646ab336f28ba5f330d933\\\" \\\"Globe\\\",900),(AssetId \\\"fdd11037b9ac82438227de1e9ff88177ec3a38376eb10c3474104f11\\\" \\\"Swan\\\",500),(AssetId \\\"fef04abc1ee15bb28e140aa8b18df47d07280c64c7437f674fed4834\\\" \\\"Globe\\\",900)] required, but valueFromList [(AdaAssetId,67980268696),(AssetId \\\"01269d3e41e5c27c06f6b3659c3091dcd84c64223aa78333bd9c1a11\\\" \\\"Globe\\\",900),(AssetId \\\"01304682a9b43354981136e6c79faaa8ff2a76c157e1ffb4014e5ff4\\\" \\\"JF\\\",4),(AssetId \\\"01304682a9b43354981136e6c79faaa8ff2a76c157e1ffb4014e5ff4\\\" \\\"TM\\\",1),(AssetId \\\"01dea31654ba6bc94d1bac39cf3244033be5f7c7bf0ff039244c41fa\\\" \\\"Globe\\\",600),(AssetId \\\"01f12e84792c8142eb9dade9c8a3f0639237c679afe48b0132995ba3\\\" \\\"Globe\\\",600),(AssetId \\\"023e0ed8a9cdd92f7b28739f06f2b77e301f340880c6c340cbe6a207\\\" \\\"CP\\\",1),(AssetId \\\"023e0ed8a9cdd92f7b28739f06f2b77e301f340880c6c340cbe6a207\\\" \\\"PA\\\",4),(AssetId \\\"0706dd425b6cc06815f0aed948d263fa76cff2cbccdec8540cac268c\\\" \\\"Globe\\\",900),(AssetId \\\"094cb94315466861f1b8a785cd96ea8d1b740d6ff82c25c430b9c67a\\\" \\\"Swan\\\",500),(AssetId \\\"09f911c0c907365473207c9df3763d8adf57c42f03cacd1b93e3edfa\\\" \\\"Swan\\\",500),(AssetId \\\"0f044dc50cb4d4c71808fef013fbbc51f7511da4d25842dbbd3d58af\\\" \\\"Swan\\\",500),(AssetId \\\"10d6eca788f9920ab6068c4ea455421d53f0bf75e129c55f8a694fc9\\\" \\\"Globe\\\",1200),(AssetId \\\"13357dc96e295abc54ae940a158582680b26a4445b4665c2e4e49d3d\\\" \\\"Globe\\\",900),(AssetId \\\"136556935bafd7920459f1c2ab4c89ddf2197128dc3ba44bc64097ad\\\" \\\"JF\\\",3),(AssetId \\\"136556935bafd7920459f1c2ab4c89ddf2197128dc3ba44bc64097ad\\\" \\\"TM\\\",2),(AssetId \\\"13d32b28fbb50440a92f618434d91a6bdbf46d4da9a7838a82937492\\\" \\\"Swan\\\",500),(AssetId \\\"15ecb517d1ff4f53a72e79d554d5668700c0326dbd0cfc94d3b2d687\\\" \\\"Globe\\\",900),(AssetId \\\"165de29047e77b07b7bf68b9ea0289c8b4077a6a5aba542609c031ce\\\" \\\"Globe\\\",900),(AssetId \\\"1adcdf3d9fd9ff035ea22e5c72383e956f1ea5550a457983b94a88f1\\\" \\\"Swan\\\",500),(AssetId \\\"1c94e9eb93aa0c65b0c8eab919b119a609942a6b9325fc0676c129e7\\\" \\\"Swan\\\",500),(AssetId \\\"1f7f1f8983695d8827fe85cc56a7ddb59065e752d7cb673d82a2b5a3\\\" \\\"CP\\\",1),(AssetId \\\"1f7f1f8983695d8827fe85cc56a7ddb59065e752d7cb673d82a2b5a3\\\" \\\"PA\\\",1),(AssetId \\\"20a65d46f059cf4e52f97bba60573b2d54cf0e47d76980ed12f84fdd\\\" \\\"Globe\\\",600),(AssetId \\\"217153e59f54128af1be463c1b54c77c978a0d51ec7881de402dc961\\\" \\\"JF\\\",4),(AssetId \\\"217153e59f54128af1be463c1b54c77c978a0d51ec7881de402dc961\\\" \\\"TM\\\",1),(AssetId \\\"24f04a2b426f7f4f41ae3ab8aa17d9550f028c7c48eae5b13009c369\\\" \\\"Globe\\\",900),(AssetId \\\"25c5b09faf24c4140909178b771c90bace6e9bef799c1cf7ed1cc9a4\\\" \\\"Swan\\\",500),(AssetId \\\"27f8d0b161739633e22b4bd12f0f6c6f916ac4fa1c4cdcb5a8c08ccc\\\" \\\"Globe\\\",900),(AssetId \\\"284d47c648bdbdf2d74f97894fe77c855af0c327e4b8f405859ac9eb\\\" \\\"Swan\\\",500),(AssetId \\\"2a5d67ad0d6d1cdf60e0ec11fe695e97b6ec0c8e103a0dae1c97afc2\\\" \\\"Globe\\\",900),(AssetId \\\"2aa29471ff23cd3a5822d23d0a275bb3c265786e79b794a2eeb61025\\\" \\\"Globe\\\",900),(AssetId \\\"2f06ab8c285c717a02cd15e54e3299505acbef33ddfd71dafdc6cd52\\\" \\\"JF\\\",4),(AssetId \\\"2f06ab8c285c717a02cd15e54e3299505acbef33ddfd71dafdc6cd52\\\" \\\"TM\\\",2),(AssetId \\\"315253f9111e94f650faf3f5d17636f5addf4badb873dc81f2e1d835\\\" \\\"Swan\\\",500),(AssetId \\\"3264daa604d3fc68566930ac121306cfc04de95ea0ac475c32516b26\\\" \\\"Swan\\\",500),(AssetId \\\"3319b3b05cc1dc22f1e709d42793b6fe1aead1f57313919553c4e15c\\\" \\\"CP\\\",1),(AssetId \\\"3319b3b05cc1dc22f1e709d42793b6fe1aead1f57313919553c4e15c\\\" \\\"PA\\\",4),(AssetId \\\"359bb618579fb3dd6d73e8e4fa3b27090a64811c7d095b13bc138c6c\\\" \\\"Globe\\\",900),(AssetId \\\"3935c9c8dc778bd095051f7312cb3a7621669d593a08238c612398cb\\\" \\\"Swan\\\",500),(AssetId \\\"399f24f31d3f00b8fe90f72ed33c8f396ddc50b027b7c76a71abdbbc\\\" \\\"CP\\\",1),(AssetId \\\"399f24f31d3f00b8fe90f72ed33c8f396ddc50b027b7c76a71abdbbc\\\" \\\"PA\\\",4),(AssetId \\\"39a649fd77787c2210c94658945e56e32400ff23ca0d207e1c349a6e\\\" \\\"JF\\\",3),(AssetId \\\"39a649fd77787c2210c94658945e56e32400ff23ca0d207e1c349a6e\\\" \\\"TM\\\",2),(AssetId \\\"3ba2fa33694d379ce2e936b4dba68a6cc1b235be8e19c0c19e6f4b4c\\\" \\\"Globe\\\",900),(AssetId \\\"3cf9bdbc072a86066fd1cbac57297b24914f50ef8d5081dd1b4450af\\\" \\\"Swan\\\",500),(AssetId \\\"3d8535f98445dbab48024630d44b43c9c08f3b5df7121678515c1085\\\" \\\"Swan\\\",500),(AssetId \\\"3e20c399eabd9b71db567495da85653fd0e5ae0b06f8c8aa24ccaf4a\\\" \\\"Globe\\\",900),(AssetId \\\"3f00947066d4aa2f755446dd5de7d0ec0dead03444661280bbea739b\\\" \\\"Swan\\\",500),(AssetId \\\"3f1937bef77e16f3d60dc3fe59d4c6bda5a10e8c7231e23291953bc0\\\" \\\"Globe\\\",600),(AssetId \\\"408f3d8423fda43915f20465f938cceedc3324ebdb71efe8654cb9c4\\\" \\\"Swan\\\",500),(AssetId \\\"433f80bb31260458e488f0a5a488bd61dca058c6a6bcae44b90d96c5\\\" \\\"Globe\\\",900),(AssetId \\\"443b553aaa6b77995714f51a9bacb2a81d83f43b28ddf71c7703a7ae\\\" \\\"Swan\\\",500),(AssetId \\\"480e9b8d5574b21c1768c32b21fa9c4528bfe17017e95fcb41960b69\\\" \\\"JF\\\",4),(AssetId \\\"480e9b8d5574b21c1768c32b21fa9c4528bfe17017e95fcb41960b69\\\" \\\"TM\\\",1),(AssetId \\\"4b6897a0af19de09282bad1b3d191ace3c61ec364aa009102f0d23b3\\\" \\\"Globe\\\",900),(AssetId \\\"4d4a2aa1057e77178693fbc6e41825ab1162f6e009ce48df10a22ca4\\\" \\\"JF\\\",3),(AssetId \\\"4d4a2aa1057e77178693fbc6e41825ab1162f6e009ce48df10a22ca4\\\" \\\"TM\\\",2),(AssetId \\\"4d4fbba15d36506985cbd9bc98e53a8aa71820d0ff828fa4e99c76dc\\\" \\\"Swan\\\",500),(AssetId \\\"4e2480b03b44004c6f8bd041d6915e7aff7b9d67e8e393bb148787e0\\\" \\\"Globe\\\",1200),(AssetId \\\"529c49c079e601b5a9eb110dcdbc6f07a28a60036ead9aadee69ae65\\\" \\\"CP\\\",1),(AssetId \\\"529c49c079e601b5a9eb110dcdbc6f07a28a60036ead9aadee69ae65\\\" \\\"PA\\\",4),(AssetId \\\"557132a9fec57316d6fbd0db506382b604ff42d8f3b1ad4ec8ab9bb2\\\" \\\"JF\\\",4),(AssetId \\\"557132a9fec57316d6fbd0db506382b604ff42d8f3b1ad4ec8ab9bb2\\\" \\\"TM\\\",1),(AssetId \\\"5710d8ed1ad8ad3bc45f39a1eaeae690b4c3415b1cee973ad127b4c4\\\" \\\"Globe\\\",900),(AssetId \\\"5799b669a944f6ecabac80a84e465e44172310251d9a0b3979c47872\\\" \\\"CP\\\",1),(AssetId \\\"5799b669a944f6ecabac80a84e465e44172310251d9a0b3979c47872\\\" \\\"PA\\\",4),(AssetId \\\"57f12547e9f129a8088aeaf44cee58a0745558b83fb53b86fbad308a\\\" \\\"Swan\\\",500),(AssetId \\\"59dd9ed6ec24c3244aa012ef9ce4448d918d06dcbe52ecca06b6dafd\\\" \\\"Globe\\\",900),(AssetId \\\"5c540198a7c1777501f14b70974c285a1577c74662b8e5e1321e5937\\\" \\\"Globe\\\",900),(AssetId \\\"5e5467b36877bf6429ec7a7fb507caf1379eb8a27521a83125a6440a\\\" \\\"Swan\\\",500),(AssetId \\\"6010f7873b471abbfdb8d2c2b010fd2173da0dd7da0be039fdb1eed0\\\" \\\"Globe\\\",900),(AssetId \\\"627ff9856106dffe76d2eb27d0ea4b936e94c561267fea2f54da121f\\\" \\\"Globe\\\",600),(AssetId \\\"62a2951bf690687e33e9befaede264f3c4200efb83be0eb755481ad9\\\" \\\"Swan\\\",500),(AssetId \\\"66c1620456fb09311d0039b925e792dd15e4f798a5de810f4637cc6b\\\" \\\"Swan\\\",500),(AssetId \\\"6a929110d8e525b4033ac426a9722ca28a3a0dbe70a0067fa193b294\\\" \\\"Globe\\\",900),(AssetId \\\"6b23dc8d7e8cec2d81a919baad7fc9f490959375af285c03275376a5\\\" \\\"JF\\\",3),(AssetId \\\"6b23dc8d7e8cec2d81a919baad7fc9f490959375af285c03275376a5\\\" \\\"TM\\\",2),(AssetId \\\"6c1e775bd2874917de332a4ad18445f99fa031ec0bc67cce2ea9dd72\\\" \\\"Swan\\\",500),(AssetId \\\"758a7176f43cddd67bee52ca750d1b3be04e57306ef7952f62f13cb8\\\" \\\"Swan\\\",500),(AssetId \\\"773f21610ae12f098391bbecc33ef716e858e61c23a95fcb02e2d614\\\" \\\"Globe\\\",900),(AssetId \\\"7797b6f5effa8e8c70c2322fc2705804b958bc7c1df2ef8408029fce\\\" \\\"Swan\\\",500),(AssetId \\\"78278f5f8b5c084019c278404b8650d2e6b2f0716655d32f8c2bf7ac\\\" \\\"Swan\\\",500),(AssetId \\\"795dd33ebc74b13add175a288edf564af493e4825a14b734305444ee\\\" \\\"Swan\\\",500),(AssetId \\\"7d5d9f0da79b3d7b90e60e782334f8d3bd1e50281747925a5a019109\\\" \\\"Globe\\\",900),(AssetId \\\"7fcfd4956b64ce50c02695b39627b141e2e5e75327c7e5fd6ecf1804\\\" \\\"Swan\\\",500),(AssetId \\\"8154d7e37225b9024bf90024d83f4392cdecb7316c0fbcb450694129\\\" \\\"Swan\\\",500),(AssetId \\\"8192feaa5d74b08f4a0d70f1d7a005205b48db21b9c448809e71cfa4\\\" \\\"Globe\\\",600),(AssetId \\\"8532af0757f7a9703069e8a8e5f158b2b6e4d7687843d350cd61f592\\\" \\\"Globe\\\",600),(AssetId \\\"86500f470c1d410720f5144a11fc04ce8be53c7c66a4cdfb1eb1e2f6\\\" \\\"Swan\\\",500),(AssetId \\\"87376f59d9c6ad99150ed0687f956a4a71d9777e09113cb0efd090c6\\\" \\\"JF\\\",4),(AssetId \\\"87376f59d9c6ad99150ed0687f956a4a71d9777e09113cb0efd090c6\\\" \\\"TM\\\",1),(AssetId \\\"8c6f05111f6ca4fe89864f19041c5e14c52571e616916e11f8190128\\\" \\\"Swan\\\",500),(AssetId \\\"8d75fb30cf96a18bb0caa1edba859cbe8806dc08f85aa30902ab93f4\\\" \\\"CP\\\",1),(AssetId \\\"8d75fb30cf96a18bb0caa1edba859cbe8806dc08f85aa30902ab93f4\\\" \\\"PA\\\",4),(AssetId \\\"8e0a9f41529c82064ac255e53c07fa7f0310d3ed3614144c0b7149df\\\" \\\"Globe\\\",600),(AssetId \\\"91fc99f6e5dbcf37141656d413a1bd39a501429e5af0eef3fa0468cb\\\" \\\"Globe\\\",600),(AssetId \\\"93538bad349fed11e0afefd96cc70ef06237ee834f65a2ab592a12e1\\\" \\\"JF\\\",4),(AssetId \\\"93538bad349fed11e0afefd96cc70ef06237ee834f65a2ab592a12e1\\\" \\\"TM\\\",1),(AssetId \\\"94b2941e50a2ae7e642dccff9f66fa02a12cd4b3dc5b43fcff924633\\\" \\\"Swan\\\",500),(AssetId \\\"95810d3ec14f51eb306abe2900b8da6e0c39d5149c7e73ebacc752df\\\" \\\"Swan\\\",500),(AssetId \\\"96f1643e5846c0894a156155fe4fc02778fb6d76675385ec1e80962e\\\" \\\"CP\\\",1),(AssetId \\\"96f1643e5846c0894a156155fe4fc02778fb6d76675385ec1e80962e\\\" \\\"PA\\\",4),(AssetId \\\"975d734c1d5fdc6da35e703fce439be4e9ad07dda5d10525fb361361\\\" \\\"JF\\\",3),(AssetId \\\"975d734c1d5fdc6da35e703fce439be4e9ad07dda5d10525fb361361\\\" \\\"TM\\\",2),(AssetId \\\"97d08e52e0ab0ef505b1e176cc594f3577ed7eb69ae8f04e08870ca9\\\" \\\"Swan\\\",500),(AssetId \\\"9a58b97712a0e2e346498ac828e46b67f3cfc38f7f197a29cd6580d5\\\" \\\"Globe\\\",900),(AssetId \\\"9d1d474ef9c11eeed106e771157727f19814b2204bbdfc5332f324c3\\\" \\\"Globe\\\",900),(AssetId \\\"9dbab94a4b36209dac1c336ea240f44486b6b90ce32b622216a396af\\\" \\\"Swan\\\",500),(AssetId \\\"9dc9f7b0dd2b0c17c3883918b769331a793a3bea5b59f777f44c02d4\\\" \\\"Swan\\\",500),(AssetId \\\"a1c7360ad1e3469d27c1efe618ca66201324f4807ee5e46fc10ecf74\\\" \\\"Globe\\\",900),(AssetId \\\"a88bfbb4070ea0288d389f3cd4074f9346487587ab50e9d37eb37739\\\" \\\"Globe\\\",600),(AssetId \\\"ac24d9fa320551c8b5527d6c5b208687dc5e90542f72536cf3aff9cc\\\" \\\"Swan\\\",500),(AssetId \\\"b048f583c098d847fa0fd80912bf8ee7e69b94c190f8b0bd77225325\\\" \\\"Swan\\\",500),(AssetId \\\"b0fb2047d72c209769881386ca52b0867751d12393e34049fccf2432\\\" \\\"Swan\\\",500),(AssetId \\\"b17aa59ad551aef1bb77a3d81c1822a5407cada76cf75e6b43c3bc21\\\" \\\"Globe\\\",600),(AssetId \\\"b27d16ab6d16d801025afa19033391a5f9977ef5b8d34cb109d87614\\\" \\\"JF\\\",4),(AssetId \\\"b27d16ab6d16d801025afa19033391a5f9977ef5b8d34cb109d87614\\\" \\\"TM\\\",1),(AssetId \\\"b5ba5594091686076974711b11ec650901ceb71c536147d04b74d502\\\" \\\"Swan\\\",500),(AssetId \\\"b8630043aaa9f8d6abc8f257c7ce3315637655539530e30d910d735c\\\" \\\"Swan\\\",500),(AssetId \\\"b892291d4f52cee1f1fdefcbe783d18f0700f63ba01f6fab45183294\\\" \\\"Swan\\\",500),(AssetId \\\"b9e4c57c5b55a191ba94fec0f13c9e09ffdb7244ee2c43e8d8a2fcc9\\\" \\\"Globe\\\",900),(AssetId \\\"b9e742ea126671b305d3e060faed9199dbb9ed0e3e831b9764b89e56\\\" \\\"Swan\\\",500),(AssetId \\\"bb1942eb3ac08241438d625def95bcc2c0237e0c2c55f4a7aad49b31\\\" \\\"Swan\\\",500),(AssetId \\\"bc5f1927c0c6f0880154e0f77f7014a669fca4212f699de9d0d0e375\\\" \\\"Globe\\\",600),(AssetId \\\"bcba007388a4d8b0f164b2a9c71fd5901eed04b0ee80799bc96187c9\\\" \\\"Swan\\\",500),(AssetId \\\"c0f7cec958fbe16c80de911567d87f1ad026a12b8fa25db78a9194eb\\\" \\\"JF\\\",4),(AssetId \\\"c0f7cec958fbe16c80de911567d87f1ad026a12b8fa25db78a9194eb\\\" \\\"TM\\\",1),(AssetId \\\"c1fd9d8732766bb2b117a00fdd03f99e8e2dd7cc9f8f9c1289233494\\\" \\\"Swan\\\",500),(AssetId \\\"c6f757bfeda3ae525bf75432404ea09587fabb352728b5df6cfee6a2\\\" \\\"Swan\\\",500),(AssetId \\\"cb41f724d95cb8111f50115a5d84c939dc7ea842ecfe1719c732ba0d\\\" \\\"Globe\\\",900),(AssetId \\\"cb7a98d67a6c3cf54a5220427e9ca9a67508515cded6b101df9fd5c9\\\" \\\"Swan\\\",500),(AssetId \\\"cc0580f32244eaf2f96638f2aff5f68d30c69b898e61f83faa7bc6af\\\" \\\"Swan\\\",500),(AssetId \\\"d21ba545719fe005abf392325f98ad66a15a8be0281edee3cf60f246\\\" \\\"Swan\\\",500),(AssetId \\\"d396383d1500007f942b86fb8c87c9173afe06d0549ca26b9225c6a1\\\" \\\"Globe\\\",600),(AssetId \\\"d45443c0d2372e373cd0d2b392f9f41ba424bcef54726f991f67f441\\\" \\\"Swan\\\",500),(AssetId \\\"d6cbaca173ff8442180e1677837c110ea5fc66814d5d493e41dea00e\\\" \\\"Globe\\\",600),(AssetId \\\"d8d7d8b2e31999f4b9b452cf622525525c12ecd1ef6a444e0a198416\\\" \\\"Globe\\\",900),(AssetId \\\"d956cccb262a2a40e9276b9eba6915ebf77f5c888b3e09c646f285ab\\\" \\\"Swan\\\",500),(AssetId \\\"e0757865c0bcce21316a19f6612ada9382ef9e5ae337e50b918d649f\\\" \\\"Globe\\\",600),(AssetId \\\"e2676fc6ee4aa28640fb519d5126ea8a05b4fd69d300a32fa7a1021b\\\" \\\"Globe\\\",600),(AssetId \\\"e55b10abd315a805fa93777d9cd839db5451b387f91abc5c6e1b2858\\\" \\\"Globe\\\",600),(AssetId \\\"e76cc7565021cad7100e42e9baa2e090e6532ff9842ec73ea428ecb1\\\" \\\"JF\\\",3),(AssetId \\\"e76cc7565021cad7100e42e9baa2e090e6532ff9842ec73ea428ecb1\\\" \\\"TM\\\",2),(AssetId \\\"e806f43a741253f3cb78033d2d07fbd0b8b919bfcfcb8bf65e82a6a7\\\" \\\"Globe\\\",900),(AssetId \\\"ee81ed150ceb6e34b6c98621ae551d949047e26df13764ad370896a0\\\" \\\"JF\\\",3),(AssetId \\\"ee81ed150ceb6e34b6c98621ae551d949047e26df13764ad370896a0\\\" \\\"TM\\\",2),(AssetId \\\"ef0134e2ca575bfc0fef56a3789bf7659bfa01feeccc9b2ab44c2f70\\\" \\\"Swan\\\",500),(AssetId \\\"efaca22f1218142ace70d711120e3e1e233fced8741cd986d5fb8a23\\\" \\\"Globe\\\",900),(AssetId \\\"f15a7e3f450681ed87d1c1a19ea3e2dfffb5c4dc37048505787418bf\\\" \\\"JF\\\",4),(AssetId \\\"f15a7e3f450681ed87d1c1a19ea3e2dfffb5c4dc37048505787418bf\\\" \\\"TM\\\",1),(AssetId \\\"f39d6c296681a8fd5f5c363bce281ed8d7037e327a858bcacefba12f\\\" \\\"Globe\\\",900),(AssetId \\\"f8617c49328f66c418ba1b565d9e948320de09e7d13cf205ad2d1fd2\\\" \\\"Globe\\\",900),(AssetId \\\"f90cc0be9d5d7ad906ab9dcf1beb1e10063f6f4d246ff74874bfb70e\\\" \\\"CP\\\",1),(AssetId \\\"f90cc0be9d5d7ad906ab9dcf1beb1e10063f6f4d246ff74874bfb70e\\\" \\\"PA\\\",4),(AssetId \\\"f99d15fd99dea4b1a36d23549276a5fe9af454196433680ba2e122bd\\\" \\\"Globe\\\",900),(AssetId \\\"f9cf8db69022c52554d3aa512b955a9991646ab336f28ba5f330d933\\\" \\\"Globe\\\",900),(AssetId \\\"fdd11037b9ac82438227de1e9ff88177ec3a38376eb10c3474104f11\\\" \\\"Swan\\\",500),(AssetId \\\"fef04abc1ee15bb28e140aa8b18df47d07280c64c7437f674fed4834\\\" \\\"Globe\\\",900)] available.\"))\n"
     ]
    },
    {
     "ename": "",
     "evalue": "1",
     "output_type": "error",
     "traceback": []
    }
   ],
   "source": [
    "marlowe create \\\n",
    "  --core-file create-1.contract \\\n",
    "  --min-utxo \"$MINIMUM_ADA\" \\\n",
    "  --change-address \"$PARTY_ADDR\" \\\n",
    "  --manual-sign create-1.txbody"
   ]
  },
  {
   "cell_type": "markdown",
   "id": "2004c538-e23e-4f48-8dfa-8584e9555a4a",
   "metadata": {},
   "source": [
    "<span style=\"color:red;font-weight:bold\">It looks like `marlowe-tx` is querying the wrong address because these UTxOs are not present at the address or mentioned in the contract.</span>"
   ]
  },
  {
   "cell_type": "markdown",
   "id": "b31ec973-5b0f-4fb7-bdca-c266bd66fdc1",
   "metadata": {},
   "source": [
    "Sign the transaction."
   ]
  },
  {
   "cell_type": "code",
   "execution_count": null,
   "id": "5d4c94bc-d747-47c6-be60-55656a3ee6ca",
   "metadata": {},
   "outputs": [],
   "source": [
    "cardano-cli transaction sign \\\n",
    "  --tx-body-file create-1.txbody \\\n",
    "  --out-file     create-1.tx \\\n",
    "  --signing-key-file \"$PARTY_SKEY\""
   ]
  },
  {
   "cell_type": "markdown",
   "id": "bebb0d27-0a99-4f3d-ab06-09b627ee514e",
   "metadata": {},
   "source": [
    "Submit the transaction using Marlowe Runtime."
   ]
  },
  {
   "cell_type": "code",
   "execution_count": null,
   "id": "04ff93e3-b751-440a-b310-12ebe095401a",
   "metadata": {},
   "outputs": [],
   "source": [
    "marlowe submit create-1.tx"
   ]
  },
  {
   "cell_type": "markdown",
   "id": "58a521fc-0b0a-4d3e-b876-017c07a1fed3",
   "metadata": {},
   "source": [
    "The contract is identified by its first UTxO."
   ]
  },
  {
   "cell_type": "code",
   "execution_count": null,
   "id": "4197b5e8-1287-4130-b636-cf2886ebb807",
   "metadata": {},
   "outputs": [],
   "source": [
    "CONTRACT_ID=\"$TX_1#1\"\n",
    "echo \"$CONTRACT_ID\""
   ]
  },
  {
   "cell_type": "markdown",
   "id": "bc569ff3-a5b4-4d9f-b12f-1d51a250be64",
   "metadata": {},
   "source": [
    "### Transaction 2. Party deposits loan amount"
   ]
  },
  {
   "cell_type": "code",
   "execution_count": null,
   "id": "5846a386-c8bb-461b-b361-485cc1aaf0d2",
   "metadata": {},
   "outputs": [],
   "source": [
    "marlowe-cli run prepare \\\n",
    "  --marlowe-file create-1.marlowe \\\n",
    "  --out-file     create-2.marlowe \\\n",
    "  --deposit-account \"$PARTY_ADDR\" \\\n",
    "  --deposit-party \"$PARTY_ADDR\" \\\n",
    "  --deposit-amount \"$((PRINCIPAL*FIXED_POINT))\" \\\n",
    "  --invalid-before \"$((NOW - 5 * MINUTE))\" \\\n",
    "  --invalid-hereafter \"$((NOW + 1 * HOUR))\" \\\n",
    "  --print-stats"
   ]
  },
  {
   "cell_type": "markdown",
   "id": "3408aafb-807d-4de0-867b-f99617f8e8b4",
   "metadata": {},
   "source": [
    "### Transaction 3. Counterparty repays the loan's interest"
   ]
  },
  {
   "cell_type": "code",
   "execution_count": null,
   "id": "554efe78-d9c9-45b9-972d-bce981f3e43d",
   "metadata": {},
   "outputs": [],
   "source": [
    "marlowe-cli run prepare \\\n",
    "  --marlowe-file create-2.marlowe \\\n",
    "  --out-file     create-3.marlowe \\\n",
    "  --deposit-account \"$COUNTERPARTY_ADDR\" \\\n",
    "  --deposit-party \"$COUNTERPARTY_ADDR\" \\\n",
    "  --deposit-amount \"$((INTEREST*FIXED_POINT))\" \\\n",
    "  --invalid-before \"$((NOW-5*MINUTE))\" \\\n",
    "  --invalid-hereafter \"$((NOW+1*HOUR))\" \\\n",
    "  --print-stats"
   ]
  },
  {
   "cell_type": "markdown",
   "id": "1f1223e2-580a-4709-8503-303b5f4d85f4",
   "metadata": {},
   "source": [
    "### Transaction 4. Counterparty repays the loan's principal"
   ]
  },
  {
   "cell_type": "code",
   "execution_count": null,
   "id": "ec54a522-a3e8-4cd6-9ea7-240752157aad",
   "metadata": {},
   "outputs": [],
   "source": [
    "marlowe-cli run prepare \\\n",
    "  --marlowe-file create-3.marlowe \\\n",
    "  --out-file     create-4.marlowe \\\n",
    "  --deposit-account \"$COUNTERPARTY_ADDR\" \\\n",
    "  --deposit-party \"$COUNTERPARTY_ADDR\" \\\n",
    "  --deposit-amount \"$((PRINCIPAL*FIXED_POINT))\" \\\n",
    "  --invalid-before \"$((NOW-5*MINUTE))\" \\\n",
    "  --invalid-hereafter \"$((NOW+4*HOUR))\" \\\n",
    "  --print-stats"
   ]
  },
  {
   "cell_type": "markdown",
   "id": "c59bed4c-48b4-4a23-bb40-8636ea9ed9c6",
   "metadata": {},
   "source": [
    "The contract has closed."
   ]
  },
  {
   "cell_type": "code",
   "execution_count": null,
   "id": "d678fb1a-997e-408d-b5bf-376ab2accfd1",
   "metadata": {},
   "outputs": [],
   "source": [
    "jq '.tx.contract' create-4.marlowe | json2yaml"
   ]
  },
  {
   "cell_type": "markdown",
   "id": "c0ccaa90-d5d4-49b5-870c-d6429ed64ae0",
   "metadata": {},
   "source": [
    "## Cleanup"
   ]
  },
  {
   "cell_type": "markdown",
   "id": "b6916f2a-426a-4c31-8499-610f83df1d7c",
   "metadata": {},
   "source": [
    "Consolidate the UTxOs at the addresses."
   ]
  },
  {
   "cell_type": "code",
   "execution_count": 24,
   "id": "303c1567-db4f-4659-a032-31706072ba15",
   "metadata": {},
   "outputs": [
    {
     "name": "stdout",
     "output_type": "stream",
     "text": [
      "TxId \"092509e94bba80274fa062c389f2e9249879cf3a463e8d4f43dcecce38e78c22\"\n"
     ]
    }
   ],
   "source": [
    "marlowe-cli util clean \\\n",
    "  --change-address \"$PARTY_ADDR\" \\\n",
    "  --required-signer \"$PARTY_SKEY\" \\\n",
    "  --out-file /dev/null \\\n",
    "  --submit 600"
   ]
  },
  {
   "cell_type": "code",
   "execution_count": 25,
   "id": "3084ac48-3e9f-4399-aba8-a5fa487006c0",
   "metadata": {},
   "outputs": [
    {
     "name": "stdout",
     "output_type": "stream",
     "text": [
      "TxId \"9b0ff65161c8a43e11d32f78b674a1f35803a8a24e3dc0e97f779d5bddb6dfaf\"\n"
     ]
    }
   ],
   "source": [
    "marlowe-cli util clean \\\n",
    "  --change-address \"$COUNTERPARTY_ADDR\" \\\n",
    "  --required-signer \"$COUNTERPARTY_SKEY\" \\\n",
    "  --out-file /dev/null \\\n",
    "  --submit 600"
   ]
  },
  {
   "cell_type": "markdown",
   "id": "5ddc612f-57ca-4e17-96f2-658baa3ef7e8",
   "metadata": {},
   "source": [
    "Send the funds back to the faucet."
   ]
  },
  {
   "cell_type": "code",
   "execution_count": 26,
   "id": "a300a576-a800-4fdd-9d45-bc6cc3c901a8",
   "metadata": {},
   "outputs": [
    {
     "name": "stdout",
     "output_type": "stream",
     "text": [
      "TxId \"0feb57d8536716a0dafc9c88abd2da44fc14e8f3effdf3e22384330a62c9fcd9\"\n"
     ]
    }
   ],
   "source": [
    "marlowe-cli transaction simple \\\n",
    "  --tx-in \"$(marlowe-cli util select --lovelace-only 1 $PARTY_ADDR | sed -n -e 's/^TxIn \"\\(.*\\)\" (TxIx \\(.*\\))$/\\1#\\2/;1p')\" \\\n",
    "  --tx-in \"$(marlowe-cli util select --lovelace-only 1 $COUNTERPARTY_ADDR | sed -n -e 's/^TxIn \"\\(.*\\)\" (TxIx \\(.*\\))$/\\1#\\2/;1p')\" \\\n",
    "  --required-signer \"$PARTY_SKEY\" \\\n",
    "  --required-signer \"$COUNTERPARTY_SKEY\" \\\n",
    "  --change-address \"$FAUCET_ADDR\" \\\n",
    "  --out-file /dev/null \\\n",
    "  --submit 600"
   ]
  }
 ],
 "metadata": {
  "kernelspec": {
   "display_name": "Bash - Marlowe",
   "language": "bash",
   "name": "bash_marlowe"
  },
  "language_info": {
   "codemirror_mode": "shell",
   "file_extension": ".sh",
   "mimetype": "text/x-sh",
   "name": "/nix/store/2ispfz80kmwrsvwndxkxs56irn86h43p-bash-5.1-p16/bin/bash"
  }
 },
 "nbformat": 4,
 "nbformat_minor": 5
}
