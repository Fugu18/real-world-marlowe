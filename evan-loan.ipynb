{
 "cells": [
  {
   "cell_type": "code",
   "execution_count": 1,
   "id": "e0a395f7-14c4-4b29-ad16-83b551ac6fef",
   "metadata": {},
   "outputs": [
    {
     "name": "stdout",
     "output_type": "stream",
     "text": [
      "marlowe-cli 0.0.10.0 «mainnet»\n"
     ]
    }
   ],
   "source": [
    "marlowe-cli --version"
   ]
  },
  {
   "cell_type": "code",
   "execution_count": 2,
   "id": "b309824f-4329-42f3-ae0e-632818892c66",
   "metadata": {},
   "outputs": [
    {
     "name": "stdout",
     "output_type": "stream",
     "text": [
      "cardano-cli 1.35.3 - linux-x86_64 - ghc-8.10\n",
      "git rev 0000000000000000000000000000000000000000\n"
     ]
    }
   ],
   "source": [
    "cardano-cli --version"
   ]
  },
  {
   "cell_type": "code",
   "execution_count": 3,
   "id": "988d24e2-3b1e-4e80-847e-7845dd7573a0",
   "metadata": {},
   "outputs": [
    {
     "name": "stdout",
     "output_type": "stream",
     "text": [
      "33a7615477ab8886792305e927e87ec09042961d\n"
     ]
    }
   ],
   "source": [
    "git rev-parse HEAD"
   ]
  },
  {
   "cell_type": "code",
   "execution_count": 4,
   "id": "94c6ef0a-eb78-470f-826f-1ac307571ee3",
   "metadata": {},
   "outputs": [],
   "source": [
    "export CARDANO_NODE_SOCKET_PATH=/home/bbush/.local/share/Daedalus/mainnet/cardano-node.socket"
   ]
  },
  {
   "cell_type": "code",
   "execution_count": 5,
   "id": "727e42a6-2103-487f-bc41-e5a0c43ce086",
   "metadata": {},
   "outputs": [],
   "source": [
    "TREASURY=/extra/iohk/networks/treasury"
   ]
  },
  {
   "cell_type": "code",
   "execution_count": 6,
   "id": "cacdfe0e-2965-49ca-a795-ef36c8ef6c90",
   "metadata": {},
   "outputs": [
    {
     "name": "stdout",
     "output_type": "stream",
     "text": [
      "addr1vy9prvx8ufwutkwxx9cmmuuajaqmjqwujqlp9d8pvg6gupceql82h\n"
     ]
    }
   ],
   "source": [
    "FAUCET_SKEY=$TREASURY/payment.skey\n",
    "FAUCET_ADDR=$(cat $TREASURY/payment.mainnet.address)\n",
    "echo $FAUCET_ADDR"
   ]
  },
  {
   "cell_type": "code",
   "execution_count": 7,
   "id": "d33005f3-5523-4a23-889b-fc76f76637d7",
   "metadata": {},
   "outputs": [],
   "source": [
    "BRIAN_SKEY=$TREASURY/brian.skey\n",
    "BRIAN_ADDR=addr1qy9prvx8ufwutkwxx9cmmuuajaqmjqwujqlp9d8pvg6gupcvluken35ncjnu0puetf5jvttedkze02d5kf890kquh60sut9jg7"
   ]
  },
  {
   "cell_type": "code",
   "execution_count": 8,
   "id": "411b9843-3d98-48df-809f-468b49849070",
   "metadata": {},
   "outputs": [],
   "source": [
    "EVAN_SKEY=\n",
    "EVAN_ADDR=addr1q95e9feu4hkp4qwvgqasq02na05z3eg33zzjquf2d86e6qzznwng4gtlladnxm7d486psa003jy6dv230t82rvv3pflqeuzzt2"
   ]
  },
  {
   "cell_type": "code",
   "execution_count": 14,
   "id": "0743458e-e8f7-472d-aed8-b77ed0c8bb85",
   "metadata": {},
   "outputs": [
    {
     "name": "stdout",
     "output_type": "stream",
     "text": [
      "\n",
      "Fee: Lovelace 235329\n",
      "Size: 1069 / 16384 = 6%\n",
      "Execution units:\n",
      "  Memory: 0 / 14000000 = 0%\n",
      "  Steps: 0 / 10000000000 = 0%\n",
      "8bb3b343d8e404472337966a722150048c768d0a92a9813596c5338d\n"
     ]
    }
   ],
   "source": [
    "#marlowe-cli util mint \\\n",
    "#  --mainnet \\\n",
    "#  --issuer $FAUCET_ADDR:$FAUCET_SKEY \\\n",
    "#  --out-file /dev/null \\\n",
    "#  --submit 600 \\\n",
    "#  --count 9000 \\\n",
    "#  USDB:$BRIAN_ADDR  "
   ]
  },
  {
   "cell_type": "code",
   "execution_count": 15,
   "id": "9cc75322-fa2f-4124-a4c5-ddac92c81fb4",
   "metadata": {},
   "outputs": [
    {
     "name": "stdout",
     "output_type": "stream",
     "text": [
      "\n",
      "Fee: Lovelace 235241\n",
      "Size: 1067 / 16384 = 6%\n",
      "Execution units:\n",
      "  Memory: 0 / 14000000 = 0%\n",
      "  Steps: 0 / 10000000000 = 0%\n",
      "8bb3b343d8e404472337966a722150048c768d0a92a9813596c5338d\n"
     ]
    }
   ],
   "source": [
    "#marlowe-cli util mint \\\n",
    "#  --mainnet \\\n",
    "#  --issuer $FAUCET_ADDR:$FAUCET_SKEY \\\n",
    "#  --out-file /dev/null \\\n",
    "#  --submit 600 \\\n",
    "#  --count 120 \\\n",
    "#  USDB:$EVAN_ADDR  "
   ]
  },
  {
   "cell_type": "code",
   "execution_count": 9,
   "id": "cc6555e8-72de-4278-bc91-e297d37f4521",
   "metadata": {},
   "outputs": [
    {
     "name": "stdout",
     "output_type": "stream",
     "text": [
      "timeout: 1668495540000\n",
      "timeout_continuation: close\n",
      "when:\n",
      "- case:\n",
      "    deposits: 9000\n",
      "    into_account:\n",
      "      address: addr1qy9prvx8ufwutkwxx9cmmuuajaqmjqwujqlp9d8pvg6gupcvluken35ncjnu0puetf5jvttedkze02d5kf890kquh60sut9jg7\n",
      "    of_token:\n",
      "      currency_symbol: 8bb3b343d8e404472337966a722150048c768d0a92a9813596c5338d\n",
      "      token_name: USDB\n",
      "    party:\n",
      "      address: addr1qy9prvx8ufwutkwxx9cmmuuajaqmjqwujqlp9d8pvg6gupcvluken35ncjnu0puetf5jvttedkze02d5kf890kquh60sut9jg7\n",
      "  then:\n",
      "    from_account:\n",
      "      address: addr1qy9prvx8ufwutkwxx9cmmuuajaqmjqwujqlp9d8pvg6gupcvluken35ncjnu0puetf5jvttedkze02d5kf890kquh60sut9jg7\n",
      "    pay: 9000\n",
      "    then:\n",
      "      timeout: 1676185140000\n",
      "      timeout_continuation: close\n",
      "      when:\n",
      "      - case:\n",
      "          deposits: 4560\n",
      "          into_account:\n",
      "            address: addr1q95e9feu4hkp4qwvgqasq02na05z3eg33zzjquf2d86e6qzznwng4gtlladnxm7d486psa003jy6dv230t82rvv3pflqeuzzt2\n",
      "          of_token:\n",
      "            currency_symbol: 8bb3b343d8e404472337966a722150048c768d0a92a9813596c5338d\n",
      "            token_name: USDB\n",
      "          party:\n",
      "            address: addr1q95e9feu4hkp4qwvgqasq02na05z3eg33zzjquf2d86e6qzznwng4gtlladnxm7d486psa003jy6dv230t82rvv3pflqeuzzt2\n",
      "        then:\n",
      "          from_account:\n",
      "            address: addr1q95e9feu4hkp4qwvgqasq02na05z3eg33zzjquf2d86e6qzznwng4gtlladnxm7d486psa003jy6dv230t82rvv3pflqeuzzt2\n",
      "          pay: 4560\n",
      "          then:\n",
      "            timeout: 1683961140000\n",
      "            timeout_continuation: close\n",
      "            when:\n",
      "            - case:\n",
      "                deposits: 4560\n",
      "                into_account:\n",
      "                  address: addr1q95e9feu4hkp4qwvgqasq02na05z3eg33zzjquf2d86e6qzznwng4gtlladnxm7d486psa003jy6dv230t82rvv3pflqeuzzt2\n",
      "                of_token:\n",
      "                  currency_symbol: 8bb3b343d8e404472337966a722150048c768d0a92a9813596c5338d\n",
      "                  token_name: USDB\n",
      "                party:\n",
      "                  address: addr1q95e9feu4hkp4qwvgqasq02na05z3eg33zzjquf2d86e6qzznwng4gtlladnxm7d486psa003jy6dv230t82rvv3pflqeuzzt2\n",
      "              then:\n",
      "                from_account:\n",
      "                  address: addr1q95e9feu4hkp4qwvgqasq02na05z3eg33zzjquf2d86e6qzznwng4gtlladnxm7d486psa003jy6dv230t82rvv3pflqeuzzt2\n",
      "                pay: 4560\n",
      "                then: close\n",
      "                to:\n",
      "                  party:\n",
      "                    address: addr1qy9prvx8ufwutkwxx9cmmuuajaqmjqwujqlp9d8pvg6gupcvluken35ncjnu0puetf5jvttedkze02d5kf890kquh60sut9jg7\n",
      "                token:\n",
      "                  currency_symbol: 8bb3b343d8e404472337966a722150048c768d0a92a9813596c5338d\n",
      "                  token_name: USDB\n",
      "          to:\n",
      "            party:\n",
      "              address: addr1qy9prvx8ufwutkwxx9cmmuuajaqmjqwujqlp9d8pvg6gupcvluken35ncjnu0puetf5jvttedkze02d5kf890kquh60sut9jg7\n",
      "          token:\n",
      "            currency_symbol: 8bb3b343d8e404472337966a722150048c768d0a92a9813596c5338d\n",
      "            token_name: USDB\n",
      "    to:\n",
      "      party:\n",
      "        address: addr1q95e9feu4hkp4qwvgqasq02na05z3eg33zzjquf2d86e6qzznwng4gtlladnxm7d486psa003jy6dv230t82rvv3pflqeuzzt2\n",
      "    token:\n",
      "      currency_symbol: 8bb3b343d8e404472337966a722150048c768d0a92a9813596c5338d\n",
      "      token_name: USDB\n"
     ]
    }
   ],
   "source": [
    "json2yaml evan-loan.contract"
   ]
  },
  {
   "cell_type": "code",
   "execution_count": 10,
   "id": "308d0cbc-c9b5-49ee-993c-9c26ddc5f9ba",
   "metadata": {},
   "outputs": [
    {
     "name": "stdout",
     "output_type": "stream",
     "text": [
      "Mon Nov 14 01:00:00 AM MST 2022\n"
     ]
    }
   ],
   "source": [
    "date -d @1668412800"
   ]
  },
  {
   "cell_type": "code",
   "execution_count": 11,
   "id": "798c2d56-fa2f-4058-ab64-58de0f823245",
   "metadata": {},
   "outputs": [
    {
     "name": "stdout",
     "output_type": "stream",
     "text": [
      "Sat Feb 11 11:59:00 PM MST 2023\n"
     ]
    }
   ],
   "source": [
    "date -d @1676185140"
   ]
  },
  {
   "cell_type": "code",
   "execution_count": 12,
   "id": "7759dc61-96be-4515-9ae0-b857607bb7ba",
   "metadata": {},
   "outputs": [
    {
     "name": "stdout",
     "output_type": "stream",
     "text": [
      "Mon Nov 14 11:59:00 PM MST 2022\n"
     ]
    }
   ],
   "source": [
    "date -d @1668495540"
   ]
  },
  {
   "cell_type": "code",
   "execution_count": 13,
   "id": "790abe05-5af9-49ba-903d-50cabfd0d429",
   "metadata": {},
   "outputs": [
    {
     "name": "stdout",
     "output_type": "stream",
     "text": [
      "accounts:\n",
      "- - - address: addr_test1vq9prvx8ufwutkwxx9cmmuuajaqmjqwujqlp9d8pvg6gupczgtm9j\n",
      "    - currency_symbol: ''\n",
      "      token_name: ''\n",
      "  - 2000000\n",
      "boundValues: []\n",
      "choices: []\n",
      "minTime: 1\n"
     ]
    }
   ],
   "source": [
    "json2yaml evan-loan.state"
   ]
  },
  {
   "cell_type": "code",
   "execution_count": 14,
   "id": "dce74aef-1c65-4a59-b58a-7f6434c4b75a",
   "metadata": {},
   "outputs": [
    {
     "name": "stdout",
     "output_type": "stream",
     "text": [
      "\n",
      "Searching for reference script at address: addr1z9l4w7djneh0kss4drg2php6ynflsvmal7x3w5nrc95uvhz7e4q926apsvcd6kn33cpx95k8jsmrj7v0k62rczvz8urqrl2z0l\n",
      "\n",
      "Expected reference script hash: \"6a9391d6aa51af28dd876ebb5565b69d1e83e5ac7861506bd29b56b0\"\n",
      "\n",
      "Searching for reference script at address: addr1z9l4w7djneh0kss4drg2php6ynflsvmal7x3w5nrc95uvhz7e4q926apsvcd6kn33cpx95k8jsmrj7v0k62rczvz8urqrl2z0l\n",
      "\n",
      "Expected reference script hash: \"49076eab20243dc9462511fb98a9cfb719f86e9692288139b7c91df3\"\n",
      "\n",
      "Validator size: 12505\n",
      "Base-validator cost: ExBudget {exBudgetCPU = ExCPU 18515100, exBudgetMemory = ExMemory 80600}\n"
     ]
    }
   ],
   "source": [
    "marlowe-cli run initialize \\\n",
    "  --mainnet \\\n",
    "  --at-address addr1z9l4w7djneh0kss4drg2php6ynflsvmal7x3w5nrc95uvhz7e4q926apsvcd6kn33cpx95k8jsmrj7v0k62rczvz8urqrl2z0l \\\n",
    "  --contract-file evan-loan.contract \\\n",
    "  --state-file    evan-loan.state \\\n",
    "  --out-file      evan-loan-1.marlowe \\\n",
    "  --print-stats"
   ]
  },
  {
   "cell_type": "code",
   "execution_count": 15,
   "id": "28b4c7c2-59a8-4f62-b5cb-be4524387b3f",
   "metadata": {},
   "outputs": [
    {
     "name": "stdout",
     "output_type": "stream",
     "text": [
      "Note that path-based analysis ignore the initial state of the contract and instead start with an empty state.\n",
      "Starting search for execution paths . . .\n",
      " . . . found 4 execution paths.\n",
      "- Preconditions:\n",
      "    Duplicate accounts: []\n",
      "    Duplicate bound values: []\n",
      "    Duplicate choices: []\n",
      "    Invalid account parties: []\n",
      "    Invalid account tokens: []\n",
      "    Invalid choice parties: []\n",
      "    Invalid roles currency: false\n",
      "    Non-positive account balances: []\n",
      "- Role names:\n",
      "    Blank role names: false\n",
      "    Invalid role names: []\n",
      "- Tokens:\n",
      "    Invalid tokens: []\n",
      "- Maximum value:\n",
      "    Actual: 96\n",
      "    Invalid: false\n",
      "    Maximum: 5000\n",
      "    Percentage: 1.92\n",
      "    Unit: byte\n",
      "- Minimum UTxO:\n",
      "    Requirement:\n",
      "      lovelace: 1288690\n",
      "- Execution cost:\n",
      "    Memory:\n",
      "      Actual: 6605682\n",
      "      Invalid: false\n",
      "      Maximum: 14000000\n",
      "      Percentage: 47.18344285714286\n",
      "    Steps:\n",
      "      Actual: 1830393886\n",
      "      Invalid: false\n",
      "      Maximum: 10000000000\n",
      "      Percentage: 18.30393886\n",
      "- Transaction size:\n",
      "    Actual: 3354\n",
      "    Invalid: false\n",
      "    Maximum: 16384\n",
      "    Percentage: 20.47119140625\n"
     ]
    }
   ],
   "source": [
    "marlowe-cli run analyze \\\n",
    "  --mainnet \\\n",
    "  --marlowe-file evan-loan-1.marlowe"
   ]
  },
  {
   "cell_type": "code",
   "execution_count": 16,
   "id": "6b572154-2be0-42c8-a255-5caaa6655493",
   "metadata": {},
   "outputs": [
    {
     "name": "stdout",
     "output_type": "stream",
     "text": [
      "\n",
      "Fee: Lovelace 248881\n",
      "Size: 1779 / 16384 = 10%\n",
      "Execution units:\n",
      "  Memory: 0 / 14000000 = 0%\n",
      "  Steps: 0 / 10000000000 = 0%\n",
      "3e5d0ac37fc61e2c635cac9eccd98d5caef8b09eed3e6c6256453eaead093b21\n"
     ]
    }
   ],
   "source": [
    "marlowe-cli run auto-execute \\\n",
    "  --mainnet \\\n",
    "  --marlowe-out-file evan-loan-1.marlowe \\\n",
    "  --change-address $FAUCET_ADDR \\\n",
    "  --required-signer $FAUCET_SKEY \\\n",
    "  --out-file evan-loan-1.txBody \\\n",
    "  --submit 600 \\\n",
    "  --print-stats"
   ]
  },
  {
   "cell_type": "code",
   "execution_count": 32,
   "id": "bb7e5283-5aa8-47ae-aeaf-e4278042c509",
   "metadata": {},
   "outputs": [
    {
     "name": "stdout",
     "output_type": "stream",
     "text": [
      "Rounding  `TransactionInput` txInterval boundries to:(POSIXTime {getPOSIXTime = 1668447916000},POSIXTime {getPOSIXTime = 1668448576999})\n",
      "TransactionInput {txInterval = (POSIXTime {getPOSIXTime = 1668447916000},POSIXTime {getPOSIXTime = 1668448576999}), txInputs = [NormalInput (IDeposit \"\\\"addr1qy9prvx8ufwutkwxx9cmmuuajaqmjqwujqlp9d8pvg6gupcvluken35ncjnu0puetf5jvttedkze02d5kf890kquh60sut9jg7\\\"\" \"\\\"addr1qy9prvx8ufwutkwxx9cmmuuajaqmjqwujqlp9d8pvg6gupcvluken35ncjnu0puetf5jvttedkze02d5kf890kquh60sut9jg7\\\"\" (Token \"8bb3b343d8e404472337966a722150048c768d0a92a9813596c5338d\" \"USDB\") 9000)]}\n",
      "\n",
      "Datum size: 1041\n",
      "Payment 1\n",
      "  Acccount: \"\\\"addr1qy9prvx8ufwutkwxx9cmmuuajaqmjqwujqlp9d8pvg6gupcvluken35ncjnu0puetf5jvttedkze02d5kf890kquh60sut9jg7\\\"\"\n",
      "  Payee: Party \"\\\"addr1q95e9feu4hkp4qwvgqasq02na05z3eg33zzjquf2d86e6qzznwng4gtlladnxm7d486psa003jy6dv230t82rvv3pflqeuzzt2\\\"\"\n",
      "  Ada: Lovelace {getLovelace = 0}\n",
      "  8bb3b343d8e404472337966a722150048c768d0a92a9813596c5338d.\"USDB\": 9000\n"
     ]
    }
   ],
   "source": [
    "RIGHT_NOW=$(($(date -u +%s) * 1000))\n",
    "marlowe-cli run prepare \\\n",
    "  --deposit-account $BRIAN_ADDR \\\n",
    "  --deposit-party $BRIAN_ADDR \\\n",
    "  --deposit-amount 9000 \\\n",
    "  --deposit-token 8bb3b343d8e404472337966a722150048c768d0a92a9813596c5338d.USDB \\\n",
    "  --invalid-before    $((RIGHT_NOW -  1 * 60 * 1000)) \\\n",
    "  --invalid-hereafter $((RIGHT_NOW + 10 * 60 * 1000)) \\\n",
    "  --marlowe-file evan-loan-1.marlowe \\\n",
    "  --out-file     evan-loan-2.marlowe \\\n",
    "  --print-stats"
   ]
  },
  {
   "cell_type": "code",
   "execution_count": 33,
   "id": "0b3dd648-8633-4fe3-a59b-9a7233ef87d4",
   "metadata": {},
   "outputs": [
    {
     "name": "stdout",
     "output_type": "stream",
     "text": [
      "\n",
      "Fee: Lovelace 901257\n",
      "Size: 3316 / 16384 = 20%\n",
      "Execution units:\n",
      "  Memory: 7468762 / 14000000 = 53%\n",
      "  Steps: 2053198482 / 10000000000 = 20%\n",
      "5137a4eecbe9b53e1afa9cd27f10c1b8a1ad30d8459e88ca5ed198b588025da6\n"
     ]
    }
   ],
   "source": [
    "marlowe-cli run auto-execute \\\n",
    "  --mainnet \\\n",
    "  --tx-in-marlowe \"3e5d0ac37fc61e2c635cac9eccd98d5caef8b09eed3e6c6256453eaead093b21#1\" \\\n",
    "  --marlowe-in-file  evan-loan-1.marlowe \\\n",
    "  --marlowe-out-file evan-loan-2.marlowe \\\n",
    "  --change-address $BRIAN_ADDR \\\n",
    "  --required-signer $BRIAN_SKEY \\\n",
    "  --out-file evan-loan-2.txBody \\\n",
    "  --submit 600 \\\n",
    "  --print-stats"
   ]
  },
  {
   "cell_type": "code",
   "execution_count": 34,
   "id": "9b0cbb61-7af2-4072-affc-499df5371df8",
   "metadata": {},
   "outputs": [
    {
     "name": "stdout",
     "output_type": "stream",
     "text": [
      "                           TxHash                                 TxIx        Amount\n",
      "--------------------------------------------------------------------------------------\n",
      "5137a4eecbe9b53e1afa9cd27f10c1b8a1ad30d8459e88ca5ed198b588025da6     1        2000000 lovelace + TxOutDatumHash ScriptDataInBabbageEra \"3c2165748b2363dd5c651984d96e7c05edc3c7fee57fdeb8a9d8743fa3203a98\"\n"
     ]
    }
   ],
   "source": [
    "cardano-cli query utxo --mainnet --address $(marlowe-cli contract address --mainnet)"
   ]
  },
  {
   "cell_type": "code",
   "execution_count": 35,
   "id": "a3f8bd21-1c3b-4b5e-b6c4-57c05fe19bad",
   "metadata": {},
   "outputs": [
    {
     "name": "stdout",
     "output_type": "stream",
     "text": [
      "                           TxHash                                 TxIx        Amount\n",
      "--------------------------------------------------------------------------------------\n",
      "0f996b962fd618c82a0c8db2aa8651feda723e05fa97221d49802051a7b2c99e     1        1314550 lovelace + 1 8bb3b343d8e404472337966a722150048c768d0a92a9813596c5338d.5377616e + 1 f0ff48bbb7bbe9d59a40f1ce90e9e9d0ff5002ec48f232b49ca0fb9a.632e6d61726c6f77 + TxOutDatumNone\n",
      "0f996b962fd618c82a0c8db2aa8651feda723e05fa97221d49802051a7b2c99e     2        10000000 lovelace + 1 8bb3b343d8e404472337966a722150048c768d0a92a9813596c5338d.4265617247617264656e + 1 8bb3b343d8e404472337966a722150048c768d0a92a9813596c5338d.476c6f6265 + 1 8bb3b343d8e404472337966a722150048c768d0a92a9813596c5338d.5377616e + TxOutDatumNone\n",
      "0f996b962fd618c82a0c8db2aa8651feda723e05fa97221d49802051a7b2c99e     3        5000000 lovelace + 2 8bb3b343d8e404472337966a722150048c768d0a92a9813596c5338d.5377616e + 2 b1a80ea5d4b5c9f8d550fb9fa9fe53433903f420a449c8977b3470fa.4245414d + TxOutDatumNone\n",
      "0f996b962fd618c82a0c8db2aa8651feda723e05fa97221d49802051a7b2c99e     4        1047330 lovelace + 1 f0ff48bbb7bbe9d59a40f1ce90e9e9d0ff5002ec48f232b49ca0fb9a.632e6d61726c6f7765 + TxOutDatumNone\n",
      "0f996b962fd618c82a0c8db2aa8651feda723e05fa97221d49802051a7b2c99e     5        1030090 lovelace + 3 8bb3b343d8e404472337966a722150048c768d0a92a9813596c5338d.476c6f6265 + TxOutDatumNone\n",
      "0f996b962fd618c82a0c8db2aa8651feda723e05fa97221d49802051a7b2c99e     6        1051640 lovelace + 3 8bb3b343d8e404472337966a722150048c768d0a92a9813596c5338d.4265617247617264656e + TxOutDatumNone\n",
      "261cb07ae2652559195d9a5cbbd0261b655e192694566ce131e0019f58a18a12     0        62076402 lovelace + TxOutDatumNone\n"
     ]
    }
   ],
   "source": [
    "cardano-cli query utxo --mainnet --address $FAUCET_ADDR"
   ]
  },
  {
   "cell_type": "code",
   "execution_count": 36,
   "id": "6f9c3755-13f1-49bf-b028-6754f6e6149b",
   "metadata": {},
   "outputs": [
    {
     "name": "stdout",
     "output_type": "stream",
     "text": [
      "                           TxHash                                 TxIx        Amount\n",
      "--------------------------------------------------------------------------------------\n",
      "5137a4eecbe9b53e1afa9cd27f10c1b8a1ad30d8459e88ca5ed198b588025da6     0        9098743 lovelace + TxOutDatumNone\n",
      "e0302e05fe752d489f740631a4e921ec5c287cef5150ad7e1239627bcfd822c6     0        1224040 lovelace + 1 f0ff48bbb7bbe9d59a40f1ce90e9e9d0ff5002ec48f232b49ca0fb9a.772e7368616b65737065617265 + TxOutDatumNone\n"
     ]
    }
   ],
   "source": [
    "cardano-cli query utxo --mainnet --address $BRIAN_ADDR"
   ]
  },
  {
   "cell_type": "code",
   "execution_count": 37,
   "id": "e5ec79b5-31a5-47cc-96a4-ab83c88cff60",
   "metadata": {},
   "outputs": [
    {
     "name": "stdout",
     "output_type": "stream",
     "text": [
      "                           TxHash                                 TxIx        Amount\n",
      "--------------------------------------------------------------------------------------\n",
      "06dea13bb3c481e90062dbf1d777f9672aacaced33a0ac3afedc12bc691ef6b5     0        1344720 lovelace + 1 8bb3b343d8e404472337966a722150048c768d0a92a9813596c5338d.3230323248493235 + TxOutDatumNone\n",
      "06dea13bb3c481e90062dbf1d777f9672aacaced33a0ac3afedc12bc691ef6b5     2        8885989 lovelace + TxOutDatumNone\n",
      "0f996b962fd618c82a0c8db2aa8651feda723e05fa97221d49802051a7b2c99e     7        1150770 lovelace + 120 8bb3b343d8e404472337966a722150048c768d0a92a9813596c5338d.55534442 + TxOutDatumNone\n",
      "121141315bf497f779b3257bb0de1cf16bc1a49d09bfc8bd15658b67114b7ba8     0        1344720 lovelace + 1 8bb3b343d8e404472337966a722150048c768d0a92a9813596c5338d.32303232484938 + TxOutDatumNone\n",
      "192c9456e7034a63a118265182263cbd579103529ee10b98fbaf15d67819640f     0        1344720 lovelace + 1 8bb3b343d8e404472337966a722150048c768d0a92a9813596c5338d.32303232484939 + TxOutDatumNone\n",
      "2f3456d0934ed084b9d895f5c8c1836c50a4be40f6e17142333035c28bbcec01     0        1344720 lovelace + 1 8bb3b343d8e404472337966a722150048c768d0a92a9813596c5338d.3230323248493137 + TxOutDatumNone\n",
      "3a594180af219d6f09dba9b1d2b057cd1f21b3e5b39d4ea4ea6f5a329787973b     0        1344720 lovelace + 1 8bb3b343d8e404472337966a722150048c768d0a92a9813596c5338d.3230323248493230 + TxOutDatumNone\n",
      "49aea3d04dcb020bc77dc6fdd686f99b6449c284bb14cd65ad8bdf489e201858     0        1344720 lovelace + 1 8bb3b343d8e404472337966a722150048c768d0a92a9813596c5338d.3230323248493237 + TxOutDatumNone\n",
      "5137a4eecbe9b53e1afa9cd27f10c1b8a1ad30d8459e88ca5ed198b588025da6     2        1155080 lovelace + 9000 8bb3b343d8e404472337966a722150048c768d0a92a9813596c5338d.55534442 + TxOutDatumNone\n",
      "563ca525ab745e329920f91ca10cc7a9e6452c6adc0a91a6d0e6aa5d2aaf1c44     0        1344720 lovelace + 1 8bb3b343d8e404472337966a722150048c768d0a92a9813596c5338d.32303232484935 + TxOutDatumNone\n",
      "563ca525ab745e329920f91ca10cc7a9e6452c6adc0a91a6d0e6aa5d2aaf1c44     1        1344720 lovelace + 1 8bb3b343d8e404472337966a722150048c768d0a92a9813596c5338d.32303232484930 + TxOutDatumNone\n",
      "57ee15161742f7a5f50bdeb8f21d264d43dfd2ffca73a23fcbfb60bb10a5a29e     0        1344720 lovelace + 1 8bb3b343d8e404472337966a722150048c768d0a92a9813596c5338d.3230323248493239 + TxOutDatumNone\n",
      "6f0c4e09657853fd6153a95b3473a377fb7945e3db9bd2fc44a332becbe14ead     0        1344720 lovelace + 1 8bb3b343d8e404472337966a722150048c768d0a92a9813596c5338d.3230323248493333 + TxOutDatumNone\n",
      "706eff525921533c6afd56773631bcc80e95fe05934c3314d4ec137299ff071f     0        1344720 lovelace + 1 8bb3b343d8e404472337966a722150048c768d0a92a9813596c5338d.3230323248493334 + TxOutDatumNone\n",
      "7390c77e0837d389a2618cd75d79ba8dd6b4a046e07f4230c5b7676465b7a50d     0        1344720 lovelace + 1 8bb3b343d8e404472337966a722150048c768d0a92a9813596c5338d.3230323248493232 + TxOutDatumNone\n",
      "7fc5bd7b77f6e5d06580151ec1d4947e622a0d34178fbc0657034f2b0452232d     0        1344720 lovelace + 1 8bb3b343d8e404472337966a722150048c768d0a92a9813596c5338d.3230323248493133 + TxOutDatumNone\n",
      "8743a0796cd06cabc572d77970ed8258f42199f1f8c97424acfedaf76da21e07     2        6886297 lovelace + TxOutDatumNone\n",
      "96206832974db5e1914ce0c11ae5a075a0118a9186011f6d0e920604adceffbd     0        1344720 lovelace + 1 8bb3b343d8e404472337966a722150048c768d0a92a9813596c5338d.32303232484937 + TxOutDatumNone\n",
      "b7c51418b780035d0cfd48b6a6f5bf82f4f12aad551b27567aef4f67dabb046d     0        8981878 lovelace + TxOutDatumNone\n",
      "c0533c638343ac22ea31e7c7eafc5de9fe4ac4112d69cb37e1bbda3e91175013     0        1344720 lovelace + 1 8bb3b343d8e404472337966a722150048c768d0a92a9813596c5338d.3230323248493131 + TxOutDatumNone\n",
      "c957733984a8300ac92dce1a674b5c88388954168bcefb34d93c4f99f055b089     0        1344720 lovelace + 1 8bb3b343d8e404472337966a722150048c768d0a92a9813596c5338d.3230323248493332 + TxOutDatumNone\n",
      "d5725beedc984c81b118834e5fd431c06456b31e6cce9843415c7b2c5f33fea6     0        1344720 lovelace + 1 8bb3b343d8e404472337966a722150048c768d0a92a9813596c5338d.3230323248493236 + TxOutDatumNone\n",
      "d9e861a815d2c355d4b4e25bece85c602fc044be9346343c234d0ebf56c121b1     0        1344720 lovelace + 1 8bb3b343d8e404472337966a722150048c768d0a92a9813596c5338d.3230323248493233 + TxOutDatumNone\n",
      "da586b90eb66a9616374572b6b5d0030117c27ad2d2dc5f584a400af4dc4eef2     1        1444443 lovelace + 1 f0ff48bbb7bbe9d59a40f1ce90e9e9d0ff5002ec48f232b49ca0fb9a.6465762e6e756c6c + TxOutDatumNone\n",
      "ddf47f14641dd01946c69dbbf627a86a741344754cba61df2e054cecfb5cd7c3     0        1344720 lovelace + 1 8bb3b343d8e404472337966a722150048c768d0a92a9813596c5338d.3230323248493330 + TxOutDatumNone\n",
      "eae5159e2c613029e09ed48a96cc825488bdaddfa953e4300564274ceb78187c     0        1344720 lovelace + 1 8bb3b343d8e404472337966a722150048c768d0a92a9813596c5338d.3230323248493231 + TxOutDatumNone\n",
      "f806540f4612b03f2cd58781d0c98be8cc7db822b2f308aa5810cdf992f2a6a4     0        1344720 lovelace + 1 8bb3b343d8e404472337966a722150048c768d0a92a9813596c5338d.32303232484932 + TxOutDatumNone\n"
     ]
    }
   ],
   "source": [
    "cardano-cli query utxo --mainnet --address $EVAN_ADDR"
   ]
  },
  {
   "cell_type": "code",
   "execution_count": null,
   "id": "73b7aa09-c666-4043-ab79-79644a151532",
   "metadata": {},
   "outputs": [],
   "source": []
  }
 ],
 "metadata": {
  "kernelspec": {
   "display_name": "Bash - Marlowe",
   "language": "bash",
   "name": "bash_marlowe"
  },
  "language_info": {
   "codemirror_mode": "shell",
   "file_extension": ".sh",
   "mimetype": "text/x-sh",
   "name": "/nix/store/l0wlqpbsvh1pgvhcdhw7qkka3d31si7k-bash-5.1-p8/bin/bash"
  }
 },
 "nbformat": 4,
 "nbformat_minor": 5
}
