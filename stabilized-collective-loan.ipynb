{
 "cells": [
  {
   "cell_type": "markdown",
   "id": "d2282dae-c7b1-4dec-9e9d-f66dcff5e767",
   "metadata": {},
   "source": [
    "# Stabilized Collective Loan in Marlowe"
   ]
  },
  {
   "cell_type": "markdown",
   "id": "c655fc2e-3149-4e4f-b675-fa55f462dd4c",
   "metadata": {},
   "source": [
    "## Sequence Diagram"
   ]
  },
  {
   "cell_type": "markdown",
   "id": "54e55032-abcd-49e4-afd9-8220dfea7334",
   "metadata": {},
   "source": [
    "## Preliminaries"
   ]
  },
  {
   "cell_type": "markdown",
   "id": "732311a2-6b0a-493f-89aa-2e7726935758",
   "metadata": {},
   "source": [
    "### Versions"
   ]
  },
  {
   "cell_type": "markdown",
   "id": "c27b9add-75d2-43c0-bdfa-5e307d0d7ec4",
   "metadata": {},
   "source": [
    "Make a note of the versions of the Marlowe repository and software."
   ]
  },
  {
   "cell_type": "code",
   "execution_count": 1,
   "id": "59b0f329-1f59-4366-b4dc-34b9e4adee00",
   "metadata": {},
   "outputs": [
    {
     "name": "stdout",
     "output_type": "stream",
     "text": [
      "marlowe-cli 0.0.6.0\n"
     ]
    }
   ],
   "source": [
    "marlowe-cli --version"
   ]
  },
  {
   "cell_type": "code",
   "execution_count": 2,
   "id": "dcac1a0e-f533-4cad-b474-c1f122f79cce",
   "metadata": {},
   "outputs": [
    {
     "name": "stdout",
     "output_type": "stream",
     "text": [
      "cardano-cli 1.35.3 - linux-x86_64 - ghc-8.10\n",
      "git rev 0000000000000000000000000000000000000000\n"
     ]
    }
   ],
   "source": [
    "cardano-cli --version"
   ]
  },
  {
   "cell_type": "code",
   "execution_count": 3,
   "id": "85240b4e-2412-4530-95e4-5219eb8a9780",
   "metadata": {},
   "outputs": [
    {
     "name": "stdout",
     "output_type": "stream",
     "text": [
      "76ef66b89bf8e24105dbf22f5e68335b7d5f649e\n"
     ]
    }
   ],
   "source": [
    "git rev-parse HEAD"
   ]
  },
  {
   "cell_type": "markdown",
   "id": "aa1c26dd-6db8-4a75-9604-f8494538b9a4",
   "metadata": {},
   "source": [
    "### Select the Cardano network"
   ]
  },
  {
   "cell_type": "markdown",
   "id": "ccd713c7-37e5-4746-a18b-6b82fe125a56",
   "metadata": {},
   "source": [
    "Use the `preview` networks, which is in the Babbage era."
   ]
  },
  {
   "cell_type": "code",
   "execution_count": 4,
   "id": "60ab7ef1-d69a-4d40-aa20-894916013cf2",
   "metadata": {},
   "outputs": [],
   "source": [
    "export CARDANO_TESTNET_MAGIC=2\n",
    "export CARDANO_NODE_SOCKET_PATH=node.socket"
   ]
  },
  {
   "cell_type": "markdown",
   "id": "4cf407d7-6cd1-4933-a593-b638fd0167ef",
   "metadata": {},
   "source": [
    "### Current Time"
   ]
  },
  {
   "cell_type": "markdown",
   "id": "d6e588e1-960a-442e-85f9-5b175644bf70",
   "metadata": {},
   "source": [
    "We'll start the contract at the current time."
   ]
  },
  {
   "cell_type": "code",
   "execution_count": 5,
   "id": "932d174a-1092-4c5f-9da1-4dd84bd6eb81",
   "metadata": {},
   "outputs": [
    {
     "name": "stdout",
     "output_type": "stream",
     "text": [
      "1661915651000\n"
     ]
    }
   ],
   "source": [
    "NOW=$(($(date -u +%s) * 1000))\n",
    "echo $NOW"
   ]
  },
  {
   "cell_type": "markdown",
   "id": "662675d0-241f-433e-9c59-e78c25cfbbbd",
   "metadata": {},
   "source": [
    "Compute time constants, for convenience when setting time intervals for transactions."
   ]
  },
  {
   "cell_type": "code",
   "execution_count": 6,
   "id": "b43c72cd-d15c-4323-aee7-09e95c17cae9",
   "metadata": {},
   "outputs": [],
   "source": [
    "MINUTE=$((60 * 1000))\n",
    "HOUR=$((60 * MINUTE))\n",
    "DAY=$((24 * HOUR))"
   ]
  },
  {
   "cell_type": "markdown",
   "id": "20350c3c-0f59-4e14-a299-cbf6e80753ff",
   "metadata": {},
   "source": [
    "There is a minimum Ada requirement associated with a native token."
   ]
  },
  {
   "cell_type": "code",
   "execution_count": 7,
   "id": "88f6d4e0-2271-42cc-9cfe-177362edf9e9",
   "metadata": {},
   "outputs": [
    {
     "name": "stdout",
     "output_type": "stream",
     "text": [
      "2000000\n"
     ]
    }
   ],
   "source": [
    "ADA=1000000\n",
    "MIN_ADA=$((2 * ADA))\n",
    "echo $MIN_ADA"
   ]
  },
  {
   "cell_type": "markdown",
   "id": "c8aa6463-b652-4340-98f2-7300fc8c49de",
   "metadata": {},
   "source": [
    "### Contract Parameters"
   ]
  },
  {
   "cell_type": "markdown",
   "id": "2e35dfe6-16c1-439e-b6e6-88dd42ee5ada",
   "metadata": {},
   "source": [
    "Set parameters for the contract. This contract scales to large numbers of lenders and borrowers, but that will involve many transactions and much time if run on-chain."
   ]
  },
  {
   "cell_type": "code",
   "execution_count": 8,
   "id": "1967aea0-0df3-4e3b-a855-ff57f40e006e",
   "metadata": {},
   "outputs": [],
   "source": [
    "BASENAME=stabilized-collective-loan\n",
    "\n",
    "DJED_POLICY=76ea6a9aad89b09448e7af765f5a3e89c574989d67d6371a80e58baf\n",
    "DJED_NAME=DjedUSD\n",
    "\n",
    "N_STABILIZERS=1\n",
    "N_INVESTORS=3\n",
    "N_BORROWERS=5\n",
    "\n",
    "N_STEPS=20\n",
    "\n",
    "MINIMUM_STABILIZATION=1000000\n",
    "MAXIMUM_STABILIZATION=10000000\n",
    "\n",
    "MINIMUM_INVESTMENT=500000\n",
    "MAXIMUM_INVESTMENT=5000000\n",
    "\n",
    "MINIMUM_LOAN=100000\n",
    "MAXIMUM_LOAN=1000000\n",
    "\n",
    "PERCENT_STABILIZATION=40\n",
    "PERCENT_INTEREST=10\n",
    "\n",
    "TIMEOUT_START=$((NOW + 1 * HOUR))\n",
    "TIMEOUT_DELTA=$((1 * HOUR))\n",
    "TIMEOUT_FINAL=$((NOW + 1000 * DAY))\n",
    "\n",
    "ADMINISTRATOR_ROLE=A\n",
    "STABILIZER_PREFIX=S\n",
    "INVESTOR_PREFIX=I\n",
    "BORROWER_PREFIX=B"
   ]
  },
  {
   "cell_type": "markdown",
   "id": "796015de-7295-45d9-b809-483679e51e62",
   "metadata": {},
   "source": [
    "### Helper functions for roles"
   ]
  },
  {
   "cell_type": "code",
   "execution_count": 9,
   "id": "091ba58f-be1f-43db-aa18-adc16d9a53bc",
   "metadata": {},
   "outputs": [],
   "source": [
    "function stabilizer() {\n",
    "  echo \"$STABILIZER_PREFIX$1\"\n",
    "}"
   ]
  },
  {
   "cell_type": "code",
   "execution_count": 10,
   "id": "1f770523-bd0e-49c8-a2c3-01109579a960",
   "metadata": {},
   "outputs": [],
   "source": [
    "function investor() {\n",
    "  echo \"$INVESTOR_PREFIX$1\"\n",
    "}"
   ]
  },
  {
   "cell_type": "code",
   "execution_count": 11,
   "id": "92113df8-749e-4c8f-963f-ea4ffcf1aa39",
   "metadata": {},
   "outputs": [],
   "source": [
    "function borrower() {\n",
    "  echo \"$BORROWER_PREFIX$1\"\n",
    "}"
   ]
  },
  {
   "cell_type": "markdown",
   "id": "a341334e-9e68-4c72-97d1-57980dfb548a",
   "metadata": {},
   "source": [
    "### Helper functions for state"
   ]
  },
  {
   "cell_type": "code",
   "execution_count": 12,
   "id": "4524af32-10c8-42c2-a872-134036217832",
   "metadata": {},
   "outputs": [],
   "source": [
    "function show_state() {\n",
    "  jq .tx.state $BASENAME-$1.marlowe | json2yaml\n",
    "}"
   ]
  },
  {
   "cell_type": "code",
   "execution_count": 13,
   "id": "301679d2-2201-43e1-b5c0-96897ac0fcaa",
   "metadata": {},
   "outputs": [],
   "source": [
    "function show_choices() {\n",
    "  jq .tx.state.choices $BASENAME-$1.marlowe | json2yaml\n",
    "}"
   ]
  },
  {
   "cell_type": "code",
   "execution_count": 14,
   "id": "8587e919-13a1-42ea-84a2-7fac7d55e68c",
   "metadata": {},
   "outputs": [],
   "source": [
    "function show_nonchoices() {\n",
    "  jq '.tx.state | {accounts : .accounts, boundValues : .boundValues}' $BASENAME-$1.marlowe | json2yaml\n",
    "}"
   ]
  },
  {
   "cell_type": "markdown",
   "id": "b0a82037-fcc8-496a-a64b-e89bd1037d9f",
   "metadata": {},
   "source": [
    "### Mint the Djed\n",
    "\n",
    "The contract will use fake Djed for payments."
   ]
  },
  {
   "cell_type": "code",
   "execution_count": 15,
   "id": "d9f6ad4a-bf12-48a0-9a75-f994c6035349",
   "metadata": {},
   "outputs": [],
   "source": [
    "DJED_NAME=DjedUSD"
   ]
  },
  {
   "cell_type": "code",
   "execution_count": 16,
   "id": "808dec1c-a485-4fdd-b245-60e23f694abf",
   "metadata": {},
   "outputs": [],
   "source": [
    "DJED_POLICY=76ea6a9aad89b09448e7af765f5a3e89c574989d67d6371a80e58baf"
   ]
  },
  {
   "cell_type": "code",
   "execution_count": 17,
   "id": "f94d45db-bd70-4b55-9146-f4dd52edb4d4",
   "metadata": {},
   "outputs": [
    {
     "name": "stdout",
     "output_type": "stream",
     "text": [
      "76ea6a9aad89b09448e7af765f5a3e89c574989d67d6371a80e58baf.DjedUSD\n"
     ]
    }
   ],
   "source": [
    "DJED=$DJED_POLICY.$DJED_NAME\n",
    "echo $DJED"
   ]
  },
  {
   "cell_type": "markdown",
   "id": "cfcf5f3c-6323-463b-b82f-a5b4e9742062",
   "metadata": {},
   "source": [
    "In `cardano-cli` the token name is printed in hexadecimal, so we have . . ."
   ]
  },
  {
   "cell_type": "code",
   "execution_count": 18,
   "id": "1d6ce963-3a23-4a54-835d-15d04e471cb4",
   "metadata": {},
   "outputs": [
    {
     "name": "stdout",
     "output_type": "stream",
     "text": [
      "76ea6a9aad89b09448e7af765f5a3e89c574989d67d6371a80e58baf.446a6564555344\n"
     ]
    }
   ],
   "source": [
    "echo $DJED_POLICY.$(echo -n $DJED_NAME | basenc --base16 | tr '[:upper:]' '[:lower:]')"
   ]
  },
  {
   "cell_type": "markdown",
   "id": "0278ea43-e8ac-4b4f-a9a5-4bd93a690f93",
   "metadata": {},
   "source": [
    "### Mint the Role Tokens"
   ]
  },
  {
   "cell_type": "markdown",
   "id": "cbf0953f-4d3f-4e7e-8521-0a3dd646302e",
   "metadata": {},
   "source": [
    "There is one role token for the administrator."
   ]
  },
  {
   "cell_type": "markdown",
   "id": "f240afe7-8499-45b9-9c56-1189a6ed7a0a",
   "metadata": {},
   "source": [
    "Mint the role tokens."
   ]
  },
  {
   "cell_type": "code",
   "execution_count": 19,
   "id": "d19cb24f-2b30-45bc-9db7-e62618aef012",
   "metadata": {},
   "outputs": [],
   "source": [
    "ROLES_POLICY=9cb30bdd840cc8b31806c20eae6ed14614d32f10379547d605064e78"
   ]
  },
  {
   "cell_type": "markdown",
   "id": "519e08a7-1372-477c-b7ba-1ab013673ca1",
   "metadata": {},
   "source": [
    "## Generate the Contract"
   ]
  },
  {
   "cell_type": "markdown",
   "id": "16e9346d-b183-4e58-92a0-fd63dff0d9fb",
   "metadata": {},
   "source": [
    "Run a Haskell program that generates the contract."
   ]
  },
  {
   "cell_type": "code",
   "execution_count": 20,
   "id": "5e86a115-5b6a-4e65-9a36-63b781eb4685",
   "metadata": {},
   "outputs": [],
   "source": [
    "runhaskell << EOI\n",
    "\n",
    "{-# LANGUAGE NumericUnderscores #-}\n",
    "{-# LANGUAGE OverloadedStrings  #-}\n",
    "{-# LANGUAGE RecordWildCards    #-}\n",
    "\n",
    "\n",
    "module Main (\n",
    "  main\n",
    ") where\n",
    "\n",
    "\n",
    "import Control.Monad.Writer (Writer, runWriter, tell)\n",
    "import Data.Aeson ((.=), encodeFile,object)\n",
    "import Data.Default (Default(..))\n",
    "import Data.Foldable (foldrM)\n",
    "import Data.Maybe (fromMaybe)\n",
    "import Data.String (fromString)\n",
    "import Language.Marlowe.Core.V1.Semantics.Types\n",
    "import Plutus.V1.Ledger.Api (BuiltinByteString, POSIXTime(..), TokenName)\n",
    "import Language.Marlowe.CLI.Merkle (deepMerkleize)\n",
    "import Language.Marlowe.CLI.Types (Continuations)\n",
    "\n",
    "\n",
    "data Scenario =\n",
    "  Scenario\n",
    "  {\n",
    "    nSteps               :: Int\n",
    "  , timeoutStart         :: Integer\n",
    "  , timeoutDelta         :: Integer\n",
    "  , timeoutFinal         :: POSIXTime\n",
    "  , nStabilizers         :: Int\n",
    "  , nInvestors           :: Int\n",
    "  , nBorrowers           :: Int\n",
    "  , administratorName    :: String\n",
    "  , stabilizerPrefix     :: String\n",
    "  , investorPrefix       :: String\n",
    "  , borrowerPrefix       :: String\n",
    "  , stabilizeBound       :: [Bound]\n",
    "  , investBound          :: [Bound]\n",
    "  , loanBound            :: [Bound]\n",
    "  , percentInterest      :: Integer\n",
    "  , percentStabilization :: Integer\n",
    "  , djed                 :: Token\n",
    "  }\n",
    "\n",
    "instance Default Scenario where\n",
    "  def = \n",
    "    Scenario\n",
    "    {\n",
    "      nSteps               = $N_STEPS\n",
    "    , timeoutStart         = $TIMEOUT_START\n",
    "    , timeoutDelta         = $TIMEOUT_DELTA\n",
    "    , timeoutFinal         = POSIXTime $TIMEOUT_FINAL\n",
    "    , nStabilizers         = $N_STABILIZERS\n",
    "    , nInvestors           = $N_INVESTORS\n",
    "    , nBorrowers           = $N_BORROWERS\n",
    "    , administratorName    = \"$ADMINISTRATOR_ROLE\"\n",
    "    , stabilizerPrefix     = \"$STABILIZER_PREFIX\"\n",
    "    , investorPrefix       = \"$INVESTOR_PREFIX\"\n",
    "    , borrowerPrefix       = \"$BORROWER_PREFIX\"\n",
    "    , stabilizeBound       = [Bound $MINIMUM_STABILIZATION $MAXIMUM_STABILIZATION]\n",
    "    , investBound          = [Bound $MINIMUM_INVESTMENT    $MAXIMUM_INVESTMENT   ]\n",
    "    , loanBound            = [Bound $MINIMUM_LOAN          $MAXIMUM_LOAN         ]\n",
    "    , percentInterest      = $PERCENT_INTEREST\n",
    "    , percentStabilization = $PERCENT_STABILIZATION\n",
    "    , djed                 = Token \"$DJED_POLICY\" \"$DJED_NAME\"\n",
    "    }\n",
    "\n",
    "\n",
    "main :: IO ()\n",
    "main =\n",
    "  let\n",
    "    (contract, continuations) = buildContract def\n",
    "  in\n",
    "    encodeFile \"$BASENAME.merkleization\"\n",
    "      $ object\n",
    "        [\n",
    "          \"contract\"      .= contract\n",
    "        , \"continuations\" .= continuations\n",
    "        ]\n",
    "\n",
    "\n",
    "buildContract :: Scenario -> (Contract, Continuations)\n",
    "buildContract scenario@Scenario{..} =\n",
    "  let\n",
    "    timeouts = [POSIXTime $ timeoutStart + toInteger i * timeoutDelta | i <- [1..nSteps]]\n",
    "  in\n",
    "    runWriter $ foldrM (makeStep scenario) Close timeouts\n",
    "\n",
    "\n",
    "defaultBound :: [Bound]\n",
    "defaultBound = [Bound 1 1_000_000_000_000]\n",
    "\n",
    "\n",
    "makeParty :: String -> Int -> Party\n",
    "makeParty name i = Role . fromString $ name <> show i\n",
    "\n",
    "\n",
    "deposit :: Scenario\n",
    "        -> String\n",
    "        -> String\n",
    "        -> Int\n",
    "        -> Maybe Party\n",
    "        -> [Bound]\n",
    "        -> (Value Observation -> Contract -> Contract)\n",
    "        -> Contract\n",
    "        -> [Case Contract]\n",
    "deposit Scenario{..} name prefix i recipient bound f continuation =\n",
    "  let\n",
    "    party = makeParty prefix i\n",
    "    party' = fromMaybe party recipient\n",
    "    choice = ChoiceId (fromString name) party\n",
    "    value = ChoiceValue choice\n",
    "  in\n",
    "    [\n",
    "      Case (Choice choice bound)\n",
    "        continuation\n",
    "    , Case (Deposit party' party djed value)\n",
    "        $ f value continuation\n",
    "    ]\n",
    "\n",
    "\n",
    "stabilization :: ValueId\n",
    "stabilization = ValueId \"Stabilization\"\n",
    "\n",
    "\n",
    "stabilize :: Scenario -> Int -> Contract -> [Case Contract]\n",
    "stabilize scenario@Scenario{..} i =\n",
    "  deposit scenario \"Stabilize\" stabilizerPrefix i Nothing stabilizeBound\n",
    "    (stabilization =+)\n",
    " \n",
    "\n",
    "assets :: ValueId\n",
    "assets = ValueId \"Assets\"\n",
    "\n",
    "\n",
    "equity :: Int -> ValueId\n",
    "equity = ValueId . (\"Equity \" <>) . fromString . show\n",
    "\n",
    "\n",
    "invest :: Scenario -> Int -> Contract -> [Case Contract]\n",
    "invest scenario@Scenario{..} i =\n",
    "  deposit scenario \"Invest\" investorPrefix i Nothing investBound\n",
    "    $ \\value -> (assets   =+ value)\n",
    "              . (equity i =+ value)\n",
    "\n",
    "\n",
    "withdraw :: Scenario\n",
    "         -> Int\n",
    "         -> Contract\n",
    "         -> [Case Contract]\n",
    "withdraw Scenario{..} i continuation =\n",
    "  let\n",
    "    party = makeParty investorPrefix i\n",
    "    choice = ChoiceId \"Withdraw\" party\n",
    "    value = ChoiceValue choice\n",
    "    funds = AvailableMoney party djed\n",
    "  in\n",
    "    [\n",
    "      Case (Choice choice defaultBound)\n",
    "        $ If (value @<= funds)\n",
    "            (\n",
    "              Pay party (Party party) djed value\n",
    "                $ assets   =- value\n",
    "                $ equity i =- value\n",
    "                $ continuation\n",
    "            )\n",
    "            (\n",
    "              Pay party (Party party) djed funds\n",
    "                $ assets   =- funds\n",
    "                $ equity i =- funds\n",
    "                $ continuation\n",
    "            )\n",
    "    ]\n",
    "\n",
    "\n",
    "lend :: Scenario\n",
    "     -> Party\n",
    "     -> Value Observation\n",
    "     -> Value Observation\n",
    "     -> Int\n",
    "     -> Contract\n",
    "     -> Contract\n",
    "lend Scenario{..} borrower principal interest i =\n",
    "  let\n",
    "    party = makeParty investorPrefix i\n",
    "    funds = AvailableMoney party djed\n",
    "    assets' = UseValue assets\n",
    "    principal' = (principal @* funds) @/ assets'\n",
    "    interest'  = (interest  @* funds) @/ assets'\n",
    "  in\n",
    "    Pay party (Party borrower) djed principal'\n",
    "      . (equity i =+ interest')\n",
    "\n",
    "\n",
    "liabilities :: ValueId\n",
    "liabilities = ValueId \"Liabilities\"\n",
    "\n",
    "loan :: Scenario\n",
    "     -> Int\n",
    "     -> Contract\n",
    "     -> [Case Contract]\n",
    "loan scenario@Scenario{..} i continuation =\n",
    "  let\n",
    "    party = Role $ fromString administratorName\n",
    "    borrower = makeParty borrowerPrefix i\n",
    "    choice = ChoiceId \"Loan\" party\n",
    "    principal = ChoiceValue choice\n",
    "    assets' = UseValue assets\n",
    "    stabilization' = UseValue stabilization\n",
    "  in\n",
    "    [\n",
    "      Case (Choice choice loanBound)\n",
    "        $ let\n",
    "            interest = principal @% percentInterest\n",
    "            debt = principal @+ interest\n",
    "          in\n",
    "            If ((principal @<= assets') @&& (stabilization' @>= (debt @% percentStabilization)))\n",
    "              (\n",
    "                flip (foldr $ lend scenario borrower principal interest) [1..nInvestors]\n",
    "                  $ liabilities =+ debt\n",
    "                  $ assets      =- principal\n",
    "                  $ continuation\n",
    "              )\n",
    "              continuation\n",
    "    ]\n",
    "\n",
    "\n",
    "restore :: Scenario\n",
    "        -> Value Observation\n",
    "        -> Int\n",
    "        -> Contract\n",
    "        -> Contract\n",
    "restore Scenario{..} repayment i =\n",
    "  let\n",
    "    administrator = Role $ fromString administratorName\n",
    "    party = makeParty investorPrefix i\n",
    "    equity' = UseValue $ equity i\n",
    "    assets' = AvailableMoney party djed\n",
    "    liabilities' = UseValue liabilities\n",
    "    share = (repayment @* (equity' @- assets')) @/ liabilities'\n",
    "  in\n",
    "    Pay administrator (Account party) djed share\n",
    "\n",
    "\n",
    "repay :: Scenario\n",
    "      -> Int\n",
    "      -> Contract\n",
    "      -> [Case Contract]\n",
    "repay scenario@Scenario{..} i =\n",
    "  deposit scenario \"Repay\" borrowerPrefix i (Just . Role $ fromString administratorName) defaultBound\n",
    "    $ \\repayment -> flip (foldr $ restore scenario repayment) [1..nInvestors]\n",
    "                      . (liabilities =- repayment)\n",
    "                      . (assets      =+ repayment)\n",
    "\n",
    "\n",
    "gather :: Scenario\n",
    "       -> Value Observation\n",
    "       -> ValueId\n",
    "       -> String\n",
    "       -> Int\n",
    "       -> Contract\n",
    "       -> Contract\n",
    "gather Scenario{..} amount basis prefix i = \n",
    "  let\n",
    "    administrator = Role $ fromString administratorName\n",
    "    party = makeParty prefix i\n",
    "    funds = AvailableMoney party djed\n",
    "    basis' = UseValue basis\n",
    "    share = (amount @* funds) @/ basis'\n",
    "  in\n",
    "    Pay party (Account administrator) djed share\n",
    "\n",
    "\n",
    "scatter :: Scenario\n",
    "        -> Value Observation\n",
    "        -> ValueId\n",
    "        -> String\n",
    "        -> Int\n",
    "        -> Contract\n",
    "        -> Contract\n",
    "scatter Scenario{..} amount basis prefix i =\n",
    "  let\n",
    "    administrator = Role $ fromString administratorName\n",
    "    party = makeParty prefix i\n",
    "    funds = AvailableMoney party djed\n",
    "    basis' = UseValue basis\n",
    "    share = (amount @* funds) @/ basis'\n",
    "  in\n",
    "    Pay administrator (Account party) djed share\n",
    "\n",
    "\n",
    "terminate :: Scenario\n",
    "          -> [Case Contract]\n",
    "terminate scenario@Scenario{..} =\n",
    "  let\n",
    "    party = Role $ fromString administratorName\n",
    "    choice = ChoiceId \"Terminate\" party\n",
    "    liabilities' = UseValue liabilities\n",
    "  in\n",
    "    [\n",
    "      Case (Choice choice [Bound 1 1])\n",
    "        $ If (liabilities' @>= Constant 0)\n",
    "          (\n",
    "              flip (foldr $ gather  scenario liabilities' stabilization stabilizerPrefix) [1..nStabilizers]\n",
    "            $ flip (foldr $ scatter scenario liabilities' assets        investorPrefix  ) [1..nInvestors  ]\n",
    "              Close\n",
    "          )\n",
    "          (\n",
    "              flip (foldr $ gather  scenario (NegValue liabilities') assets        investorPrefix  ) [1..nInvestors  ]\n",
    "            $ flip (foldr $ scatter scenario (NegValue liabilities') stabilization stabilizerPrefix) [1..nStabilizers]\n",
    "              Close\n",
    "          )\n",
    "    ]\n",
    "\n",
    "\n",
    "makeStep :: Scenario\n",
    "         -> Timeout\n",
    "         -> Contract\n",
    "         -> Writer Continuations Contract\n",
    "makeStep scenario@Scenario{..} timeout continuation =\n",
    "  let\n",
    "  in\n",
    "    deepMerkleize\n",
    "      . When\n",
    "        (\n",
    "          concat\n",
    "            $  [stabilize scenario i continuation | i <- [1..nStabilizers]]\n",
    "            <> [invest    scenario i continuation | i <- [1..nInvestors]  ]\n",
    "            <> [withdraw  scenario i continuation | i <- [1..nInvestors]  ]\n",
    "            <> [loan      scenario i continuation | i <- [1..nBorrowers]  ]\n",
    "            <> [repay     scenario i continuation | i <- [1..nBorrowers]  ]\n",
    "            <> [terminate scenario                                        ]\n",
    "        )\n",
    "      timeout\n",
    "    =<< merkleizeTimeout timeoutFinal continuation\n",
    "\n",
    "\n",
    "merkleizeTimeout :: Timeout\n",
    "                 -> Contract\n",
    "                 -> Writer Continuations Contract\n",
    "merkleizeTimeout timeout continuation =\n",
    "  deepMerkleize\n",
    "    $ When\n",
    "      [\n",
    "        Case (Notify TrueObs )\n",
    "        continuation\n",
    "      ]\n",
    "      timeout\n",
    "      Close\n",
    "\n",
    "\n",
    "(=+) :: ValueId -> Value Observation -> (Contract -> Contract)\n",
    "variable =+ value = Let variable $ UseValue variable @+ value\n",
    "\n",
    "(=-) :: ValueId -> Value Observation -> (Contract -> Contract)\n",
    "variable =- value = Let variable $ UseValue variable @- value\n",
    "\n",
    "(=:) :: ValueId -> Integer -> (Contract -> Contract)\n",
    "variable =: value = Let variable $ Constant value\n",
    "\n",
    "(@%) :: Value Observation -> Integer -> Value Observation\n",
    "value @% rate = DivValue (MulValue value $ Constant rate) (Constant 100)\n",
    "\n",
    "(@+%) :: Value Observation -> Integer -> Value Observation\n",
    "value @+% rate = DivValue (MulValue value (AddValue (Constant rate) $ Constant 0)) (Constant 100)\n",
    "\n",
    "(@+) :: Value Observation -> Value Observation -> Value Observation\n",
    "x @+ y = AddValue x y\n",
    "\n",
    "(@-) :: Value Observation -> Value Observation -> Value Observation\n",
    "x @- y = SubValue x y\n",
    "\n",
    "(@*) :: Value Observation -> Value Observation -> Value Observation\n",
    "x @* y = MulValue x y\n",
    "\n",
    "(@/) :: Value Observation -> Value Observation -> Value Observation\n",
    "x @/ y = DivValue x y\n",
    "\n",
    "(@<) :: Value Observation -> Value Observation -> Observation\n",
    "x @< y = ValueLT x y\n",
    "\n",
    "(@<=) :: Value Observation -> Value Observation -> Observation\n",
    "x @<= y = ValueLE x y\n",
    "\n",
    "(@>) :: Value Observation -> Value Observation -> Observation\n",
    "x @> y = ValueGT x y\n",
    "\n",
    "(@>=) :: Value Observation -> Value Observation -> Observation\n",
    "x @>= y = ValueGE x y\n",
    "\n",
    "(@==) :: Value Observation -> Value Observation -> Observation\n",
    "x @== y = ValueEQ x y\n",
    "\n",
    "(@&&) :: Observation -> Observation -> Observation\n",
    "x @&& y = AndObs x y\n",
    "\n",
    "(@||) :: Observation -> Observation -> Observation\n",
    "x @|| y = OrObs x y\n",
    "\n",
    "EOI"
   ]
  },
  {
   "cell_type": "markdown",
   "id": "2e52f3bc-82aa-42d3-a629-22f766cd8704",
   "metadata": {},
   "source": [
    "How large is the contract?"
   ]
  },
  {
   "cell_type": "code",
   "execution_count": 21,
   "id": "fc5da0ab-aa40-427d-8a44-15c75c2f1018",
   "metadata": {},
   "outputs": [
    {
     "name": "stdout",
     "output_type": "stream",
     "text": [
      "-rw-rw-r-- 1 bbush bbush-upg 4.2M Aug 30 21:14 stabilized-collective-loan.merkleization\n"
     ]
    }
   ],
   "source": [
    "ls -lh $BASENAME.merkleization"
   ]
  },
  {
   "cell_type": "markdown",
   "id": "6eabc2ee-f495-4154-b1ad-3e54727f3e4a",
   "metadata": {},
   "source": [
    "How many `Case` statements does it contain?"
   ]
  },
  {
   "cell_type": "code",
   "execution_count": 22,
   "id": "4ec374b8-7034-4f1b-b124-69fd4b90e424",
   "metadata": {},
   "outputs": [
    {
     "name": "stdout",
     "output_type": "stream",
     "text": [
      "13860\n"
     ]
    }
   ],
   "source": [
    "sed -e 's/case/&\\n/g' $BASENAME.merkleization | grep case | wc -l"
   ]
  },
  {
   "cell_type": "markdown",
   "id": "8957004e-4150-491b-b492-0e864b80348d",
   "metadata": {},
   "source": [
    "How many merkleizations does it contain?"
   ]
  },
  {
   "cell_type": "code",
   "execution_count": 23,
   "id": "0b9e1c98-18d9-4e58-9464-3a50becea8e5",
   "metadata": {},
   "outputs": [
    {
     "name": "stdout",
     "output_type": "stream",
     "text": [
      "\u001b[0;39m360\u001b[0m\n"
     ]
    }
   ],
   "source": [
    "jq '.continuations | length' $BASENAME.merkleization"
   ]
  },
  {
   "cell_type": "markdown",
   "id": "7594380b-a882-4e56-8bd8-14694c5547f2",
   "metadata": {},
   "source": [
    "Separate the contract from the merkleizations."
   ]
  },
  {
   "cell_type": "code",
   "execution_count": 24,
   "id": "31cb1db2-d591-44af-b829-783aed7aacc0",
   "metadata": {},
   "outputs": [],
   "source": [
    "jq .contract $BASENAME.merkleization > $BASENAME-1.contract"
   ]
  },
  {
   "cell_type": "markdown",
   "id": "456707bf-adfb-4171-b042-1b0756dd4063",
   "metadata": {},
   "source": [
    "## Set the initial state\n",
    "\n",
    "The Seller will deposit 2 Ada when the contract is created."
   ]
  },
  {
   "cell_type": "code",
   "execution_count": 25,
   "id": "4b95ea64-87d8-4678-b438-0559b0a1c704",
   "metadata": {},
   "outputs": [],
   "source": [
    "yaml2json << EOI > $BASENAME-1.state\n",
    "accounts:\n",
    "- - - role_token: $ADMINISTRATOR_ROLE\n",
    "    - currency_symbol: ''\n",
    "      token_name: ''\n",
    "  - $MIN_ADA\n",
    "boundValues: []\n",
    "choices: []\n",
    "minTime: $NOW\n",
    "EOI"
   ]
  },
  {
   "cell_type": "code",
   "execution_count": 26,
   "id": "03787fe2-9b14-4d92-a014-be6e6095eb7e",
   "metadata": {},
   "outputs": [
    {
     "name": "stdout",
     "output_type": "stream",
     "text": [
      "{\"accounts\":[[[{\"role_token\":\"A\"},{\"currency_symbol\":\"\",\"token_name\":\"\"}],2000000]],\"boundValues\":[],\"choices\":[],\"minTime\":1661915651000}\n"
     ]
    }
   ],
   "source": [
    "cat $BASENAME-1.state"
   ]
  },
  {
   "cell_type": "markdown",
   "id": "b5400d8d-4c2d-4a7a-99e3-bdc87629f91f",
   "metadata": {
    "tags": []
   },
   "source": [
    "## Simulate and Execute the Contract"
   ]
  },
  {
   "cell_type": "markdown",
   "id": "1791ce5f-f3ca-4eba-90ae-489a97fcec44",
   "metadata": {},
   "source": [
    "### 1. Initialize the contract information\n",
    "\n",
    "Create a `.marlowe` file that contains all of the information needed to start the contract. Note that we merkleization the contract because of its large size."
   ]
  },
  {
   "cell_type": "code",
   "execution_count": 27,
   "id": "c9678ec0-1d01-4ddb-8567-a33df639a2b4",
   "metadata": {},
   "outputs": [],
   "source": [
    "n=1"
   ]
  },
  {
   "cell_type": "code",
   "execution_count": 28,
   "id": "631e5627-4497-4837-9a25-519190c4f2aa",
   "metadata": {},
   "outputs": [
    {
     "name": "stdout",
     "output_type": "stream",
     "text": [
      "\n",
      "Validator size: 12412\n",
      "Base-validator cost: ExBudget {exBudgetCPU = ExCPU 18768100, exBudgetMemory = ExMemory 81700}\n"
     ]
    }
   ],
   "source": [
    "marlowe-cli run initialize --roles-currency $ROLES_POLICY        \\\n",
    "                           --contract-file $BASENAME-$n.contract \\\n",
    "                           --state-file    $BASENAME-$n.state    \\\n",
    "                           --out-file      $BASENAME-$n.partial  \\\n",
    "                           --print-stats"
   ]
  },
  {
   "cell_type": "markdown",
   "id": "f0a90905-521e-4204-9bf9-3f46d0063b22",
   "metadata": {},
   "source": [
    "Manually merge the continuations into the `.marlowe` file."
   ]
  },
  {
   "cell_type": "code",
   "execution_count": 29,
   "id": "af3f5275-3af1-4d7f-b634-2b7d045d55ee",
   "metadata": {},
   "outputs": [],
   "source": [
    "jq -s '.[0] * {tx : .[1]}' $BASENAME-1.partial $BASENAME.merkleization > $BASENAME-1.marlowe"
   ]
  },
  {
   "cell_type": "markdown",
   "id": "59068808-24ef-468b-b1a7-17535fdc118c",
   "metadata": {},
   "source": [
    "The minimum Ada deposit has been recorded."
   ]
  },
  {
   "cell_type": "code",
   "execution_count": 30,
   "id": "83d26d84-5c4d-4314-b4f1-6feb8dadff60",
   "metadata": {},
   "outputs": [
    {
     "name": "stdout",
     "output_type": "stream",
     "text": [
      "accounts:\n",
      "- - - role_token: A\n",
      "    - currency_symbol: ''\n",
      "      token_name: ''\n",
      "  - 2000000\n",
      "boundValues: []\n",
      "choices: []\n",
      "minTime: 1661915651000\n"
     ]
    }
   ],
   "source": [
    "show_state $n"
   ]
  },
  {
   "cell_type": "code",
   "execution_count": 31,
   "id": "d1bad8af-44de-4efa-8732-61f4d94b79b9",
   "metadata": {},
   "outputs": [],
   "source": [
    "DEADLINE=$((NOW + 59 * MINUTE))"
   ]
  },
  {
   "cell_type": "markdown",
   "id": "ea0515be-1982-4f43-a625-c6679c6de73a",
   "metadata": {},
   "source": [
    "### 2. Stabilzer 1 deposits 5M Djed"
   ]
  },
  {
   "cell_type": "code",
   "execution_count": 32,
   "id": "c60f243a-b297-418a-9796-a5fc99d7194b",
   "metadata": {},
   "outputs": [],
   "source": [
    "STABILIZER_DEPOSIT=5000000"
   ]
  },
  {
   "cell_type": "code",
   "execution_count": 33,
   "id": "43b839a4-da8f-4ce6-a9a1-a8f2ad8180d2",
   "metadata": {},
   "outputs": [],
   "source": [
    "n=$((n+1))"
   ]
  },
  {
   "cell_type": "code",
   "execution_count": 34,
   "id": "44a81d39-55e1-4d47-86d2-5df449b449ed",
   "metadata": {},
   "outputs": [
    {
     "name": "stdout",
     "output_type": "stream",
     "text": [
      "\n",
      "Datum size: 2581\n"
     ]
    }
   ],
   "source": [
    "marlowe-cli run prepare --choice-party Role=$(stabilizer 1)            \\\n",
    "                        --choice-name Stabilize                        \\\n",
    "                        --choice-number $STABILIZER_DEPOSIT            \\\n",
    "                        --invalid-before $NOW                          \\\n",
    "                        --invalid-hereafter $((DEADLINE - 1 * MINUTE)) \\\n",
    "                        --marlowe-file $BASENAME-$((n-1)).marlowe      \\\n",
    "                        --out-file     $BASENAME-$n.marlowe            \\\n",
    "                        --print-stats"
   ]
  },
  {
   "cell_type": "code",
   "execution_count": 35,
   "id": "57aac536-e334-45a2-a5c6-b186d03a4a34",
   "metadata": {},
   "outputs": [
    {
     "name": "stdout",
     "output_type": "stream",
     "text": [
      "- - choice_name: Stabilize\n",
      "    choice_owner:\n",
      "      role_token: S1\n",
      "  - 5000000\n"
     ]
    }
   ],
   "source": [
    "show_choices $n"
   ]
  },
  {
   "cell_type": "code",
   "execution_count": 36,
   "id": "f90842b4-5be6-451c-8788-09d1c6ae80c4",
   "metadata": {},
   "outputs": [],
   "source": [
    "n=$((n+1))"
   ]
  },
  {
   "cell_type": "code",
   "execution_count": 37,
   "id": "655bb2e0-dc4a-4796-80c3-1ca34522948e",
   "metadata": {},
   "outputs": [
    {
     "name": "stdout",
     "output_type": "stream",
     "text": [
      "\n",
      "Datum size: 2662\n"
     ]
    }
   ],
   "source": [
    "marlowe-cli run prepare --deposit-account Role=$(stabilizer 1)         \\\n",
    "                        --deposit-party Role=$(stabilizer 1)           \\\n",
    "                        --deposit-token $DJED                          \\\n",
    "                        --deposit-amount $STABILIZER_DEPOSIT           \\\n",
    "                        --invalid-before $NOW                          \\\n",
    "                        --invalid-hereafter $((DEADLINE - 1 * MINUTE)) \\\n",
    "                        --marlowe-file $BASENAME-$((n-1)).marlowe      \\\n",
    "                        --out-file     $BASENAME-$n.marlowe            \\\n",
    "                        --print-stats"
   ]
  },
  {
   "cell_type": "code",
   "execution_count": 38,
   "id": "6d275e8d-e0af-4fba-a1e8-d3f2cfd2d59a",
   "metadata": {},
   "outputs": [
    {
     "name": "stdout",
     "output_type": "stream",
     "text": [
      "accounts:\n",
      "- - - role_token: A\n",
      "    - currency_symbol: ''\n",
      "      token_name: ''\n",
      "  - 2000000\n",
      "- - - role_token: S1\n",
      "    - currency_symbol: 76ea6a9aad89b09448e7af765f5a3e89c574989d67d6371a80e58baf\n",
      "      token_name: DjedUSD\n",
      "  - 5000000\n",
      "boundValues:\n",
      "- - Stabilization\n",
      "  - 5000000\n"
     ]
    }
   ],
   "source": [
    "show_nonchoices $n"
   ]
  },
  {
   "cell_type": "markdown",
   "id": "091cc9c4-3782-457b-9c50-d02753422e4b",
   "metadata": {},
   "source": [
    "### 3. Investor 1 deposits 1M Djed"
   ]
  },
  {
   "cell_type": "code",
   "execution_count": 39,
   "id": "1b70deee-fd06-42e0-8092-c021062d465a",
   "metadata": {},
   "outputs": [],
   "source": [
    "INVESTOR_DEPOSIT=1000000"
   ]
  },
  {
   "cell_type": "code",
   "execution_count": 40,
   "id": "55deba53-6932-41fe-8bd5-eed0cee455cb",
   "metadata": {},
   "outputs": [],
   "source": [
    "n=$((n+1))"
   ]
  },
  {
   "cell_type": "code",
   "execution_count": 41,
   "id": "7eeca590-9862-41fe-8cc2-49e112edf096",
   "metadata": {},
   "outputs": [
    {
     "name": "stdout",
     "output_type": "stream",
     "text": [
      "\n",
      "Datum size: 2685\n"
     ]
    }
   ],
   "source": [
    "marlowe-cli run prepare --choice-party Role=$(investor 1)              \\\n",
    "                        --choice-name Invest                           \\\n",
    "                        --choice-number $INVESTOR_DEPOSIT              \\\n",
    "                        --invalid-before $NOW                          \\\n",
    "                        --invalid-hereafter $((DEADLINE - 1 * MINUTE)) \\\n",
    "                        --marlowe-file $BASENAME-$((n-1)).marlowe      \\\n",
    "                        --out-file     $BASENAME-$n.marlowe            \\\n",
    "                        --print-stats"
   ]
  },
  {
   "cell_type": "code",
   "execution_count": 42,
   "id": "83fc10c4-ea49-4773-bdc3-ab99cfee2c21",
   "metadata": {},
   "outputs": [
    {
     "name": "stdout",
     "output_type": "stream",
     "text": [
      "- - choice_name: Stabilize\n",
      "    choice_owner:\n",
      "      role_token: S1\n",
      "  - 5000000\n",
      "- - choice_name: Invest\n",
      "    choice_owner:\n",
      "      role_token: I1\n",
      "  - 1000000\n"
     ]
    }
   ],
   "source": [
    "show_choices $n"
   ]
  },
  {
   "cell_type": "code",
   "execution_count": 43,
   "id": "23584714-ba3f-4d9c-96d9-17cffdeba9ce",
   "metadata": {},
   "outputs": [],
   "source": [
    "n=$((n+1))"
   ]
  },
  {
   "cell_type": "code",
   "execution_count": 44,
   "id": "a1996e1c-32b7-4de3-b549-ff961ea5a190",
   "metadata": {},
   "outputs": [
    {
     "name": "stdout",
     "output_type": "stream",
     "text": [
      "\n",
      "Datum size: 2777\n"
     ]
    }
   ],
   "source": [
    "marlowe-cli run prepare --deposit-account Role=$(investor 1)           \\\n",
    "                        --deposit-party Role=$(investor 1)             \\\n",
    "                        --deposit-token $DJED                          \\\n",
    "                        --deposit-amount $INVESTOR_DEPOSIT             \\\n",
    "                        --invalid-before $NOW                          \\\n",
    "                        --invalid-hereafter $((DEADLINE - 1 * MINUTE)) \\\n",
    "                        --marlowe-file $BASENAME-$((n-1)).marlowe      \\\n",
    "                        --out-file     $BASENAME-$n.marlowe            \\\n",
    "                        --print-stats"
   ]
  },
  {
   "cell_type": "code",
   "execution_count": 45,
   "id": "192dc31e-763d-42aa-8035-bd11fea52577",
   "metadata": {},
   "outputs": [
    {
     "name": "stdout",
     "output_type": "stream",
     "text": [
      "accounts:\n",
      "- - - role_token: A\n",
      "    - currency_symbol: ''\n",
      "      token_name: ''\n",
      "  - 2000000\n",
      "- - - role_token: S1\n",
      "    - currency_symbol: 76ea6a9aad89b09448e7af765f5a3e89c574989d67d6371a80e58baf\n",
      "      token_name: DjedUSD\n",
      "  - 5000000\n",
      "- - - role_token: I1\n",
      "    - currency_symbol: 76ea6a9aad89b09448e7af765f5a3e89c574989d67d6371a80e58baf\n",
      "      token_name: DjedUSD\n",
      "  - 1000000\n",
      "boundValues:\n",
      "- - Stabilization\n",
      "  - 5000000\n",
      "- - Assets\n",
      "  - 1000000\n",
      "- - Equity 1\n",
      "  - 1000000\n"
     ]
    }
   ],
   "source": [
    "show_nonchoices $n"
   ]
  },
  {
   "cell_type": "markdown",
   "id": "2ebbf938-0259-47e7-b437-d2cf391196a5",
   "metadata": {},
   "source": [
    "### 4. Investor 2 deposits 500k Djed"
   ]
  },
  {
   "cell_type": "code",
   "execution_count": 46,
   "id": "ff39758d-2824-4464-b583-28a8f21a9168",
   "metadata": {},
   "outputs": [],
   "source": [
    "INVESTOR_DEPOSIT=500000"
   ]
  },
  {
   "cell_type": "code",
   "execution_count": 47,
   "id": "752bc93b-e746-4eb5-a8fd-63b3bd114c24",
   "metadata": {},
   "outputs": [],
   "source": [
    "n=$((n+1))"
   ]
  },
  {
   "cell_type": "code",
   "execution_count": 48,
   "id": "affd8b44-7236-485a-8afb-0c74dc6eb35c",
   "metadata": {},
   "outputs": [
    {
     "name": "stdout",
     "output_type": "stream",
     "text": [
      "\n",
      "Datum size: 2800\n"
     ]
    }
   ],
   "source": [
    "marlowe-cli run prepare --choice-party Role=$(investor 2)              \\\n",
    "                        --choice-name Invest                           \\\n",
    "                        --choice-number $INVESTOR_DEPOSIT              \\\n",
    "                        --invalid-before $NOW                          \\\n",
    "                        --invalid-hereafter $((DEADLINE - 1 * MINUTE)) \\\n",
    "                        --marlowe-file $BASENAME-$((n-1)).marlowe      \\\n",
    "                        --out-file     $BASENAME-$n.marlowe            \\\n",
    "                        --print-stats"
   ]
  },
  {
   "cell_type": "code",
   "execution_count": 49,
   "id": "346652f9-8b76-4fd3-99fc-0622e9a07ff6",
   "metadata": {},
   "outputs": [
    {
     "name": "stdout",
     "output_type": "stream",
     "text": [
      "- - choice_name: Stabilize\n",
      "    choice_owner:\n",
      "      role_token: S1\n",
      "  - 5000000\n",
      "- - choice_name: Invest\n",
      "    choice_owner:\n",
      "      role_token: I1\n",
      "  - 1000000\n",
      "- - choice_name: Invest\n",
      "    choice_owner:\n",
      "      role_token: I2\n",
      "  - 500000\n"
     ]
    }
   ],
   "source": [
    "show_choices $n"
   ]
  },
  {
   "cell_type": "code",
   "execution_count": 50,
   "id": "cdd7ac75-42c3-4940-b39f-12d0cc34e992",
   "metadata": {},
   "outputs": [],
   "source": [
    "n=$((n+1))"
   ]
  },
  {
   "cell_type": "code",
   "execution_count": 51,
   "id": "fd83a921-a07b-41f6-9876-82e515a67760",
   "metadata": {},
   "outputs": [
    {
     "name": "stdout",
     "output_type": "stream",
     "text": [
      "\n",
      "Warnings:\n",
      "  TransactionShadowing \"Assets\" 1000000 1500000\n",
      "Datum size: 2876\n"
     ]
    }
   ],
   "source": [
    "marlowe-cli run prepare --deposit-account Role=$(investor 2)           \\\n",
    "                        --deposit-party Role=$(investor 2)             \\\n",
    "                        --deposit-token $DJED                          \\\n",
    "                        --deposit-amount $INVESTOR_DEPOSIT             \\\n",
    "                        --invalid-before $NOW                          \\\n",
    "                        --invalid-hereafter $((DEADLINE - 1 * MINUTE)) \\\n",
    "                        --marlowe-file $BASENAME-$((n-1)).marlowe      \\\n",
    "                        --out-file     $BASENAME-$n.marlowe            \\\n",
    "                        --print-stats"
   ]
  },
  {
   "cell_type": "code",
   "execution_count": 52,
   "id": "28fe5550-1e48-4d4f-b14e-ef947899f932",
   "metadata": {},
   "outputs": [
    {
     "name": "stdout",
     "output_type": "stream",
     "text": [
      "accounts:\n",
      "- - - role_token: A\n",
      "    - currency_symbol: ''\n",
      "      token_name: ''\n",
      "  - 2000000\n",
      "- - - role_token: S1\n",
      "    - currency_symbol: 76ea6a9aad89b09448e7af765f5a3e89c574989d67d6371a80e58baf\n",
      "      token_name: DjedUSD\n",
      "  - 5000000\n",
      "- - - role_token: I1\n",
      "    - currency_symbol: 76ea6a9aad89b09448e7af765f5a3e89c574989d67d6371a80e58baf\n",
      "      token_name: DjedUSD\n",
      "  - 1000000\n",
      "- - - role_token: I2\n",
      "    - currency_symbol: 76ea6a9aad89b09448e7af765f5a3e89c574989d67d6371a80e58baf\n",
      "      token_name: DjedUSD\n",
      "  - 500000\n",
      "boundValues:\n",
      "- - Stabilization\n",
      "  - 5000000\n",
      "- - Assets\n",
      "  - 1500000\n",
      "- - Equity 1\n",
      "  - 1000000\n",
      "- - Equity 2\n",
      "  - 500000\n"
     ]
    }
   ],
   "source": [
    "show_nonchoices $n"
   ]
  },
  {
   "cell_type": "markdown",
   "id": "e734f818-a115-4301-9443-77a60bb5b1f9",
   "metadata": {},
   "source": [
    "### 5. Administrator lends 900k Djed to Borrower 1"
   ]
  },
  {
   "cell_type": "code",
   "execution_count": 53,
   "id": "7b9ac485-f735-4414-b17f-5312efeb09aa",
   "metadata": {},
   "outputs": [],
   "source": [
    "LOAN_AMOUNT=900000"
   ]
  },
  {
   "cell_type": "code",
   "execution_count": 54,
   "id": "d77b8510-53e9-469a-87f2-d07d2bd096eb",
   "metadata": {},
   "outputs": [],
   "source": [
    "n=$((n+1))"
   ]
  },
  {
   "cell_type": "code",
   "execution_count": 55,
   "id": "2271b49e-fe9a-440c-94a9-8a0853cc7f57",
   "metadata": {},
   "outputs": [
    {
     "name": "stdout",
     "output_type": "stream",
     "text": [
      "\n",
      "Warnings:\n",
      "  TransactionShadowing \"Equity 1\" 1000000 1024000\n",
      "  TransactionShadowing \"Equity 2\" 500000 512000\n",
      "  TransactionNonPositivePay \"I3\" (Party \"B1\") (Token \"76ea6a9aad89b09448e7af765f5a3e89c574989d67d6371a80e58baf\" \"DjedUSD\") 0\n",
      "  TransactionShadowing \"Assets\" 1500000 600000\n",
      "Datum size: 2931\n",
      "Payment 1\n",
      "  Acccount: \"I1\"\n",
      "  Payee: Party \"B1\"\n",
      "  Ada: 0.000000\n",
      "  76ea6a9aad89b09448e7af765f5a3e89c574989d67d6371a80e58baf.\"DjedUSD\": 600000\n",
      "Payment 2\n",
      "  Acccount: \"I2\"\n",
      "  Payee: Party \"B1\"\n",
      "  Ada: 0.000000\n",
      "  76ea6a9aad89b09448e7af765f5a3e89c574989d67d6371a80e58baf.\"DjedUSD\": 300000\n"
     ]
    }
   ],
   "source": [
    "marlowe-cli run prepare --choice-party Role=$ADMINISTRATOR_ROLE        \\\n",
    "                        --choice-name Loan                             \\\n",
    "                        --choice-number $LOAN_AMOUNT                   \\\n",
    "                        --invalid-before $NOW                          \\\n",
    "                        --invalid-hereafter $((DEADLINE - 1 * MINUTE)) \\\n",
    "                        --marlowe-file $BASENAME-$((n-1)).marlowe      \\\n",
    "                        --out-file     $BASENAME-$n.marlowe            \\\n",
    "                        --print-stats"
   ]
  },
  {
   "cell_type": "code",
   "execution_count": 56,
   "id": "aba4ec48-f800-4a85-8165-24f65f99bc0e",
   "metadata": {},
   "outputs": [
    {
     "name": "stdout",
     "output_type": "stream",
     "text": [
      "accounts:\n",
      "- - - role_token: A\n",
      "    - currency_symbol: ''\n",
      "      token_name: ''\n",
      "  - 2000000\n",
      "- - - role_token: S1\n",
      "    - currency_symbol: 76ea6a9aad89b09448e7af765f5a3e89c574989d67d6371a80e58baf\n",
      "      token_name: DjedUSD\n",
      "  - 5000000\n",
      "- - - role_token: I1\n",
      "    - currency_symbol: 76ea6a9aad89b09448e7af765f5a3e89c574989d67d6371a80e58baf\n",
      "      token_name: DjedUSD\n",
      "  - 400000\n",
      "- - - role_token: I2\n",
      "    - currency_symbol: 76ea6a9aad89b09448e7af765f5a3e89c574989d67d6371a80e58baf\n",
      "      token_name: DjedUSD\n",
      "  - 200000\n",
      "boundValues:\n",
      "- - Stabilization\n",
      "  - 5000000\n",
      "- - Assets\n",
      "  - 600000\n",
      "- - Equity 1\n",
      "  - 1024000\n",
      "- - Equity 2\n",
      "  - 512000\n",
      "- - Equity 3\n",
      "  - 0\n",
      "- - Liabilities\n",
      "  - 990000\n"
     ]
    }
   ],
   "source": [
    "show_nonchoices $n"
   ]
  },
  {
   "cell_type": "code",
   "execution_count": 57,
   "id": "a5e79e9b-ef95-44f2-b54c-6404d609d7f4",
   "metadata": {},
   "outputs": [
    {
     "name": "stdout",
     "output_type": "stream",
     "text": [
      "546000\n"
     ]
    }
   ],
   "source": [
    "echo $((1024000 + 512000 - 990000))"
   ]
  },
  {
   "cell_type": "markdown",
   "id": "f9ec3007-1a71-46f6-aa17-4c854f3992a3",
   "metadata": {},
   "source": [
    "### 6. Borrower only pays back 500k of the 990k Djed owed"
   ]
  },
  {
   "cell_type": "code",
   "execution_count": 58,
   "id": "7a5c81dd-7510-4002-9d7e-150a76369d80",
   "metadata": {},
   "outputs": [],
   "source": [
    "BORROWER_REPAYMENT=500000"
   ]
  },
  {
   "cell_type": "code",
   "execution_count": 59,
   "id": "1ea1d35d-9e95-45b3-b12f-0b2f2b68d290",
   "metadata": {},
   "outputs": [],
   "source": [
    "n=$((n+1))"
   ]
  },
  {
   "cell_type": "code",
   "execution_count": 60,
   "id": "9715c903-6a74-4310-98a7-ec545b421571",
   "metadata": {},
   "outputs": [
    {
     "name": "stdout",
     "output_type": "stream",
     "text": [
      "\n",
      "Datum size: 2953\n"
     ]
    }
   ],
   "source": [
    "marlowe-cli run prepare --choice-party Role=$(borrower 1)              \\\n",
    "                        --choice-name Repay                            \\\n",
    "                        --choice-number $BORROWER_REPAYMENT            \\\n",
    "                        --invalid-before $NOW                          \\\n",
    "                        --invalid-hereafter $((DEADLINE - 1 * MINUTE)) \\\n",
    "                        --marlowe-file $BASENAME-$((n-1)).marlowe      \\\n",
    "                        --out-file     $BASENAME-$n.marlowe            \\\n",
    "                        --print-stats"
   ]
  },
  {
   "cell_type": "code",
   "execution_count": 61,
   "id": "e38746a5-6a18-4efb-8dc4-d98d21d3f371",
   "metadata": {},
   "outputs": [
    {
     "name": "stdout",
     "output_type": "stream",
     "text": [
      "- - choice_name: Stabilize\n",
      "    choice_owner:\n",
      "      role_token: S1\n",
      "  - 5000000\n",
      "- - choice_name: Invest\n",
      "    choice_owner:\n",
      "      role_token: I1\n",
      "  - 1000000\n",
      "- - choice_name: Invest\n",
      "    choice_owner:\n",
      "      role_token: I2\n",
      "  - 500000\n",
      "- - choice_name: Loan\n",
      "    choice_owner:\n",
      "      role_token: A\n",
      "  - 900000\n",
      "- - choice_name: Repay\n",
      "    choice_owner:\n",
      "      role_token: B1\n",
      "  - 500000\n"
     ]
    }
   ],
   "source": [
    "show_choices $n"
   ]
  },
  {
   "cell_type": "code",
   "execution_count": 62,
   "id": "45c69d9b-b032-4aa5-bac0-d64fd5131264",
   "metadata": {},
   "outputs": [],
   "source": [
    "n=$((n+1))"
   ]
  },
  {
   "cell_type": "code",
   "execution_count": 63,
   "id": "70823b5f-8b05-4367-ba8b-723a61e4c662",
   "metadata": {},
   "outputs": [
    {
     "name": "stdout",
     "output_type": "stream",
     "text": [
      "\n",
      "Warnings:\n",
      "  TransactionNonPositivePay \"A\" (Account \"I3\") (Token \"76ea6a9aad89b09448e7af765f5a3e89c574989d67d6371a80e58baf\" \"DjedUSD\") 0\n",
      "  TransactionShadowing \"Liabilities\" 990000 490000\n",
      "  TransactionShadowing \"Assets\" 600000 1100000\n",
      "Datum size: 3008\n",
      "Payment 1\n",
      "  Acccount: \"A\"\n",
      "  Payee: Account \"I1\"\n",
      "  Ada: 0.000000\n",
      "  76ea6a9aad89b09448e7af765f5a3e89c574989d67d6371a80e58baf.\"DjedUSD\": 315151\n",
      "Payment 2\n",
      "  Acccount: \"A\"\n",
      "  Payee: Account \"I2\"\n",
      "  Ada: 0.000000\n",
      "  76ea6a9aad89b09448e7af765f5a3e89c574989d67d6371a80e58baf.\"DjedUSD\": 157575\n"
     ]
    }
   ],
   "source": [
    "marlowe-cli run prepare --deposit-account Role=$ADMINISTRATOR_ROLE     \\\n",
    "                        --deposit-party Role=$(borrower 1)             \\\n",
    "                        --deposit-token $DJED                          \\\n",
    "                        --deposit-amount $BORROWER_REPAYMENT           \\\n",
    "                        --invalid-before $NOW                          \\\n",
    "                        --invalid-hereafter $((DEADLINE - 1 * MINUTE)) \\\n",
    "                        --marlowe-file $BASENAME-$((n-1)).marlowe      \\\n",
    "                        --out-file     $BASENAME-$n.marlowe            \\\n",
    "                        --print-stats"
   ]
  },
  {
   "cell_type": "code",
   "execution_count": 64,
   "id": "641ab249-0f7b-4d8c-a9ed-b3bcb9216daf",
   "metadata": {},
   "outputs": [
    {
     "name": "stdout",
     "output_type": "stream",
     "text": [
      "accounts:\n",
      "- - - role_token: A\n",
      "    - currency_symbol: ''\n",
      "      token_name: ''\n",
      "  - 2000000\n",
      "- - - role_token: S1\n",
      "    - currency_symbol: 76ea6a9aad89b09448e7af765f5a3e89c574989d67d6371a80e58baf\n",
      "      token_name: DjedUSD\n",
      "  - 5000000\n",
      "- - - role_token: I1\n",
      "    - currency_symbol: 76ea6a9aad89b09448e7af765f5a3e89c574989d67d6371a80e58baf\n",
      "      token_name: DjedUSD\n",
      "  - 715151\n",
      "- - - role_token: I2\n",
      "    - currency_symbol: 76ea6a9aad89b09448e7af765f5a3e89c574989d67d6371a80e58baf\n",
      "      token_name: DjedUSD\n",
      "  - 357575\n",
      "- - - role_token: A\n",
      "    - currency_symbol: 76ea6a9aad89b09448e7af765f5a3e89c574989d67d6371a80e58baf\n",
      "      token_name: DjedUSD\n",
      "  - 27274\n",
      "boundValues:\n",
      "- - Stabilization\n",
      "  - 5000000\n",
      "- - Assets\n",
      "  - 1100000\n",
      "- - Equity 1\n",
      "  - 1024000\n",
      "- - Equity 2\n",
      "  - 512000\n",
      "- - Equity 3\n",
      "  - 0\n",
      "- - Liabilities\n",
      "  - 490000\n"
     ]
    }
   ],
   "source": [
    "show_nonchoices $n"
   ]
  },
  {
   "cell_type": "markdown",
   "id": "0d1c0e69-e03c-4c87-9310-479f9472f8d3",
   "metadata": {},
   "source": [
    "### 7. Administrator closes the pool"
   ]
  },
  {
   "cell_type": "code",
   "execution_count": 65,
   "id": "38f07ff4-2039-46ab-a927-058680408482",
   "metadata": {},
   "outputs": [],
   "source": [
    "n=$((n+1))"
   ]
  },
  {
   "cell_type": "code",
   "execution_count": 66,
   "id": "329de82c-3db7-4aba-bd27-a37c6fbcf1b7",
   "metadata": {},
   "outputs": [
    {
     "name": "stdout",
     "output_type": "stream",
     "text": [
      "\n",
      "Warnings:\n",
      "  TransactionNonPositivePay \"A\" (Account \"I3\") (Token \"76ea6a9aad89b09448e7af765f5a3e89c574989d67d6371a80e58baf\" \"DjedUSD\") 0\n",
      "Datum size: 270\n",
      "Payment 1\n",
      "  Acccount: \"S1\"\n",
      "  Payee: Account \"A\"\n",
      "  Ada: 0.000000\n",
      "  76ea6a9aad89b09448e7af765f5a3e89c574989d67d6371a80e58baf.\"DjedUSD\": 490000\n",
      "Payment 2\n",
      "  Acccount: \"A\"\n",
      "  Payee: Account \"I1\"\n",
      "  Ada: 0.000000\n",
      "  76ea6a9aad89b09448e7af765f5a3e89c574989d67d6371a80e58baf.\"DjedUSD\": 318567\n",
      "Payment 3\n",
      "  Acccount: \"A\"\n",
      "  Payee: Account \"I2\"\n",
      "  Ada: 0.000000\n",
      "  76ea6a9aad89b09448e7af765f5a3e89c574989d67d6371a80e58baf.\"DjedUSD\": 159283\n",
      "Payment 4\n",
      "  Acccount: \"A\"\n",
      "  Payee: Party \"A\"\n",
      "  Ada: 2.000000\n",
      "Payment 5\n",
      "  Acccount: \"S1\"\n",
      "  Payee: Party \"S1\"\n",
      "  Ada: 0.000000\n",
      "  76ea6a9aad89b09448e7af765f5a3e89c574989d67d6371a80e58baf.\"DjedUSD\": 4510000\n",
      "Payment 6\n",
      "  Acccount: \"I1\"\n",
      "  Payee: Party \"I1\"\n",
      "  Ada: 0.000000\n",
      "  76ea6a9aad89b09448e7af765f5a3e89c574989d67d6371a80e58baf.\"DjedUSD\": 1033718\n",
      "Payment 7\n",
      "  Acccount: \"I2\"\n",
      "  Payee: Party \"I2\"\n",
      "  Ada: 0.000000\n",
      "  76ea6a9aad89b09448e7af765f5a3e89c574989d67d6371a80e58baf.\"DjedUSD\": 516858\n",
      "Payment 8\n",
      "  Acccount: \"A\"\n",
      "  Payee: Party \"A\"\n",
      "  Ada: 0.000000\n",
      "  76ea6a9aad89b09448e7af765f5a3e89c574989d67d6371a80e58baf.\"DjedUSD\": 39424\n"
     ]
    }
   ],
   "source": [
    "marlowe-cli run prepare --choice-party Role=$ADMINISTRATOR_ROLE        \\\n",
    "                        --choice-name Terminate                        \\\n",
    "                        --choice-number 1                              \\\n",
    "                        --invalid-before $NOW                          \\\n",
    "                        --invalid-hereafter $((DEADLINE - 1 * MINUTE)) \\\n",
    "                        --marlowe-file $BASENAME-$((n-1)).marlowe      \\\n",
    "                        --out-file     $BASENAME-$n.marlowe            \\\n",
    "                        --print-stats"
   ]
  },
  {
   "cell_type": "code",
   "execution_count": 67,
   "id": "3ef3604a-5498-4a2c-8ef7-07328c2e3f27",
   "metadata": {},
   "outputs": [
    {
     "name": "stdout",
     "output_type": "stream",
     "text": [
      "accounts: []\n",
      "boundValues:\n",
      "- - Stabilization\n",
      "  - 5000000\n",
      "- - Assets\n",
      "  - 1100000\n",
      "- - Equity 1\n",
      "  - 1024000\n",
      "- - Equity 2\n",
      "  - 512000\n",
      "- - Equity 3\n",
      "  - 0\n",
      "- - Liabilities\n",
      "  - 490000\n"
     ]
    }
   ],
   "source": [
    "show_nonchoices $n"
   ]
  },
  {
   "cell_type": "code",
   "execution_count": null,
   "id": "dd5959ec-237b-4b7e-bf7f-8daad2ae8bce",
   "metadata": {},
   "outputs": [],
   "source": []
  }
 ],
 "metadata": {
  "kernelspec": {
   "display_name": "Bash - Marlowe",
   "language": "bash",
   "name": "bash_marlowe"
  },
  "language_info": {
   "codemirror_mode": "shell",
   "file_extension": ".sh",
   "mimetype": "text/x-sh",
   "name": "/nix/store/zwjm0gln1vk7x1akpyz0yxjsd1yc46gi-bash-5.1-p16/bin/bash"
  }
 },
 "nbformat": 4,
 "nbformat_minor": 5
}
