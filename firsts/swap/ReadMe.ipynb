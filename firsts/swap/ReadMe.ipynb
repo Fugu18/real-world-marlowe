{
 "cells": [
  {
   "cell_type": "markdown",
   "id": "dd37fd7b-d435-4661-8ffd-42eb08e8b503",
   "metadata": {},
   "source": [
    "# First Token-Swap Marlowe Contract on Mainnet\n",
    "\n",
    "The first Marlowe token swap on `mainnet` used the following contract on 14 May 2022:\n",
    "1. The John Fletcher, the owner of the address `addr1vywt2xlr4d8yk4qws675exlqy6pdhq2s76wrehkjggkvr0czta9gx`, deposits 500 Globe tokens.\n",
    "2. The Thomas Kyd, the owner of the address `addr1v87n0zzth5zycuh972w7rdmh48qur4f3wu6ntn2m2h30dlchhlqt3`, deposits 300 Swan tokens.\n",
    "3. The contract pays the Swan tokens to the first address and the Globe tokens to the second address.\n",
    "\n",
    "| John Fletcher `<addr1vywt2xlr4d8yk4qws675exlqy6pdhq2s76wrehkjggkvr0czta9gx>` | | Thomas Kyd `<addr1v87n0zzth5zycuh972w7rdmh48qur4f3wu6ntn2m2h30dlchhlqt3>` |\n",
    "|-----------|-|----------|\n",
    "| ![Globe](https://functionally.mypinata.cloud/ipfs/QmWvB66kPwZJQLMYUcR9ToPWhpPBpb3FtjSgYpKuKbo1Mq) | **⮀** | ![Swan](https://functionally.mypinata.cloud/ipfs/QmUw49T6EBWvp7mqgJ5gNaony5S14CXoZ4okVKb1Qdr8Tk) |\n",
    "| 500 [Globe](https://pool.pm/asset1pfmavjzl3z65g8jqas4sc5kl52c0lvwfr8rh6d) | | 300 [Swan](https://pool.pm/asset16qhc87r4jxexufvym4vpy0nlysjvkrg389ntyw) |\n",
    "\n",
    "Here is the Blockly visualization of the contract.\n",
    "\n",
    "![Contract for swapping tokens](contract.png)\n",
    "\n",
    "And here is the contract as YAML:"
   ]
  },
  {
   "cell_type": "code",
   "execution_count": 1,
   "id": "1bcfc867-8454-4c3d-9de9-18519b1c67f9",
   "metadata": {},
   "outputs": [
    {
     "name": "stdout",
     "output_type": "stream",
     "text": [
      "timeout: 1650074565000\n",
      "timeout_continuation: close\n",
      "when:\n",
      "- case:\n",
      "    deposits: 500\n",
      "    into_account:\n",
      "      address: addr1vywt2xlr4d8yk4qws675exlqy6pdhq2s76wrehkjggkvr0czta9gx\n",
      "    of_token:\n",
      "      currency_symbol: 8bb3b343d8e404472337966a722150048c768d0a92a9813596c5338d\n",
      "      token_name: Globe\n",
      "    party:\n",
      "      address: addr1vywt2xlr4d8yk4qws675exlqy6pdhq2s76wrehkjggkvr0czta9gx\n",
      "  then:\n",
      "    timeout: 1650074565000\n",
      "    timeout_continuation: close\n",
      "    when:\n",
      "    - case:\n",
      "        deposits: 300\n",
      "        into_account:\n",
      "          address: addr1v87n0zzth5zycuh972w7rdmh48qur4f3wu6ntn2m2h30dlchhlqt3\n",
      "        of_token:\n",
      "          currency_symbol: 8bb3b343d8e404472337966a722150048c768d0a92a9813596c5338d\n",
      "          token_name: Swan\n",
      "        party:\n",
      "          address: addr1v87n0zzth5zycuh972w7rdmh48qur4f3wu6ntn2m2h30dlchhlqt3\n",
      "      then:\n",
      "        from_account:\n",
      "          address: addr1vywt2xlr4d8yk4qws675exlqy6pdhq2s76wrehkjggkvr0czta9gx\n",
      "        pay: 500\n",
      "        then:\n",
      "          from_account:\n",
      "            address: addr1v87n0zzth5zycuh972w7rdmh48qur4f3wu6ntn2m2h30dlchhlqt3\n",
      "          pay: 300\n",
      "          then: close\n",
      "          to:\n",
      "            party:\n",
      "              address: addr1vywt2xlr4d8yk4qws675exlqy6pdhq2s76wrehkjggkvr0czta9gx\n",
      "          token:\n",
      "            currency_symbol: 8bb3b343d8e404472337966a722150048c768d0a92a9813596c5338d\n",
      "            token_name: Swan\n",
      "        to:\n",
      "          party:\n",
      "            address: addr1v87n0zzth5zycuh972w7rdmh48qur4f3wu6ntn2m2h30dlchhlqt3\n",
      "        token:\n",
      "          currency_symbol: 8bb3b343d8e404472337966a722150048c768d0a92a9813596c5338d\n",
      "          token_name: Globe\n"
     ]
    }
   ],
   "source": [
    "json2yaml contract.json"
   ]
  },
  {
   "cell_type": "markdown",
   "id": "1fa6e615-19b2-4d95-beb3-b0414f7220ac",
   "metadata": {
    "jp-MarkdownHeadingCollapsed": true,
    "tags": []
   },
   "source": [
    "## 1. Creation transaction\n",
    "\n",
    "John Fletcher deposited 3 Ada in the creation transaction, in order to establish the contract:\n",
    "- [039c9a610808144cab9c076ed71375c443402fd2ebb9404d1bb09194c44d4eff](https://cardanoscan.io/transaction/039c9a610808144cab9c076ed71375c443402fd2ebb9404d1bb09194c44d4eff?tab=utxo)"
   ]
  },
  {
   "cell_type": "markdown",
   "id": "97aa9ee0-0ca6-4e2e-8903-caf9f9f163d3",
   "metadata": {},
   "source": [
    "## 2. Deposit of Globe tokens\n",
    "\n",
    "John Fletcher deposits 500 Globe tokens into the contract:\n",
    "- [d6913fde1273522a1bcf09cb6eb903efaf5b0054b8aea657bc0ae7995e5998f0](https://cardanoscan.io/transaction/d6913fde1273522a1bcf09cb6eb903efaf5b0054b8aea657bc0ae7995e5998f0?tab=utxo)\n",
    "\n",
    "This was the first application of input to a Marlowe contract on `mainnet`. You can decode the secret message in the metadata using the key `XgO+1W/x6dMll7WuAwnTFg`."
   ]
  },
  {
   "cell_type": "markdown",
   "id": "22ad2e97-288d-4c05-8883-7229b2523cec",
   "metadata": {},
   "source": [
    "## 3. Deposit of Swan tokens that trigger the token swap\n",
    "\n",
    "Thomas Kyd deposits 300 Swan tokens into the contract, causing the contract to send the Swan tokens to John Fletcher and the Globe tokens to Thomas Kyd, completing the swap:\n",
    "- [97655e5340c1f0e395f9d34ff757669c474012535cc0e7a9bc29f37635d14ba5](https://cardanoscan.io/transaction/97655e5340c1f0e395f9d34ff757669c474012535cc0e7a9bc29f37635d14ba5?tab=utxo)"
   ]
  }
 ],
 "metadata": {
  "kernelspec": {
   "display_name": "Bash - Marlowe",
   "language": "bash",
   "name": "bash_marlowe"
  },
  "language_info": {
   "codemirror_mode": "shell",
   "file_extension": ".sh",
   "mimetype": "text/x-sh",
   "name": "/nix/store/p7bpdnxqd3i5hwm92mrscf7mvxk66404-bash-5.1-p16/bin/bash"
  }
 },
 "nbformat": 4,
 "nbformat_minor": 5
}
